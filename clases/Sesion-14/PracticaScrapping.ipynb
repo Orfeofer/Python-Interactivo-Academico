{
  "nbformat": 4,
  "nbformat_minor": 0,
  "metadata": {
    "colab": {
      "name": "PracticaScrapping.ipynb",
      "provenance": []
    },
    "kernelspec": {
      "name": "python3",
      "display_name": "Python 3"
    },
    "language_info": {
      "name": "python"
    }
  },
  "cells": [
    {
      "cell_type": "markdown",
      "metadata": {
        "id": "5Z3YAufQi80X"
      },
      "source": [
        "# Crea la clase Carro\n",
        "\n",
        "Crea la clase Carro que tiene los siguientes atributos:\n",
        "\n",
        "*   Nombre\n",
        "*   Detalle\n",
        "*   Año de estreno\n",
        "*   Precio en dolares\n",
        "*   Ubicacion de vendedor\n",
        "\n",
        "Tambien contiene los siguientes metodos:\n",
        "\n",
        "*   Exportar data en forma de diccionario (Precio Dolares)\n",
        "*   Exportar data en forma de diccionario (Precio Soles)"
      ]
    },
    {
      "cell_type": "code",
      "metadata": {
        "id": "I5qP6wL2i3St"
      },
      "source": [
        "# Desarrollo"
      ],
      "execution_count": null,
      "outputs": []
    },
    {
      "cell_type": "markdown",
      "metadata": {
        "id": "Q5ikNrzxlW70"
      },
      "source": [
        "# Crea la clase DataAutos\n",
        "\n",
        "Crea la clase DataAutos con los siguientes atributos:\n",
        "\n",
        "*   listaAutos: Una lista con objetos de tipo Carro\n",
        "\n",
        "También contiene los siguientes metodos:\n",
        "*   exportarDataAExcel: exporta toda la data a excel\n",
        "*   agregarAuto: agrega un auto al atributo listaAutos\n",
        "*   mostrarData: muestra la data en un formato entendible\n",
        "*   obtenerAutoMasCaro: obtiene detalles del auto mas caro\n",
        "*   obtenerAutoMasBarata: obtiene detalles del auto mas barato\n",
        "*   mostrarGraficoPrecios: muestra un grafico de los precios\n",
        "*   mostrarGraficoMarcas: muesta un grafico de las marcas\n",
        "*   exportarDataADataFrame: exporta la data a un pandas dataframe"
      ]
    },
    {
      "cell_type": "code",
      "metadata": {
        "id": "-2_VCvzrn5rc"
      },
      "source": [
        "#codigo"
      ],
      "execution_count": null,
      "outputs": []
    },
    {
      "cell_type": "markdown",
      "metadata": {
        "id": "imR4MZwGncMY"
      },
      "source": [
        "# EXTRAE LA DATA\n",
        "Extrae la data de la siguiente pagina: \n",
        "https://www.autocosmos.com.pe/auto/usado\n",
        "\n",
        "Luego con dicha data crea objetos de tipo Carro y luego rellena la claseDataAutos para posteriormente hacer uso de los metodos."
      ]
    },
    {
      "cell_type": "code",
      "metadata": {
        "id": "HwuJ3INDn7TM"
      },
      "source": [
        "#codigo"
      ],
      "execution_count": null,
      "outputs": []
    }
  ]
}