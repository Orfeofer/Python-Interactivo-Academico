{
 "cells": [
  {
   "cell_type": "markdown",
   "metadata": {
    "id": "e5Ir5cQuhC8h"
   },
   "source": [
    "# 2. Scipy\n",
    "\n",
    "Scipy proviene de Scientific Python\n",
    "\n",
    "Es una librería de código abierto especializada en resolver problemas de matemática, ciencia e ingeniería, está está construida en base a Numpy y permite la manipulación y visualización de data.\n",
    "\n",
    "Debido a que es una extensión de Numpy este provee funciones más completas e interactivas que permiten manipular datos desde un nivel alto. Está es una librería muy bien optimizada y es enfocable en múltiples campos como son la programación paralela, web, base de datos, etc. \n",
    "\n",
    "Está contiene diferentes subpaquetes que cubren áreas como: Algebra lineal, Constantes matemáticas, Transformadas de Fourier,  Optimización, Estadística, etc.\n",
    "\n",
    "En este cuaderno se verán múltiples funciones comunes utilizadas en scipy.\n",
    "\n",
    "\n",
    "Así como hicimos la clase anterior, instalar la librería Scipy si se tiene python y pip instalado, bastaría con instalarlo con el siguiente comando: (``pip install scipy`` )"
   ]
  },
  {
   "cell_type": "markdown",
   "metadata": {
    "id": "FRx8A7gtCVHl"
   },
   "source": [
    "## Input / Output\n",
    "\n",
    "Está librería cuenta con un paquete entrada y salida que premite trabajar con diferentes formatos como: Matlab, Arff, Wave, Matrix Market, IDL, NetCDF, TXT."
   ]
  },
  {
   "cell_type": "code",
   "execution_count": 5,
   "metadata": {
    "id": "kcbpfExCCTp1"
   },
   "outputs": [],
   "source": [
    "import numpy as np\n",
    "from scipy import io as sio\n",
    "\n",
    "a = np.ones((4,4))\n"
   ]
  },
  {
   "cell_type": "code",
   "execution_count": 6,
   "metadata": {
    "id": "XwjU6E5lCeot"
   },
   "outputs": [],
   "source": [
    "#guardando en un archivo de matlab\n",
    "sio.savemat('ejemplo.mat', {'a':a})"
   ]
  },
  {
   "cell_type": "code",
   "execution_count": 7,
   "metadata": {
    "id": "H_UbWxcDCeT7"
   },
   "outputs": [
    {
     "data": {
      "text/plain": [
       "[('a', (4, 4), 'double')]"
      ]
     },
     "execution_count": 7,
     "metadata": {},
     "output_type": "execute_result"
    }
   ],
   "source": [
    "#listar variables de un archivo en matlab\n",
    "sio.whosmat('ejemplo.mat')"
   ]
  },
  {
   "cell_type": "code",
   "execution_count": 8,
   "metadata": {
    "id": "9G_0alWgCeNZ"
   },
   "outputs": [
    {
     "data": {
      "text/plain": [
       "{'__header__': b'MATLAB 5.0 MAT-file Platform: nt, Created on: Wed Nov 24 19:54:04 2021',\n",
       " '__version__': '1.0',\n",
       " '__globals__': [],\n",
       " 'a': array([[1., 1., 1., 1.],\n",
       "        [1., 1., 1., 1.],\n",
       "        [1., 1., 1., 1.],\n",
       "        [1., 1., 1., 1.]])}"
      ]
     },
     "execution_count": 8,
     "metadata": {},
     "output_type": "execute_result"
    }
   ],
   "source": [
    "#cargar variables de un archivo en matlab\n",
    "data = sio.loadmat('ejemplo.mat',struct_as_record = True)\n",
    "data"
   ]
  },
  {
   "cell_type": "code",
   "execution_count": 9,
   "metadata": {
    "id": "dE_55SDdCeAL"
   },
   "outputs": [
    {
     "data": {
      "text/plain": [
       "array([[1., 1., 1., 1.],\n",
       "       [1., 1., 1., 1.],\n",
       "       [1., 1., 1., 1.],\n",
       "       [1., 1., 1., 1.]])"
      ]
     },
     "execution_count": 9,
     "metadata": {},
     "output_type": "execute_result"
    }
   ],
   "source": [
    "# se puede acceder a los datos mediante el index como en un diccionario\n",
    "data['a']"
   ]
  },
  {
   "cell_type": "code",
   "execution_count": null,
   "metadata": {
    "id": "fTdCZCpHDMlX"
   },
   "outputs": [],
   "source": []
  },
  {
   "cell_type": "markdown",
   "metadata": {
    "id": "0f91DacvEK2X"
   },
   "source": [
    "# Scipy Stats\n",
    "\n",
    "Está librería contiene diferentes funciones de estadística y distribuciones de probabilidad"
   ]
  },
  {
   "cell_type": "code",
   "execution_count": 10,
   "metadata": {
    "colab": {
     "base_uri": "https://localhost:8080/"
    },
    "id": "tCO4mbFHEn-R",
    "outputId": "02ac4279-6c8f-41bd-a035-32057a3606e6"
   },
   "outputs": [
    {
     "name": "stdout",
     "output_type": "stream",
     "text": [
      "[9.98650102e-01 1.58655254e-01 9.99968329e-01 2.86651572e-07\n",
      " 1.00000000e+00 1.00000000e+00 5.00000000e-01]\n"
     ]
    }
   ],
   "source": [
    "# distribución normal\n",
    "from scipy.stats import norm\n",
    "\n",
    "# cumulative Distribution Function\n",
    "v = np.array([3,-1,4,-5,10,7,0])\n",
    "print(norm.cdf(v) )\n",
    "\n"
   ]
  },
  {
   "cell_type": "code",
   "execution_count": 12,
   "metadata": {
    "colab": {
     "base_uri": "https://localhost:8080/"
    },
    "id": "HYiCqLfOHP0E",
    "outputId": "b88d110b-0b9d-4465-86fe-e780114f0922"
   },
   "outputs": [
    {
     "name": "stdout",
     "output_type": "stream",
     "text": [
      "-1.0027116650265493\n"
     ]
    }
   ],
   "source": [
    "# Percent Point Function  es la inversa de CDF\n",
    "print(norm.ppf(0.158))"
   ]
  },
  {
   "cell_type": "code",
   "execution_count": 13,
   "metadata": {
    "colab": {
     "base_uri": "https://localhost:8080/"
    },
    "id": "FPTmy8EcIeqO",
    "outputId": "1d371b97-a433-4e71-a6f3-6f0601587064"
   },
   "outputs": [
    {
     "name": "stdout",
     "output_type": "stream",
     "text": [
      "[-0.03263487  2.61761007 -0.06205821]\n"
     ]
    }
   ],
   "source": [
    "print(norm().rvs(3))"
   ]
  },
  {
   "cell_type": "code",
   "execution_count": 16,
   "metadata": {
    "colab": {
     "base_uri": "https://localhost:8080/"
    },
    "id": "elQEdMIlJYlm",
    "outputId": "3451fed1-0dbe-4e75-9fa4-d273547bbc28"
   },
   "outputs": [
    {
     "data": {
      "text/plain": [
       "0.0"
      ]
     },
     "execution_count": 16,
     "metadata": {},
     "output_type": "execute_result"
    }
   ],
   "source": [
    "norm.median()"
   ]
  },
  {
   "cell_type": "markdown",
   "metadata": {
    "id": "7bsF-bwZhQVo"
   },
   "source": [
    "Ahora podemos ir importando modulos de la libreria de la siguiente manera"
   ]
  },
  {
   "cell_type": "code",
   "execution_count": null,
   "metadata": {
    "colab": {
     "base_uri": "https://localhost:8080/"
    },
    "id": "OSXskMC7hOn5",
    "outputId": "584d0d0c-7a4d-44aa-ebc8-e50ae96d22fd"
   },
   "outputs": [
    {
     "name": "stdout",
     "output_type": "stream",
     "text": [
      "Requirement already satisfied: scipy in /usr/local/lib/python3.7/dist-packages (1.4.1)\n",
      "Requirement already satisfied: numpy>=1.13.3 in /usr/local/lib/python3.7/dist-packages (from scipy) (1.19.5)\n"
     ]
    }
   ],
   "source": [
    "pip install scipy"
   ]
  },
  {
   "cell_type": "markdown",
   "metadata": {
    "id": "PpCY-OYxrEld"
   },
   "source": [
    "* Constants: Como Scipy está más enfocado en implementaciones para Ciencia, posee un módulo llamado constants donde se guardan varias constantes que pueden ser utiles al hacer Data Science"
   ]
  },
  {
   "cell_type": "code",
   "execution_count": 18,
   "metadata": {
    "id": "B3dnW_W-hO3_"
   },
   "outputs": [],
   "source": [
    "  from scipy import constants"
   ]
  },
  {
   "cell_type": "markdown",
   "metadata": {
    "id": "uz0JN6dYqlv0"
   },
   "source": [
    "Una de ellas es \"liter\" que devuelve 1 Litro en metros cúbicos."
   ]
  },
  {
   "cell_type": "code",
   "execution_count": 19,
   "metadata": {
    "colab": {
     "base_uri": "https://localhost:8080/"
    },
    "id": "gc7856uQhn2x",
    "outputId": "7a7f7cd2-11c3-4c74-c8b7-30f6493be8ca"
   },
   "outputs": [
    {
     "name": "stdout",
     "output_type": "stream",
     "text": [
      "0.001\n"
     ]
    }
   ],
   "source": [
    "print(constants.liter)"
   ]
  },
  {
   "cell_type": "code",
   "execution_count": null,
   "metadata": {
    "colab": {
     "base_uri": "https://localhost:8080/"
    },
    "id": "G6fXsO3LhsHo",
    "outputId": "b64b7806-304c-4233-c6a1-93f50461c1c4"
   },
   "outputs": [
    {
     "data": {
      "text/plain": [
       "['Avogadro',\n",
       " 'Boltzmann',\n",
       " 'Btu',\n",
       " 'Btu_IT',\n",
       " 'Btu_th',\n",
       " 'ConstantWarning',\n",
       " 'G',\n",
       " 'Julian_year',\n",
       " 'N_A',\n",
       " 'Planck',\n",
       " 'R',\n",
       " 'Rydberg',\n",
       " 'Stefan_Boltzmann',\n",
       " 'Wien',\n",
       " '__all__',\n",
       " '__builtins__',\n",
       " '__cached__',\n",
       " '__doc__',\n",
       " '__file__',\n",
       " '__loader__',\n",
       " '__name__',\n",
       " '__package__',\n",
       " '__path__',\n",
       " '__spec__',\n",
       " '_obsolete_constants',\n",
       " 'absolute_import',\n",
       " 'acre',\n",
       " 'alpha',\n",
       " 'angstrom',\n",
       " 'arcmin',\n",
       " 'arcminute',\n",
       " 'arcsec',\n",
       " 'arcsecond',\n",
       " 'astronomical_unit',\n",
       " 'atm',\n",
       " 'atmosphere',\n",
       " 'atomic_mass',\n",
       " 'atto',\n",
       " 'au',\n",
       " 'bar',\n",
       " 'barrel',\n",
       " 'bbl',\n",
       " 'blob',\n",
       " 'c',\n",
       " 'calorie',\n",
       " 'calorie_IT',\n",
       " 'calorie_th',\n",
       " 'carat',\n",
       " 'centi',\n",
       " 'codata',\n",
       " 'constants',\n",
       " 'convert_temperature',\n",
       " 'day',\n",
       " 'deci',\n",
       " 'degree',\n",
       " 'degree_Fahrenheit',\n",
       " 'deka',\n",
       " 'division',\n",
       " 'dyn',\n",
       " 'dyne',\n",
       " 'e',\n",
       " 'eV',\n",
       " 'electron_mass',\n",
       " 'electron_volt',\n",
       " 'elementary_charge',\n",
       " 'epsilon_0',\n",
       " 'erg',\n",
       " 'exa',\n",
       " 'exbi',\n",
       " 'femto',\n",
       " 'fermi',\n",
       " 'find',\n",
       " 'fine_structure',\n",
       " 'fluid_ounce',\n",
       " 'fluid_ounce_US',\n",
       " 'fluid_ounce_imp',\n",
       " 'foot',\n",
       " 'g',\n",
       " 'gallon',\n",
       " 'gallon_US',\n",
       " 'gallon_imp',\n",
       " 'gas_constant',\n",
       " 'gibi',\n",
       " 'giga',\n",
       " 'golden',\n",
       " 'golden_ratio',\n",
       " 'grain',\n",
       " 'gram',\n",
       " 'gravitational_constant',\n",
       " 'h',\n",
       " 'hbar',\n",
       " 'hectare',\n",
       " 'hecto',\n",
       " 'horsepower',\n",
       " 'hour',\n",
       " 'hp',\n",
       " 'inch',\n",
       " 'k',\n",
       " 'kgf',\n",
       " 'kibi',\n",
       " 'kilo',\n",
       " 'kilogram_force',\n",
       " 'kmh',\n",
       " 'knot',\n",
       " 'lambda2nu',\n",
       " 'lb',\n",
       " 'lbf',\n",
       " 'light_year',\n",
       " 'liter',\n",
       " 'litre',\n",
       " 'long_ton',\n",
       " 'm_e',\n",
       " 'm_n',\n",
       " 'm_p',\n",
       " 'm_u',\n",
       " 'mach',\n",
       " 'mebi',\n",
       " 'mega',\n",
       " 'metric_ton',\n",
       " 'micro',\n",
       " 'micron',\n",
       " 'mil',\n",
       " 'mile',\n",
       " 'milli',\n",
       " 'minute',\n",
       " 'mmHg',\n",
       " 'mph',\n",
       " 'mu_0',\n",
       " 'nano',\n",
       " 'nautical_mile',\n",
       " 'neutron_mass',\n",
       " 'nu2lambda',\n",
       " 'ounce',\n",
       " 'oz',\n",
       " 'parsec',\n",
       " 'pebi',\n",
       " 'peta',\n",
       " 'physical_constants',\n",
       " 'pi',\n",
       " 'pico',\n",
       " 'point',\n",
       " 'pound',\n",
       " 'pound_force',\n",
       " 'precision',\n",
       " 'print_function',\n",
       " 'proton_mass',\n",
       " 'psi',\n",
       " 'pt',\n",
       " 'short_ton',\n",
       " 'sigma',\n",
       " 'slinch',\n",
       " 'slug',\n",
       " 'speed_of_light',\n",
       " 'speed_of_sound',\n",
       " 'stone',\n",
       " 'survey_foot',\n",
       " 'survey_mile',\n",
       " 'tebi',\n",
       " 'tera',\n",
       " 'test',\n",
       " 'ton_TNT',\n",
       " 'torr',\n",
       " 'troy_ounce',\n",
       " 'troy_pound',\n",
       " 'u',\n",
       " 'unit',\n",
       " 'value',\n",
       " 'week',\n",
       " 'yard',\n",
       " 'year',\n",
       " 'yobi',\n",
       " 'yotta',\n",
       " 'zebi',\n",
       " 'zepto',\n",
       " 'zero_Celsius',\n",
       " 'zetta']"
      ]
     },
     "execution_count": 9,
     "metadata": {},
     "output_type": "execute_result"
    }
   ],
   "source": [
    "dir(constants)"
   ]
  },
  {
   "cell_type": "markdown",
   "metadata": {
    "id": "vhtVm0LP0l3S"
   },
   "source": [
    "Pueden revisar https://www.w3schools.com/python/scipy/scipy_constants.php para que lo vean de manera ordenada"
   ]
  },
  {
   "cell_type": "markdown",
   "metadata": {
    "id": "QGTkghuK06_j"
   },
   "source": [
    "* Optimize: Nos permite minimizar o maximizar una función expresada donde podemos agregarle cosas como restricciones o qué metodo usar, pero tambien sirve para hallar raices de una ecuación"
   ]
  },
  {
   "cell_type": "code",
   "execution_count": 21,
   "metadata": {
    "id": "dtFtW9MW0owa"
   },
   "outputs": [],
   "source": [
    "from scipy import optimize"
   ]
  },
  {
   "cell_type": "markdown",
   "metadata": {
    "id": "TkEWd3Nf15O8"
   },
   "source": [
    "\n",
    "Si hacemos una comparación con Numpy, como se mencionó en la anterior clase, podemos hallar raices de ecuaciones lineales y de polinomios, pero no podemos hallar raices de ecuaciones no lineales como ``x + cos(x)`` pero si podremos usar: ``optimize.root``"
   ]
  },
  {
   "cell_type": "markdown",
   "metadata": {
    "id": "DUxkkTMy4BYf"
   },
   "source": [
    "Necesitaremos dos argumentos para usarlo:    \n",
    "* fun: una función que represente una ecuación\n",
    "* x0: un punto inicial que pensamos que está cerca de la solución."
   ]
  },
  {
   "cell_type": "code",
   "execution_count": 22,
   "metadata": {
    "colab": {
     "base_uri": "https://localhost:8080/"
    },
    "id": "EoRIYGMC3UTm",
    "outputId": "4ffd8d43-8b11-45c8-976b-cbdab2f2058f"
   },
   "outputs": [
    {
     "name": "stdout",
     "output_type": "stream",
     "text": [
      "    fjac: array([[-1.]])\n",
      "     fun: 0.0\n",
      " message: 'The solution converged.'\n",
      "    nfev: 7\n",
      "     qtf: array([-7.96885813e-09])\n",
      "       r: array([-1.41421356])\n",
      "  status: 1\n",
      " success: True\n",
      "       x: array([-0.78539816])\n"
     ]
    }
   ],
   "source": [
    "import math\n",
    "def ejemplo(x):\n",
    "  return math.cos(x) + math.sin(x)\n",
    "\n",
    "raiz_ejemplo = optimize.root(ejemplo, 0)\n",
    "print(raiz_ejemplo) #nos genera todo un objeto que contiene todo esto:"
   ]
  },
  {
   "cell_type": "code",
   "execution_count": 23,
   "metadata": {
    "colab": {
     "base_uri": "https://localhost:8080/"
    },
    "id": "LBCwKNaO4kZl",
    "outputId": "516cb501-4fd2-4846-9fa4-4675c465fa58"
   },
   "outputs": [
    {
     "data": {
      "text/plain": [
       "array([-0.78539816])"
      ]
     },
     "execution_count": 23,
     "metadata": {},
     "output_type": "execute_result"
    }
   ],
   "source": [
    "raiz_ejemplo.x #nos dará el punto solución"
   ]
  },
  {
   "cell_type": "code",
   "execution_count": null,
   "metadata": {
    "colab": {
     "base_uri": "https://localhost:8080/"
    },
    "id": "J29W8I9H5Bmy",
    "outputId": "e0b290ce-8c1e-49bb-fa53-600f3bf4f0ea"
   },
   "outputs": [
    {
     "data": {
      "text/plain": [
       "1.1102230246251565e-16"
      ]
     },
     "execution_count": 18,
     "metadata": {},
     "output_type": "execute_result"
    }
   ],
   "source": [
    "#1.1102230246251565e-16  \n",
    "# abs(float1 - float2) < eps\n",
    "\n",
    "ejemplo(raiz_ejemplo.x)  # cero"
   ]
  },
  {
   "cell_type": "markdown",
   "metadata": {
    "id": "5IgmyN3U5QHP"
   },
   "source": [
    "Tambien pudimos haber llamado a la función root de esta manera, si es que la vamos a usar seguidamente"
   ]
  },
  {
   "cell_type": "code",
   "execution_count": null,
   "metadata": {
    "id": "ALadS3de5Ecq"
   },
   "outputs": [],
   "source": [
    "from scipy.optimize import root"
   ]
  },
  {
   "cell_type": "code",
   "execution_count": null,
   "metadata": {
    "colab": {
     "base_uri": "https://localhost:8080/"
    },
    "id": "Dgvn26m55W7G",
    "outputId": "6a3ceaeb-cc0f-4312-9434-9a50ed413ec5"
   },
   "outputs": [
    {
     "data": {
      "text/plain": [
       "array([-0.78539816])"
      ]
     },
     "execution_count": 20,
     "metadata": {},
     "output_type": "execute_result"
    }
   ],
   "source": [
    "root(ejemplo, 0).x"
   ]
  },
  {
   "cell_type": "markdown",
   "metadata": {
    "id": "1L7PwBWD61bN"
   },
   "source": [
    "Usaremos ``minimize`` para minimizar una función, esta tomará más argumentos que root:    \n",
    "* fun: es la función como una ecuación\n",
    "* x0: es el punto inicial que pensamos está cerca a la solución\n",
    "* method: Debemos de elegir que método de minimización usaremos: \n",
    "  -   ``'CG'``          # Gradiente conjugado\n",
    "  -``'BFGS'``       #Broyden–Fletcher–Goldfarb–Shanno\n",
    "  -   ``'Newton-CG'`` \n",
    "  -  ``'L-BFGS-B'``\n",
    "  - ``'TNC'``    #Newton Truncado\n",
    "  - ``'COBYLA'`` #optimización restringida por aproximación lineal\n",
    "  - ``'SLSQP'`` # usar minimos cuadrados de manera secuencial\n",
    "\n",
    "* Options: Es un diccionario que contiene caracteristicas que queremos que cumpla la solución, por ejemplo:     \n",
    "  - \"maxiter\" : ``int``, numero de iteraciones maximas que queremos que se ejecuten\n",
    "  - \"disp\": ``bool``,    si es ``True`` se imprimen detalles de la convergencia\n",
    "  - \"gtol\":  ``float``, es la tolerancia del error"
   ]
  },
  {
   "cell_type": "code",
   "execution_count": 24,
   "metadata": {
    "colab": {
     "base_uri": "https://localhost:8080/"
    },
    "id": "TRT99T1h5a61",
    "outputId": "076c8c47-9769-40a6-a23e-3c41a0601a9f"
   },
   "outputs": [
    {
     "name": "stdout",
     "output_type": "stream",
     "text": [
      "      fun: -1.4142135623730887\n",
      " hess_inv: array([[0.70721448]])\n",
      "      jac: array([1.49011612e-07])\n",
      "  message: 'Optimization terminated successfully.'\n",
      "     nfev: 16\n",
      "      nit: 4\n",
      "     njev: 8\n",
      "   status: 0\n",
      "  success: True\n",
      "        x: array([-2.3561944])\n"
     ]
    }
   ],
   "source": [
    "from scipy.optimize import minimize\n",
    "def prueba(x):\n",
    "  return math.sin(x) + math.cos(x)\n",
    "\n",
    "min_prueba = minimize(prueba, 0, method = 'BFGS')\n",
    "print(min_prueba)"
   ]
  },
  {
   "cell_type": "code",
   "execution_count": 25,
   "metadata": {
    "colab": {
     "base_uri": "https://localhost:8080/"
    },
    "id": "pU54ytIdKE1U",
    "outputId": "9bc7ee6d-b4f3-42f7-908b-d5f3ca26ed38"
   },
   "outputs": [
    {
     "name": "stdout",
     "output_type": "stream",
     "text": [
      "      fun: 5.38420786206946e-12\n",
      " hess_inv: array([[ 0.84615405, -0.23076913],\n",
      "       [-0.23076913,  0.65384599]])\n",
      "      jac: array([ 4.12628118e-06, -2.13762894e-06])\n",
      "  message: 'Optimization terminated successfully.'\n",
      "     nfev: 12\n",
      "      nit: 3\n",
      "     njev: 4\n",
      "   status: 0\n",
      "  success: True\n",
      "        x: array([5.00000206, 6.99999892])\n"
     ]
    }
   ],
   "source": [
    "import numpy as np\n",
    "# función que quieres obtener el mínimo\n",
    "def prueba(x):\n",
    "  return (x[0]-5)**2 + (7-x[1])**2\n",
    "(x-5)^2 + (7-y)^2\n",
    "\n",
    "# punto inicial\n",
    "x0 = np.array([1,1])\n",
    "\n",
    "# Uilizas método minimize\n",
    "min_prueba = minimize(prueba, x0, method = 'BFGS')\n",
    "print(min_prueba)"
   ]
  },
  {
   "cell_type": "code",
   "execution_count": 26,
   "metadata": {
    "colab": {
     "base_uri": "https://localhost:8080/"
    },
    "id": "EcXBf1XWGCUI",
    "outputId": "2b487132-00d5-4c8d-83fe-06387cee621c"
   },
   "outputs": [
    {
     "name": "stdout",
     "output_type": "stream",
     "text": [
      "     fun: 0.0\n",
      "     jac: array([1.49011612e-08, 1.49011612e-08])\n",
      " message: 'Optimization terminated successfully'\n",
      "    nfev: 7\n",
      "     nit: 2\n",
      "    njev: 2\n",
      "  status: 0\n",
      " success: True\n",
      "       x: array([5., 7.])\n"
     ]
    }
   ],
   "source": [
    "def prueba(x):\n",
    "    return (x[0]-5)**2 + (7-x[1])**2\n",
    "    # (x-5)^2 + (7-y)^2\n",
    "                                        # x - y + 5 >= 0\n",
    "restricciones = ({'type': 'ineq', 'fun': lambda x: x[0] - x[1] + 5}, #Desigualdad >= 0\n",
    "                                     # 2*x - y + 1 >= 0\n",
    "        {'type': 'ineq', 'fun': lambda x: 2*x[0] - x[1] + 1}) #Desigualdad >= 0\n",
    "# x >= 0\n",
    "# y >= 0\n",
    "cotas = ((0,None),(0,None))\n",
    "\n",
    "\n",
    "resultado = minimize(prueba, (1,1), method = 'SLSQP', bounds = cotas, constraints = restricciones)\n",
    "print(resultado)"
   ]
  },
  {
   "cell_type": "code",
   "execution_count": 27,
   "metadata": {
    "colab": {
     "base_uri": "https://localhost:8080/"
    },
    "id": "kNXVx6ODH5d_",
    "outputId": "47774d56-d6da-4475-da44-b1c31d70ac0c"
   },
   "outputs": [
    {
     "name": "stdout",
     "output_type": "stream",
     "text": [
      "     fun: 0.2000000115541445\n",
      "     jac: array([ 0.80009616, -0.3998077 ])\n",
      " message: 'Optimization terminated successfully'\n",
      "    nfev: 14\n",
      "     nit: 4\n",
      "    njev: 4\n",
      "  status: 0\n",
      " success: True\n",
      "       x: array([5.40004807, 6.80009614])\n"
     ]
    }
   ],
   "source": [
    "def prueba(x):\n",
    "    return (x[0]-5)**2 + (7-x[1])**2\n",
    "\n",
    "restricciones = ({'type': 'ineq', 'fun': lambda x: x[0] - x[1] + 5}, \n",
    "        {'type': 'ineq', 'fun': lambda x: 2*x[0] - x[1]- 4}) #Ahora la solucion obvia no cumple esta restricción\n",
    "cotas = ((0,None),(0,None))\n",
    "resultado = minimize(prueba, (1,1), method = 'SLSQP', bounds = cotas, constraints = restricciones)\n",
    "print(resultado)"
   ]
  },
  {
   "cell_type": "code",
   "execution_count": null,
   "metadata": {
    "id": "f5xUUj8QKS9y"
   },
   "outputs": [],
   "source": []
  }
 ],
 "metadata": {
  "colab": {
   "collapsed_sections": [],
   "name": "clase 11.ipynb",
   "provenance": []
  },
  "kernelspec": {
   "display_name": "Python 3",
   "language": "python",
   "name": "python3"
  },
  "language_info": {
   "codemirror_mode": {
    "name": "ipython",
    "version": 3
   },
   "file_extension": ".py",
   "mimetype": "text/x-python",
   "name": "python",
   "nbconvert_exporter": "python",
   "pygments_lexer": "ipython3",
   "version": "3.8.8"
  }
 },
 "nbformat": 4,
 "nbformat_minor": 1
}
