{
 "cells": [
  {
   "cell_type": "markdown",
   "id": "5bb53abb",
   "metadata": {},
   "source": [
    "Tener abierto:\n",
    "\n",
    "* Sublime\n",
    "* Bloc de notas (tener cuidado de la identación)\n",
    "* Visual Code\n",
    "* Spyder"
   ]
  },
  {
   "cell_type": "markdown",
   "id": "61ed3519",
   "metadata": {},
   "source": [
    "Enviar: ctorres@aiside.pe  hasta 10:30"
   ]
  },
  {
   "cell_type": "markdown",
   "id": "6788006f",
   "metadata": {},
   "source": [
    "# 1. Introducción y objetivos \n",
    "\n",
    " \n",
    "* A la hora de desarrollar proyectos más grandes en Python es necesario organizar nuestro código. Para eso veremos cómo hacer esto con dos aproximaciones. \n",
    "\n",
    "    - La primera de ellas es el uso de módulos y paquetes que nos permitirán organizar nuestro código en diferentes scripts y, además, crear una organización de carpetas para almacenar cada uno de estos scripts. \n",
    "    \n",
    "    - La segunda aproximación es utilizar la programación orientada a objetos para encapsular la información en objetos y crear diferentes operaciones que nos permitan trabajar con ellos. \n",
    "\n",
    " Al finalizar este tema se habrán alcanzado los siguientes objetivos que mejorarán la forma en la que organicemos el código en Python: \n",
    "\n",
    "    1. Aprender a crear módulos y paquetes en Python. \n",
    "    \n",
    "    2. Saber cómo se deben importar los módulos y paquetes en nuestro código.\n",
    "    \n",
    "    3. Conocer cómo se debe documentar los módulos y los paquetes. \n",
    "    \n",
    "    4. Saber cómo aplicar la programación orientada a objetos en Python. \n",
    "    \n",
    "    5. Aprender cómo funciona la herencia dentro de la programación orientada a objetos en Python. \n",
    "    \n",
    "    6. Conocer cómo se puede documentar las clases desarrolladas en Python. \n",
    "\n",
    "\n",
    "# 2. Módulos y paquetes \n",
    "\n",
    "Hasta ahora hemos estado desarrollando nuestro programa usando un único script o en un mismo notebook. \n",
    "\n",
    "Sin embargo, en proyectos más grandes es necesario dividir nuestro código en diferentes scripts para organizarlo. Lo más normal es organizar nuestro código en scripts que tengan funciones o variables con una misma funcionalidad.  \n",
    "\n",
    "Para ayudarnos a organizar nuestro código usaremos los módulos y paquetes. A continuación, explicaremos qué son cada uno de estos elementos, cómo podemos crearlos y cómo podemos usarlos en otros scripts. \n",
    "\n",
    "\n",
    "## 2.1. Módulos \n",
    "\n",
    "* Los módulos son cada uno de los ficheros ``.py`` que creemos en nuestro proyecto. \n",
    "\n",
    "* Estos ficheros contienen elementos que hemos visto anteriormente, como variables o funciones, y clases que veremos luego. \n",
    "\n",
    "* Dividir el código en módulos nos permite organizar un conjunto de elementos por su funcionalidad. \n",
    "\n",
    "### Creación de módulos \n",
    "\n",
    "Imaginemos que queremos crear un módulo que contendrá dos funciones que nos permiten calcular el perímetro de una circunferencia y el área del círculo contenido en una circunferencia. Para ello, crearemos un script llamado ``«circunferencia.py»``que contendrá el siguiente código: "
   ]
  },
  {
   "cell_type": "code",
   "execution_count": 1,
   "id": "6315d25e",
   "metadata": {},
   "outputs": [],
   "source": [
    "# Módulo circunferencia.py \n",
    "import math \n",
    " \n",
    "def perimetro(radio):\n",
    "    return 2 * math.pi * radio \n",
    "\n",
    "def area(radio): \n",
    "    return math.pi * radio ** 2 "
   ]
  },
  {
   "cell_type": "code",
   "execution_count": 2,
   "id": "c87578dc",
   "metadata": {},
   "outputs": [],
   "source": [
    "import circunferencia"
   ]
  },
  {
   "cell_type": "code",
   "execution_count": 3,
   "id": "627628ea",
   "metadata": {
    "scrolled": true
   },
   "outputs": [
    {
     "data": {
      "text/plain": [
       "['__builtins__',\n",
       " '__cached__',\n",
       " '__doc__',\n",
       " '__file__',\n",
       " '__loader__',\n",
       " '__name__',\n",
       " '__package__',\n",
       " '__spec__',\n",
       " 'area',\n",
       " 'area_sector_circular',\n",
       " 'area_sector_circular_otro',\n",
       " 'long_arco',\n",
       " 'math',\n",
       " 'perimetro']"
      ]
     },
     "execution_count": 3,
     "metadata": {},
     "output_type": "execute_result"
    }
   ],
   "source": [
    "dir(circunferencia)"
   ]
  },
  {
   "cell_type": "code",
   "execution_count": 3,
   "id": "66ac7160",
   "metadata": {},
   "outputs": [
    {
     "name": "stdout",
     "output_type": "stream",
     "text": [
      "El perimetro de la circunferencia con radio 10 es igual a 62.83185307179586\n"
     ]
    }
   ],
   "source": [
    "perimetro_demo = circunferencia.perimetro(10)"
   ]
  },
  {
   "cell_type": "code",
   "execution_count": 4,
   "id": "adb05583",
   "metadata": {},
   "outputs": [
    {
     "name": "stdout",
     "output_type": "stream",
     "text": [
      "El area de la circunferencia con radio 10 es igual a 314.1592653589793\n"
     ]
    }
   ],
   "source": [
    "area_demo = circunferencia.area(10)"
   ]
  },
  {
   "cell_type": "code",
   "execution_count": 5,
   "id": "0a053a0a",
   "metadata": {
    "scrolled": true
   },
   "outputs": [
    {
     "name": "stdout",
     "output_type": "stream",
     "text": [
      "Ingresar el angulo en grados sexagesimales: 5\n"
     ]
    },
    {
     "data": {
      "text/plain": [
       "1.0908307824964558"
      ]
     },
     "execution_count": 5,
     "metadata": {},
     "output_type": "execute_result"
    }
   ],
   "source": [
    "sc_demo = circunferencia.area_sector_circular(5)\n",
    "sc_demo"
   ]
  },
  {
   "cell_type": "code",
   "execution_count": 4,
   "id": "7ed71b64",
   "metadata": {},
   "outputs": [
    {
     "name": "stdout",
     "output_type": "stream",
     "text": [
      "Ingresar el angulo en grados sexagesimales: 5\n",
      "La longitud  de arco con radio 5 y angulo 0.08726646259971647 es igual a 0.4363323129985824\n"
     ]
    }
   ],
   "source": [
    "la_demo = circunferencia.long_arco(5)"
   ]
  },
  {
   "cell_type": "code",
   "execution_count": 5,
   "id": "b1c67812",
   "metadata": {},
   "outputs": [
    {
     "name": "stdout",
     "output_type": "stream",
     "text": [
      "El area del sector circular con :\n",
      "\t         longitud de arco = 0.4363323129985824 y \n",
      "\t\t\t radio = 2 \n",
      "\t\t\t es = 0.4363323129985824\n"
     ]
    }
   ],
   "source": [
    "circunferencia.area_sector_circular_otro(la_demo,2)"
   ]
  },
  {
   "cell_type": "markdown",
   "id": "da9557ec",
   "metadata": {},
   "source": [
    "Este módulo contiene las funciones ``perímetro`` y ``area`` que, a partir del valor del radio, \n",
    "obtiene ambos valores. Para el número ``pi``, hemos usado el módulo ``math`` que vimos en clases anteriores. \n",
    "\n",
    "Hasta aquí ya tendríamos nuestro módulo, que nos permite hacer algunos cálculos \n",
    "sobre las circunferencias. A continuación, veremos cómo usar nuestro módulo en \n",
    "otros ``scripts`` o en un ``notebook``. \n",
    "\n",
    "### Importar módulos \n",
    "\n",
    "- Para poder utilizar las funciones que hemos incluido en un módulo es necesario **importar dicho módulo**. \n",
    "\n",
    "- **Python tiene la sentencia ``import`` que, seguida del nombre del módulo (sin la extensión .py)**, nos permite utilizar todo el código que hayamos implementado en dicho módulo. \n",
    "\n",
    "- Es importante tener en cuenta que el módulo tiene que ser accesible por el script que lo importe, si no es accesible, nos devolverá un error indicando que no sabe dónde se encuentra. \n",
    "\n",
    "Por ejemplo, vamos a importar el módulo circunferencia para hacer algunos \n",
    "cálculos en nuestro notebook. Para ello, comenzaremos nuestro código con la \n",
    "siguiente sentencia: "
   ]
  },
  {
   "cell_type": "code",
   "execution_count": 2,
   "id": "226f7d3d",
   "metadata": {},
   "outputs": [],
   "source": [
    "import circunferencia as cf"
   ]
  },
  {
   "cell_type": "markdown",
   "id": "dcfc72c0",
   "metadata": {},
   "source": [
    "Una vez hecho esto, podemos acceder al código del módulo circunferencia. \n",
    "\n",
    "**Sin embargo, es necesario usar el nombre del módulo seguido de un punto (.) para acceder a las funciones.** \n",
    "\n",
    "Por ejemplo, para calcular el perímetro de una circunferencia con un radio de 5 unidades, usaríamos la siguiente instrucción: "
   ]
  },
  {
   "cell_type": "code",
   "execution_count": 6,
   "id": "e602de06",
   "metadata": {},
   "outputs": [
    {
     "name": "stdout",
     "output_type": "stream",
     "text": [
      "El perimetro de la circunferencia con radio 5 es igual a 31.41592653589793\n"
     ]
    },
    {
     "data": {
      "text/plain": [
       "31.41592653589793"
      ]
     },
     "execution_count": 6,
     "metadata": {},
     "output_type": "execute_result"
    }
   ],
   "source": [
    "circunferencia.perimetro(5) # Devolverá 31.41592653589793\n",
    "# cf.perimetro(5)"
   ]
  },
  {
   "cell_type": "markdown",
   "id": "60280f65",
   "metadata": {},
   "source": [
    "* Esta forma de llamar a la función perimetro se realiza mediante el ``namespace``. \n",
    "\n",
    "* El ``namespace`` es el nombre que se indica después de la instrucción ``import`` y que será la ruta del módulo, como veremos más adelante. \n",
    "\n",
    "* **En la sentencia import podemos incluir más de un módulo**. Para ello solo tenemos que separar los módulos que vamos a importar por comas. \n",
    "\n",
    "~~~python\n",
    "import modulo1, modulo2, modulo3, …, moduloN\n",
    "~~~"
   ]
  },
  {
   "cell_type": "markdown",
   "id": "ec91e961",
   "metadata": {},
   "source": [
    "Imaginemos que, en nuestro proyecto, tenemos otro módulo llamado ``«poligono»``, que calcula el área y el perímetro de todos los polígonos regulares. Para poder importar los dos módulos en nuestro programa (el de circunferencia y el de polígono), ejecutaríamos la siguiente sentencia: \n",
    "\n",
    "~~~python\n",
    "import circunferencia, poligono \n",
    "~~~\n",
    "\n",
    "Y para llamar a las funciones de los diferentes módulos deberíamos usar el \n",
    "``namespace`` de cada módulo, es decir, si queremos llamar a la función area de cada \n",
    "módulo, deberíamos hacerlo de la siguiente manera: \n",
    "\n",
    "~~~python\n",
    "circunferencia.area(5) \n",
    "poligono.area(10, 5)\n",
    "~~~\n",
    "\n",
    "#### Ejercicio 1: Crear el módulo polígono."
   ]
  },
  {
   "cell_type": "code",
   "execution_count": null,
   "id": "2d9f01b8",
   "metadata": {},
   "outputs": [],
   "source": [
    "#1. crear el area y el perimetro del poligono:\n",
    "    #  cuadrado\n",
    "    #  triangulo\n",
    "    #  rectangulo\n",
    "    #  paralelogramo\n",
    "\n",
    "#2. En tu programa principal usar los modulos poligono y circunferencia (notebook)"
   ]
  },
  {
   "cell_type": "markdown",
   "id": "6b1e9b6b",
   "metadata": {},
   "source": [
    "* Como se puede observar, el uso de los ``namespace`` a veces puede ser un poco tedioso, sobre todo si el nombre de los módulos es complejo o muy largo. \n",
    "\n",
    "* Para solucionar esto, Python nos permite definir unos alias en los nombres de los módulos a la hora de importarlos. Así, solo deberíamos usar los alias a la hora de llamarlos dentro de nuestro código. \n",
    "\n",
    "* Una restricción que existe con el uso de los alias es que no podemos hacer importaciones múltiples en una única sentencia, sino que debemos hacer las importaciones de una en una. \n",
    "\n",
    "* Para definir un alias a un módulo importado, usaremos la palabra reservada ``as`` seguida del alias que queramos definir a nuestro modulo. \n",
    "\n",
    "~~~python\n",
    "import modulo as mod \n",
    "~~~\n",
    " \n",
    "\n",
    "En el ejemplo anterior, con nuestros módulos circunferencia y poligono, vamos a \n",
    "importar ambos módulos con un alias. A continuación, ejecutaremos las funciones \n",
    "para calcular el área usando los alias que hemos definido: \n",
    "\n",
    " \n",
    "~~~python\n",
    "import circunferencia as cir \n",
    "import poligono as pol\n",
    "\n",
    "cir.area(5) \n",
    "pol.area(10, 5) \n",
    "~~~\n",
    " \n",
    "Como vemos, esto nos permite que la forma de llamar a los módulos sea más sencilla y el código más legible. "
   ]
  },
  {
   "cell_type": "markdown",
   "id": "065304f5",
   "metadata": {},
   "source": [
    "## 2.2. Paquetes \n",
    "\n",
    "Para proyectos verdaderamente grandes, es necesario agrupar diferentes módulos en carpetas. \n",
    "\n",
    "Así, podemos cargar varios módulos que tienen funcionalidades similares. \n",
    "\n",
    "### Creación de paquetes \n",
    "\n",
    "* Un **paquete** es, básicamente, una carpeta que contiene varios módulos. \n",
    "* Sin embargo, este paquete debe tener un fichero Python llamado ``__init__.py`` que puede estar vacío. \n",
    "* Sin embargo, **es aconsejable que el fichero ``__init__.py`` incluya los import de todos los módulos que están incluidos en el paquete.** \n",
    "\n",
    "Un ejemplo de estructura de paquete sería el siguiente: \n",
    "\n",
    "paquete/ <br>\n",
    "├── \\_\\_init\\_\\_.py <br> \n",
    "├── modulo1.py <br>\n",
    "└── modulo2.py\n",
    "\n",
    "En este caso, nuestro fichero ``__init__.py`` debería incluir las siguientes instrucciones \n",
    "para que se pudiesen importar los módulos cuando importemos únicamente el \n",
    "paquete: \n",
    "\n",
    "~~~python\n",
    "import paquete.modulo1 \n",
    "import paquete.modulo2 \n",
    "~~~\n",
    "\n",
    "En nuestro ejemplo anterior, podríamos incluir los módulos ``circunferencia`` y ``polígono`` \n",
    "en un paquete llamado figuras. \n",
    "\n",
    "Para ello, haremos una estructura de ficheros de la siguiente manera: \n",
    "\n",
    "\n",
    "figuras/ <br>\n",
    "├── \\_\\_init\\_\\_.py <br>\n",
    "├── circunferencia.py <br>\n",
    "└── poligono.py \n",
    "\n",
    "\n",
    "### Importando módulos en paquetes \n",
    "\n",
    "* Los módulos que están incluidos en paquetes tienen una forma un poco diferente de ser importados. \n",
    "* La primera de las formas es importar el paquete donde se encuentran esos módulos. Para ello usaremos la instrucción ``import`` seguida del nombre del **paquete** o **paquetes** (separados por comas) que queremos importar: \n",
    "\n",
    " ~~~python\n",
    "import paquete1, paquete2, …, paqueteN \n",
    "~~~\n",
    " \n",
    "Vamos a ver un ejemplo en el que importamos el paquete figuras y ejecutamos las funciones del cálculo de área que hemos visto anteriormente: \n",
    "\n",
    "~~~python\n",
    "import figuras \n",
    "\n",
    "\n",
    "figuras.circunferencia.area(5) \n",
    "figuras.poligono.area(10, 5) \n",
    "~~~\n",
    " \n",
    "Como vemos en el ejemplo, **para ejecutar cada función es necesario usar el nombre del paquete, seguido del nombre del módulo y, por último, el nombre de la función que se quiere ejecutar**.  \n",
    "\n",
    "\n",
    "Una forma de simplificar esto consiste en usar la palabra reservada ``from`` en la \n",
    "importación. \n",
    "\n",
    "**Esta palabra nos indica dónde se encuentran los módulos que queremos \n",
    "importar**. Para ello usaremos una de las siguientes estructuras de importación. \n",
    "\n",
    "~~~ python\n",
    "from paquete import modulo1, modulo2, …, moduloN \n",
    "from paquete import * \n",
    "~~~\n",
    " \n",
    "La diferencia de estas dos estructuras es la siguiente. \n",
    "\n",
    "- En la primera estructura podemos importar algunos módulos del paquete, para ello ponemos los nombres de los módulos que queremos importar separados por comas. \n",
    "\n",
    "- Por su parte, la segunda estructura usa el asterisco (*) para indicar que importamos todos los módulos que existen dentro del paquete. \n",
    "\n",
    "Si usamos estas dos formas, ya no es necesario usar el nombre del paquete a la hora de ejecutar funciones de los módulos que hemos importado. \n",
    "\n",
    "\n",
    "Vamos a ver esto con nuestro ejemplo del paquete figuras: \n",
    "\n",
    "~~~python\n",
    "from figuras import * \n",
    "\n",
    "\n",
    "circunferencia.area(5) \n",
    "poligono.area(10, 5) \n",
    "~~~\n",
    " \n",
    "\n",
    "También podemos usar los alias en esta estructura para importar módulos, aunque \n",
    "tendremos que importar los módulos de uno en uno. Para ello, incluiremos la palabra \n",
    "reservada ``as`` seguida del alias que queramos utilizar para nuestro módulo: \n",
    "\n",
    " \n",
    "~~~python\n",
    "from paquete import modulo as mod \n",
    "~~~\n",
    " \n",
    "\n",
    "Veamos esta forma de importar los módulos con nuestro ejemplo de las figuras: \n",
    "\n",
    " \n",
    "~~~python\n",
    "from figuras import circunferencia as cir \n",
    "from figuras import poligono as pol \n",
    "\n",
    " \n",
    "\n",
    "cir.area(5) \n",
    "pol.area(10, 5) \n",
    "~~~\n",
    " \n",
    "\n",
    "Es posible crear paquetes dentro de otros paquetes. Para importar los módulos que \n",
    "hay dentro de paquetes incluidos en otros paquetes se utilizan las formas que hemos \n",
    "visto anteriormente, pero separando los nombres de la ruta de los paquetes por \n",
    "puntos (``.``). \n",
    "\n",
    "~~~python\n",
    "from paquete.subpaquete import * \n",
    "~~~\n",
    "\n",
    "\n",
    "#### Ejercicio 2: Crear sus propios paquetes"
   ]
  },
  {
   "cell_type": "code",
   "execution_count": null,
   "id": "3d178620",
   "metadata": {},
   "outputs": [],
   "source": [
    "# crear tu propio paquete\n",
    "# que contenga poligono y circunferencia\n",
    "# adiciona un modulo más"
   ]
  },
  {
   "cell_type": "code",
   "execution_count": null,
   "id": "87abfe8c",
   "metadata": {},
   "outputs": [],
   "source": [
    "# dentro de __init__.py\n",
    "\n",
    "import figuras.circunferencia\n",
    "import figuras.poligono"
   ]
  },
  {
   "cell_type": "code",
   "execution_count": 2,
   "id": "7061c830",
   "metadata": {},
   "outputs": [],
   "source": [
    "import figuras"
   ]
  },
  {
   "cell_type": "code",
   "execution_count": 3,
   "id": "4844bb86",
   "metadata": {},
   "outputs": [
    {
     "data": {
      "text/plain": [
       "['__builtins__',\n",
       " '__cached__',\n",
       " '__doc__',\n",
       " '__file__',\n",
       " '__loader__',\n",
       " '__name__',\n",
       " '__package__',\n",
       " '__path__',\n",
       " '__spec__',\n",
       " 'circunferencia',\n",
       " 'figuras',\n",
       " 'poligono']"
      ]
     },
     "execution_count": 3,
     "metadata": {},
     "output_type": "execute_result"
    }
   ],
   "source": [
    "dir(figuras)"
   ]
  },
  {
   "cell_type": "markdown",
   "id": "92143721",
   "metadata": {},
   "source": [
    "# 3. Documentar módulos y paquetes \n",
    "\n",
    "Como hemos dicho en las funciones, es importante documentar nuestro código para \n",
    "que otros desarrolladores sepan cómo deben usar los objetos que hemos creado. \n",
    "\n",
    "Esto también se debe tener en cuenta en los módulos. Es posible documentar \n",
    "nuestros módulos para que otros desarrolladores sepan qué elementos están \n",
    "incluidos en los módulos que hemos desarrollado. \n",
    "\n",
    "Para ello, al igual que las funciones, podemos usar los ``docstring``. \n",
    "\n",
    "El ``docstring`` de un módulo debe estar en la primera línea de este. Para ello, \n",
    "escribiremos esta documentación usando las dobles comillas (``\"``) tres veces para \n",
    "iniciar la documentación y otras tres veces para cerrarlo. Esta documentación puede \n",
    "ocupar más de una línea. \n",
    "\n",
    "Por ejemplo, podemos crear el docstring del módulo circunferencia de la siguiente \n",
    "manera: "
   ]
  },
  {
   "cell_type": "code",
   "execution_count": 4,
   "id": "9e708c88",
   "metadata": {},
   "outputs": [],
   "source": [
    "\"\"\"Modulo circunferencia: \n",
    " \n",
    "Incluye las funciones que nos permiten obtener el perímetro o \n",
    "área de una circunferencia. \n",
    "\"\"\" \n",
    " \n",
    "import math \n",
    " \n",
    "def perimetro(radio): \n",
    "    return 2 * math.pi * radio \n",
    " \n",
    "def area(radio): \n",
    "    return math.pi * radio ** 2 "
   ]
  },
  {
   "cell_type": "markdown",
   "id": "43fc0606",
   "metadata": {},
   "source": [
    "La gran ventaja de utilizar ``docstring`` consiste en que podemos consultar esta \n",
    "documentación con la instrucción ``help()`` e incluir el nombre del módulo del que \n",
    "queremos consultar la documentación. "
   ]
  },
  {
   "cell_type": "code",
   "execution_count": 1,
   "id": "d8732581",
   "metadata": {},
   "outputs": [
    {
     "name": "stdout",
     "output_type": "stream",
     "text": [
      "Help on module figuras.circunferencia in figuras:\n",
      "\n",
      "NAME\n",
      "    figuras.circunferencia - Modulo circunferencia:\n",
      "\n",
      "DESCRIPTION\n",
      "    Incluye las funciones que nos permiten obtener el perímetro o \n",
      "    área de una circunferencia.\n",
      "\n",
      "FUNCTIONS\n",
      "    area(radio)\n",
      "    \n",
      "    area_sector_circular(radio)\n",
      "    \n",
      "    area_sector_circular_otro(lon_arc, radio)\n",
      "    \n",
      "    long_arco(radio)\n",
      "    \n",
      "    perimetro(radio)\n",
      "        Función que calcula el perimetro de una circunferencia\n",
      "\n",
      "FILE\n",
      "    e:\\personal\\fiss-uni\\clase6\\figuras\\circunferencia.py\n",
      "\n",
      "\n"
     ]
    }
   ],
   "source": [
    "from figuras import circunferencia\n",
    "help(circunferencia)"
   ]
  },
  {
   "cell_type": "markdown",
   "id": "776b7de4",
   "metadata": {},
   "source": [
    "De la misma manera podemos incluir esta documentación en los paquetes. Para ello, \n",
    "el ``docstring`` debe estar incluido en la primera línea del archivo ``__init__.py`` del \n",
    "paquete. \n",
    "\n",
    "Al ejecutar la instrucción ``help()`` con el nombre del paquete nos devolverá \n",
    "la documentación que hemos escrito. "
   ]
  },
  {
   "cell_type": "code",
   "execution_count": 1,
   "id": "ac936675",
   "metadata": {},
   "outputs": [
    {
     "name": "stdout",
     "output_type": "stream",
     "text": [
      "Help on package figuras:\n",
      "\n",
      "NAME\n",
      "    figuras - Bienvenido a mi primer paquete\n",
      "\n",
      "PACKAGE CONTENTS\n",
      "    circunferencia\n",
      "    poligono\n",
      "\n",
      "FILE\n",
      "    e:\\personal\\fiss-uni\\clase6\\figuras\\__init__.py\n",
      "\n",
      "\n"
     ]
    }
   ],
   "source": [
    "import figuras\n",
    "help(figuras)"
   ]
  },
  {
   "cell_type": "markdown",
   "id": "2d4776d0",
   "metadata": {},
   "source": [
    "#### Ejercicio 3.: Crear sus propios paquetes y modulos, elegir"
   ]
  },
  {
   "cell_type": "markdown",
   "id": "7c59773b",
   "metadata": {},
   "source": [
    "1. Crear un programa principal (notebook) que permita a un estudiante preunicersitario usar las formulas de sus cursos de matematica, es decir, crear los modulos de \n",
    "\n",
    "    * aritmetica\n",
    "    * algebra\n",
    "    * geometria\n",
    "    * trigonometria\n",
    "\n",
    "    que ofrezcan como minimo 5 funciones, las cuales deben estar empaquetadas en el paquete ACADEMIA. Asimismo, se debe presentar el listado de modulos y funciones dentro del paquete.\n",
    "    \n",
    "2. Crear un programa principal (notebook) que permita hacer operaciones basicas de algebra lineal, creando los modulos (minimo 4 funciones)\n",
    "\n",
    "    * vectores2D -> operaciones (suma, resta), prod interno, norma, proyeccion, ortogonal, base, ....\n",
    "    * vectores3D -> operaciones (suma, resta), prod cruz, prod interno, norma, proyeccion, ortogonal, base, ....\n",
    "    * vectoresnD - opcional (n>3) -> operaciones (suma, resta), prod interno, norma, proyeccion, ortogonal, base, ....\n",
    "    \n",
    "    * transformaciones -> crear 4 funciones (transformaciones) lineales T: U->V, U=R^2 o R^3 o R^n\n",
    "    \n",
    "    las cuales deben estar empaquetadas en el paquete VECTORIAL.Asimismo, se debe presentar el listado de modulos y funciones dentro del paquete.\n",
    "    \n",
    "* Usar las tecnicas de documentación."
   ]
  }
 ],
 "metadata": {
  "kernelspec": {
   "display_name": "Python 3 (ipykernel)",
   "language": "python",
   "name": "python3"
  },
  "language_info": {
   "codemirror_mode": {
    "name": "ipython",
    "version": 3
   },
   "file_extension": ".py",
   "mimetype": "text/x-python",
   "name": "python",
   "nbconvert_exporter": "python",
   "pygments_lexer": "ipython3",
   "version": "3.8.11"
  }
 },
 "nbformat": 4,
 "nbformat_minor": 5
}
