{
 "cells": [
  {
   "cell_type": "markdown",
   "id": "bcb75c76",
   "metadata": {},
   "source": [
    "# 1. Introducción y objetivos \n",
    "\n",
    "Ahora, despues de obtener buenos fundamentos de introducción al Python, podemos empezar a ver la superficie de una de las librerias más conocidas de Python, Numpy\n",
    "\n",
    "Primero, veremos porqué numpy es tan importante y que nos ofrece (ndarray).\n",
    "\n",
    "Luego, veremos como estos se pueden trabajar de distintas maneras y como podemos jugar con ellos\n",
    "\n",
    "Trataremos de cubrir todo lo que podamos pues es un tema extenso\n",
    "\n",
    "Al finalizar este tema habremos conseguido los siguientes objetivos: \n",
    "\n",
    "* Conocer como crear ndarrays de numpy.\n",
    "* Aprender a trabajarlos a nuestra manera como nos sea más comodos\n",
    "* Poder operar entre estos objetos. "
   ]
  },
  {
   "cell_type": "markdown",
   "id": "93cfb5a6",
   "metadata": {},
   "source": [
    "# 2. Numpy\n",
    "\n",
    "Numpy proviene de \"Numerical Python\", es una libreria de Python que se usa para trabajar con arrays, estos son muy usados en Ciencia de Datos. \n",
    "\n",
    "Numpy crea un objeto array llamado ndarray que puede ser hasta 50 veces más rápido que las listas en python y dado que incluye muchas funciones que hacen que trabajar con estos nuevos objetos sea mucho más facil.\n",
    "\n",
    "\n",
    "Dado que jupyter notebook viene instalado numpy por defecto, solo tendremos que importarlo en el cuaderno de trabajo para poder usarlo (Si en otro ambiente poseen python y pip instalado, bastaría con instalar numpy con el siguiente comando: ``pip install numpy`` )"
   ]
  },
  {
   "cell_type": "code",
   "execution_count": 1,
   "id": "47218428",
   "metadata": {},
   "outputs": [],
   "source": [
    "import numpy"
   ]
  },
  {
   "cell_type": "markdown",
   "id": "3958a03d",
   "metadata": {},
   "source": [
    "Ahora ya tenemos numpy importado y por lo tanto podemos usarlo inmediatamente. A continuación, veremos como funciona numpy:"
   ]
  },
  {
   "cell_type": "code",
   "execution_count": 5,
   "id": "281df161",
   "metadata": {},
   "outputs": [
    {
     "name": "stdout",
     "output_type": "stream",
     "text": [
      "[2, 3, 5, 7, 11, 13]\n",
      "[ 2  3  5  7 11 13]\n"
     ]
    }
   ],
   "source": [
    "lista = [2,3,5,7,11,13]\n",
    "listan = numpy.array(lista)\n",
    "print(lista)\n",
    "print(listan)"
   ]
  },
  {
   "cell_type": "markdown",
   "id": "76d57700",
   "metadata": {},
   "source": [
    "Para hacer más comodo trabajar con numpy, pues usaremos varias funciones, es muy común darle el alias de ``np``, así: "
   ]
  },
  {
   "cell_type": "code",
   "execution_count": 3,
   "id": "bc804fb8",
   "metadata": {},
   "outputs": [],
   "source": [
    "import numpy as np"
   ]
  },
  {
   "cell_type": "markdown",
   "id": "01f974c9",
   "metadata": {},
   "source": [
    "Ahora podremos usar ``numpy`` como ``np`` "
   ]
  },
  {
   "cell_type": "code",
   "execution_count": 12,
   "id": "f63cfb8a",
   "metadata": {},
   "outputs": [
    {
     "name": "stdout",
     "output_type": "stream",
     "text": [
      "[2, 3, 5, 7, 11, 13]\n",
      "[ 2  3  5  7 11 13]\n"
     ]
    }
   ],
   "source": [
    "lista1 = [2,3,5,7,11,13]\n",
    "lista1n = np.array(lista1)\n",
    "print(lista1)\n",
    "print(lista1n)"
   ]
  },
  {
   "cell_type": "markdown",
   "id": "b763a1eb",
   "metadata": {},
   "source": [
    "Ahora veamos paso por paso como podemos crear arrays y trabajar con ellos\n",
    "en ``numpy``: \n",
    "\n",
    "* ``array()``: Esta función nos permite generar un ndarray para trabajar en numpy a partir de cualquier objeto array como una lista, tuplas, etc:"
   ]
  },
  {
   "cell_type": "markdown",
   "id": "d1a08274",
   "metadata": {},
   "source": [
    "En una lista:"
   ]
  },
  {
   "cell_type": "code",
   "execution_count": 32,
   "id": "080ed308",
   "metadata": {},
   "outputs": [
    {
     "name": "stdout",
     "output_type": "stream",
     "text": [
      "<class 'list'>\n",
      "<class 'numpy.ndarray'>\n",
      "[ 2  3  5  7 11 13]\n"
     ]
    }
   ],
   "source": [
    "lista = [2,3,5,7,11,13]\n",
    "print(type(lista))\n",
    "lista = np.array(lista)\n",
    "print(type(lista))\n",
    "print(lista)"
   ]
  },
  {
   "cell_type": "markdown",
   "id": "058299b5",
   "metadata": {},
   "source": [
    "En una tupla:"
   ]
  },
  {
   "cell_type": "code",
   "execution_count": 33,
   "id": "e8504ea3",
   "metadata": {},
   "outputs": [
    {
     "name": "stdout",
     "output_type": "stream",
     "text": [
      "<class 'tuple'>\n",
      "<class 'numpy.ndarray'>\n",
      "[ 2  3  5  7 11 13]\n"
     ]
    }
   ],
   "source": [
    "lista = (2,3,5,7,11,13)\n",
    "print(type(lista))\n",
    "lista = np.array(lista)\n",
    "print(type(lista))\n",
    "print(lista)"
   ]
  },
  {
   "cell_type": "markdown",
   "id": "6c0fa076",
   "metadata": {},
   "source": [
    "Usarlo en conjuntos genera problemas:"
   ]
  },
  {
   "cell_type": "code",
   "execution_count": 5,
   "id": "46a23333",
   "metadata": {},
   "outputs": [
    {
     "name": "stdout",
     "output_type": "stream",
     "text": [
      "<class 'numpy.ndarray'>\n",
      "{2, 3, 5, 7, 11, 13}\n"
     ]
    }
   ],
   "source": [
    "lista = {2,3,5,7,11,13}\n",
    "lista = np.array(lista)\n",
    "print(type(lista))\n",
    "print(lista)"
   ]
  },
  {
   "cell_type": "markdown",
   "id": "d87b356f",
   "metadata": {},
   "source": [
    "Usarlo en strings no funciona como se podría pensar:"
   ]
  },
  {
   "cell_type": "code",
   "execution_count": 43,
   "id": "d87a6b6d",
   "metadata": {},
   "outputs": [
    {
     "name": "stdout",
     "output_type": "stream",
     "text": [
      "r\n",
      "u\n",
      "n\n",
      "r\n",
      "u\n",
      "n\n"
     ]
    }
   ],
   "source": [
    "for i in \"runrun\":\n",
    "    print(i)"
   ]
  },
  {
   "cell_type": "code",
   "execution_count": 42,
   "id": "841f11ca",
   "metadata": {},
   "outputs": [
    {
     "name": "stdout",
     "output_type": "stream",
     "text": [
      "<class 'str'>\n",
      "<class 'numpy.ndarray'>\n",
      "RunRun\n"
     ]
    }
   ],
   "source": [
    "lista = \"RunRun\"\n",
    "print(type(lista))\n",
    "lista = numpy.array(lista)\n",
    "print(type(lista))\n",
    "print(lista)"
   ]
  },
  {
   "cell_type": "markdown",
   "id": "87ab60b9",
   "metadata": {},
   "source": [
    "Índices (*Indexing*): con ellos podemos obtener elementos de los arrays, recordar que en numpy al igual que en Python los índices empiezan en 0"
   ]
  },
  {
   "cell_type": "code",
   "execution_count": 50,
   "id": "d92aae97",
   "metadata": {},
   "outputs": [
    {
     "name": "stdout",
     "output_type": "stream",
     "text": [
      "2\n",
      "13\n",
      "13\n"
     ]
    }
   ],
   "source": [
    "lista = np.array([2,3,5,7,11,13])\n",
    "print(lista[0])\n",
    "print(lista[5])\n",
    "print(lista[-1])"
   ]
  },
  {
   "cell_type": "markdown",
   "id": "33d9eab1",
   "metadata": {},
   "source": [
    "Ahora, crearemos estos arrays pero para más dimensiones."
   ]
  },
  {
   "cell_type": "markdown",
   "id": "df3bf30d",
   "metadata": {},
   "source": [
    "Veamos para una 2-Dimensional (podremos pensar en estos como una tabla con filas y columnas, como si fuera una matriz):"
   ]
  },
  {
   "cell_type": "code",
   "execution_count": 53,
   "id": "cd1935a2",
   "metadata": {},
   "outputs": [
    {
     "name": "stdout",
     "output_type": "stream",
     "text": [
      "[[ 1  3  5  7  9]\n",
      " [ 2  4  6  8 10]]\n"
     ]
    }
   ],
   "source": [
    "matri = np.array([[1,3,5,7,9], [2,4,6,8,10]])\n",
    "print(matri)"
   ]
  },
  {
   "cell_type": "markdown",
   "id": "ca5162b0",
   "metadata": {},
   "source": [
    "Los indices ahora serán 2, mostremos el valor de la fila 2 y columna 4"
   ]
  },
  {
   "cell_type": "code",
   "execution_count": 55,
   "id": "84da269c",
   "metadata": {},
   "outputs": [
    {
     "data": {
      "text/plain": [
       "8"
      ]
     },
     "execution_count": 55,
     "metadata": {},
     "output_type": "execute_result"
    }
   ],
   "source": [
    "matri[1,3]"
   ]
  },
  {
   "cell_type": "markdown",
   "id": "6e5c2871",
   "metadata": {},
   "source": [
    "Para un array 3-Dimensional, pues la idea es natural: ahora necesitaremos especificar 3 valores:"
   ]
  },
  {
   "cell_type": "code",
   "execution_count": 56,
   "id": "7eaeee7c",
   "metadata": {},
   "outputs": [],
   "source": [
    "var = np.array([[[1,3,5,7,9], [2,4,6,8,10]],[[2,3,5,7,11],[13,17,19,23,29]]])"
   ]
  },
  {
   "cell_type": "code",
   "execution_count": 61,
   "id": "fa266950",
   "metadata": {},
   "outputs": [
    {
     "name": "stdout",
     "output_type": "stream",
     "text": [
      "[[[ 1  3  5  7  9]\n",
      "  [ 2  4  6  8 10]]\n",
      "\n",
      " [[ 2  3  5  7 11]\n",
      "  [13 17 19 23 29]]]\n"
     ]
    }
   ],
   "source": [
    "print(var)"
   ]
  },
  {
   "cell_type": "code",
   "execution_count": 57,
   "id": "356417f0",
   "metadata": {},
   "outputs": [
    {
     "data": {
      "text/plain": [
       "1"
      ]
     },
     "execution_count": 57,
     "metadata": {},
     "output_type": "execute_result"
    }
   ],
   "source": [
    "var[0,0,0]"
   ]
  },
  {
   "cell_type": "code",
   "execution_count": 59,
   "id": "1e640210",
   "metadata": {},
   "outputs": [
    {
     "data": {
      "text/plain": [
       "29"
      ]
     },
     "execution_count": 59,
     "metadata": {},
     "output_type": "execute_result"
    }
   ],
   "source": [
    "var[1,1,4]"
   ]
  },
  {
   "cell_type": "code",
   "execution_count": 60,
   "id": "90c573a2",
   "metadata": {},
   "outputs": [
    {
     "data": {
      "text/plain": [
       "8"
      ]
     },
     "execution_count": 60,
     "metadata": {},
     "output_type": "execute_result"
    }
   ],
   "source": [
    "var[0,1,3]"
   ]
  },
  {
   "cell_type": "markdown",
   "id": "4d2f4de9",
   "metadata": {},
   "source": [
    "Explicación:\n",
    "<br/><br/><br/><br/><br/><br/><br/><br/><br/><br/><br/><br/><br/><br/><br/><br/><br/><br/><br/><br/><br/><br/><br/><br/>"
   ]
  },
  {
   "cell_type": "markdown",
   "id": "6b96758b",
   "metadata": {},
   "source": [
    "* Rebanadas (*Slicing*): Con estos podemos tomar conjuntos de elementos desde un índice hasta otro en cualquier array.\n",
    "Podemos pasarlo de este tipo:\n",
    "``[inicio:fin]``\n",
    "De esta manera tomamos todos los elementos desde el inicio hasta el fin sin considerarlo\n",
    "\n",
    "``[inicio:fin:salto(paso)]`` De esta manera especificamos los pasos:\n",
    "\n",
    "* Si no especificamos el inicio, entonces empieza desde 0\n",
    "\n",
    "* si no especificamos el fin, entonces nos dá todos los indices desde el inicio especificado\n",
    "\n",
    "* si no especificamos el paso, entonces lo considera como 1"
   ]
  },
  {
   "cell_type": "code",
   "execution_count": 9,
   "id": "1346792f",
   "metadata": {},
   "outputs": [
    {
     "data": {
      "text/plain": [
       "array([3, 5, 7])"
      ]
     },
     "execution_count": 9,
     "metadata": {},
     "output_type": "execute_result"
    }
   ],
   "source": [
    "lista = np.array([2,3,5,7,11,13])\n",
    "lista[1:4]"
   ]
  },
  {
   "cell_type": "code",
   "execution_count": 7,
   "id": "9965fe83",
   "metadata": {},
   "outputs": [],
   "source": [
    "# for i in range(1,4):\n",
    "#   print(i)"
   ]
  },
  {
   "cell_type": "code",
   "execution_count": 13,
   "id": "be4a83c0",
   "metadata": {},
   "outputs": [
    {
     "data": {
      "text/plain": [
       "array([ 5,  7, 11, 13])"
      ]
     },
     "execution_count": 13,
     "metadata": {},
     "output_type": "execute_result"
    }
   ],
   "source": [
    "lista[-4:]"
   ]
  },
  {
   "cell_type": "code",
   "execution_count": 84,
   "id": "d589f71e",
   "metadata": {},
   "outputs": [
    {
     "data": {
      "text/plain": [
       "array([ 2,  3,  5,  7, 11, 13])"
      ]
     },
     "execution_count": 84,
     "metadata": {},
     "output_type": "execute_result"
    }
   ],
   "source": [
    "lista[:]"
   ]
  },
  {
   "cell_type": "code",
   "execution_count": 14,
   "id": "cd0fca42",
   "metadata": {},
   "outputs": [
    {
     "data": {
      "text/plain": [
       "array([[ 1,  3,  5,  7,  9],\n",
       "       [ 2,  4,  6,  8, 10]])"
      ]
     },
     "execution_count": 14,
     "metadata": {},
     "output_type": "execute_result"
    }
   ],
   "source": [
    "var = np.array([[[1,3,5,7,9], [2,4,6,8,10]],[[2,3,5,7,11],[13,17,19,23,29]]])\n",
    "var[0, : , : ]"
   ]
  },
  {
   "cell_type": "markdown",
   "id": "7e978ced",
   "metadata": {},
   "source": [
    "Tipos de Datos en Numpy:\n",
    "* ``i`` - integer\n",
    "* ``b`` - boolean\n",
    "* ``u`` - unsigned integer\n",
    "* ``f`` - float\n",
    "* ``c`` - complex float\n",
    "* ``O`` - object\n",
    "* ``S`` - string\n",
    "* ``m`` - timedelta\n",
    "* ``M`` - datetime\n",
    "* ``U`` - unicode string\n",
    "* ``V`` - fixed chunk of memory for other type ( void )"
   ]
  },
  {
   "cell_type": "code",
   "execution_count": 86,
   "id": "bbf10b54",
   "metadata": {},
   "outputs": [
    {
     "data": {
      "text/plain": [
       "dtype('int32')"
      ]
     },
     "execution_count": 86,
     "metadata": {},
     "output_type": "execute_result"
    }
   ],
   "source": [
    "lista = np.array([2,3,5,7,11,13])\n",
    "lista.dtype"
   ]
  },
  {
   "cell_type": "code",
   "execution_count": 16,
   "id": "c7dc74a4",
   "metadata": {},
   "outputs": [
    {
     "data": {
      "text/plain": [
       "dtype('<U6')"
      ]
     },
     "execution_count": 16,
     "metadata": {},
     "output_type": "execute_result"
    }
   ],
   "source": [
    "ejem = np.array([\"Hola\",\"quetal\",\"es\",\"un\",\"ejempl\"])\n",
    "ejem.dtype"
   ]
  },
  {
   "cell_type": "code",
   "execution_count": 20,
   "id": "3d590e55",
   "metadata": {},
   "outputs": [
    {
     "data": {
      "text/plain": [
       "dtype('<U32')"
      ]
     },
     "execution_count": 20,
     "metadata": {},
     "output_type": "execute_result"
    }
   ],
   "source": [
    "ejem = np.array([\"Hola\",\"quetal\",\"es\",\"un\",\"ejempl\", 5.5])\n",
    "ejem.dtype"
   ]
  },
  {
   "cell_type": "markdown",
   "id": "a292aa7d",
   "metadata": {},
   "source": [
    "* Copy vs View: \n",
    "Hay dos métodos con los que podemos trabajar dado un array fijo. "
   ]
  },
  {
   "cell_type": "markdown",
   "id": "d77d963f",
   "metadata": {},
   "source": [
    "* Copy: creamos una copia exacta del array con el cual podemos manejar y no afectará al array original y viceversa, se dice que posee la data\n",
    "* View: vemos el array, los cambios en el view afectarán al array original y viceversa, no posee la data.\n"
   ]
  },
  {
   "cell_type": "code",
   "execution_count": 26,
   "id": "897938f0",
   "metadata": {},
   "outputs": [],
   "source": [
    "lista = np.array([2,3,5,7,11,13])\n",
    "x = lista.copy()"
   ]
  },
  {
   "cell_type": "code",
   "execution_count": 27,
   "id": "b5f45c53",
   "metadata": {},
   "outputs": [
    {
     "data": {
      "text/plain": [
       "array([ 2,  3,  5,  7, 11, 13])"
      ]
     },
     "execution_count": 27,
     "metadata": {},
     "output_type": "execute_result"
    }
   ],
   "source": [
    "x"
   ]
  },
  {
   "cell_type": "code",
   "execution_count": 28,
   "id": "2886f743",
   "metadata": {},
   "outputs": [
    {
     "data": {
      "text/plain": [
       "array([ 2,  1,  5,  7, 11, 13])"
      ]
     },
     "execution_count": 28,
     "metadata": {},
     "output_type": "execute_result"
    }
   ],
   "source": [
    "x[1] = 1\n",
    "x"
   ]
  },
  {
   "cell_type": "code",
   "execution_count": 25,
   "id": "264ff053",
   "metadata": {},
   "outputs": [
    {
     "data": {
      "text/plain": [
       "array([ 2,  3,  5,  7, 11, 13])"
      ]
     },
     "execution_count": 25,
     "metadata": {},
     "output_type": "execute_result"
    }
   ],
   "source": [
    "lista"
   ]
  },
  {
   "cell_type": "code",
   "execution_count": 39,
   "id": "d737133a",
   "metadata": {},
   "outputs": [],
   "source": [
    "lista = np.array([2,3,5,7,11,13])\n",
    "x = lista.view()"
   ]
  },
  {
   "cell_type": "code",
   "execution_count": 40,
   "id": "579eabe8",
   "metadata": {},
   "outputs": [
    {
     "data": {
      "text/plain": [
       "array([ 2,  3,  5,  7, 11, 13])"
      ]
     },
     "execution_count": 40,
     "metadata": {},
     "output_type": "execute_result"
    }
   ],
   "source": [
    "x"
   ]
  },
  {
   "cell_type": "code",
   "execution_count": 41,
   "id": "34218c36",
   "metadata": {},
   "outputs": [
    {
     "data": {
      "text/plain": [
       "array([15,  3,  5,  7, 11, 13])"
      ]
     },
     "execution_count": 41,
     "metadata": {},
     "output_type": "execute_result"
    }
   ],
   "source": [
    "x[0] = 15\n",
    "x"
   ]
  },
  {
   "cell_type": "code",
   "execution_count": 42,
   "id": "27bbe7a5",
   "metadata": {},
   "outputs": [
    {
     "data": {
      "text/plain": [
       "array([15,  3,  5,  7, 11, 13])"
      ]
     },
     "execution_count": 42,
     "metadata": {},
     "output_type": "execute_result"
    }
   ],
   "source": [
    "lista"
   ]
  },
  {
   "cell_type": "code",
   "execution_count": 44,
   "id": "86d07cba",
   "metadata": {},
   "outputs": [
    {
     "data": {
      "text/plain": [
       "array([15,  3,  5,  7, 11, 13])"
      ]
     },
     "execution_count": 44,
     "metadata": {},
     "output_type": "execute_result"
    }
   ],
   "source": [
    "x = lista.view()\n",
    "x"
   ]
  },
  {
   "cell_type": "markdown",
   "id": "3678f81b",
   "metadata": {},
   "source": [
    "Podemos ver que son si usamos ``.base``, si sale ``None``, entonces es un array que posee los datos. Sino, nos devolverá de done provinene los datos"
   ]
  },
  {
   "cell_type": "code",
   "execution_count": 45,
   "id": "33530477",
   "metadata": {},
   "outputs": [
    {
     "name": "stdout",
     "output_type": "stream",
     "text": [
      "[ 2  3  5  7 11 13]\n",
      "None\n"
     ]
    }
   ],
   "source": [
    "lista = np.array([2,3,5,7,11,13])\n",
    "x = lista.view()\n",
    "y = lista.copy()\n",
    "print(x.base)\n",
    "print(y.base)"
   ]
  },
  {
   "cell_type": "markdown",
   "id": "dc967647",
   "metadata": {},
   "source": [
    "* ``.ndim`` :  Nos indica las dimensiones del ndarray"
   ]
  },
  {
   "cell_type": "code",
   "execution_count": 46,
   "id": "3e4cffc6",
   "metadata": {
    "scrolled": true
   },
   "outputs": [
    {
     "data": {
      "text/plain": [
       "1"
      ]
     },
     "execution_count": 46,
     "metadata": {},
     "output_type": "execute_result"
    }
   ],
   "source": [
    "lista = np.array([2,3,5,7,11,13])\n",
    "lista.ndim"
   ]
  },
  {
   "cell_type": "code",
   "execution_count": 48,
   "id": "9371b19a",
   "metadata": {},
   "outputs": [
    {
     "data": {
      "text/plain": [
       "1"
      ]
     },
     "execution_count": 48,
     "metadata": {},
     "output_type": "execute_result"
    }
   ],
   "source": [
    "otro = np.array([1,2,3])\n",
    "otro.ndim"
   ]
  },
  {
   "cell_type": "code",
   "execution_count": 47,
   "id": "ff36d835",
   "metadata": {},
   "outputs": [
    {
     "data": {
      "text/plain": [
       "3"
      ]
     },
     "execution_count": 47,
     "metadata": {},
     "output_type": "execute_result"
    }
   ],
   "source": [
    "var = np.array([[[1,3,5,7,9], [2,4,6,8,10]],[[2,3,5,7,11],[13,17,19,23,29]]])\n",
    "var.ndim"
   ]
  },
  {
   "cell_type": "markdown",
   "id": "570dc40e",
   "metadata": {},
   "source": [
    "* ``.shape`` : si la usamos en un array, nos devolverá una tupla con la cantidad de elementos en cada dimensión"
   ]
  },
  {
   "cell_type": "code",
   "execution_count": 149,
   "id": "3fb87cea",
   "metadata": {},
   "outputs": [
    {
     "data": {
      "text/plain": [
       "(6,)"
      ]
     },
     "execution_count": 149,
     "metadata": {},
     "output_type": "execute_result"
    }
   ],
   "source": [
    "lista = np.array([2,3,5,7,11,13])\n",
    "lista.shape"
   ]
  },
  {
   "cell_type": "code",
   "execution_count": 49,
   "id": "9fd14a47",
   "metadata": {},
   "outputs": [
    {
     "data": {
      "text/plain": [
       "(2, 5)"
      ]
     },
     "execution_count": 49,
     "metadata": {},
     "output_type": "execute_result"
    }
   ],
   "source": [
    "matri = np.array([    [1,3,5,7,9], [2,4,6,8,10]     ])\n",
    "matri.shape"
   ]
  },
  {
   "cell_type": "code",
   "execution_count": 154,
   "id": "f296f647",
   "metadata": {},
   "outputs": [
    {
     "data": {
      "text/plain": [
       "(2, 2, 5)"
      ]
     },
     "execution_count": 154,
     "metadata": {},
     "output_type": "execute_result"
    }
   ],
   "source": [
    "var = np.array([[[1,3,5,7,9], [2,4,6,8,10]],[[2,3,5,7,11],[13,17,19,23,29]] ])\n",
    "var.shape"
   ]
  },
  {
   "cell_type": "markdown",
   "id": "ec3aa8b7",
   "metadata": {},
   "source": [
    "* ``.reshape`` : si la usamos en un array, podemos cambiar la forma (shape) de este, podemos agregar o reducir las dimensiones\n",
    "    o cambiar la cantidad de elementos por dimensión"
   ]
  },
  {
   "cell_type": "code",
   "execution_count": 157,
   "id": "8073697c",
   "metadata": {},
   "outputs": [
    {
     "data": {
      "text/plain": [
       "array([[ 2,  3],\n",
       "       [ 5,  7],\n",
       "       [11, 13]])"
      ]
     },
     "execution_count": 157,
     "metadata": {},
     "output_type": "execute_result"
    }
   ],
   "source": [
    "lista = np.array([2,3,5,7,11,13])\n",
    "lista.reshape(3,2)"
   ]
  },
  {
   "cell_type": "code",
   "execution_count": 158,
   "id": "7e26eabe",
   "metadata": {},
   "outputs": [
    {
     "data": {
      "text/plain": [
       "array([[ 2,  3,  5],\n",
       "       [ 7, 11, 13]])"
      ]
     },
     "execution_count": 158,
     "metadata": {},
     "output_type": "execute_result"
    }
   ],
   "source": [
    "lista = np.array([2,3,5,7,11,13])\n",
    "lista.reshape(2,3)"
   ]
  },
  {
   "cell_type": "code",
   "execution_count": 50,
   "id": "caa52537",
   "metadata": {},
   "outputs": [
    {
     "data": {
      "text/plain": [
       "array([[[ 2,  3],\n",
       "        [ 5,  7]],\n",
       "\n",
       "       [[11, 13],\n",
       "        [15, 17]]])"
      ]
     },
     "execution_count": 50,
     "metadata": {},
     "output_type": "execute_result"
    }
   ],
   "source": [
    "lista = np.array([2,3,5,7,11,13,15,17])\n",
    "lista.reshape(2,2,2)"
   ]
  },
  {
   "cell_type": "markdown",
   "id": "711fccc7",
   "metadata": {},
   "source": [
    "Podremos cambiar a cualquier forma siempre y cuando se mantegan la cantidad de elementos"
   ]
  },
  {
   "cell_type": "markdown",
   "id": "800f57aa",
   "metadata": {},
   "source": [
    "Dado que se cumple esa propiedad, podemos no especificar un valor para una dimensión y aún asi funcionará (lo llenamos con -1 y Numpy hará el resto)"
   ]
  },
  {
   "cell_type": "code",
   "execution_count": 171,
   "id": "aa35dc62",
   "metadata": {
    "scrolled": true
   },
   "outputs": [
    {
     "name": "stdout",
     "output_type": "stream",
     "text": [
      "[[[ 2  3]\n",
      "  [ 5  7]]\n",
      "\n",
      " [[11 13]\n",
      "  [17 19]]]\n"
     ]
    }
   ],
   "source": [
    "lista = np.array([2,3,5,7,11,13,17,19])\n",
    "x = lista.reshape(2,2,-1)\n",
    "print(x)"
   ]
  },
  {
   "cell_type": "markdown",
   "id": "f130545a",
   "metadata": {},
   "source": [
    "Podemos convertir un array cualquiera a 1-dimensional de esta forma:"
   ]
  },
  {
   "cell_type": "code",
   "execution_count": 172,
   "id": "9e569248",
   "metadata": {},
   "outputs": [
    {
     "data": {
      "text/plain": [
       "array([ 2,  3,  5,  7, 11, 13, 17, 19])"
      ]
     },
     "execution_count": 172,
     "metadata": {},
     "output_type": "execute_result"
    }
   ],
   "source": [
    "x.reshape(-1)"
   ]
  },
  {
   "cell_type": "markdown",
   "id": "68747a41",
   "metadata": {},
   "source": [
    "Como veremos a continuación, el resultado es un tipo view"
   ]
  },
  {
   "cell_type": "code",
   "execution_count": 173,
   "id": "d7925840",
   "metadata": {},
   "outputs": [
    {
     "name": "stdout",
     "output_type": "stream",
     "text": [
      "[ 2  3  5  7 11 13 17 19]\n"
     ]
    }
   ],
   "source": [
    "lista = np.array([2,3,5,7,11,13,17,19])\n",
    "x = lista.reshape(2,2,2)\n",
    "print(x.base) "
   ]
  },
  {
   "cell_type": "markdown",
   "id": "24c194c1",
   "metadata": {},
   "source": [
    "* Iteración: podemos iterar en estos arrays y el resultado dependerá de la cantidad de For s que usemos"
   ]
  },
  {
   "cell_type": "code",
   "execution_count": 174,
   "id": "82f9fec9",
   "metadata": {},
   "outputs": [
    {
     "name": "stdout",
     "output_type": "stream",
     "text": [
      "[1 3 5 7 9]\n",
      "[ 2  4  6  8 10]\n"
     ]
    }
   ],
   "source": [
    "matri = np.array([[1,3,5,7,9], [2,4,6,8,10]])\n",
    "for i in matri:\n",
    "    print(i)"
   ]
  },
  {
   "cell_type": "code",
   "execution_count": 175,
   "id": "6451555d",
   "metadata": {},
   "outputs": [
    {
     "name": "stdout",
     "output_type": "stream",
     "text": [
      "1\n",
      "3\n",
      "5\n",
      "7\n",
      "9\n",
      "2\n",
      "4\n",
      "6\n",
      "8\n",
      "10\n"
     ]
    }
   ],
   "source": [
    "matri = np.array([[1,3,5,7,9], [2,4,6,8,10]])\n",
    "for i in matri:\n",
    "    for j in i:\n",
    "        print(j)"
   ]
  },
  {
   "cell_type": "markdown",
   "id": "bc39cb93",
   "metadata": {},
   "source": [
    "* Podemos Juntar varios arrays usando la función ``np.concatenate`` junto que dimensión vamos a considerar para unirlos, si no se especifica usará 0 por defecto:"
   ]
  },
  {
   "cell_type": "code",
   "execution_count": 190,
   "id": "607d5e35",
   "metadata": {},
   "outputs": [
    {
     "name": "stdout",
     "output_type": "stream",
     "text": [
      "[ 1  3  5  7  9  2  4  6  8 10]\n"
     ]
    }
   ],
   "source": [
    "l = np.array([1,3,5,7,9])\n",
    "v = np.array([2,4,6,8,10])\n",
    "arr = np.concatenate((l,v),0)\n",
    "print(arr)"
   ]
  },
  {
   "cell_type": "code",
   "execution_count": 55,
   "id": "c7d89657",
   "metadata": {},
   "outputs": [
    {
     "name": "stdout",
     "output_type": "stream",
     "text": [
      "[[ 1  3  5  7  9 11 13 15 17 19]\n",
      " [ 2  4  6  8 10 12 14 16 18 20]]\n"
     ]
    }
   ],
   "source": [
    "m1= np.array([[1,3,5,7,9], [2,4,6,8,10]])\n",
    "\n",
    "m2= np.array([[11,13,15,17,19], [12,14,16,18,20]])\n",
    "\n",
    "arr = np.concatenate((m1, m2), axis=1)\n",
    "\n",
    "print(arr)"
   ]
  },
  {
   "cell_type": "markdown",
   "id": "c45b31ad",
   "metadata": {},
   "source": [
    "* Si por otro lado queremos unirlos pero agregando otra dimensión, usaremos ``np.stack``"
   ]
  },
  {
   "cell_type": "code",
   "execution_count": 57,
   "id": "28fd0e6a",
   "metadata": {},
   "outputs": [
    {
     "name": "stdout",
     "output_type": "stream",
     "text": [
      "[[ 1  2]\n",
      " [ 3  4]\n",
      " [ 5  6]\n",
      " [ 7  8]\n",
      " [ 9 10]]\n"
     ]
    }
   ],
   "source": [
    "l = np.array([1,3,5,7,9])\n",
    "v = np.array([2,4,6,8,10])\n",
    "arr = np.stack((l,v),1)\n",
    "print(arr)"
   ]
  },
  {
   "cell_type": "markdown",
   "id": "a3a099f2",
   "metadata": {},
   "source": [
    "* Podemos separar el array en varios usando ``np.array_split()``, el resultado será un array que contenga los arrays separados, si la cantidad de elementos no da para hacer una buena repartición, el ultimo array se adaptará"
   ]
  },
  {
   "cell_type": "code",
   "execution_count": 209,
   "id": "89a583db",
   "metadata": {},
   "outputs": [
    {
     "name": "stdout",
     "output_type": "stream",
     "text": [
      "[array([2, 3, 5]), array([ 7, 11, 13]), array([17, 19])]\n"
     ]
    }
   ],
   "source": [
    "lista = np.array([2,3,5,7,11,13,17,19])\n",
    "listap = np.array_split(lista,3)\n",
    "print(listap)"
   ]
  },
  {
   "cell_type": "code",
   "execution_count": 59,
   "id": "36a7346b",
   "metadata": {},
   "outputs": [
    {
     "name": "stdout",
     "output_type": "stream",
     "text": [
      "[array([[1, 3, 5, 7, 9]]), array([[ 2,  4,  6,  8, 10]])]\n"
     ]
    }
   ],
   "source": [
    "m1= np.array([[1,3,5,7,9], [2,4,6,8,10]])\n",
    "arr = np.array_split(m1,2)\n",
    "print(arr)"
   ]
  },
  {
   "cell_type": "code",
   "execution_count": 219,
   "id": "c7794913",
   "metadata": {},
   "outputs": [
    {
     "name": "stdout",
     "output_type": "stream",
     "text": [
      "[array([[1, 2],\n",
      "       [3, 4]]), array([[5, 6],\n",
      "       [7, 8]]), array([[ 9, 10],\n",
      "       [11, 12]])]\n"
     ]
    }
   ],
   "source": [
    "arr = np.array([[1, 2], [3, 4], [5, 6], [7, 8], [9, 10], [11, 12]])\n",
    "\n",
    "newarr = np.array_split(arr, 3)\n",
    "\n",
    "print(newarr)"
   ]
  },
  {
   "cell_type": "code",
   "execution_count": 220,
   "id": "e1ebb954",
   "metadata": {},
   "outputs": [
    {
     "name": "stdout",
     "output_type": "stream",
     "text": [
      "[array([[1, 2, 3],\n",
      "       [4, 5, 6]]), array([[ 7,  8,  9],\n",
      "       [10, 11, 12]]), array([[13, 14, 15],\n",
      "       [16, 17, 18]])]\n"
     ]
    }
   ],
   "source": [
    "arr = np.array([[1, 2, 3], [4, 5, 6], [7, 8, 9], [10, 11, 12], [13, 14, 15], [16, 17, 18]])\n",
    "\n",
    "newarr = np.array_split(arr, 3)\n",
    "\n",
    "print(newarr)"
   ]
  },
  {
   "cell_type": "markdown",
   "id": "6a4427a8",
   "metadata": {},
   "source": [
    "Se puede especificar bajo que eje queremos realizar el split"
   ]
  },
  {
   "cell_type": "code",
   "execution_count": 61,
   "id": "5897bf9f",
   "metadata": {},
   "outputs": [
    {
     "name": "stdout",
     "output_type": "stream",
     "text": [
      "[array([[ 1],\n",
      "       [ 4],\n",
      "       [ 7],\n",
      "       [10],\n",
      "       [13],\n",
      "       [16]]), array([[ 2],\n",
      "       [ 5],\n",
      "       [ 8],\n",
      "       [11],\n",
      "       [14],\n",
      "       [17]]), array([[ 3],\n",
      "       [ 6],\n",
      "       [ 9],\n",
      "       [12],\n",
      "       [15],\n",
      "       [18]])]\n"
     ]
    }
   ],
   "source": [
    "arr = np.array([[1, 2, 3], [4, 5, 6], [7, 8, 9], [10, 11, 12], [13, 14, 15], [16, 17, 18]])\n",
    "\n",
    "newarr = np.array_split(arr, 3, axis = 1)\n",
    "\n",
    "print(newarr)"
   ]
  },
  {
   "cell_type": "markdown",
   "id": "7983dc4a",
   "metadata": {},
   "source": [
    "``np.where()``"
   ]
  },
  {
   "cell_type": "code",
   "execution_count": 70,
   "id": "c58a9567",
   "metadata": {},
   "outputs": [
    {
     "data": {
      "text/plain": [
       "(array([ 1,  2,  4,  6,  8, 10], dtype=int64),)"
      ]
     },
     "execution_count": 70,
     "metadata": {},
     "output_type": "execute_result"
    }
   ],
   "source": [
    "lista = np.array([1,2,8,23,44,545,16,71,8,9,10])\n",
    "\n",
    "x = np.where(lista%2== 0)\n",
    "x"
   ]
  },
  {
   "cell_type": "markdown",
   "id": "202baed6",
   "metadata": {},
   "source": [
    "``np.sort()``"
   ]
  },
  {
   "cell_type": "code",
   "execution_count": 74,
   "id": "9c33a210",
   "metadata": {},
   "outputs": [
    {
     "data": {
      "text/plain": [
       "array([  1,   2,   8,   8,   9,  10,  16,  23,  44,  71, 545])"
      ]
     },
     "execution_count": 74,
     "metadata": {},
     "output_type": "execute_result"
    }
   ],
   "source": [
    "np.sort(lista)"
   ]
  },
  {
   "cell_type": "code",
   "execution_count": 77,
   "id": "3c5d005a",
   "metadata": {},
   "outputs": [],
   "source": [
    "A = np.array([[1, 0, 0], [0, 1, 0], [0, 0, 2]])"
   ]
  },
  {
   "cell_type": "code",
   "execution_count": 78,
   "id": "757f76bc",
   "metadata": {},
   "outputs": [
    {
     "data": {
      "text/plain": [
       "array([[1. , 0. , 0. ],\n",
       "       [0. , 1. , 0. ],\n",
       "       [0. , 0. , 0.5]])"
      ]
     },
     "execution_count": 78,
     "metadata": {},
     "output_type": "execute_result"
    }
   ],
   "source": [
    "np.linalg.inv(A)"
   ]
  },
  {
   "cell_type": "code",
   "execution_count": 79,
   "id": "dc9f2999",
   "metadata": {},
   "outputs": [
    {
     "data": {
      "text/plain": [
       "array([[0.84147098, 0.        , 0.        ],\n",
       "       [0.        , 0.84147098, 0.        ],\n",
       "       [0.        , 0.        , 0.90929743]])"
      ]
     },
     "execution_count": 79,
     "metadata": {},
     "output_type": "execute_result"
    }
   ],
   "source": [
    "np.sin(A)"
   ]
  },
  {
   "cell_type": "code",
   "execution_count": null,
   "id": "0ef9a696",
   "metadata": {},
   "outputs": [],
   "source": []
  }
 ],
 "metadata": {
  "kernelspec": {
   "display_name": "Python 3",
   "language": "python",
   "name": "python3"
  },
  "language_info": {
   "codemirror_mode": {
    "name": "ipython",
    "version": 3
   },
   "file_extension": ".py",
   "mimetype": "text/x-python",
   "name": "python",
   "nbconvert_exporter": "python",
   "pygments_lexer": "ipython3",
   "version": "3.8.8"
  }
 },
 "nbformat": 4,
 "nbformat_minor": 5
}
