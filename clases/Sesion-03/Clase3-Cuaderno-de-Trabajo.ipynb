{
 "cells": [
  {
   "cell_type": "markdown",
   "id": "f7c38a90",
   "metadata": {},
   "source": [
    "# Ejercicio 1\n",
    "\n",
    "1. Haciendo uso de strings dibujar la siguiente flecha o escribir tu nombre\n",
    "\n",
    "\n",
    "\n"
   ]
  },
  {
   "cell_type": "code",
   "execution_count": null,
   "id": "85a708db",
   "metadata": {},
   "outputs": [],
   "source": [
    "     *\n",
    "    * *\n",
    "   *   *\n",
    "  *     *\n",
    " *       *\n",
    "***     ***\n",
    "  *     *\n",
    "  *     *\n",
    "  *     *\n",
    "  *     *\n",
    "  *     *\n",
    "  *******\n",
    "  \n",
    "  \n",
    "  *********   *\n",
    "  *           *\n",
    "  *           *\n",
    "  *           * \n",
    "  *********   *******\n"
   ]
  },
  {
   "cell_type": "code",
   "execution_count": 42,
   "id": "6d06ee9f",
   "metadata": {},
   "outputs": [
    {
     "name": "stdout",
     "output_type": "stream",
     "text": [
      "     *\n",
      "    * *\n",
      "   *   *\n",
      "  *     *\n",
      " *       *\n",
      "***     ***\n",
      "  *     *\n",
      "  *     *\n",
      "  *     *\n",
      "  *     *\n",
      "  *     *\n",
      "  ******* \n"
     ]
    }
   ],
   "source": [
    "print(' '*5 + '*' + ''*5)\n",
    "print(' '*4 + '*' + ' '*1 + '*' + ''*4)\n",
    "print(' '*3 + '*' + ' '*3 + '*' + ''*3)\n",
    "print(' '*2 + '*' + ' '*5 + '*' + ''*2)\n",
    "print(' '*1 + '*' + ' '*7 + '*' + ''*1)\n",
    "print('*'*3 + ' '*5 + '*'*3)\n",
    "print(' '*2 + '*' + ' '*5 +'*')\n",
    "print(' '*2 + '*' + ' '*5 +'*')\n",
    "print(' '*2 + '*' + ' '*5 +'*')\n",
    "print(' '*2 + '*' + ' '*5 +'*')\n",
    "print(' '*2 + '*' + ' '*5 +'*')\n",
    "print(' '*2 + '*'*7 + ' ')"
   ]
  },
  {
   "cell_type": "code",
   "execution_count": 65,
   "id": "8f8882fe",
   "metadata": {},
   "outputs": [
    {
     "name": "stdout",
     "output_type": "stream",
     "text": [
      "sss\n",
      "ssss\n",
      "sss\n",
      "sss\n",
      "\n"
     ]
    }
   ],
   "source": [
    "print(\"\"\"sss\n",
    "ssss\n",
    "sss\n",
    "sss\n",
    "\"\"\")"
   ]
  },
  {
   "cell_type": "code",
   "execution_count": 75,
   "id": "169e2f21",
   "metadata": {},
   "outputs": [
    {
     "name": "stdout",
     "output_type": "stream",
     "text": [
      "Hola\n",
      "Hola\n",
      "H'o'l'a\n",
      "H\"ol\"a\n",
      "H\n",
      "o\n",
      "l\n",
      "a\n",
      "Hola\n"
     ]
    }
   ],
   "source": [
    "print('Hola')\n",
    "print(\"Hola\")\n",
    "print(\"H'o'l'a\")\n",
    "print('H\"ol\"a')\n",
    "print('H\\no\\nl\\na')\n",
    "print('Hola')"
   ]
  },
  {
   "cell_type": "markdown",
   "id": "813d3bf1",
   "metadata": {},
   "source": [
    "2. Haciendo uso de listas, debes registrar tus datos (nombres, apellidos, edad, dni) y generar las consultas para cada uno de ellos, luego adicionar tu dirección, luego remover tu edad e ingresar tu fecha de nacimiento. \n"
   ]
  },
  {
   "cell_type": "code",
   "execution_count": 46,
   "id": "e0a62f3a",
   "metadata": {},
   "outputs": [
    {
     "name": "stdout",
     "output_type": "stream",
     "text": [
      "['Joaquin Augusto', 'Torres Sotomayor', 1, '12345678']\n",
      "Mis nombres son Joaquin Augusto\n",
      "Mis apellidos son Torres Sotomayor\n",
      "Mi edad es 1\n",
      "El número de mi DNI es 12345678\n"
     ]
    }
   ],
   "source": [
    "data = ['Joaquin Augusto','Torres Sotomayor',1,'12345678']\n",
    "print(data)\n",
    "print('Mis nombres son',data[0])\n",
    "print('Mis apellidos son',data[1])\n",
    "print('Mi edad es',data[2])\n",
    "print('El número de mi DNI es',data[3])"
   ]
  },
  {
   "cell_type": "code",
   "execution_count": 47,
   "id": "650ddfcc",
   "metadata": {},
   "outputs": [],
   "source": [
    "data.append('Callao')"
   ]
  },
  {
   "cell_type": "code",
   "execution_count": 49,
   "id": "ef480bc9",
   "metadata": {},
   "outputs": [],
   "source": [
    "data.insert(5,'Pacasmayo y Tomas Valle')"
   ]
  },
  {
   "cell_type": "code",
   "execution_count": 50,
   "id": "daccce6f",
   "metadata": {},
   "outputs": [
    {
     "name": "stdout",
     "output_type": "stream",
     "text": [
      "['Joaquin Augusto', 'Torres Sotomayor', 1, '12345678', 'Callao', 'Pacasmayo y Tomas Valle']\n"
     ]
    }
   ],
   "source": [
    "print(data)"
   ]
  },
  {
   "cell_type": "code",
   "execution_count": 51,
   "id": "7418e33e",
   "metadata": {},
   "outputs": [
    {
     "data": {
      "text/plain": [
       "['Joaquin Augusto',\n",
       " 'Torres Sotomayor',\n",
       " '12345678',\n",
       " 'Callao',\n",
       " 'Pacasmayo y Tomas Valle']"
      ]
     },
     "execution_count": 51,
     "metadata": {},
     "output_type": "execute_result"
    }
   ],
   "source": [
    "data.remove(1)\n",
    "data"
   ]
  },
  {
   "cell_type": "code",
   "execution_count": 52,
   "id": "4e40b593",
   "metadata": {},
   "outputs": [
    {
     "data": {
      "text/plain": [
       "['Joaquin Augusto',\n",
       " 'Torres Sotomayor',\n",
       " '12345678',\n",
       " '02-04-2020',\n",
       " 'Callao',\n",
       " 'Pacasmayo y Tomas Valle']"
      ]
     },
     "execution_count": 52,
     "metadata": {},
     "output_type": "execute_result"
    }
   ],
   "source": [
    "data.insert(3,'02-04-2020')\n",
    "data"
   ]
  },
  {
   "cell_type": "code",
   "execution_count": 53,
   "id": "027bfc6f",
   "metadata": {},
   "outputs": [
    {
     "data": {
      "text/plain": [
       "['Joaquin Augusto',\n",
       " 'Torres Sotomayor',\n",
       " '02-04-2020',\n",
       " '12345678',\n",
       " 'Callao',\n",
       " 'Pacasmayo y Tomas Valle']"
      ]
     },
     "execution_count": 53,
     "metadata": {},
     "output_type": "execute_result"
    }
   ],
   "source": [
    "data.remove('02-04-2020')\n",
    "data.insert(2,'02-04-2020')\n",
    "data"
   ]
  },
  {
   "cell_type": "code",
   "execution_count": 54,
   "id": "5f32e266",
   "metadata": {},
   "outputs": [
    {
     "name": "stdout",
     "output_type": "stream",
     "text": [
      "Mi fecha de nacimiento es  02-04-2020  y vivo en el  Callao\n"
     ]
    }
   ],
   "source": [
    "print('Mi fecha de nacimiento es ',data[2], ' y vivo en el ', data[4])"
   ]
  },
  {
   "cell_type": "code",
   "execution_count": 55,
   "id": "eb0e1249",
   "metadata": {},
   "outputs": [
    {
     "name": "stdout",
     "output_type": "stream",
     "text": [
      "Mi fecha de nacimiento es 02-04-2020 y vivo en el Callao\n"
     ]
    }
   ],
   "source": [
    "print('Mi fecha de nacimiento es {0} y vivo en el {1}'.format(data[2],data[4]))"
   ]
  },
  {
   "cell_type": "code",
   "execution_count": 59,
   "id": "dfd2d78c",
   "metadata": {},
   "outputs": [
    {
     "name": "stdout",
     "output_type": "stream",
     "text": [
      "Hola Mundo !\n",
      "Iniciemos la clase\n"
     ]
    }
   ],
   "source": [
    "print('Hola','Mundo','!',end='\\n')  # end = indica como finalizar la linea correpondiente\n",
    "print('Iniciemos la clase')"
   ]
  },
  {
   "cell_type": "code",
   "execution_count": 60,
   "id": "269e46a7",
   "metadata": {},
   "outputs": [
    {
     "name": "stdout",
     "output_type": "stream",
     "text": [
      "Hola*Mundo*!\n"
     ]
    }
   ],
   "source": [
    "print('Hola','Mundo','!',sep='*') #  sep = permite controlar la separacion entre cadenas"
   ]
  },
  {
   "cell_type": "code",
   "execution_count": 61,
   "id": "4d565408",
   "metadata": {},
   "outputs": [
    {
     "name": "stdout",
     "output_type": "stream",
     "text": [
      "Hola Mundo !\n"
     ]
    }
   ],
   "source": [
    "print('Hola Mundo !',sep='*') "
   ]
  },
  {
   "cell_type": "code",
   "execution_count": 64,
   "id": "7f3a6bc3",
   "metadata": {},
   "outputs": [
    {
     "name": "stdout",
     "output_type": "stream",
     "text": [
      "Hola**************************Mundo**************************!\n"
     ]
    }
   ],
   "source": [
    "print('Hola','Mundo','!',sep='**************************') "
   ]
  },
  {
   "cell_type": "markdown",
   "id": "853a84fc",
   "metadata": {},
   "source": [
    "# D. Estructuras de datos \n",
    "\n",
    "En lo anterior anterior vimos los tipos de datos básicos que podemos utilizar en Python \n",
    "para almacenar valores. Sin embargo, este tipo de datos no son suficientes para \n",
    "almacenar valores complejos como, por ejemplo, una lista de usuarios de una página \n",
    "web. En este tema, veremos las estructuras de datos que nos proporciona Python \n",
    "para almacenar valores más complejos. \n",
    "\n",
    "## Listas \n",
    "\n",
    "Las listas son las estructuras de datos más utilizadas en Python. Una lista es una \n",
    "estructura que nos permite tener un conjunto de objetos separados por comas. \n",
    "\n",
    "Esta estructura de datos es mutable, es decir, podemos cambiar el valor de una lista que \n",
    "hemos creado como, por ejemplo, cambiar el orden de los elementos, eliminar \n",
    "elementos, etc. \n",
    "\n",
    "En una lista pueden existir elementos de diferentes tipos, es decir, elementos con \n",
    "diferentes tipos de datos o, incluso, diferentes estructuras de datos. Sin embargo, lo \n",
    "normal es que todos los elementos de una lista sean del mismo tipo. Para declarar \n",
    "una lista, escribimos entre corchetes ([]) un conjunto de elementos separados por \n",
    "comas: "
   ]
  },
  {
   "cell_type": "code",
   "execution_count": null,
   "id": "d72b4717",
   "metadata": {},
   "outputs": [],
   "source": [
    "lista = [3, 'Hola', True, [1,2,3]] \n",
    "lista"
   ]
  },
  {
   "cell_type": "markdown",
   "id": "cc0e045a",
   "metadata": {},
   "source": [
    "También podemos crear una lista vacía usando únicamente los corchetes sin ningún \n",
    "valor dentro o utilizando la función ``list()``:"
   ]
  },
  {
   "cell_type": "code",
   "execution_count": null,
   "id": "96117588",
   "metadata": {},
   "outputs": [],
   "source": [
    "lista_vacia = []\n",
    "lista_vacia"
   ]
  },
  {
   "cell_type": "markdown",
   "id": "c02df927",
   "metadata": {},
   "source": [
    "A partir de una lista que hayamos creado, podemos acceder a los distintos elementos \n",
    "de dicha lista. Para ello, solo tenemos que indicar la posición que ocupa el elemento\n",
    "dentro de la lista, es decir, indicar el índice del elemento. Debemos tener en cuenta \n",
    "que el primer elemento de la lista ocupa la posición 0. "
   ]
  },
  {
   "cell_type": "code",
   "execution_count": null,
   "id": "3338b6bb",
   "metadata": {},
   "outputs": [],
   "source": [
    "lista = [3, 'Hola', True,[1,2,3]] \n",
    "lista[2] # Devolverá el valor True "
   ]
  },
  {
   "cell_type": "markdown",
   "id": "a5d48b29",
   "metadata": {},
   "source": [
    "También podemos acceder a un conjunto de elementos de una lista usando el \n",
    "símbolo de dos puntos (:) dentro de los corchetes. A esto se le llama un rango de \n",
    "índices. Por ejemplo, para acceder a las 2 primeras posiciones de una lista podríamos \n",
    "hacer lo siguiente:"
   ]
  },
  {
   "cell_type": "code",
   "execution_count": null,
   "id": "e099c959",
   "metadata": {},
   "outputs": [],
   "source": [
    "lista = [3, 'Hola', True] \n",
    "lista[:2] # Devolverá [3, 'Hola']"
   ]
  },
  {
   "cell_type": "markdown",
   "id": "52de17b0",
   "metadata": {},
   "source": [
    "Cuando usamos los rangos de índices, como el visto anteriormente, existen unos \n",
    "valores por defecto cuando no indicamos su valor. El valor por defecto del primer \n",
    "índice es 0 y el valor por defecto del último índice es la longitud de la lista. "
   ]
  },
  {
   "cell_type": "code",
   "execution_count": null,
   "id": "4591611c",
   "metadata": {},
   "outputs": [],
   "source": [
    "lista = [3, 'Hola', True] \n",
    "lista[:2] # Devolverá [3, 'Hola'] \n",
    "lista[1:] # Devolverá ['Hola', True]"
   ]
  },
  {
   "cell_type": "markdown",
   "id": "5d363801",
   "metadata": {},
   "source": [
    "Además, dentro de los índices de las listas, ya sea un solo índice o un rango, podemos \n",
    "usar valores negativos. En esos casos Python devuelve los elementos contando su \n",
    "posición desde la derecha"
   ]
  },
  {
   "cell_type": "code",
   "execution_count": null,
   "id": "614510a6",
   "metadata": {},
   "outputs": [],
   "source": [
    "lista = [3, 'Hola', True] \n",
    "lista[-1] # Devolverá True \n",
    "lista[-2:] # Devolverá ['Hola', True] "
   ]
  },
  {
   "cell_type": "markdown",
   "id": "86abc1c5",
   "metadata": {},
   "source": [
    "### Funciones aplicables a listas \n",
    "\n",
    "Cuando usamos listas podemos usar un conjunto de funciones que nos permiten \n",
    "obtener propiedades de las listas o modificarlas. A continuación, vamos a enumerar \n",
    "algunas de las funciones más utilizadas en listas: \n",
    "\n",
    " \n",
    "\n",
    "* len: devuelve la longitud de una lista, es decir, el número de elementos incluidos en una lista. \n",
    "\n",
    "~~~python\n",
    "lista = [3, 'Hola', True] \n",
    "len(lista) # Devolverá 3 \n",
    "~~~\n",
    " \n",
    "\n",
    "* index: devuelve la posición que ocupa un elemento dentro de una lista. \n",
    "    \n",
    "    ~~~python\n",
    "lista = [3, 'Hola', True] \n",
    "lista.index('Hola') # Devolverá 1 \n",
    "~~~\n",
    " \n",
    "\n",
    "* insert: inserta un elemento dentro de una lista en la posición que le indicamos. \n",
    "    \n",
    "    ~~~python\n",
    "lista = [3, 'Hola', True] \n",
    "lista.insert(1, 'Adiós') \n",
    "lista # Nos mostrará [3, 'Adiós', 'Hola', True] \n",
    "~~~\n",
    " \n",
    "\n",
    "* append: inserta un elemento al final de la lista. En el caso de que pongamos una \n",
    "lista de elementos, la función lo insertará como un elemento único.  \n",
    "lista = [3, 'Hola', True] \n",
    "lista.append([3, 4]) \n",
    "lista # Nos mostrará [3, 'Adiós', 'Hola', True, [3, 4]] \n",
    "\n",
    " \n",
    "\n",
    "* extend: permite agregar un conjunto de elementos en una lista. A diferencia del método anterior, si incluimos una lista de elementos, se agregarán cada uno de los elementos a la lista. \n",
    "\n",
    "~~~python\n",
    "lista = [3, 'Hola', True] \n",
    "lista.extend([3, 4]) \n",
    "lista # Nos mostrará [3, 'Hola', True, 3, 4] \n",
    "~~~\n",
    "\n",
    "* remove: elimina el elemento que pasamos por parámetro de la lista. En caso de que este elemento estuviese repetido, solo se eliminará la primera copia. \n",
    "\n",
    "~~~python\n",
    "lista = [3, 'Hola', True, 'Hola'] \n",
    "lista.remove('Hola') \n",
    "lista # Nos mostrará [3, True, 'Hola'] \n",
    "~~~\n",
    " \n",
    "\n",
    "* count: devuelve el número de veces que se encuentra un elemento en una lista. \n",
    "    \n",
    "~~~python\n",
    "lista = [3, 'Hola', True, 'Hola'] \n",
    "lista.count('Hola')  # Nos devolverá 2 \n",
    "~~~\n",
    " \n",
    "\n",
    "* reverse: este método nos permite invertir la posición de todos los elementos de  la lista. \n",
    "\n",
    "~~~python\n",
    "lista = [3, 'Hola', True] \n",
    "lista.reverse() \n",
    "lista # Nos mostrará [True, 'Hola', 3] \n",
    "~~~\n",
    " \n",
    "\n",
    "* sort: ordena los elementos de una lista. Por defecto, este método los ordena en orden creciente. Para ordenarlo de forma decreciente, hay que incluir el parámetro (reverse=True). ¡Ojo! La lista debe contener elementos del mismo tipo. \n",
    "\n",
    "~~~python\n",
    "lista = [6, 4, 1, 9, 7, 0, 5] \n",
    "lista.sort() \n",
    "lista # Nos mostrará [0, 1, 4, 5, 6, 7, 9] \n",
    "lista.sort(reverse=True) \n",
    "lista # Nos mostrará [9, 7, 6, 5, 4, 1, 0] \n",
    "~~~\n",
    " \n",
    "\n",
    "* pop: elimina y devuelve el elemento que se encuentra en la posición que se pasa por parámetro. En caso de que no se pase ningún valor por parámetro, eliminará y devolverá el último elemento de la lista. \n",
    "\n",
    "~~~python\n",
    "lista = [6, 4, 1, 9, 7, 0, 5] \n",
    "lista.pop(1) # Devolverá 4 \n",
    "lista # Nos mostrará [6, 1, 9, 7, 0, 5] \n",
    "~~~"
   ]
  },
  {
   "cell_type": "markdown",
   "id": "7872fa8a",
   "metadata": {},
   "source": [
    "## Tuplas \n",
    "\n",
    " Al igual que las listas, las tuplas son conjuntos de elementos separados por comas. \n",
    "Sin embargo, a diferencia de las listas, las tuplas son inmutables, es decir, no se \n",
    "pueden modificar una vez creadas. Un ejemplo de tupla sería el siguiente: "
   ]
  },
  {
   "cell_type": "code",
   "execution_count": 2,
   "id": "3db60484",
   "metadata": {},
   "outputs": [
    {
     "data": {
      "text/plain": [
       "('Hola', 3.4, True, 'Hola')"
      ]
     },
     "execution_count": 2,
     "metadata": {},
     "output_type": "execute_result"
    }
   ],
   "source": [
    "tupla = 'Hola', 3.4, True, 'Hola' \n",
    "tupla "
   ]
  },
  {
   "cell_type": "code",
   "execution_count": 3,
   "id": "41cab7b4",
   "metadata": {},
   "outputs": [
    {
     "data": {
      "text/plain": [
       "('Hola', 3.4, True, 'Hola')"
      ]
     },
     "execution_count": 3,
     "metadata": {},
     "output_type": "execute_result"
    }
   ],
   "source": [
    "tupla = ('Hola', 3.4, True, 'Hola' )\n",
    "tupla "
   ]
  },
  {
   "cell_type": "markdown",
   "id": "f4bcadf1",
   "metadata": {},
   "source": [
    "En el ejemplo anterior, hemos creado una tupla a partir de una secuencia de valores \n",
    "separados por comas. El resultado es una tupla que contiene todos estos elementos. \n",
    "\n",
    "A esta operación se le denomina empaquetado de tuplas. También disponemos del \n",
    "método inverso. Si a una tupla de longitud 𝑛𝑛 le asignamos 𝑛𝑛 variables, cada una de \n",
    "las variables tendrá uno de los componentes de la tupla. \n",
    "\n",
    "A esta operación se le llama **desempaquetado de tuplas**. "
   ]
  },
  {
   "cell_type": "code",
   "execution_count": 4,
   "id": "326cfeeb",
   "metadata": {},
   "outputs": [],
   "source": [
    "w, x, y, z = tupla # w = 'Hola', x = 3.4, y = True, z = 'Hola' "
   ]
  },
  {
   "cell_type": "code",
   "execution_count": null,
   "id": "92874b6b",
   "metadata": {},
   "outputs": [],
   "source": []
  },
  {
   "cell_type": "markdown",
   "id": "4207410f",
   "metadata": {},
   "source": [
    "Para acceder a los elementos de una tupla, lo haremos de la misma manera que con \n",
    "las listas: "
   ]
  },
  {
   "cell_type": "code",
   "execution_count": null,
   "id": "7c980514",
   "metadata": {},
   "outputs": [],
   "source": [
    "tupla[1] # Nos mostrará 3.4 \n",
    "tupla[1:] # Nos mostrará (3.4, True, 'Hola') "
   ]
  },
  {
   "cell_type": "markdown",
   "id": "892c4118",
   "metadata": {},
   "source": [
    "### Funciones aplicables a tuplas \n",
    "\n",
    "Al igual que las listas, tenemos varios métodos que podemos usar en las tuplas. Los \n",
    "métodos más utilizados son los siguientes: "
   ]
  },
  {
   "cell_type": "markdown",
   "id": "23e9a907",
   "metadata": {},
   "source": [
    "* len: método que devuelve la longitud de la tupla. "
   ]
  },
  {
   "cell_type": "code",
   "execution_count": null,
   "id": "4e2c22dd",
   "metadata": {},
   "outputs": [],
   "source": [
    "tupla = 'Hola', 3.4, True, 'Hola' \n",
    "len(tupla) # Devolverá 4 "
   ]
  },
  {
   "cell_type": "markdown",
   "id": "277368cd",
   "metadata": {},
   "source": [
    "* count: número de veces que se encuentra un elemento en una tupla. "
   ]
  },
  {
   "cell_type": "code",
   "execution_count": null,
   "id": "b4831799",
   "metadata": {},
   "outputs": [],
   "source": [
    "tupla.count('Hola') # Devolverá 2 "
   ]
  },
  {
   "cell_type": "markdown",
   "id": "17e95faf",
   "metadata": {},
   "source": [
    "* index: devuelve la posición que ocupa un elemento dentro de una tupla. En caso de que el elemento este repetido, devolverá la primera posición donde aparece el objeto. "
   ]
  },
  {
   "cell_type": "code",
   "execution_count": null,
   "id": "a1ff151c",
   "metadata": {},
   "outputs": [],
   "source": [
    "tupla.index('Hola') # Devolverá 0 "
   ]
  },
  {
   "cell_type": "markdown",
   "id": "8439cea6",
   "metadata": {},
   "source": [
    "# Diccionarios \n",
    "\n",
    "La última estructura de datos que veremos en Python son los diccionarios.  \n",
    "\n",
    "Los diccionarios conforman una estructura que enlaza los elementos almacenados con \n",
    "claves (keys) en lugar de índices, como las estructuras anteriores. Es decir, para \n",
    "acceder a un objeto es necesario hacerlo a través de su clave. \n",
    "\n",
    " La mejor manera de comprender un diccionario es verlo como un conjunto de pares \n",
    "``(clave, valor)``, donde las claves son únicas, es decir, no están repetidas, y nos permiten \n",
    "acceder al objeto almacenado. Para crear un diccionario definiremos un conjunto de \n",
    "elementos clave valor delimitados por llaves ``{}``: \n"
   ]
  },
  {
   "cell_type": "code",
   "execution_count": null,
   "id": "63e31bb3",
   "metadata": {},
   "outputs": [],
   "source": [
    "diccionario = { \n",
    "'clave1': 'Mi primer valor', \n",
    "'clave3': 'Y, como no, mi tercer valor',  \n",
    "'clave2': 'Este es mi segundo valor' \n",
    "} "
   ]
  },
  {
   "cell_type": "code",
   "execution_count": null,
   "id": "fb30d2ec",
   "metadata": {},
   "outputs": [],
   "source": [
    "Si queremos acceder a uno de sus valores, necesitaremos conocer su clave y lo \n",
    "pondremos entre corchetes ([]): "
   ]
  },
  {
   "cell_type": "code",
   "execution_count": null,
   "id": "05f19164",
   "metadata": {},
   "outputs": [],
   "source": [
    "diccionario['clave1'] # Devolverá 'Mi primer valor' "
   ]
  },
  {
   "cell_type": "markdown",
   "id": "59a66ad6",
   "metadata": {},
   "source": [
    "Para crear nuevos elementos en los diccionarios usamos la misma forma de acceso a \n",
    "un elemento, pero asignando un nuevo valor: "
   ]
  },
  {
   "cell_type": "code",
   "execution_count": null,
   "id": "de178382",
   "metadata": {},
   "outputs": [],
   "source": [
    "diccionario['clave_nueva'] = ‘nuevo valor’"
   ]
  },
  {
   "cell_type": "markdown",
   "id": "42b3e280",
   "metadata": {},
   "source": [
    "Podemos crear diccionarios vacíos usando las llaves, pero sin insertar ningún \n",
    "elemento, o usando la función ``dict()``:"
   ]
  },
  {
   "cell_type": "code",
   "execution_count": null,
   "id": "0a40e0e8",
   "metadata": {},
   "outputs": [],
   "source": [
    "diccionario = dict() "
   ]
  },
  {
   "cell_type": "markdown",
   "id": "97f87e9f",
   "metadata": {},
   "source": [
    "Podemos eliminar un elemento del diccionario usando la instrucción ``del`` e indicando \n",
    "qué elemento del diccionario queremos eliminar. "
   ]
  },
  {
   "cell_type": "code",
   "execution_count": null,
   "id": "e7013784",
   "metadata": {},
   "outputs": [],
   "source": [
    "del diccionario['clave1'] # Eliminará el elemento con clave 'clave1' "
   ]
  },
  {
   "cell_type": "markdown",
   "id": "0b08ee48",
   "metadata": {},
   "source": [
    "### Funciones aplicables a diccionarios \n",
    "\n",
    "A continuación, enumeraremos dos de las funciones más utilizadas en los \n",
    "diccionarios. "
   ]
  },
  {
   "cell_type": "markdown",
   "id": "13f62f32",
   "metadata": {},
   "source": [
    "* list: devuelve una lista de todas las claves incluidas en un diccionario. Si queremos la lista ordenada, usaremos la función sorted en lugar de list. "
   ]
  },
  {
   "cell_type": "code",
   "execution_count": null,
   "id": "5ee8e85d",
   "metadata": {},
   "outputs": [],
   "source": [
    "list(diccionario) # Devolverá ['clave1', 'clave3', 'clave2'] \n",
    "sorted(diccionario) # Devolverá ['clave1', 'clave2', 'clave3'] "
   ]
  },
  {
   "cell_type": "markdown",
   "id": "591c56d8",
   "metadata": {},
   "source": [
    "* in: comprueba si una clave se encuentra en el diccionario. "
   ]
  },
  {
   "cell_type": "code",
   "execution_count": null,
   "id": "0cc409da",
   "metadata": {},
   "outputs": [],
   "source": [
    "'clave3' in diccionario # Devolverá True "
   ]
  },
  {
   "cell_type": "markdown",
   "id": "153b4e0d",
   "metadata": {},
   "source": [
    "## Conjuntos \n",
    "\n",
    "Los conjuntos son colecciones no ordenadas de elementos. \n",
    "\n",
    "Además, los conjuntos no contienen repetición de elementos, es decir, se eliminan todos los elementos \n",
    "duplicados. Para crear un conjunto podemos indicar un conjunto de objetos \n",
    "separados por comas y delimitados por llaves ``{}``. "
   ]
  },
  {
   "cell_type": "code",
   "execution_count": null,
   "id": "3dd8be1c",
   "metadata": {},
   "outputs": [],
   "source": [
    "conjunto = {'audi', 'mercedes', 'seat', 'ferrari', 'ferrari', 'renault'}"
   ]
  },
  {
   "cell_type": "markdown",
   "id": "c4ed4ff5",
   "metadata": {},
   "source": [
    "Para crear un conjunto vacío podemos crearlo usando las llaves sin insertar ningún \n",
    "valor o la función ``set()``"
   ]
  },
  {
   "cell_type": "code",
   "execution_count": null,
   "id": "70c97873",
   "metadata": {},
   "outputs": [],
   "source": [
    "conjunto = set() \n",
    "conjunto # Nos mostrará {} "
   ]
  },
  {
   "cell_type": "markdown",
   "id": "9447c670",
   "metadata": {},
   "source": [
    "Al no ser una lista ordenada, no podemos acceder a sus elementos a través de su \n",
    "índice; esto nos devolverá un error de tipo. "
   ]
  },
  {
   "cell_type": "markdown",
   "id": "e194895d",
   "metadata": {},
   "source": [
    "### Funciones aplicables a conjuntos \n",
    "\n",
    " \n",
    "\n",
    "A continuación, veremos algunas de las operaciones soportadas por los conjuntos de \n",
    "Python. \n",
    "\n",
    "* union: operación matemática para obtener la unión de dos conjuntos. "
   ]
  },
  {
   "cell_type": "code",
   "execution_count": null,
   "id": "4b6ef1b6",
   "metadata": {},
   "outputs": [],
   "source": [
    "conjunto1 = {1, 2, 3} \n",
    "conjunto2 = {3, 4, 5} \n",
    "conjunto1.union(conjunto2) # Devolverá {1, 2, 3, 4, 5} "
   ]
  },
  {
   "cell_type": "markdown",
   "id": "ed83bada",
   "metadata": {},
   "source": [
    "* intersection: operación matemática para obtener la intersección de dos conjuntos. "
   ]
  },
  {
   "cell_type": "code",
   "execution_count": null,
   "id": "2b210bad",
   "metadata": {},
   "outputs": [],
   "source": [
    "conjunto1 = {1, 2, 3} \n",
    "conjunto2 = {3, 4, 5} \n",
    "conjunto1.intersection(conjunto2) # Devolverá {3} "
   ]
  },
  {
   "cell_type": "markdown",
   "id": "b04b67fc",
   "metadata": {},
   "source": [
    "* difference: operación matemática para obtener la diferencia del conjunto original con respecto al conjunto que se pasa por parámetro, es decir, los elementos del primer conjunto que no están en el segundo. \n",
    "\n"
   ]
  },
  {
   "cell_type": "code",
   "execution_count": null,
   "id": "5a44acf8",
   "metadata": {},
   "outputs": [],
   "source": [
    "conjunto1 = {1, 2, 3} \n",
    "conjunto2 = {3, 4, 5} \n",
    "conjunto1.difference(conjunto2) # Devolverá {1, 2} "
   ]
  },
  {
   "cell_type": "markdown",
   "id": "13b4f60a",
   "metadata": {},
   "source": [
    "* in: comprueba si un elemento se encuentra dentro de un conjunto. "
   ]
  },
  {
   "cell_type": "code",
   "execution_count": null,
   "id": "df9b839d",
   "metadata": {},
   "outputs": [],
   "source": [
    "1 in conjunto1 # Devolverá True "
   ]
  },
  {
   "cell_type": "markdown",
   "id": "214f5c9e",
   "metadata": {},
   "source": [
    "* len: devuelve la longitud del conjunto. "
   ]
  },
  {
   "cell_type": "code",
   "execution_count": null,
   "id": "df7e5c31",
   "metadata": {},
   "outputs": [],
   "source": [
    "len(conjunto1) # Devolverá 3 "
   ]
  },
  {
   "cell_type": "markdown",
   "id": "a3082d82",
   "metadata": {},
   "source": [
    "# E. Ejecuciones condicionales \n",
    "\n",
    "Hasta este momento durante el curso hemos visto algunas sentencias que nos \n",
    "permiten hacer pequeños programas en Python. Sin embargo, en la mayoría de las \n",
    "ocasiones los programas que haremos no tendrán una ejecución lineal, sino que \n",
    "habrá bifurcaciones dependiendo del resultado que obtengamos de algunas \n",
    "evaluaciones. Para poder hacer estas bifurcaciones en la ejecución de nuestro \n",
    "programa es necesario utilizar las ejecuciones condicionales.\n",
    "\n",
    "## Expresión if \n",
    "\n",
    "Las expresiones ``if`` nos permiten ejecutar un bloque de instrucciones únicamente si \n",
    "la expresión lógica que hemos puesto devuelve ``True``. \n",
    "\n",
    "Para escribir una sentencia ``if`` se sigue la siguiente estructura: \n",
    "\n",
    "~~~python\n",
    "if (EXPRESION_LOGICA): \n",
    "    sentencia_1 \n",
    "    sentencia_2 \n",
    "    ... \n",
    "   ~~~\n",
    "   \n",
    "Aquí tenemos un ejemplo de cómo podríamos usar una sentencia ``if``. En este ejemplo \n",
    "pedimos al usuario que escriba un valor entre 1 y 10. \n",
    "\n",
    "A continuación, comprobamos si el número es mayor que 5 y, si es así, imprimimos un mensaje: "
   ]
  },
  {
   "cell_type": "code",
   "execution_count": null,
   "id": "ae6b656b",
   "metadata": {},
   "outputs": [],
   "source": [
    "print(\"Escribe un número de 1 a 10\") \n",
    " \n",
    "number = int(input()) \n",
    "if (number > 5): \n",
    "    print(\"¡Soy mayor que 5!\") "
   ]
  },
  {
   "cell_type": "markdown",
   "id": "b177fc93",
   "metadata": {},
   "source": [
    "## Expresión else\n",
    "\n",
    "Por otro lado, si queremos ejecutar otro bloque de instrucciones cuando no se \n",
    "cumple la condición del ``if``, usaremos la expresión ``else``. Esta expresión debe ir \n",
    "siempre después del bloque de instrucciones del ``if``: \n",
    "\n",
    "~~~python\n",
    "if (EXPRESION_LOGICA): \n",
    "    sentencia_1 \n",
    "    sentencia_2 \n",
    "    ... \n",
    "else: \n",
    "    sentencia_1 \n",
    "    sentencia_2 \n",
    "    ... \n",
    "~~~\n",
    "\n",
    "Podemos ampliar el ejemplo anterior para que, en el caso de que el número no sea \n",
    "mayor que 5, mostremos otro mensaje al usuario. Para ello, incluiremos un bloque \n",
    "``else`` después del bloque ``if``:"
   ]
  },
  {
   "cell_type": "code",
   "execution_count": null,
   "id": "5407193c",
   "metadata": {},
   "outputs": [],
   "source": [
    "print(\"Escribe un número de 1 a 10\") \n",
    " \n",
    "number = int(input()) \n",
    "if (number > 5): \n",
    "    print(\"¡Soy mayor que 5!\") \n",
    "else: \n",
    "    print(\"Soy menor o igual que 5\") "
   ]
  },
  {
   "cell_type": "markdown",
   "id": "b4a56903",
   "metadata": {},
   "source": [
    "## Expresión elif \n",
    "\n",
    "La expresión ``elif`` nos permite evaluar más condiciones dentro de un ``if`` para ejecutar \n",
    "otros bloques de instrucciones. \n",
    "\n",
    "Si incluimos un bloque ``else``, las instrucciones de este bloque solo si todas las expresiones lógicas de los bloques ``if`` y ``elif`` han devuelto  ``False``. \n",
    "\n",
    "Se puede añadir más de un bloque ``elif`` y estos bloques deben ir después del \n",
    "bloque ``if`` y antes del bloque ``else``: \n",
    "\n",
    "~~~python\n",
    "if (EXPRESION_LOGICA): \n",
    "    sentencia_1 \n",
    "    ... \n",
    "elif (EXPRESION_LOGICA_2): \n",
    "    sentencia_1 \n",
    "    ... \n",
    "elif (EXPRESION_LOGICA_3): \n",
    "    sentencia_1 \n",
    "    ... \n",
    "... \n",
    "else: \n",
    "    sentencia_1 \n",
    "    sentencia_2 \n",
    "    ... \n",
    "~~~\n",
    "\n",
    "Vamos a aplicar esta expresión en nuestro ejemplo anterior. Para ello, \n",
    "comprobaremos también si el valor introducido por el usuario es 5 y, si es así, \n",
    "mostraremos otro mensaje: "
   ]
  },
  {
   "cell_type": "code",
   "execution_count": null,
   "id": "024022e6",
   "metadata": {},
   "outputs": [],
   "source": [
    "print(\"Escribe un número de 1 a 10\") \n",
    " \n",
    "number = int(input()) \n",
    "if (number > 5): \n",
    "    print(\"¡Soy mayor que 5!\") \n",
    "elif (number == 5): \n",
    "    print(\"Soy el número 5\") \n",
    "else: \n",
    "    print(\"Soy menor o igual que 5\") "
   ]
  },
  {
   "cell_type": "markdown",
   "id": "7dd5e403",
   "metadata": {},
   "source": [
    "# F. Ejecuciones iterativas \n",
    "\n",
    "## Bucle while \n",
    "\n",
    "La primera instrucción que vamos a explicar en las iteraciones es **while**. \n",
    "\n",
    "Esta instrucción repite un bloque de código mientras se cumpla una condición definida por nosotros. \n",
    "\n",
    "Esa condición, al igual que pasaba con **if**, viene dada en forma de expresión lógica. El bloque de instrucciones de la instrucción **while** dejará de ejecutarse cuando esa expresión lógica devuelva un **False**. \n",
    "\n",
    "El formato de escritura de **while** es el siguiente: \n",
    "\n",
    "~~~python\n",
    "while (EXPRESION_LOGICA): \n",
    "    sentencia_1 \n",
    "    sentencia_2 \n",
    "    ... \n",
    "~~~\n",
    "\n",
    "Por ejemplo, imaginemos que queremos imprimir una secuencia de números desde \n",
    "el número 5 hasta el número 0. Esto lo podríamos hacer con un bloque **while**, al cual, \n",
    "mientras el número que estamos imprimiendo sea mayor que 0, le restaremos una \n",
    "unidad y lo imprimiremos: "
   ]
  },
  {
   "cell_type": "code",
   "execution_count": null,
   "id": "ce159d32",
   "metadata": {},
   "outputs": [],
   "source": [
    "numero = 5 \n",
    "fin = 0 \n",
    " \n",
    "while(numero > fin): \n",
    "    numero -= 1 \n",
    "    print(numero) "
   ]
  },
  {
   "cell_type": "markdown",
   "id": "3229b946",
   "metadata": {},
   "source": [
    "A la instrucción **while** se la puede incluir la sentencia **else**. \n",
    "\n",
    "A diferencia de las ejecuciones condicionales, el bloque de instrucciones de la sentencia **else** se ejecutará siempre cuando acabe de ejecutarse las iteraciones en **while**. \n",
    "\n",
    "En este caso, escribiríamos la sentencia else a continuación de las instrucciones del bloque **while**. \n",
    "\n",
    "~~~python\n",
    "while (EXPRESION_LOGICA): \n",
    "    sentencia_1 \n",
    "    sentencia_2 \n",
    "    ... \n",
    "else: \n",
    "    sentencia_1 \n",
    "    sentencia_2 \n",
    "    ... \n",
    "~~~\n",
    "\n",
    "En el ejemplo anterior, podemos imprimir un mensaje al usuario para indicarle que \n",
    "hemos acabado de imprimir números. Para ello, incluimos un bloque **else** después \n",
    "del bloque **while** con la instrucción que imprimirá el mensaje:"
   ]
  },
  {
   "cell_type": "code",
   "execution_count": null,
   "id": "cfb92790",
   "metadata": {},
   "outputs": [],
   "source": [
    "fin = 0 \n",
    " \n",
    "while(numero > fin): \n",
    "    numero -= 1 \n",
    "    print(numero) \n",
    "else: \n",
    "    print(“Ya he acabado!”) "
   ]
  },
  {
   "cell_type": "markdown",
   "id": "23299834",
   "metadata": {},
   "source": [
    "Esta es la forma más sencilla de crear sentencias iterativas. \n",
    "\n",
    "Normalmente, la instrucción **while** se utiliza para hacer búsquedas de elementos o ejecutar un \n",
    "conjunto de acciones hasta que ocurre un evento. \n",
    "\n",
    "En ambos casos, no se sabe exactamente cuántas ejecuciones tenemos que hacer y depende de la evaluación de \n",
    "una expresión lógica. "
   ]
  },
  {
   "cell_type": "markdown",
   "id": "692e9955",
   "metadata": {},
   "source": [
    "## Bucle for \n",
    "\n",
    " La segunda forma de crear secuencias iterativas es con la instrucción **for**. \n",
    " \n",
    "Esta permite recorrer un conjunto de elementos (por ejemplo, listas) en cualquier sentido \n",
    "y con cualquier paso. \n",
    "\n",
    "La forma general de crear una sentencia for es la siguiente: \n",
    "\n",
    "~~~python\n",
    "for VARIABLE in OBJETO: \n",
    "    sentencia_1 \n",
    "    sentencia_2 \n",
    "    ... \n",
    "else: \n",
    "sentencia_1 \n",
    "sentencia_2 \n",
    "... \n",
    " ~~~\n",
    " \n",
    "En la instrucción **for** declaramos una variable a la que, en cada iteración del bucle, se \n",
    "le asignará el valor de uno de los elementos contenidos en **OBJETO**. \n",
    "\n",
    "Como pasaba en la sentencia **while**, podemos incluir una sentencia else que ejecutará sus \n",
    "instrucciones cuando hayan finalizado todas las iteraciones del bucle **for**. \n",
    "\n",
    "\n",
    "Podemos hacer el mismo ejemplo que en la sentencia **while**. \n",
    "\n",
    "Para ello creamos una lista con los números que queremos imprimir. Con la instrucción **for** recorremos cada \n",
    "uno de esos números y los imprimimos. Al final, mostraremos un mensaje indicando \n",
    "que hemos acabado: "
   ]
  },
  {
   "cell_type": "code",
   "execution_count": null,
   "id": "05015c11",
   "metadata": {},
   "outputs": [],
   "source": [
    "numeros = [5, 4, 3, 2, 1, 0] \n",
    " \n",
    "for numero in numeros: \n",
    "    print(numero) \n",
    "else: \n",
    "    print(“Ya he acabado!”) "
   ]
  },
  {
   "cell_type": "markdown",
   "id": "741bad72",
   "metadata": {},
   "source": [
    "Esta forma de asignación también se puede hacer con cadenas de texto. En este caso, \n",
    "a la variable se le irá asignando cada uno de los caracteres de la cadena en cada paso \n",
    "del bucle:"
   ]
  },
  {
   "cell_type": "code",
   "execution_count": null,
   "id": "4901d955",
   "metadata": {},
   "outputs": [],
   "source": [
    "texto = 'Hola mundo' \n",
    " \n",
    "for caracter in texto: \n",
    "    print(caracter) "
   ]
  },
  {
   "cell_type": "markdown",
   "id": "7cd20381",
   "metadata": {},
   "source": [
    "Además, como es lógico, la variable puede tener un tipo de dato diferente en cada \n",
    "vuelta del bucle. "
   ]
  },
  {
   "cell_type": "code",
   "execution_count": null,
   "id": "da335e83",
   "metadata": {},
   "outputs": [],
   "source": [
    "lista = ['texto', 5, (23, 56)] \n",
    " \n",
    "for elemento in lista: \n",
    "    print(elemento) "
   ]
  },
  {
   "cell_type": "markdown",
   "id": "7efd35af",
   "metadata": {},
   "source": [
    "En las sentencias **for**, una forma de recorrer un objeto, como una lista, es a través de \n",
    "sus índices. \n",
    "\n",
    "El objetivo es que la variable tenga como valor en cada paso la posición \n",
    "de la lista que estamos visitando. \n",
    "\n",
    "Para poder hacer esto, en ``Python`` se utiliza la instrucción **range**. Esta instrucción nos devuelve un rango de números desde **un número inicial hasta uno final**, y **con la separación entre números que hayamos seleccionado**. Su estructura es una de las siguientes: \n",
    "\n",
    "~~~python\n",
    "# Secuencia de números de 0 a NUMERO_FINAL con paso 1 \n",
    "range(NUMERO_FINAL) \n",
    " \n",
    "# Secuencia de números de NUMERO_INICIAL a NUMERO_FINAL con paso 1 \n",
    "range(NUMERO_INICIAL, NUMERO_FINAL) \n",
    " \n",
    "# Secuencia de números de NUMERO_INICIAL a NUMERO_FINAL con paso PASO \n",
    "range(NUMERO_INICIAL, NUMERO_FINAL, PASO) \n",
    "~~~\n",
    "\n",
    "Los rangos se pueden utilizar directamente como objeto en el bucle **for**. Sin embargo, \n",
    "para poder imprimir todos los índices que nos ha generado un rango, es necesario \n",
    "encapsular el rango en una lista. \n",
    "\n",
    "A continuación, vemos un ejemplo del uso de rangos. En este ejemplo solo queremos \n",
    "mostrar los caracteres que ocupan una **posición par en la cadena «Hola mundo»**, \n",
    "podríamos hacerlo así: "
   ]
  },
  {
   "cell_type": "code",
   "execution_count": 14,
   "id": "44705216",
   "metadata": {},
   "outputs": [],
   "source": [
    "cadena = 'Hola mundo' \n",
    " \n",
    "# Comenzamos en 0, hasta la longitud de la cadena y con paso = 2 \n",
    "for i in range(0, len(cadena), 2):   \n",
    "    print(cadena[i]) "
   ]
  },
  {
   "cell_type": "markdown",
   "id": "d130c6fd",
   "metadata": {},
   "source": [
    "##  Sentencias extras \n",
    "\n",
    "A las estructuras de iteración que hemos visto antes podemos incluir otras sentencias \n",
    "que permiten modificar la ejecución de los bucles. \n",
    "\n",
    "Estas sentencias se pueden utilizar tanto en los bucles **while** como en los bucles **for**. \n",
    "\n",
    "* break: esta sentencia rompe la ejecución del bucle en el momento en que se ejecute. "
   ]
  },
  {
   "cell_type": "code",
   "execution_count": null,
   "id": "ec75b1eb",
   "metadata": {},
   "outputs": [],
   "source": [
    "numeros = list(range(10)) \n",
    " \n",
    "for n in numeros: \n",
    "    if (n == 5): \n",
    "        print('Rompemos el bucle!') \n",
    "        break \n",
    " \n",
    "    print(n)\n",
    "    \n",
    "# La secuencia de ejecución sería: 0, 1, 2, 3, 4, Rompemos el bucle! "
   ]
  },
  {
   "cell_type": "markdown",
   "id": "ff464c23",
   "metadata": {},
   "source": [
    "* Continue: esta instrucción permite saltarnos una iteración del bucle sin que se  rompa la ejecución final. "
   ]
  },
  {
   "cell_type": "code",
   "execution_count": null,
   "id": "f1d7abb1",
   "metadata": {},
   "outputs": [],
   "source": [
    "numeros = list(range(10)) \n",
    " \n",
    "for n in numeros: \n",
    "    if (n == 5): \n",
    "        print('Me salto una vuelta') \n",
    "        continue \n",
    "    print(n) \n",
    "\n",
    "# La secuencia de ejecución sería: 0, 1, 2, 3, 4, Me salto una vuelta, 6, 7, 8, 9 "
   ]
  },
  {
   "cell_type": "markdown",
   "id": "5638d4cb",
   "metadata": {},
   "source": [
    "# Iteradores \n",
    "\n",
    "Otra forma de recorrer los elementos de un objeto en Python es utilizando \n",
    "**iteradores**. \n",
    "\n",
    "Un **iterador** es un objeto que, al aplicarlo sobre otro objeto **iterable**, como \n",
    "son las cadenas de texto o los conjuntos, nos permite obtener el siguiente elemento \n",
    "por visitar. \n",
    "\n",
    "Para crear un iterador sobre un objeto usamos la instrucción ``iter(OBJETO)`` y se lo \n",
    "asignamos a una variable. \n",
    "\n",
    "Una vez creado, podemos visitar los elementos del **OBJETO** con la función **next()** y pasando por parámetro el identificador del iterador. \n",
    "\n",
    "Veremos esto en un ejemplo. "
   ]
  },
  {
   "cell_type": "code",
   "execution_count": 25,
   "id": "a80dc745",
   "metadata": {},
   "outputs": [],
   "source": [
    "cadena = 'Hola' \n",
    "iterador = iter(cadena) \n",
    " \n",
    "next(iterador) # Devolverá 'H' \n",
    "next(iterador) # Devolverá 'o' \n",
    "next(iterador) # Devovlerá 'l' \n",
    "next(iterador) # Devolverá 'a'"
   ]
  },
  {
   "cell_type": "code",
   "execution_count": null,
   "id": "735a8ee0",
   "metadata": {},
   "outputs": [],
   "source": []
  },
  {
   "cell_type": "code",
   "execution_count": null,
   "id": "a681635b",
   "metadata": {},
   "outputs": [],
   "source": []
  },
  {
   "cell_type": "code",
   "execution_count": null,
   "id": "d5d8db10",
   "metadata": {},
   "outputs": [],
   "source": []
  },
  {
   "cell_type": "code",
   "execution_count": null,
   "id": "439696fe",
   "metadata": {},
   "outputs": [],
   "source": []
  },
  {
   "cell_type": "code",
   "execution_count": null,
   "id": "86a91422",
   "metadata": {},
   "outputs": [],
   "source": []
  },
  {
   "cell_type": "code",
   "execution_count": null,
   "id": "41daa490",
   "metadata": {},
   "outputs": [],
   "source": []
  },
  {
   "cell_type": "code",
   "execution_count": null,
   "id": "3b6ddcb7",
   "metadata": {},
   "outputs": [],
   "source": []
  },
  {
   "cell_type": "code",
   "execution_count": null,
   "id": "6e882fa2",
   "metadata": {},
   "outputs": [],
   "source": []
  },
  {
   "cell_type": "code",
   "execution_count": null,
   "id": "9ceedeaf",
   "metadata": {},
   "outputs": [],
   "source": []
  },
  {
   "cell_type": "code",
   "execution_count": null,
   "id": "0949486d",
   "metadata": {},
   "outputs": [],
   "source": []
  },
  {
   "cell_type": "code",
   "execution_count": null,
   "id": "77de2c49",
   "metadata": {},
   "outputs": [],
   "source": []
  },
  {
   "cell_type": "code",
   "execution_count": null,
   "id": "dc2ef244",
   "metadata": {},
   "outputs": [],
   "source": []
  }
 ],
 "metadata": {
  "kernelspec": {
   "display_name": "Python 3 (ipykernel)",
   "language": "python",
   "name": "python3"
  },
  "language_info": {
   "codemirror_mode": {
    "name": "ipython",
    "version": 3
   },
   "file_extension": ".py",
   "mimetype": "text/x-python",
   "name": "python",
   "nbconvert_exporter": "python",
   "pygments_lexer": "ipython3",
   "version": "3.8.11"
  }
 },
 "nbformat": 4,
 "nbformat_minor": 5
}
