{
 "cells": [
  {
   "cell_type": "markdown",
   "id": "e85c69d2",
   "metadata": {
    "slideshow": {
     "slide_type": "slide"
    }
   },
   "source": [
    "# Introducción y objetivos \n",
    "\n",
    "Las funciones tienen dos principales ventajas en la programación. \n",
    "\n",
    "- En primer lugar, una función puede implementar  una  funcionalidad que vamos a utilizar más veces dentro de un programa.\n",
    "\n",
    "- En segundo lugar, las funciones nos permiten organizar el  código de manera que podamos agrupar bloques de código en funcionalidades concretas. \n",
    "\n",
    "En este tema vamos a explicar cómo implementar las funciones en Python y cómo podemos usarlas. Los objetivos son los siguientes: \n",
    "\n",
    "* Aprender cómo definir las funciones. \n",
    "* Comprender cómo se usan los parámetros y los argumentos en las funciones. \n",
    "* Conocer cómo se devuelven resultados con las funciones. \n",
    "* Conocer algunas de las funciones básicas incluidas en Python. \n",
    "* Aprender cómo se definen las funciones anónimas en Python. \n",
    "\n",
    "# G. Definición de funciones \n",
    "\n",
    "Las funciones nos permiten encapsular un bloque de instrucciones para que podamos utilizarlo varias veces dentro de nuestros programas. \n",
    "\n",
    "Para hacer esto, es necesario identificar ese bloque de instrucciones usando la sintaxis de funciones que incluye \n",
    "Python. \n",
    "\n",
    "Las funciones se definen con la sentencia ``def``. Esta palabra clave indica a Python que vamos a crear un objeto ejecutable que podrá ser llamado más adelante durante la ejecución del programa. \n",
    "\n",
    "El formato para definir una función en Python es: \n",
    "\n",
    "~~~python\n",
    "def NOMBRE_FUNCION(ARG1, ARG2,...): \n",
    "    sentencia_1 \n",
    "    sentencia_2 \n",
    "    ... \n",
    "    return OBJETO_DEVOLVER \n",
    "~~~\n",
    "\n",
    "Como podemos observar, \n",
    "\n",
    "* la primera línea viene definida por la palabra reservada ``def``, seguida del **nombre** que queramos darle a la función. Este **nombre** será el identificador que nos permitirá llamar a la función más adelante. \n",
    "\n",
    "\n",
    "* A continuación, indicaremos la lista de **parámetros** que tendrá la función, separados por comas y entre paréntesis. Estos parámetros serán valores u objetos que se necesitarán para ejecutar la función. En el caso de que nuestra función no necesitase parámetros, dejaremos los paréntesis vacíos. \n",
    "\n",
    "\n",
    "* Al final de la declaración de la función usaremos dos puntos (``:``) para comenzar a escribir las sentencias que se ejecutarán. \n",
    "\n",
    "\n",
    "* El bloque de sentencias debe tener una sangría de 4 espacios con respecto a la definición de la función para que el Python entienda que son instrucciones que pertenecen a la función. \n",
    "\n",
    "\n",
    "* En el caso de que la función tenga que devolver un valor, usaremos la palabra reservada ``return`` junto con el identificador o la expresión que devolverá el valor. \n",
    "\n",
    "**Ejemplo:** \n",
    "\n",
    "Veamos la definición de una función a través de un ejemplo. Imaginemos que queremos crear una función que nos calcule el área de un triángulo. \n",
    "\n",
    "- Para poder calcular el área del triángulo, la función necesita dos datos: su base y su altura. \n",
    "- Estos dos datos serán los parámetros de la función. \n",
    "- Por último, devolveremos el resultado del cálculo usando la sentencia return. \n",
    "\n",
    "La función para calcular el área del triángulo quedaría como se muestra a continuación:"
   ]
  },
  {
   "cell_type": "code",
   "execution_count": 4,
   "id": "0809a533",
   "metadata": {
    "slideshow": {
     "slide_type": "slide"
    }
   },
   "outputs": [],
   "source": [
    "def area_triangulo(base,altura):\n",
    "    area = (base*altura)/2\n",
    "    return area"
   ]
  },
  {
   "cell_type": "markdown",
   "id": "0554a9e7",
   "metadata": {
    "slideshow": {
     "slide_type": "slide"
    }
   },
   "source": [
    "Para ejecutar la función solo debemos usar el nombre de la función e insertar los valores de la base y la altura: "
   ]
  },
  {
   "cell_type": "code",
   "execution_count": 5,
   "id": "2c16b70a",
   "metadata": {
    "slideshow": {
     "slide_type": "slide"
    }
   },
   "outputs": [
    {
     "data": {
      "text/plain": [
       "15.0"
      ]
     },
     "execution_count": 5,
     "metadata": {},
     "output_type": "execute_result"
    }
   ],
   "source": [
    "area_triangulo(6,5)# Devolverá 15.0"
   ]
  },
  {
   "cell_type": "markdown",
   "id": "2f2106f8",
   "metadata": {
    "slideshow": {
     "slide_type": "slide"
    }
   },
   "source": [
    "Esta es la forma general de definir una función en Python. Sin embargo, existen muchas opciones que nos permiten definir los parámetros de las funciones. "
   ]
  },
  {
   "cell_type": "markdown",
   "id": "976da8b3",
   "metadata": {
    "slideshow": {
     "slide_type": "slide"
    }
   },
   "source": [
    "## Parámetros \n",
    "\n",
    "En la mayoría de las ocasiones, necesitamos introducir información a las funciones para que puedan realizar la acción que deseamos. \n",
    "\n",
    "Por este motivo, podemos declarar unos parámetros que la función usará para leer esa información. **Hay que saber \n",
    "diferenciar entre los parámetros**, que son los valores que definimos en una función, **y los argumentos**, que son los valores que introducimos a la función en el momento de la ejecución. \n",
    "\n",
    "En el ejemplo anterior, cuando hemos declarado la función ``area_triangulo``, los elementos ``base`` y ``altura`` eran los parámetros. Más adelante, **cuando hemos indicado que la base era 6 y la altura 5, esos valores son los argumentos de la función**.\n",
    "\n",
    "A la hora de llamar a una función existen dos formas para introducir los argumentos de la función: \n",
    "\n",
    "* **Argumentos por posición**: los argumentos se envían en el mismo orden en el que se han definido los parámetros. \n",
    "\n",
    "    Esta es la forma que hemos escogido para llamar a la función area_triangulo en el ejemplo anterior. \n",
    "    \n",
    "    \n",
    "* **Argumentos por nombre**: los argumentos se envían utilizando los nombres de los parámetros que se han asignado en la función. Para ello, usaremos el nombre del parámetro, seguido del símbolo igual (=) y del argumento. \n",
    "    \n",
    "    En el ejemplo anterior sería de la siguiente forma: "
   ]
  },
  {
   "cell_type": "code",
   "execution_count": 6,
   "id": "590982f3",
   "metadata": {
    "slideshow": {
     "slide_type": "slide"
    }
   },
   "outputs": [
    {
     "data": {
      "text/plain": [
       "20.0"
      ]
     },
     "execution_count": 6,
     "metadata": {},
     "output_type": "execute_result"
    }
   ],
   "source": [
    "area_triangulo(base=10,altura=4)# Devolverá 20.0 "
   ]
  },
  {
   "cell_type": "markdown",
   "id": "a986ff20",
   "metadata": {
    "slideshow": {
     "slide_type": "slide"
    }
   },
   "source": [
    "Cuando una función tiene definido unos parámetros, es obligatorio que, a la hora de llamarlo, la función reciba el mismo número de argumentos. \n",
    "\n",
    "En caso de que no recibiese alguno de esos argumentos, Python devolvería un error de tipo. Sin embargo, en el momento de declarar una función, podemos asignar un valor por defecto a cada parámetro. \n",
    "\n",
    "Este valor por defecto se usará solo si no se ha indicado un argumento en el parámetro correspondiente. \n",
    "\n",
    "Para asignar un valor por defecto a un parámetro, definiremos el nombre del parámetro, seguido por el símbolo ``=`` y el valor por defecto que le queramos dar. \n",
    "\n",
    "Por ejemplo, vamos a asignar un valor por defecto para la base y la altura en la función ``area_triangulo``."
   ]
  },
  {
   "cell_type": "code",
   "execution_count": 7,
   "id": "6ad9a08f",
   "metadata": {
    "slideshow": {
     "slide_type": "slide"
    }
   },
   "outputs": [],
   "source": [
    "def area_triangulo(base=10, altura=10): \n",
    "    area = (base * altura) / 2 \n",
    "    return area"
   ]
  },
  {
   "cell_type": "markdown",
   "id": "4a30c4c5",
   "metadata": {
    "slideshow": {
     "slide_type": "slide"
    }
   },
   "source": [
    "En este caso, si llamásemos a la función ``area_triangulo`` sin ningún argumento, usaría los valores por defecto que hemos indicado para calcular el área."
   ]
  },
  {
   "cell_type": "code",
   "execution_count": 8,
   "id": "2499c26c",
   "metadata": {
    "slideshow": {
     "slide_type": "slide"
    }
   },
   "outputs": [
    {
     "data": {
      "text/plain": [
       "50.0"
      ]
     },
     "execution_count": 8,
     "metadata": {},
     "output_type": "execute_result"
    }
   ],
   "source": [
    "area_triangulo()# Devolverá 50.0 "
   ]
  },
  {
   "cell_type": "markdown",
   "id": "e09af314",
   "metadata": {},
   "source": [
    "También podemos indicar únicamente uno de los parámetros. En el caso de que lo hagamos por posición, reconocerá que ese argumento es el del parámetro base; en cambio, si utilizamos los argumentos por nombre, podemos aplicarlo a cualquiera de los dos parámetros. \n",
    "\n",
    "\n",
    "Muchas de las funciones que existen en ``Python`` **tienen parámetros con valores por defecto**. Por este motivo, es importante revisar la documentación de una función para saber cómo van a ser los argumentos de la función antes de usarla. "
   ]
  },
  {
   "cell_type": "markdown",
   "id": "2cf3829c",
   "metadata": {
    "slideshow": {
     "slide_type": "slide"
    }
   },
   "source": [
    "## Parámetros indeterminados \n",
    "\n",
    "En algunas ocasiones, **puede que necesitamos definir una función que necesite un número variable de argumentos**.\n",
    "\n",
    "Para estos casos Python nos permite usar los **parámetros indeterminados en las funciones**. Estos parámetros nos permiten incluir tantos argumentos como queramos en el momento de la ejecución de la función. \n",
    "\n",
    "Como pasaba con los parámetros normales, existen dos maneras de asignar los argumentos: \n",
    "\n",
    "* **Argumentos por posición**: \n",
    "\n",
    "    - se deben definir los parámetros como una lista dinámica. \n",
    "    - Para ello, a la hora de definir el parámetro, se incluirá un asterisco (``*``) antes del nombre del parámetro. \n",
    "    - Los parámetros indeterminados se recibirán por posición. \n",
    "    - A estos parámetros se les puede pasar cualquier tipo de dato en cada función. \n",
    "    \n",
    "Un ejemplo de su uso sería el siguiente: "
   ]
  },
  {
   "cell_type": "code",
   "execution_count": 9,
   "id": "64367b54",
   "metadata": {
    "slideshow": {
     "slide_type": "slide"
    }
   },
   "outputs": [
    {
     "name": "stdout",
     "output_type": "stream",
     "text": [
      "1\n",
      "7\n",
      "89\n",
      "46\n",
      "9394\n"
     ]
    }
   ],
   "source": [
    "def imprime_numeros( *args ):\n",
    "    for numero in args:\n",
    "        print(numero)\n",
    "\n",
    "imprime_numeros(1, 7, 89, 46, 9394)"
   ]
  },
  {
   "cell_type": "markdown",
   "id": "02eae1df",
   "metadata": {
    "slideshow": {
     "slide_type": "slide"
    }
   },
   "source": [
    "* **Argumentos por nombre**: \n",
    "    - para recibir varios argumentos por nombre, sin saber la cantidad, es necesario definir los parámetros como un diccionario dinámico. \n",
    "    - Para ello se usa dos asteriscos (``**``) antes del nombre del parámetro. \n",
    "    \n",
    "Un ejemplo de su uso sería el siguiente: "
   ]
  },
  {
   "cell_type": "code",
   "execution_count": 10,
   "id": "a5026f23",
   "metadata": {
    "slideshow": {
     "slide_type": "slide"
    }
   },
   "outputs": [],
   "source": [
    "def imprime_valores(**args):\n",
    "    for argumento in args:\n",
    "        print(argumento, '=>', args[argumento])\n"
   ]
  },
  {
   "cell_type": "code",
   "execution_count": 11,
   "id": "92f52ed5",
   "metadata": {
    "slideshow": {
     "slide_type": "slide"
    }
   },
   "outputs": [
    {
     "name": "stdout",
     "output_type": "stream",
     "text": [
      "arg1 => Hola\n",
      "arg2 => [2, 3, 4]\n",
      "arg3 => 876.98\n"
     ]
    }
   ],
   "source": [
    "imprime_valores(arg1='Hola',arg2=[2,3,4],arg3=876.98)"
   ]
  },
  {
   "cell_type": "markdown",
   "id": "70e305d0",
   "metadata": {
    "slideshow": {
     "slide_type": "slide"
    }
   },
   "source": [
    "A la hora de declarar una función, podemos combinar las dos formas de declarar parámetros normales con las formas que hemos visto para declarar parámetros indeterminados. \n",
    "\n",
    "## Retorno de valores \n",
    "\n",
    "Uno de los objetivos más comunes en las funciones es que realicen una operación y devuelvan el resultado de la misma. \n",
    "\n",
    "Para devolver uno o varios valores se utiliza la sentencia ``return``. En el siguiente ejemplo tenemos una función que devuelve la potencia entre dos números. "
   ]
  },
  {
   "cell_type": "code",
   "execution_count": 12,
   "id": "0e091afd",
   "metadata": {
    "slideshow": {
     "slide_type": "slide"
    }
   },
   "outputs": [],
   "source": [
    "def potencia( base , exponente ):\n",
    "    return base**exponente"
   ]
  },
  {
   "cell_type": "markdown",
   "id": "b3e68253",
   "metadata": {
    "slideshow": {
     "slide_type": "slide"
    }
   },
   "source": [
    "Como vemos, la única instrucción que tenemos dentro de la función es una sentencia ``return`` que devuelve el resultado de la operación. Hay que tener en cuenta que la instrucción ``return`` debe ser la última instrucción para ejecutarse, ya que en ese momento Python saldrá de la función. \n",
    "\n",
    "En Python, **las funciones pueden devolver más de un valor a la vez**. Para hacer esto, solo tenemos que separar por comas todos los valores que queramos devolver después de la sentencia return. En el siguiente ejemplo, la función devuelve tres objetos de diferentes tipos: "
   ]
  },
  {
   "cell_type": "code",
   "execution_count": 13,
   "id": "f6d19b70",
   "metadata": {
    "slideshow": {
     "slide_type": "slide"
    }
   },
   "outputs": [],
   "source": [
    "def ejemplo():\n",
    "    return \"Hola\", 3546, [3,90]"
   ]
  },
  {
   "cell_type": "markdown",
   "id": "29cbc7f2",
   "metadata": {
    "slideshow": {
     "slide_type": "slide"
    }
   },
   "source": [
    "**Cuando devolvemos más de un valor en una función, lo que obtenemos es una tupla con todos los valores**. Por este motivo, si queremos que cada uno de los resultados esté en una variable distinta, es necesario hacer un desempaquetado de la tupla. \n",
    "\n",
    "En el ejemplo anterior sería así:"
   ]
  },
  {
   "cell_type": "code",
   "execution_count": 14,
   "id": "e91f4f95",
   "metadata": {
    "slideshow": {
     "slide_type": "slide"
    }
   },
   "outputs": [],
   "source": [
    "var1, var2, var3 = ejemplo() # Nos dará var1 = “Hola”, var2 = 3546, var3 = [3, 90]"
   ]
  },
  {
   "cell_type": "markdown",
   "id": "4043b9f3",
   "metadata": {
    "slideshow": {
     "slide_type": "slide"
    }
   },
   "source": [
    "## Documentar funciones \n",
    "\n",
    "- Cuando estamos desarrollando software, es muy importante documentar bien las secciones de código que vamos implementando. \n",
    "- Esto nos permitirá recordar qué hace el código que implementamos o muestra a otros desarrolladores lo que queremos hacer. \n",
    "- La documentación cobra mayor importancia cuando se trata de funciones. Las funciones encapsulan un comportamiento dentro de un identificador y otros usuarios no deberían acceder al código de una función para saber qué es lo que se quiere hacer. \n",
    "\n",
    "\n",
    "**Para poder documentar las funciones se utilizan los ``docstring``**. \n",
    "\n",
    "\n",
    "En Python todos los objetos cuentan con una variable por defecto llamada ``doc``, y nos permite acceder a la documentación de dicho objeto. \n",
    "\n",
    "Para documentar una función usando los ``docstring``, únicamente tenemos que incluir un comentario inmediatamente después de la cabecera de la función. A continuación, se muestra cómo podríamos documentar la función potencia que hemos definido antes: "
   ]
  },
  {
   "cell_type": "code",
   "execution_count": 15,
   "id": "a24a2503",
   "metadata": {
    "slideshow": {
     "slide_type": "slide"
    }
   },
   "outputs": [],
   "source": [
    "def potencia(base, exponente): \n",
    "    \"\"\" \n",
    "    Función que calcula la potencia de dos números. \n",
    "     \n",
    "    Argumentos: \n",
    "    base ‐‐ base de la operación. \n",
    "    exponente ‐‐ exponente de la operación. \n",
    "    \"\"\" \n",
    "    return base ** exponente"
   ]
  },
  {
   "cell_type": "markdown",
   "id": "993ff04c",
   "metadata": {
    "slideshow": {
     "slide_type": "slide"
    }
   },
   "source": [
    "Al documentar de esta forma las funciones, **podemos usar la sentencia ``help()`` con el nombre de la función para saber la documentación que tiene**. \n",
    "\n",
    "En el ejemplo anterior se vería del siguiente modo:"
   ]
  },
  {
   "cell_type": "code",
   "execution_count": 16,
   "id": "254c9b84",
   "metadata": {
    "slideshow": {
     "slide_type": "slide"
    }
   },
   "outputs": [
    {
     "name": "stdout",
     "output_type": "stream",
     "text": [
      "Help on function potencia in module __main__:\n",
      "\n",
      "potencia(base, exponente)\n",
      "    Función que calcula la potencia de dos números. \n",
      "     \n",
      "    Argumentos: \n",
      "    base ‐‐ base de la operación. \n",
      "    exponente ‐‐ exponente de la operación.\n",
      "\n"
     ]
    }
   ],
   "source": [
    "help(potencia)"
   ]
  },
  {
   "cell_type": "markdown",
   "id": "bdac803b",
   "metadata": {
    "slideshow": {
     "slide_type": "slide"
    }
   },
   "source": [
    "En la guía de estilos oficial de Python (PEP8), hay varias reglas y consejos para documentar correctamente nuestro código usando los ``docstring``. "
   ]
  },
  {
   "cell_type": "markdown",
   "id": "3f3c89c3",
   "metadata": {},
   "source": [
    "## Ejercicios de práctica"
   ]
  },
  {
   "cell_type": "markdown",
   "id": "8066fc9c",
   "metadata": {},
   "source": [
    "* Desarrollar una función que me bote los primeros n numeros de la sucesión de Fibonacci"
   ]
  },
  {
   "cell_type": "code",
   "execution_count": null,
   "id": "8aee5ed9",
   "metadata": {},
   "outputs": [],
   "source": [
    "def fibonacci(n):\n",
    "    x0 = 0\n",
    "    x1 = 1\n",
    "    i = 0\n",
    "    while (i < n):\n",
    "        print(x0)\n",
    "        s = x0\n",
    "        x0 = x1\n",
    "        x1 = s + x1\n",
    "        i = i+1"
   ]
  },
  {
   "cell_type": "markdown",
   "id": "27e6eff2",
   "metadata": {},
   "source": [
    "* Crear una función que dada una lista de numeros, genere otra lista de numeros tal que en la posición \"i\" sea el menor valor entre la posición 0 y la posición i-1, que la posición 0 tenga el valor 0"
   ]
  },
  {
   "cell_type": "markdown",
   "id": "d67f829d",
   "metadata": {},
   "source": [
    "Ejemplo\n",
    "\n",
    "Input: [20,13,15,4,1]\n",
    "\n",
    "Output: [0,20,13,13,4]"
   ]
  },
  {
   "cell_type": "code",
   "execution_count": null,
   "id": "a3c73474",
   "metadata": {},
   "outputs": [],
   "source": [
    "def min_list(*lista):\n",
    "    s = [0]\n",
    "    minimo = lista[0]\n",
    "    for k in range(1,len(lista)):\n",
    "        s.append(minimo)\n",
    "        minimo = min(minimo,lista[k])\n",
    "    return s"
   ]
  },
  {
   "cell_type": "code",
   "execution_count": null,
   "id": "a1a15897",
   "metadata": {},
   "outputs": [],
   "source": [
    "min_list(20,13,15,4,1,0,7,8)"
   ]
  },
  {
   "cell_type": "markdown",
   "id": "b22dd7ea",
   "metadata": {
    "slideshow": {
     "slide_type": "slide"
    }
   },
   "source": [
    "# H. Funciones incluidas en Python \n",
    "\n",
    "Python cuenta con bastantes módulos que incluyen funciones muy útiles para desarrollar nuestros programas. \n",
    "\n",
    "A continuación, veremos los módulos y las funciones  más importantes. \n",
    "\n",
    "## Módulo math \n",
    "\n",
    "**El módulo ``math`` es un módulo matemático que incluye numerosas funciones matemáticas que nos pueden ser útiles en el desarrollo de nuestros proyectos**. \n",
    "\n",
    "Para utilizar estas funciones es necesario **importar** el módulo math al principio de nuestro código usando la sentencia ``import``: "
   ]
  },
  {
   "cell_type": "code",
   "execution_count": 22,
   "id": "435f6c9a",
   "metadata": {
    "slideshow": {
     "slide_type": "slide"
    }
   },
   "outputs": [],
   "source": [
    "import math "
   ]
  },
  {
   "cell_type": "markdown",
   "id": "c9713efb",
   "metadata": {
    "slideshow": {
     "slide_type": "slide"
    }
   },
   "source": [
    "La función integrada ``dir()`` se usa para encontrar qué nombres define un módulo. Retorna una lista ordenada de cadenas "
   ]
  },
  {
   "cell_type": "code",
   "execution_count": 23,
   "id": "af21945c",
   "metadata": {
    "slideshow": {
     "slide_type": "slide"
    }
   },
   "outputs": [
    {
     "data": {
      "text/plain": [
       "['__doc__',\n",
       " '__loader__',\n",
       " '__name__',\n",
       " '__package__',\n",
       " '__spec__',\n",
       " 'acos',\n",
       " 'acosh',\n",
       " 'asin',\n",
       " 'asinh',\n",
       " 'atan',\n",
       " 'atan2',\n",
       " 'atanh',\n",
       " 'ceil',\n",
       " 'comb',\n",
       " 'copysign',\n",
       " 'cos',\n",
       " 'cosh',\n",
       " 'degrees',\n",
       " 'dist',\n",
       " 'e',\n",
       " 'erf',\n",
       " 'erfc',\n",
       " 'exp',\n",
       " 'expm1',\n",
       " 'fabs',\n",
       " 'factorial',\n",
       " 'floor',\n",
       " 'fmod',\n",
       " 'frexp',\n",
       " 'fsum',\n",
       " 'gamma',\n",
       " 'gcd',\n",
       " 'hypot',\n",
       " 'inf',\n",
       " 'isclose',\n",
       " 'isfinite',\n",
       " 'isinf',\n",
       " 'isnan',\n",
       " 'isqrt',\n",
       " 'ldexp',\n",
       " 'lgamma',\n",
       " 'log',\n",
       " 'log10',\n",
       " 'log1p',\n",
       " 'log2',\n",
       " 'modf',\n",
       " 'nan',\n",
       " 'perm',\n",
       " 'pi',\n",
       " 'pow',\n",
       " 'prod',\n",
       " 'radians',\n",
       " 'remainder',\n",
       " 'sin',\n",
       " 'sinh',\n",
       " 'sqrt',\n",
       " 'tan',\n",
       " 'tanh',\n",
       " 'tau',\n",
       " 'trunc']"
      ]
     },
     "execution_count": 23,
     "metadata": {},
     "output_type": "execute_result"
    }
   ],
   "source": [
    "dir(math)"
   ]
  },
  {
   "cell_type": "markdown",
   "id": "9d214fb8",
   "metadata": {
    "slideshow": {
     "slide_type": "slide"
    }
   },
   "source": [
    "A continuación, enumeraremos las funciones más útiles agrupadas por tipos. \n",
    "\n",
    "## Funciones aritméticas \n",
    "\n",
    "Estas funciones nos permiten realizar varias operaciones aritméticas como calcular los valores superiores o inferiores de un número, cálculos factoriales o el máximo común divisor. Las funciones más importantes son: \n",
    "\n",
    "* fabs(x): esta función devuelve el valor absoluto del valor x. "
   ]
  },
  {
   "cell_type": "code",
   "execution_count": 34,
   "id": "2a901a32",
   "metadata": {
    "slideshow": {
     "slide_type": "slide"
    }
   },
   "outputs": [
    {
     "data": {
      "text/plain": [
       "1234.0"
      ]
     },
     "execution_count": 34,
     "metadata": {},
     "output_type": "execute_result"
    }
   ],
   "source": [
    "math.fabs(-1234) # Devolverá 1234 "
   ]
  },
  {
   "cell_type": "markdown",
   "id": "4bc9b1a6",
   "metadata": {
    "slideshow": {
     "slide_type": "slide"
    }
   },
   "source": [
    "* gcd(x,y): esta función devuelve el máximo común divisor de dos valores x e y. \n"
   ]
  },
  {
   "cell_type": "code",
   "execution_count": 40,
   "id": "c2af4304",
   "metadata": {
    "slideshow": {
     "slide_type": "slide"
    }
   },
   "outputs": [
    {
     "data": {
      "text/plain": [
       "2"
      ]
     },
     "execution_count": 40,
     "metadata": {},
     "output_type": "execute_result"
    }
   ],
   "source": [
    "math.gcd(34, 82) # Devolverá 2 "
   ]
  },
  {
   "cell_type": "markdown",
   "id": "55190837",
   "metadata": {
    "slideshow": {
     "slide_type": "slide"
    }
   },
   "source": [
    "* floor(x): esta función devuelve el valor entero más grande que sea menor o igual \n",
    "a x."
   ]
  },
  {
   "cell_type": "code",
   "execution_count": 41,
   "id": "9e5c62e4",
   "metadata": {
    "slideshow": {
     "slide_type": "slide"
    }
   },
   "outputs": [
    {
     "data": {
      "text/plain": [
       "245"
      ]
     },
     "execution_count": 41,
     "metadata": {},
     "output_type": "execute_result"
    }
   ],
   "source": [
    "math.floor(245.89) # Devolverá 245 "
   ]
  },
  {
   "cell_type": "markdown",
   "id": "887a2a2c",
   "metadata": {
    "slideshow": {
     "slide_type": "slide"
    }
   },
   "source": [
    "* ceil(x): esta función devuelve el valor entero más pequeño que sea mayor o igual a x. "
   ]
  },
  {
   "cell_type": "code",
   "execution_count": 42,
   "id": "330f0f4c",
   "metadata": {
    "slideshow": {
     "slide_type": "slide"
    }
   },
   "outputs": [
    {
     "data": {
      "text/plain": [
       "246"
      ]
     },
     "execution_count": 42,
     "metadata": {},
     "output_type": "execute_result"
    }
   ],
   "source": [
    "math.ceil(245.89) # Devolverá 246 "
   ]
  },
  {
   "cell_type": "markdown",
   "id": "521f69f6",
   "metadata": {
    "slideshow": {
     "slide_type": "slide"
    }
   },
   "source": [
    "* factorial(x): esta función calcula el factorial del número x. "
   ]
  },
  {
   "cell_type": "code",
   "execution_count": 43,
   "id": "e9f0d6ed",
   "metadata": {
    "slideshow": {
     "slide_type": "slide"
    }
   },
   "outputs": [
    {
     "data": {
      "text/plain": [
       "120"
      ]
     },
     "execution_count": 43,
     "metadata": {},
     "output_type": "execute_result"
    }
   ],
   "source": [
    "math.factorial(5) # Devolverá 120 "
   ]
  },
  {
   "cell_type": "markdown",
   "id": "3ae8e1b3",
   "metadata": {},
   "source": [
    "* trunc(x): esta función devuelve la parte entera del número x. "
   ]
  },
  {
   "cell_type": "code",
   "execution_count": 44,
   "id": "6062066e",
   "metadata": {
    "slideshow": {
     "slide_type": "slide"
    }
   },
   "outputs": [
    {
     "data": {
      "text/plain": [
       "5"
      ]
     },
     "execution_count": 44,
     "metadata": {},
     "output_type": "execute_result"
    }
   ],
   "source": [
    "math.trunc(5.7836) # Devolverá 5 "
   ]
  },
  {
   "cell_type": "markdown",
   "id": "5e690417",
   "metadata": {
    "slideshow": {
     "slide_type": "slide"
    }
   },
   "source": [
    "## Funciones trigonométricas \n",
    "\n",
    "\n",
    "Estas funciones nos permiten hacer cálculos trigonométricos que relacionan los lados de los triángulos con sus ángulos. En todas estas funciones debemos tener en cuenta que se trabaja con los ángulos en radianes. Las funciones más importantes son: \n",
    "\n",
    "\n",
    "* sin(x): devuelve el valor del seno del ángulo x en radianes. "
   ]
  },
  {
   "cell_type": "code",
   "execution_count": 226,
   "id": "a1ce5234",
   "metadata": {},
   "outputs": [
    {
     "data": {
      "text/plain": [
       "3.141592653589793"
      ]
     },
     "execution_count": 226,
     "metadata": {},
     "output_type": "execute_result"
    }
   ],
   "source": [
    "math.pi"
   ]
  },
  {
   "cell_type": "code",
   "execution_count": 224,
   "id": "10e35646",
   "metadata": {
    "slideshow": {
     "slide_type": "slide"
    }
   },
   "outputs": [
    {
     "data": {
      "text/plain": [
       "0.7071067811865476"
      ]
     },
     "execution_count": 224,
     "metadata": {},
     "output_type": "execute_result"
    }
   ],
   "source": [
    "math.sin(math.pi/4) # Devolverá 0.7071067811865476"
   ]
  },
  {
   "cell_type": "markdown",
   "id": "1cef206f",
   "metadata": {
    "slideshow": {
     "slide_type": "slide"
    }
   },
   "source": [
    "* cos(x): devuelve el valor del coseno del ángulo x en radianes. \n",
    "\n"
   ]
  },
  {
   "cell_type": "code",
   "execution_count": 225,
   "id": "272bb85b",
   "metadata": {
    "slideshow": {
     "slide_type": "slide"
    }
   },
   "outputs": [
    {
     "data": {
      "text/plain": [
       "-1.0"
      ]
     },
     "execution_count": 225,
     "metadata": {},
     "output_type": "execute_result"
    }
   ],
   "source": [
    "math.cos(math.pi) # Devolverá ‐1.0 "
   ]
  },
  {
   "cell_type": "markdown",
   "id": "a51daaeb",
   "metadata": {
    "slideshow": {
     "slide_type": "slide"
    }
   },
   "source": [
    "* tan(x): esta función devuelve el valor de la tangente del ángulo x en radianes. \n",
    "\n"
   ]
  },
  {
   "cell_type": "code",
   "execution_count": 227,
   "id": "fcc47c67",
   "metadata": {
    "slideshow": {
     "slide_type": "slide"
    }
   },
   "outputs": [
    {
     "data": {
      "text/plain": [
       "1.633123935319537e+16"
      ]
     },
     "execution_count": 227,
     "metadata": {},
     "output_type": "execute_result"
    }
   ],
   "source": [
    "math.tan(math.pi/2) # Devolverá 1.633123935319537e+16 "
   ]
  },
  {
   "cell_type": "markdown",
   "id": "007e2e2a",
   "metadata": {
    "slideshow": {
     "slide_type": "slide"
    }
   },
   "source": [
    " \n",
    "* asin(x): esta función calcula el valor del ángulo para que su seno sea x. \n"
   ]
  },
  {
   "cell_type": "code",
   "execution_count": 66,
   "id": "7cffb691",
   "metadata": {
    "slideshow": {
     "slide_type": "slide"
    }
   },
   "outputs": [
    {
     "data": {
      "text/plain": [
       "1.5707963267948966"
      ]
     },
     "execution_count": 66,
     "metadata": {},
     "output_type": "execute_result"
    }
   ],
   "source": [
    "math.asin(1) # Devolverá 1.5707963267948966"
   ]
  },
  {
   "cell_type": "markdown",
   "id": "386b7194",
   "metadata": {
    "slideshow": {
     "slide_type": "slide"
    }
   },
   "source": [
    "* acos(x): esta función calcula el valor del ángulo para que su coseno sea x. \n"
   ]
  },
  {
   "cell_type": "code",
   "execution_count": 67,
   "id": "05c6018e",
   "metadata": {
    "slideshow": {
     "slide_type": "slide"
    }
   },
   "outputs": [
    {
     "data": {
      "text/plain": [
       "0.0"
      ]
     },
     "execution_count": 67,
     "metadata": {},
     "output_type": "execute_result"
    }
   ],
   "source": [
    "math.acos(1) # Devolverá 0.0 "
   ]
  },
  {
   "cell_type": "markdown",
   "id": "e2f7285e",
   "metadata": {
    "slideshow": {
     "slide_type": "slide"
    }
   },
   "source": [
    "* atan(x): esta función calcula el valor del ángulo para que su tangente sea x. \n"
   ]
  },
  {
   "cell_type": "code",
   "execution_count": 68,
   "id": "fe36955c",
   "metadata": {
    "scrolled": true,
    "slideshow": {
     "slide_type": "slide"
    }
   },
   "outputs": [
    {
     "data": {
      "text/plain": [
       "0.7853981633974483"
      ]
     },
     "execution_count": 68,
     "metadata": {},
     "output_type": "execute_result"
    }
   ],
   "source": [
    "math.atan(1) # Devolverá 0.7853981633974483 "
   ]
  },
  {
   "cell_type": "markdown",
   "id": "d9c05d81",
   "metadata": {},
   "source": [
    "## Funciones hiperbólicas"
   ]
  },
  {
   "cell_type": "markdown",
   "id": "fc927f0a",
   "metadata": {},
   "source": [
    "* cosh(x): devuelve el valor del coseno hiperbolico. \n",
    "\n"
   ]
  },
  {
   "cell_type": "code",
   "execution_count": 69,
   "id": "aa2db4ec",
   "metadata": {
    "scrolled": true
   },
   "outputs": [
    {
     "data": {
      "text/plain": [
       "1.0"
      ]
     },
     "execution_count": 69,
     "metadata": {},
     "output_type": "execute_result"
    }
   ],
   "source": [
    "math.cosh(0) # Devuelve 1.0"
   ]
  },
  {
   "cell_type": "markdown",
   "id": "b15cfd9f",
   "metadata": {},
   "source": [
    "* sinh(x): devuelve el valor del seno hiperbolico. "
   ]
  },
  {
   "cell_type": "code",
   "execution_count": 70,
   "id": "bc02ad9a",
   "metadata": {},
   "outputs": [
    {
     "data": {
      "text/plain": [
       "0.0"
      ]
     },
     "execution_count": 70,
     "metadata": {},
     "output_type": "execute_result"
    }
   ],
   "source": [
    "math.sinh(0) # Devuelve 0.0"
   ]
  },
  {
   "cell_type": "markdown",
   "id": "cc577bb1",
   "metadata": {},
   "source": [
    "* tanh(x): devuelve el valor de la tangente hiperbolica. "
   ]
  },
  {
   "cell_type": "code",
   "execution_count": 71,
   "id": "322c9bf2",
   "metadata": {
    "scrolled": true
   },
   "outputs": [
    {
     "data": {
      "text/plain": [
       "0.9051482536448664"
      ]
     },
     "execution_count": 71,
     "metadata": {},
     "output_type": "execute_result"
    }
   ],
   "source": [
    "math.tanh(1.5) # Devuelve 0.905"
   ]
  },
  {
   "cell_type": "markdown",
   "id": "1b5e79d7",
   "metadata": {
    "slideshow": {
     "slide_type": "slide"
    }
   },
   "source": [
    "* hypot(x, y): esta función calcula la longitud de la hipotenusa de un triángulo rectángulo a partir de los valores de los dos catetos x, y. \n",
    "\n"
   ]
  },
  {
   "cell_type": "code",
   "execution_count": 72,
   "id": "4d5b17e0",
   "metadata": {
    "slideshow": {
     "slide_type": "slide"
    }
   },
   "outputs": [
    {
     "data": {
      "text/plain": [
       "12.206555615733702"
      ]
     },
     "execution_count": 72,
     "metadata": {},
     "output_type": "execute_result"
    }
   ],
   "source": [
    "math.hypot(10, 7) #Devolverá 12.206555615733702 "
   ]
  },
  {
   "cell_type": "markdown",
   "id": "df94bcf3",
   "metadata": {
    "slideshow": {
     "slide_type": "slide"
    }
   },
   "source": [
    "## Funciones exponenciales y logarítmicas \n",
    "\n",
    "Este conjunto de funciones nos permite hacer cálculos sencillos de valores logarítmicos o exponenciales. Las funciones más importantes son: \n",
    "\n",
    "\n",
    "* log(x, [base]): esta función permite calcular el logaritmo de x. Se puede especificar la base del algoritmo, aunque este argumento no es obligatorio y por defecto se calcula sobre base $e$. \n"
   ]
  },
  {
   "cell_type": "code",
   "execution_count": 228,
   "id": "fe3903ce",
   "metadata": {
    "slideshow": {
     "slide_type": "slide"
    }
   },
   "outputs": [
    {
     "data": {
      "text/plain": [
       "5.0"
      ]
     },
     "execution_count": 228,
     "metadata": {},
     "output_type": "execute_result"
    }
   ],
   "source": [
    "math.log(148.41315910257657) #base e    # Devolverá 5.0 \n"
   ]
  },
  {
   "cell_type": "code",
   "execution_count": 229,
   "id": "9b7c4b04",
   "metadata": {},
   "outputs": [
    {
     "data": {
      "text/plain": [
       "7.213475204444817"
      ]
     },
     "execution_count": 229,
     "metadata": {},
     "output_type": "execute_result"
    }
   ],
   "source": [
    "math.log(148.41315910257657, 2)  # Devolverá 7.213475204444817 \n"
   ]
  },
  {
   "cell_type": "code",
   "execution_count": 230,
   "id": "e4491db3",
   "metadata": {},
   "outputs": [
    {
     "data": {
      "text/plain": [
       "2.1714724095162588"
      ]
     },
     "execution_count": 230,
     "metadata": {},
     "output_type": "execute_result"
    }
   ],
   "source": [
    "math.log(148.41315910257657, 10) # Devolverá 2.171472409516258 "
   ]
  },
  {
   "cell_type": "markdown",
   "id": "208d4ce0",
   "metadata": {
    "slideshow": {
     "slide_type": "slide"
    }
   },
   "source": [
    "* log2(x): esta función permite calcular el logaritmo de $x$ con base 2. Devuelve un resultado más preciso que usando la función $log(x, 2)$. \n"
   ]
  },
  {
   "cell_type": "code",
   "execution_count": 231,
   "id": "07c5b478",
   "metadata": {
    "slideshow": {
     "slide_type": "slide"
    }
   },
   "outputs": [
    {
     "data": {
      "text/plain": [
       "7.2134752044448165"
      ]
     },
     "execution_count": 231,
     "metadata": {},
     "output_type": "execute_result"
    }
   ],
   "source": [
    "math.log2(148.41315910257657)  # Devolverá 7.2134752044448165 \n"
   ]
  },
  {
   "cell_type": "markdown",
   "id": "b9ca4cf4",
   "metadata": {
    "slideshow": {
     "slide_type": "slide"
    }
   },
   "source": [
    "* log10(x): esta función permite calcular el logaritmo de x con base 10. Devuelve un resultado más preciso que usando la función $log(x, 10)$."
   ]
  },
  {
   "cell_type": "code",
   "execution_count": 232,
   "id": "a19498e3",
   "metadata": {
    "slideshow": {
     "slide_type": "slide"
    }
   },
   "outputs": [
    {
     "data": {
      "text/plain": [
       "2.171472409516259"
      ]
     },
     "execution_count": 232,
     "metadata": {},
     "output_type": "execute_result"
    }
   ],
   "source": [
    "math.log10(148.41315910257657)  # Devolverá 2.171472409516259 \n"
   ]
  },
  {
   "cell_type": "markdown",
   "id": "2cda7e13",
   "metadata": {
    "slideshow": {
     "slide_type": "slide"
    }
   },
   "source": [
    "* pow(x, y): esta función permite calcular el valor de $x$ elevado a la potencia $y$. \n"
   ]
  },
  {
   "cell_type": "code",
   "execution_count": 233,
   "id": "381305f4",
   "metadata": {
    "slideshow": {
     "slide_type": "slide"
    }
   },
   "outputs": [
    {
     "data": {
      "text/plain": [
       "8.0"
      ]
     },
     "execution_count": 233,
     "metadata": {},
     "output_type": "execute_result"
    }
   ],
   "source": [
    "math.pow(2, 3)  # Devolverá 8 "
   ]
  },
  {
   "cell_type": "markdown",
   "id": "4c1c4f3f",
   "metadata": {
    "slideshow": {
     "slide_type": "slide"
    }
   },
   "source": [
    "\n",
    "* sqrt(x): esta función calcula la raíz cuadrada del valor x. "
   ]
  },
  {
   "cell_type": "code",
   "execution_count": 234,
   "id": "77681be3",
   "metadata": {
    "slideshow": {
     "slide_type": "slide"
    }
   },
   "outputs": [
    {
     "data": {
      "text/plain": [
       "16.0"
      ]
     },
     "execution_count": 234,
     "metadata": {},
     "output_type": "execute_result"
    }
   ],
   "source": [
    "math.sqrt(256)  # Devolverá 16 "
   ]
  },
  {
   "cell_type": "markdown",
   "id": "235cd8f3",
   "metadata": {
    "slideshow": {
     "slide_type": "slide"
    }
   },
   "source": [
    "Además, el módulo math cuenta con dos valores constantes que nos pueden ser de \n",
    "utilidad: \n",
    "\n",
    "* pi: contiene el valor del número $\\pi$. \n"
   ]
  },
  {
   "cell_type": "code",
   "execution_count": 235,
   "id": "fa53dc63",
   "metadata": {
    "slideshow": {
     "slide_type": "slide"
    }
   },
   "outputs": [
    {
     "data": {
      "text/plain": [
       "3.141592653589793"
      ]
     },
     "execution_count": 235,
     "metadata": {},
     "output_type": "execute_result"
    }
   ],
   "source": [
    "math.pi  # Devolverá 3.141592653589793 "
   ]
  },
  {
   "cell_type": "markdown",
   "id": "e93b3559",
   "metadata": {
    "slideshow": {
     "slide_type": "slide"
    }
   },
   "source": [
    "* e: contiene el valor del número $e$"
   ]
  },
  {
   "cell_type": "code",
   "execution_count": 236,
   "id": "b2254c1c",
   "metadata": {
    "slideshow": {
     "slide_type": "slide"
    }
   },
   "outputs": [
    {
     "data": {
      "text/plain": [
       "2.718281828459045"
      ]
     },
     "execution_count": 236,
     "metadata": {},
     "output_type": "execute_result"
    }
   ],
   "source": [
    "math.e  # Devolverá 2.718281828459045 \n"
   ]
  },
  {
   "cell_type": "markdown",
   "id": "96811955",
   "metadata": {
    "slideshow": {
     "slide_type": "slide"
    }
   },
   "source": [
    "## Módulo sys \n",
    "\n",
    "Este módulo proporciona variables y métodos (funciones) relacionados directamente con el intérprete de Python. \n",
    "\n",
    "En primer lugar, veremos algunas de las variables más destacadas de este módulo: \n",
    "\n",
    "* argv: devuelve una lista con todos los argumentos que se han pasado por línea de comandos al ejecutar el script. \n",
    "\n",
    "    Por ejemplo, si escribimos el siguiente script ``prueba.py`` en el Bloc de notas o Spyder o Visual Studio Code\n",
    "    \n",
    "~~~python\n",
    "import sys\n",
    "\n",
    "print(\"Hola {}. Bienvenido al curso de Python {}\".format(sys.argv[1], sys.argv[2]))\n",
    "\n",
    "print(\"estos son los argumentos pasados: \",sys.argv)\n",
    "~~~\n",
    "    \n",
    "   luego ejecutamos ``prueba.py`` en nuestra consola de comandos: \n",
    "    \n",
    "~~~python   \n",
    "python prueba.py FIIS 2021 \n",
    "~~~\n",
    "\n",
    "   obteniendo\n",
    "   \n",
    "> Hola FIIS. Bienvenido al curso de Python 2021\n",
    "\n",
    "> estos son los argumentos pasados:  ['prueba.py', 'FIIS', '2021']\n",
    "\n",
    "Si gusta puede aplicar nuevamente lo anterior a ``prueba2.py``:\n",
    "\n",
    "~~~python\n",
    "import sys\n",
    "\n",
    "for x in range(1,int(sys.argv[1])):\n",
    "    print(x)\n",
    "    \n",
    "# imprimir los argumentos pasados\n",
    "print(\"Argumentos pasados:\",sys.argv)\n",
    "~~~\n",
    "\n"
   ]
  },
  {
   "cell_type": "markdown",
   "id": "5f155ea1",
   "metadata": {
    "slideshow": {
     "slide_type": "slide"
    }
   },
   "source": [
    "Ahora, volvemos a nuestro Jupyter Notebook.\n",
    "\n",
    "* executable: devuelve la ruta absoluta del fichero ejecutable del intérprete de Python. \n",
    "\n"
   ]
  },
  {
   "cell_type": "code",
   "execution_count": 220,
   "id": "eb312b77",
   "metadata": {},
   "outputs": [],
   "source": [
    "import sys"
   ]
  },
  {
   "cell_type": "code",
   "execution_count": 237,
   "id": "dae35cad",
   "metadata": {
    "slideshow": {
     "slide_type": "slide"
    }
   },
   "outputs": [
    {
     "data": {
      "text/plain": [
       "'D:\\\\anaconda3\\\\python.exe'"
      ]
     },
     "execution_count": 237,
     "metadata": {},
     "output_type": "execute_result"
    }
   ],
   "source": [
    "sys.executable # Devolverá '/usr/local/Python/bin/python3.x' "
   ]
  },
  {
   "cell_type": "markdown",
   "id": "0a9fc26e",
   "metadata": {
    "slideshow": {
     "slide_type": "slide"
    }
   },
   "source": [
    "* version: devuelve la versión de Python que se está ejecutando. \n",
    "    "
   ]
  },
  {
   "cell_type": "code",
   "execution_count": 238,
   "id": "5016d1a5",
   "metadata": {
    "slideshow": {
     "slide_type": "slide"
    }
   },
   "outputs": [
    {
     "data": {
      "text/plain": [
       "'3.8.8 (default, Apr 13 2021, 15:08:03) [MSC v.1916 64 bit (AMD64)]'"
      ]
     },
     "execution_count": 238,
     "metadata": {},
     "output_type": "execute_result"
    }
   ],
   "source": [
    "sys.version # Devolverá '3.7.8' "
   ]
  },
  {
   "cell_type": "markdown",
   "id": "79d9a261",
   "metadata": {
    "slideshow": {
     "slide_type": "slide"
    }
   },
   "source": [
    "\n",
    "* platform: devuelve la plataforma sobre la que se está ejecutando Python. \n",
    "\n"
   ]
  },
  {
   "cell_type": "code",
   "execution_count": 239,
   "id": "69743439",
   "metadata": {
    "slideshow": {
     "slide_type": "slide"
    }
   },
   "outputs": [
    {
     "data": {
      "text/plain": [
       "'win32'"
      ]
     },
     "execution_count": 239,
     "metadata": {},
     "output_type": "execute_result"
    }
   ],
   "source": [
    "sys.platform # Devolverá winxy "
   ]
  },
  {
   "cell_type": "markdown",
   "id": "76c02b8f",
   "metadata": {
    "slideshow": {
     "slide_type": "slide"
    }
   },
   "source": [
    "Algunos de los métodos más destacados del módulo sys son los siguientes: \n",
    "\n",
    " \n",
    "\n",
    "* exit(): termina la ejecución del intérprete de Python. \n"
   ]
  },
  {
   "cell_type": "code",
   "execution_count": 86,
   "id": "df6fb572",
   "metadata": {
    "slideshow": {
     "slide_type": "slide"
    }
   },
   "outputs": [
    {
     "ename": "SystemExit",
     "evalue": "",
     "output_type": "error",
     "traceback": [
      "An exception has occurred, use %tb to see the full traceback.\n",
      "\u001b[1;31mSystemExit\u001b[0m\n"
     ]
    },
    {
     "name": "stderr",
     "output_type": "stream",
     "text": [
      "D:\\anaconda3\\lib\\site-packages\\IPython\\core\\interactiveshell.py:3445: UserWarning: To exit: use 'exit', 'quit', or Ctrl-D.\n",
      "  warn(\"To exit: use 'exit', 'quit', or Ctrl-D.\", stacklevel=1)\n"
     ]
    }
   ],
   "source": [
    "sys.exit() # Cerrará el intérprete de Python "
   ]
  },
  {
   "cell_type": "markdown",
   "id": "822dc363",
   "metadata": {
    "slideshow": {
     "slide_type": "slide"
    }
   },
   "source": [
    "* getdefaultenconding(): devuelve el sistema de codificación por defecto del \n",
    "sistema. \n",
    "\n",
    " "
   ]
  },
  {
   "cell_type": "code",
   "execution_count": 240,
   "id": "0d17bb8c",
   "metadata": {
    "slideshow": {
     "slide_type": "slide"
    }
   },
   "outputs": [
    {
     "data": {
      "text/plain": [
       "'utf-8'"
      ]
     },
     "execution_count": 240,
     "metadata": {},
     "output_type": "execute_result"
    }
   ],
   "source": [
    "sys.getdefaultencoding() # Devolverá 'utf‐8' "
   ]
  },
  {
   "cell_type": "markdown",
   "id": "07fb2a36",
   "metadata": {
    "slideshow": {
     "slide_type": "slide"
    }
   },
   "source": [
    "## Módulo os \n",
    "\n",
    "Este módulo proporciona acceso a variables y funciones que interactúan directamente con el sistema operativo. \n",
    "\n",
    "Este módulo está incluido siempre en las distribuciones de Python. A continuación, veremos los elementos más importantes. \n",
    "\n",
    "### Métodos para archivos y directorios \n",
    "\n",
    "Estos métodos nos permiten trabajar con las funcionalidades del sistema operativo para crear, eliminar o modificar archivos y directorios. Los métodos más destacados son: \n",
    "\n",
    "* getcwd(): devuelve la ruta del directorio en el que nos encontramos. "
   ]
  },
  {
   "cell_type": "code",
   "execution_count": 241,
   "id": "c4a391d1",
   "metadata": {},
   "outputs": [],
   "source": [
    "import os"
   ]
  },
  {
   "cell_type": "code",
   "execution_count": 242,
   "id": "deecff98",
   "metadata": {
    "slideshow": {
     "slide_type": "slide"
    }
   },
   "outputs": [
    {
     "data": {
      "text/plain": [
       "'C:\\\\Users\\\\Xrob3\\\\Desktop\\\\CursoPython\\\\Clase4'"
      ]
     },
     "execution_count": 242,
     "metadata": {},
     "output_type": "execute_result"
    }
   ],
   "source": [
    "os.getcwd() # Devolverá /User/... (por ejemplo)"
   ]
  },
  {
   "cell_type": "markdown",
   "id": "0d6f2fc5",
   "metadata": {
    "slideshow": {
     "slide_type": "slide"
    }
   },
   "source": [
    "* mkdir(path): crea un nuevo directorio en la ruta que se ha especificado en el argumento. "
   ]
  },
  {
   "cell_type": "code",
   "execution_count": 246,
   "id": "2524c7f7",
   "metadata": {
    "slideshow": {
     "slide_type": "slide"
    }
   },
   "outputs": [],
   "source": [
    "#C:\\Users\\Xrob3\\Desktop\\CursoPython\\Clase4\n",
    "#/dir/\n",
    "\n",
    "os.mkdir('C:/Users/Xrob3/Desktop/CursoPython/Clase4/NuevaCarpeta') # Creará una carpeta en la dirección /NuevaCarpeta "
   ]
  },
  {
   "cell_type": "markdown",
   "id": "8a31b6dd",
   "metadata": {
    "slideshow": {
     "slide_type": "slide"
    }
   },
   "source": [
    "\n",
    "* rmdir(path): elimina el directorio de la ruta que se ha especificado en el argumento. \n"
   ]
  },
  {
   "cell_type": "code",
   "execution_count": 244,
   "id": "351e519c",
   "metadata": {
    "slideshow": {
     "slide_type": "slide"
    }
   },
   "outputs": [],
   "source": [
    "os.rmdir('C:/Users/Xrob3/Desktop/CursoPython/Clase4/NuevaCarpeta') # Eliminará la carpeta /NuevaCarpeta "
   ]
  },
  {
   "cell_type": "markdown",
   "id": "a07b096d",
   "metadata": {
    "slideshow": {
     "slide_type": "slide"
    }
   },
   "source": [
    "* remove(path): elimina el fichero de la ruta que se ha especificado en el argumento. \n",
    "\n"
   ]
  },
  {
   "cell_type": "code",
   "execution_count": 245,
   "id": "0e2cd8e0",
   "metadata": {},
   "outputs": [
    {
     "data": {
      "text/plain": [
       "'C:\\\\Users\\\\Xrob3\\\\Desktop\\\\CursoPython\\\\Clase4'"
      ]
     },
     "execution_count": 245,
     "metadata": {},
     "output_type": "execute_result"
    }
   ],
   "source": [
    "path = os.getcwd() \n",
    "path"
   ]
  },
  {
   "cell_type": "code",
   "execution_count": 104,
   "id": "cc7b7a06",
   "metadata": {
    "scrolled": false
   },
   "outputs": [
    {
     "data": {
      "text/plain": [
       "['.ipynb_checkpoints',\n",
       " 'Calse 4 - Cuaderno de Trabajo.ipynb',\n",
       " 'prueba.py',\n",
       " 'prueba2.py',\n",
       " 'test.py']"
      ]
     },
     "execution_count": 104,
     "metadata": {},
     "output_type": "execute_result"
    }
   ],
   "source": [
    "os.listdir(path) # lista elementos de un directorio"
   ]
  },
  {
   "cell_type": "code",
   "execution_count": null,
   "id": "c54d1349",
   "metadata": {},
   "outputs": [],
   "source": [
    "#Crear NuevaCarpeta/fichero.txt"
   ]
  },
  {
   "cell_type": "code",
   "execution_count": 247,
   "id": "a9b5720c",
   "metadata": {},
   "outputs": [],
   "source": [
    "os.remove('C:/Users/Xrob3/Desktop/CursoPython/Clase4/NuevaCarpeta/fichero.txt') # Eliminará el archivo /NuevaCarpeta/fichero.txt "
   ]
  },
  {
   "cell_type": "markdown",
   "id": "2f0931f6",
   "metadata": {
    "slideshow": {
     "slide_type": "slide"
    }
   },
   "source": [
    "* rename(name1, name2): renombra el fichero con nombre name1 y los sustituye por name2. (crear un archivo de texto para hacer esto)\n",
    "\n"
   ]
  },
  {
   "cell_type": "code",
   "execution_count": 249,
   "id": "0f3d7671",
   "metadata": {},
   "outputs": [],
   "source": [
    "os.rename('C:/Users/Xrob3/Desktop/CursoPython/Clase4/NuevaCarpeta/fichero.txt', 'C:/Users/Xrob3/Desktop/CursoPython/Clase4/NuevaCarpeta/archivo.txt') # Modificará el nombre de fichero.txt por archivo.txt"
   ]
  },
  {
   "cell_type": "markdown",
   "id": "1cd2b26e",
   "metadata": {
    "slideshow": {
     "slide_type": "slide"
    }
   },
   "source": [
    "El módulo ``os`` incluye otro módulo llamado ``path`` **que nos permite acceder a métodos asociados a los nombres de los ficheros y sus rutas**. \n",
    "\n",
    "Para ello tenemos que importar el módulo os.path.  \n",
    "\n"
   ]
  },
  {
   "cell_type": "code",
   "execution_count": 126,
   "id": "844ff422",
   "metadata": {
    "slideshow": {
     "slide_type": "slide"
    }
   },
   "outputs": [],
   "source": [
    "import os.path "
   ]
  },
  {
   "cell_type": "code",
   "execution_count": 155,
   "id": "7b9ca53c",
   "metadata": {},
   "outputs": [
    {
     "data": {
      "text/plain": [
       "'NuevaCarpeta'"
      ]
     },
     "execution_count": 155,
     "metadata": {},
     "output_type": "execute_result"
    }
   ],
   "source": [
    "out = os.path.basename('C:/Users/Xrob3/Desktop/CursoPython/Clase4/NuevaCarpeta')\n",
    "\n",
    "#out = os.path.basename('/NuevaCarpeta/fichero.txt')\n",
    "out"
   ]
  },
  {
   "cell_type": "markdown",
   "id": "ad1a2958",
   "metadata": {
    "slideshow": {
     "slide_type": "slide"
    }
   },
   "source": [
    "Los métodos más importantes son: \n",
    "\n",
    " * abspath(ruta): devuelve la ruta absoluta de un fichero. \n"
   ]
  },
  {
   "cell_type": "code",
   "execution_count": 156,
   "id": "3b9c9bf3",
   "metadata": {
    "slideshow": {
     "slide_type": "slide"
    }
   },
   "outputs": [
    {
     "data": {
      "text/plain": [
       "'C:\\\\Users\\\\Xrob3\\\\Desktop\\\\CursoPython\\\\Clase4\\\\fichero.txt'"
      ]
     },
     "execution_count": 156,
     "metadata": {},
     "output_type": "execute_result"
    }
   ],
   "source": [
    "os.path.abspath('./fichero.txt') # Devolverá /NuevaCarpeta/fichero.txt "
   ]
  },
  {
   "cell_type": "markdown",
   "id": "caa7841b",
   "metadata": {
    "slideshow": {
     "slide_type": "slide"
    }
   },
   "source": [
    "* basename(ruta): devuelve el último componente de la ruta que se pasa por parámetro. \n"
   ]
  },
  {
   "cell_type": "code",
   "execution_count": 129,
   "id": "fca0abae",
   "metadata": {
    "slideshow": {
     "slide_type": "slide"
    }
   },
   "outputs": [
    {
     "data": {
      "text/plain": [
       "'fichero.txt'"
      ]
     },
     "execution_count": 129,
     "metadata": {},
     "output_type": "execute_result"
    }
   ],
   "source": [
    "os.path.basename('/NuevaCarpeta/fichero.txt') # Devolverá fichero.txt"
   ]
  },
  {
   "cell_type": "markdown",
   "id": "d39fa2e7",
   "metadata": {
    "slideshow": {
     "slide_type": "slide"
    }
   },
   "source": [
    "* exists(ruta): comprueba si un directorio existe en la ruta especificada. \n"
   ]
  },
  {
   "cell_type": "code",
   "execution_count": 253,
   "id": "b34c4399",
   "metadata": {
    "slideshow": {
     "slide_type": "slide"
    }
   },
   "outputs": [
    {
     "data": {
      "text/plain": [
       "True"
      ]
     },
     "execution_count": 253,
     "metadata": {},
     "output_type": "execute_result"
    }
   ],
   "source": [
    "#tener cuidado con el path\n",
    "os.path.exists('/NuevaCarpeta') # Devolverá True si existe "
   ]
  },
  {
   "cell_type": "markdown",
   "id": "e92421ca",
   "metadata": {
    "slideshow": {
     "slide_type": "slide"
    }
   },
   "source": [
    "* isfile(ruta): comprueba si la ruta especificada corresponde a un fichero. "
   ]
  },
  {
   "cell_type": "code",
   "execution_count": 255,
   "id": "8b0a78c6",
   "metadata": {
    "slideshow": {
     "slide_type": "slide"
    }
   },
   "outputs": [
    {
     "data": {
      "text/plain": [
       "True"
      ]
     },
     "execution_count": 255,
     "metadata": {},
     "output_type": "execute_result"
    }
   ],
   "source": [
    "os.path.isfile('/NuevaCarpeta/archivo.txt') # Devolverá True "
   ]
  },
  {
   "cell_type": "markdown",
   "id": "a5175e27",
   "metadata": {
    "slideshow": {
     "slide_type": "slide"
    }
   },
   "source": [
    "* isdir(ruta): comprueba si la ruta especificada corresponde a un directorio. \n"
   ]
  },
  {
   "cell_type": "code",
   "execution_count": 256,
   "id": "4db42691",
   "metadata": {
    "slideshow": {
     "slide_type": "slide"
    }
   },
   "outputs": [
    {
     "data": {
      "text/plain": [
       "True"
      ]
     },
     "execution_count": 256,
     "metadata": {},
     "output_type": "execute_result"
    }
   ],
   "source": [
    "os.path.isdir('/NuevaCarpeta') # Devolverá True "
   ]
  },
  {
   "cell_type": "markdown",
   "id": "106f2298",
   "metadata": {
    "slideshow": {
     "slide_type": "slide"
    }
   },
   "source": [
    "## Módulo random \n",
    "\n",
    "**Este módulo nos proporciona métodos para obtener valores aleatorios**. \n",
    "\n",
    "Entre los métodos que destacamos se encuentran los siguientes: \n",
    "\n",
    "* randint(x, y): devuelve un número aleatorio entre x e y. "
   ]
  },
  {
   "cell_type": "code",
   "execution_count": 275,
   "id": "fc0b865f",
   "metadata": {},
   "outputs": [],
   "source": [
    "import random "
   ]
  },
  {
   "cell_type": "code",
   "execution_count": 278,
   "id": "a10c175e",
   "metadata": {
    "slideshow": {
     "slide_type": "slide"
    }
   },
   "outputs": [
    {
     "data": {
      "text/plain": [
       "6"
      ]
     },
     "execution_count": 278,
     "metadata": {},
     "output_type": "execute_result"
    }
   ],
   "source": [
    "#random.seed(16)\n",
    "random.randint(1,10) # Devolverá, por ejemplo, 7 "
   ]
  },
  {
   "cell_type": "markdown",
   "id": "6b11d96e",
   "metadata": {
    "slideshow": {
     "slide_type": "slide"
    }
   },
   "source": [
    "* choice(secuencia): devuelve un dato aleatorio de los datos de la secuencia. "
   ]
  },
  {
   "cell_type": "code",
   "execution_count": 305,
   "id": "84a6073a",
   "metadata": {
    "slideshow": {
     "slide_type": "slide"
    }
   },
   "outputs": [
    {
     "data": {
      "text/plain": [
       "3"
      ]
     },
     "execution_count": 305,
     "metadata": {},
     "output_type": "execute_result"
    }
   ],
   "source": [
    "#random.seed(15) #(semilla*9) mod 5\n",
    "#semilla = 1 => 4\n",
    "#semilla = 2 => 3\n",
    "\n",
    "random.choice(['Hola', 3, [2, 3], True]) # Devolverá, por ejemplo, True "
   ]
  },
  {
   "cell_type": "markdown",
   "id": "2bd80b2d",
   "metadata": {
    "slideshow": {
     "slide_type": "slide"
    }
   },
   "source": [
    "* shuffle(secuencia): permuta los elementos de una secuencia de forma aleatoria. \n"
   ]
  },
  {
   "cell_type": "code",
   "execution_count": 296,
   "id": "533fe92e",
   "metadata": {
    "slideshow": {
     "slide_type": "slide"
    }
   },
   "outputs": [
    {
     "data": {
      "text/plain": [
       "[True, [2, 3], 3, 'Hola']"
      ]
     },
     "execution_count": 296,
     "metadata": {},
     "output_type": "execute_result"
    }
   ],
   "source": [
    "lista = ['Hola', 3, [2, 3], True] \n",
    "random.shuffle(lista) \n",
    "lista # Mostrará, por ejemplo, [3, 'Hola', True, [2, 3]] "
   ]
  },
  {
   "cell_type": "markdown",
   "id": "6aac8a01",
   "metadata": {
    "slideshow": {
     "slide_type": "slide"
    }
   },
   "source": [
    "* sample(secuencia, n): devuelve n elementos aleatorios de una secuencia. \n"
   ]
  },
  {
   "cell_type": "code",
   "execution_count": 289,
   "id": "1fbffe79",
   "metadata": {
    "slideshow": {
     "slide_type": "slide"
    }
   },
   "outputs": [
    {
     "data": {
      "text/plain": [
       "[3, [2, 3]]"
      ]
     },
     "execution_count": 289,
     "metadata": {},
     "output_type": "execute_result"
    }
   ],
   "source": [
    "lista = ['Hola', 3, [2, 3], True] \n",
    "random.sample(lista, 2) # Devolverá, por ejemplo, [[2, 3], True] "
   ]
  },
  {
   "cell_type": "markdown",
   "id": "978f0c07",
   "metadata": {
    "slideshow": {
     "slide_type": "slide"
    }
   },
   "source": [
    "Además de todos estos módulos, existen muchos más que nos permiten hacer conexiones a Internet, cortar la longitud de un texto, etc. Todos estos módulos se pueden consultar desde la documentación oficial de Python. "
   ]
  },
  {
   "cell_type": "markdown",
   "id": "830ab17c",
   "metadata": {
    "slideshow": {
     "slide_type": "slide"
    }
   },
   "source": [
    "# I. Funciones anónimas \n",
    "\n",
    "Las funciones anónimas son funciones a las cuales no les vamos a asignar un identificador para ejecutarlas. Es decir, no usaremos la cabecera ``def NOMBRE_FUNCION`` para definirlas. \n",
    "\n",
    "**El objetivo de estas funciones es el mismo que el de las funciones normales, con la salvedad de que en estas funciones no podemos incluir un bloque de código, solo una única expresión.** \n",
    "\n",
    "**Para implementar las funciones anónimas en Python, usaremos las expresiones lambda**. Estas expresiones son muy potentes, aunque algo confusas, sobre todo cuando se empiezan a utilizar. \n",
    "\n",
    "Para explicar una función ``lambda`` usaremos un ejemplo. Imaginemos que tenemos una función normal que recibe un número y devolvemos su valor al cuadrado. Esta función se definiría del siguiente modo: \n",
    "\n"
   ]
  },
  {
   "cell_type": "code",
   "execution_count": 306,
   "id": "b15e92e2",
   "metadata": {
    "slideshow": {
     "slide_type": "slide"
    }
   },
   "outputs": [],
   "source": [
    "def cuadrado(x):\n",
    "    resultado = x ** 2 \n",
    "    return resultado "
   ]
  },
  {
   "cell_type": "markdown",
   "id": "3a034abd",
   "metadata": {
    "slideshow": {
     "slide_type": "slide"
    }
   },
   "source": [
    "Podríamos ejecutar esta función y vemos que nos devolverá el cuadrado del número que hemos introducido: "
   ]
  },
  {
   "cell_type": "code",
   "execution_count": 307,
   "id": "86cec653",
   "metadata": {
    "slideshow": {
     "slide_type": "slide"
    }
   },
   "outputs": [
    {
     "data": {
      "text/plain": [
       "64"
      ]
     },
     "execution_count": 307,
     "metadata": {},
     "output_type": "execute_result"
    }
   ],
   "source": [
    "cuadrado(8) # Devolverá 64 "
   ]
  },
  {
   "cell_type": "markdown",
   "id": "1be3060c",
   "metadata": {
    "slideshow": {
     "slide_type": "slide"
    }
   },
   "source": [
    "Para convertir una función normal como esta en una función anónima, **necesitamos reducirlo a una única expresión**.\n",
    "\n",
    "En este ejemplo, se puede ver claramente que la expresión que calcula el cuadrado es ``x ** 2``. Con esta expresión podríamos convertir la función en una expresión ``lambda``. Para ello seguimos este esquema: \n",
    "\n",
    "~~~python\n",
    "lambda parámetro_1, parámetro_2: expresión \n",
    "~~~\n",
    " \n",
    "En primer lugar, utilizamos la palabra reservada ``lambda`` seguida de los parámetros que tendrá la función, todos ellos separados por comas. A continuación, ponemos dos puntos (``:``) y la expresión que queremos evaluar. \n",
    "\n",
    "Para nuestro ejemplo de calcular el cuadrado de un número, su expresión lambda seria la siguiente: "
   ]
  },
  {
   "cell_type": "code",
   "execution_count": 308,
   "id": "a7b3dee0",
   "metadata": {
    "slideshow": {
     "slide_type": "slide"
    }
   },
   "outputs": [
    {
     "data": {
      "text/plain": [
       "<function __main__.<lambda>(x)>"
      ]
     },
     "execution_count": 308,
     "metadata": {},
     "output_type": "execute_result"
    }
   ],
   "source": [
    "lambda x: x ** 2 "
   ]
  },
  {
   "cell_type": "markdown",
   "id": "61100663",
   "metadata": {
    "slideshow": {
     "slide_type": "slide"
    }
   },
   "source": [
    "Esta expresión nos devuelve un objeto función, el cual podemos asignar a una variable y utilizarlo más adelante: "
   ]
  },
  {
   "cell_type": "code",
   "execution_count": 309,
   "id": "933463de",
   "metadata": {
    "slideshow": {
     "slide_type": "slide"
    }
   },
   "outputs": [
    {
     "data": {
      "text/plain": [
       "64"
      ]
     },
     "execution_count": 309,
     "metadata": {},
     "output_type": "execute_result"
    }
   ],
   "source": [
    "cuadrado = lambda x: x ** 2 \n",
    "cuadrado(8) # Devolverá 64 "
   ]
  },
  {
   "cell_type": "markdown",
   "id": "8e9515bb",
   "metadata": {
    "slideshow": {
     "slide_type": "slide"
    }
   },
   "source": [
    "La principal ventaja de utilizar este tipo de funciones es combinándolo con las funciones ``filter()`` o ``map()``. \n",
    "\n",
    "- **función ``filter``** \n",
    "    \n",
    "    * nos permite que filtremos elementos de una secuencia si cumplen una función condicional. \n",
    "    * Esta función debe recibir dos argumentos, el primero de ellos, una función y el segundo, un objeto de tipo secuencia. \n",
    "    \n",
    "Vamos a ver un ejemplo en el que buscamos los números pares de una lista. \n",
    "\n",
    "\n"
   ]
  },
  {
   "cell_type": "code",
   "execution_count": 170,
   "id": "840b01d0",
   "metadata": {
    "slideshow": {
     "slide_type": "slide"
    }
   },
   "outputs": [
    {
     "data": {
      "text/plain": [
       "[2, 4, 6, 8, 10]"
      ]
     },
     "execution_count": 170,
     "metadata": {},
     "output_type": "execute_result"
    }
   ],
   "source": [
    "# Definimos la lista con los números que vamos a analizar. \n",
    "lista = [1,2,3,4,5,6,7,8,9,10] \n",
    "\n",
    " # Definimos la expresión lambda que analiza si un número es par o no. \n",
    "es_par = lambda numero: numero % 2 == 0 \n",
    "\n",
    "# Aplicamos el filtro para obtener los números pares. Tenemos que insertarlo \n",
    "# en una lista para tener el resultado en formato lista. \n",
    "list(filter(es_par, lista)) # Nos devolverá [2, 4, 6, 8, 10] "
   ]
  },
  {
   "cell_type": "markdown",
   "id": "be699bb4",
   "metadata": {
    "slideshow": {
     "slide_type": "slide"
    }
   },
   "source": [
    "- **La función ``map``** \n",
    "\n",
    "    * nos permite aplicar una función a todos los elementos de una secuencia. \n",
    "    * Para ello, pasamos como argumentos de la función map, en primer lugar, la función que queremos aplicar y, luego, el objeto con los elementos a los que se les quiere aplicar la función. \n",
    "    \n",
    "Por ejemplo, vamos a aplicar la función cuadrado a la lista anterior: "
   ]
  },
  {
   "cell_type": "code",
   "execution_count": 171,
   "id": "4783108e",
   "metadata": {
    "slideshow": {
     "slide_type": "slide"
    }
   },
   "outputs": [
    {
     "data": {
      "text/plain": [
       "[1, 4, 9, 16, 25, 36, 49, 64, 81, 100]"
      ]
     },
     "execution_count": 171,
     "metadata": {},
     "output_type": "execute_result"
    }
   ],
   "source": [
    "# Definimos la lista con los números que vamos a analizar. \n",
    "lista = [1,2,3,4,5,6,7,8,9,10] \n",
    " \n",
    "# Aplicamos el filtro para obtener los números pares. Tenemos que insertarlo \n",
    "#en una lista para tener el resultado en formato lista. \n",
    "list(map(cuadrado, lista)) # Nos devolverá [1, 4, 9, 16, 25, 36, 49, 64, 81, 100]"
   ]
  },
  {
   "cell_type": "code",
   "execution_count": 310,
   "id": "4921f33f",
   "metadata": {},
   "outputs": [
    {
     "data": {
      "text/plain": [
       "[0, 1, 4, 9, 16]"
      ]
     },
     "execution_count": 310,
     "metadata": {},
     "output_type": "execute_result"
    }
   ],
   "source": [
    "# Creación de lista de numeros cuadrados\n",
    "#forma 1\n",
    "f = lambda x: x*x\n",
    "l = [ f(x) for x in range(5)]\n",
    "l"
   ]
  },
  {
   "cell_type": "code",
   "execution_count": 311,
   "id": "8ed99dcb",
   "metadata": {},
   "outputs": [
    {
     "data": {
      "text/plain": [
       "[0, 1, 4, 9, 16]"
      ]
     },
     "execution_count": 311,
     "metadata": {},
     "output_type": "execute_result"
    }
   ],
   "source": [
    "# forma 2\n",
    "l = [(lambda x:x*x) (x) for x in range(5)]\n",
    "l"
   ]
  },
  {
   "cell_type": "code",
   "execution_count": 203,
   "id": "8d3d70bc",
   "metadata": {},
   "outputs": [
    {
     "data": {
      "text/plain": [
       "[<function __main__.<listcomp>.<lambda>(x)>,\n",
       " <function __main__.<listcomp>.<lambda>(x)>,\n",
       " <function __main__.<listcomp>.<lambda>(x)>,\n",
       " <function __main__.<listcomp>.<lambda>(x)>,\n",
       " <function __main__.<listcomp>.<lambda>(x)>]"
      ]
     },
     "execution_count": 203,
     "metadata": {},
     "output_type": "execute_result"
    }
   ],
   "source": [
    "# error\n",
    "l = [lambda x:x*x for x in range(5)]\n",
    "l\n"
   ]
  },
  {
   "cell_type": "code",
   "execution_count": 312,
   "id": "653a22f1",
   "metadata": {},
   "outputs": [
    {
     "data": {
      "text/plain": [
       "9"
      ]
     },
     "execution_count": 312,
     "metadata": {},
     "output_type": "execute_result"
    }
   ],
   "source": [
    "# múltiples parámetros\n",
    "(lambda x,y=3 : x +y)(4,5)"
   ]
  },
  {
   "cell_type": "code",
   "execution_count": 313,
   "id": "1a978e3a",
   "metadata": {},
   "outputs": [
    {
     "data": {
      "text/plain": [
       "7"
      ]
     },
     "execution_count": 313,
     "metadata": {},
     "output_type": "execute_result"
    }
   ],
   "source": [
    "(lambda x,y=3 : x +y)(4)"
   ]
  },
  {
   "cell_type": "code",
   "execution_count": 315,
   "id": "fd6c5f54",
   "metadata": {
    "slideshow": {
     "slide_type": "slide"
    }
   },
   "outputs": [],
   "source": [
    "# utilizar funciones como argumentos\n",
    "high_ord_func = lambda x, func: x + func(x)"
   ]
  },
  {
   "cell_type": "code",
   "execution_count": 316,
   "id": "12965efa",
   "metadata": {},
   "outputs": [],
   "source": [
    "def f(a):\n",
    "    return 1 + 2*a + a*a"
   ]
  },
  {
   "cell_type": "code",
   "execution_count": 317,
   "id": "218e330f",
   "metadata": {},
   "outputs": [
    {
     "data": {
      "text/plain": [
       "19"
      ]
     },
     "execution_count": 317,
     "metadata": {},
     "output_type": "execute_result"
    }
   ],
   "source": [
    "# 3 + f(3) = 3 + (1 + 2*3 + 3*3)\n",
    "high_ord_func(3,f)\n"
   ]
  },
  {
   "cell_type": "code",
   "execution_count": null,
   "id": "0c0300cd",
   "metadata": {},
   "outputs": [],
   "source": []
  },
  {
   "cell_type": "code",
   "execution_count": null,
   "id": "0cfddc9f",
   "metadata": {},
   "outputs": [],
   "source": []
  },
  {
   "cell_type": "code",
   "execution_count": null,
   "id": "2ec9cbba",
   "metadata": {},
   "outputs": [],
   "source": []
  },
  {
   "cell_type": "code",
   "execution_count": null,
   "id": "843aa39b",
   "metadata": {},
   "outputs": [],
   "source": []
  },
  {
   "cell_type": "code",
   "execution_count": null,
   "id": "aaf247e9",
   "metadata": {},
   "outputs": [],
   "source": []
  },
  {
   "cell_type": "code",
   "execution_count": null,
   "id": "00c4e0a6",
   "metadata": {},
   "outputs": [],
   "source": []
  },
  {
   "cell_type": "code",
   "execution_count": null,
   "id": "7f68adbc",
   "metadata": {},
   "outputs": [],
   "source": []
  },
  {
   "cell_type": "code",
   "execution_count": null,
   "id": "0aa0a177",
   "metadata": {},
   "outputs": [],
   "source": []
  },
  {
   "cell_type": "code",
   "execution_count": null,
   "id": "8b4b78dd",
   "metadata": {},
   "outputs": [],
   "source": []
  },
  {
   "cell_type": "code",
   "execution_count": null,
   "id": "0874ec8e",
   "metadata": {},
   "outputs": [],
   "source": []
  },
  {
   "cell_type": "code",
   "execution_count": null,
   "id": "08dbb967",
   "metadata": {},
   "outputs": [],
   "source": []
  },
  {
   "cell_type": "markdown",
   "id": "fb7c69f4",
   "metadata": {
    "slideshow": {
     "slide_type": "slide"
    }
   },
   "source": []
  }
 ],
 "metadata": {
  "kernelspec": {
   "display_name": "Python 3",
   "language": "python",
   "name": "python3"
  },
  "language_info": {
   "codemirror_mode": {
    "name": "ipython",
    "version": 3
   },
   "file_extension": ".py",
   "mimetype": "text/x-python",
   "name": "python",
   "nbconvert_exporter": "python",
   "pygments_lexer": "ipython3",
   "version": "3.8.8"
  }
 },
 "nbformat": 4,
 "nbformat_minor": 5
}
