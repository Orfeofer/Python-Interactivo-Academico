{
  "nbformat": 4,
  "nbformat_minor": 0,
  "metadata": {
    "colab": {
      "name": "DirigidaPooFIIS.ipynb",
      "provenance": []
    },
    "kernelspec": {
      "name": "python3",
      "display_name": "Python 3"
    },
    "language_info": {
      "name": "python"
    }
  },
  "cells": [
    {
      "cell_type": "markdown",
      "metadata": {
        "id": "J3WSbiDa_GLC"
      },
      "source": [
        "# EJERCICIO 1\n",
        "Diseñe y desarrolle la clase Raza que simule las acciones que puede realizar una raza elegida por un jugador en el juego de estrategia Starcraft.\n",
        "\n",
        "\n",
        "1.   La clase Raza debería contar un atributo tipoRaza (usted elige si es numerico o cadena) y los siguientes atributos num´ericos: nroObreros,nroRefinerias, mineral y gas.\n",
        "2.   La clase Raza debería soportar tres razas. Zerg, Terran y Protoss. Solo cree un constructor que inicialice este parámetro, los otros valores se inicializarían de la siguiente forma:\n",
        "\n",
        "\n",
        ">      nroObreros = 4\n",
        ">      resto de atributos = 0\n",
        "\n",
        "3.   La clase Raza debera tener un m´etodo verRecursos() que imprima en consola el nro de obreros, refinerias, mineral y gas.\n",
        "\n",
        "4.   La clase Raza debería tener un método produccion() que incremente los recursos segun las siguientes reglas\n",
        "\n",
        "\n",
        ">      El mineral se incrementara en 1 unidad por cada obrero disponible.\n",
        ">      El gas se incrementaría en 2 unidades por cada refineria disponible.\n",
        "\n",
        "5.   Implementar las funciones crearObrero(), y crearRefineria() que incrementen dichos recursos en +1. Nota. Para los zerg, crearRefineria disminuye el nroObreros en 1.\n",
        "\n"
      ]
    },
    {
      "cell_type": "code",
      "metadata": {
        "id": "hEuWalq2ALAa"
      },
      "source": [
        "#SOLUCION\n"
      ],
      "execution_count": null,
      "outputs": []
    },
    {
      "cell_type": "markdown",
      "metadata": {
        "id": "ofGc5nc_BJvB"
      },
      "source": [
        "# EJERCICIO 2\n",
        "Se desea ayudar a una persona a gestionar sus cuentas bancarias, cree la clase Persona y Cuenta Bancaria teniendo en cuenta que una persona puede tener asociada varias cuentas bancarias, ademas:\n",
        "\n",
        "\n",
        "\n",
        "*   Una cuenta bancaria se caracteriza por tener un código, el nombre del Banco y el saldo disponible, se puede consultar el saldo disponible en cualquier momento, recibir abonos y pagar recibos.\n",
        "*   Una persona tiene un DNI, varias cuentas bancarias y una variable si indica si es moroso o no dependiendo de si el saldo es negativo en alguna de sus cuentas en cualquier momento, la persona puede añadir y quitar cuentas, también puede imprimir el saldo de todas las cuentas, junto con la variable moroso.\n",
        "*   Escriba todas las clases, constructores, métodos, getter y setter que considere necesarios, y escriba en el main() un ejemplo de creación de un persona con sus cuentas bancarias respectivas, haga retiros y depositos en todas las cuentas y llame a los métodos implementados.\n",
        "\n",
        "\n",
        "\n",
        "\n",
        "\n"
      ]
    },
    {
      "cell_type": "code",
      "metadata": {
        "id": "80t17fQ2BsRB"
      },
      "source": [
        "#SOLUCION\n"
      ],
      "execution_count": null,
      "outputs": []
    },
    {
      "cell_type": "markdown",
      "metadata": {
        "id": "NQnRcrvLBx24"
      },
      "source": [
        ""
      ]
    },
    {
      "cell_type": "markdown",
      "metadata": {
        "id": "-HHmdhDWBybB"
      },
      "source": [
        "# EJERCICIO 3\n",
        "Escribir un programa que utilizando la clase casa_t genere un vector de n casas y ubique la casa más cercana a una posición (x, y):\n",
        "\n",
        "\n",
        "![casa_t.png](data:image/png;base64,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)\n",
        "\n",
        "## Input Format\n",
        "```\n",
        "4\n",
        "Calle A 130\n",
        "10 20\n",
        "Calle B 210\n",
        "20 30\n",
        "Calle C 404\n",
        "30 50\n",
        "Calle D 111\n",
        "11 15\n",
        "1 1\n",
        "```\n",
        "## Output Format\n",
        "```\n",
        "dirección = Calle D 111\n",
        "distancia = 17.20465053\n",
        "```\n",
        "\n",
        "\n",
        "\n",
        "\n"
      ]
    },
    {
      "cell_type": "code",
      "metadata": {
        "id": "Lolf5UZ3FT2C"
      },
      "source": [
        "# Solucion"
      ],
      "execution_count": null,
      "outputs": []
    },
    {
      "cell_type": "markdown",
      "metadata": {
        "id": "nDG8OwSmEC6b"
      },
      "source": [
        "# EJERCICIO 4\n",
        "Escribir un programa que utilizando la clase $cuenta\\_t$ determine el saldo final de una cuenta, para ello el programa debe crearla solicitando inicialmente:\n",
        "\n",
        "\n",
        "*   Número de cuenta (id),\n",
        "*   Moneda (currency) donde S es Soles y D Dolares\n",
        "*   Saldo inicial (balance) y\n",
        "*   Tipo de cambio (exchange).\n",
        "\n",
        "Luego se debe ingresar $n$ transacciones que incluyan la siguiente información:\n",
        "\n",
        "\n",
        "*   Moneda\n",
        "*   Importe: En caso las monedas no coincidan debe convertirse un importe al otro utilizando la siguiente formula:\n",
        "\n",
        "\n",
        "\n",
        ">     [soles] = [dolares] x [tipo de cambio]\n",
        "\n",
        "\n",
        "\n",
        "\n",
        "## Input Format\n",
        "```\n",
        "CTA001 S 100 3.6\n",
        "4\n",
        "S 100\n",
        "D 50\n",
        "S 20\n",
        "S -50\n",
        "```\n",
        "## Output Format\n",
        "```\n",
        "el saldo es = 350 Soles \n",
        "```\n",
        "\n"
      ]
    },
    {
      "cell_type": "code",
      "metadata": {
        "id": "rA8e3y1WFW2w"
      },
      "source": [
        "# Solucion:"
      ],
      "execution_count": 1,
      "outputs": []
    },
    {
      "cell_type": "markdown",
      "metadata": {
        "id": "tRF_vM4_FZSK"
      },
      "source": [
        "# EJERCICIO 5\n",
        "\n",
        "Un tren de carga lleva dos tipos de vagones: VagonCaja que tiene forma de una caja rectangular y VagonTanque que tiene forma cilíndrica, debe implementar lo siguiente:\n",
        "\n",
        "\n",
        "*   La clase Vagon tiene un dato miembro que representa la longitud de los vagones, y un codigo del Vagon. También tiene un método volumen() que retorna la capacidad en metros cúbicos del vagón.\n",
        "*   VagonCaja es un tipo de Vagon, debería almacenar su alto y ancho. Debe redenir el método Volumen(), recordar que el volumen de una caja es $alto*ancho*longitud$.\n",
        "*   VagonTanque, debería almacenar su radio. Debe redenir el método Volumen(), recordar que el volumen de un cilindro es $\\pi*radio^2*longitud$.\n",
        "\n",
        "*    Cree una clase Tren que represente a un tren de carga con sus vagones, use un array o lista de objetos de tipo Vagon, tambien tiene una variable que representa la cantidad maxima de vagones que se le puede agregar. Tiene que tener métodos para agregar vagones, quitar vagones según el codigo, y otro método que retorne el volumen total de carga del tren, también un método que imprima en una tabla el volumen de cada vagón.\n",
        "\n",
        "*    En la función main() cree varios objetos de tipo VagonCaja y VagonTanque, agregalos a un objeto de tipo Tren e imprima el volumen de cada Vagón y el volumen total.\n"
      ]
    },
    {
      "cell_type": "code",
      "metadata": {
        "id": "IcbBBoutIBVP"
      },
      "source": [
        "# Solucion:"
      ],
      "execution_count": null,
      "outputs": []
    },
    {
      "cell_type": "markdown",
      "metadata": {
        "id": "se03GZmYFZV7"
      },
      "source": [
        ""
      ]
    }
  ]
}