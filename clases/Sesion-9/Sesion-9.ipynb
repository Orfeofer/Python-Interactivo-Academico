{
 "cells": [
  {
   "cell_type": "markdown",
   "id": "c0b4e10e",
   "metadata": {},
   "source": [
    "# 1. Introducción y objetivos \n",
    "\n",
    "Este es el último tema que trata la introducción a la programación en Python. \n",
    "\n",
    "En este tema veremos algunas sentencias más avanzadas para aplicar a nuestros programas. \n",
    "\n",
    "En primer lugar, describiremos el uso de las expresiones regulares para buscar patrones dentro de textos. \n",
    "\n",
    "A continuación, veremos cómo se generan los errores en Python y qué forma tenemos de gestionarlos para que no se termine la ejecución. \n",
    "\n",
    "Por último, explicaremos el uso de compresión de listas, una forma sencilla de crear listas cuyos elementos se obtienen al aplicar una operación a los elementos de otra secuencia. \n",
    "\n",
    "Al finalizar este tema habremos conseguido los siguientes objetivos: \n",
    "\n",
    "* Conocer las funciones para buscar y modificar elementos en textos. \n",
    "* Aprender la sintaxis de las expresiones regulares para definir patrones de texto. \n",
    "* Aplicar estructuras que nos permitan controlar los errores que podemos tener en nuestros programas. \n",
    "* Crear diferentes estructuras de datos usando la técnica de compresión. "
   ]
  },
  {
   "cell_type": "markdown",
   "id": "10064095",
   "metadata": {},
   "source": [
    "# 2. Expresiones regulares \n",
    "\n",
    "En un tema anterior vimos algunas funciones dentro de las cadenas de caracteres que nos permitían obtener los caracteres que ocupan posiciones concretas o conocer la posición de subcadenas que ya conocemos. \n",
    "\n",
    "Sin embargo, en muchas ocasiones necesitamos buscar otras subcadenas que no tienen el mismo contenido siempre, pero que siguen un patrón, como un número de teléfono. Para poder buscar este tipo de subcadenas necesitamos utilizar expresiones regulares. \n",
    "\n",
    "Las expresiones regulares son una secuencia de caracteres con otros caracteres especiales que nos permiten definir patrones de texto. Utilizando estas expresiones regulares, podemos buscar estos patrones en cadenas de texto. \n",
    "\n",
    "Para aplicar las expresiones regulares en cadenas de texto, **usaremos el módulo ``re`` de Python**. Para ello, importaremos este módulo la primera vez que lo utilicemos: \n",
    "\n",
    " "
   ]
  },
  {
   "cell_type": "code",
   "execution_count": 1,
   "id": "a9a4e39f",
   "metadata": {},
   "outputs": [],
   "source": [
    "import re "
   ]
  },
  {
   "cell_type": "markdown",
   "id": "8ee834da",
   "metadata": {},
   "source": [
    "A continuación, vamos a explicar algunos de los métodos que tenemos disponibles \n",
    "en ``re``: \n",
    "\n",
    "* ``search()``: esta función busca la primera aparición del patrón en la cadena de texto. Como resultado nos devuelve un objeto de tipo match en el que podemos obtener las posiciones donde se encuentra el patrón dentro de la cadena de texto. En caso de que no exista el patrón dentro de la cadena, la función devuelve un objeto None. \n"
   ]
  },
  {
   "cell_type": "code",
   "execution_count": 10,
   "id": "d22197d3",
   "metadata": {},
   "outputs": [
    {
     "name": "stdout",
     "output_type": "stream",
     "text": [
      "Comienzo: 37 Final: 42\n"
     ]
    }
   ],
   "source": [
    "mensaje = \"Esto es un mensaje de prueba para el curso de Python.\" \n",
    "match = re.search('curso', mensaje) \n",
    "print(\"Comienzo:\", match.start(), \"Final:\", match.end()) # Devolverá Comienzo: 37 Final: 42 "
   ]
  },
  {
   "cell_type": "markdown",
   "id": "8a438ddb",
   "metadata": {},
   "source": [
    "* ``finditer()``: esta función buscara todas las apariciones del patrón en la cadena de texto. Como resultado nos devuelve un iterable que contrendrá objetos de tipo match en el que podemos obtener las posiciones donde se encuentra el patrón dentro de la cadena de texto. En caso de que no exista el patrón dentro de la cadena, la función devuelve un objeto None. "
   ]
  },
  {
   "cell_type": "code",
   "execution_count": 135,
   "id": "a65687e7",
   "metadata": {},
   "outputs": [
    {
     "name": "stdout",
     "output_type": "stream",
     "text": [
      "37\n",
      "42\n",
      "54\n",
      "59\n",
      "69\n",
      "74\n"
     ]
    }
   ],
   "source": [
    "mensaje = \"Esto es un mensaje de prueba para el curso de Python, curso de java, curso de C.\" \n",
    "match = re.finditer('curso', mensaje) \n",
    "for item in match:\n",
    "    print(item.start())\n",
    "    print(item.end())"
   ]
  },
  {
   "cell_type": "markdown",
   "id": "8741bdfa",
   "metadata": {},
   "source": [
    "* ``match()``: busca un patrón al principio de la cadena. En caso de que no exista el \n",
    "patrón o no se encuentre al principio de la cadena, devolverá un objeto de tipo \n",
    "None. "
   ]
  },
  {
   "cell_type": "code",
   "execution_count": 10,
   "id": "9e750e54",
   "metadata": {},
   "outputs": [
    {
     "name": "stdout",
     "output_type": "stream",
     "text": [
      "Comienzo: 0 Final: 4\n"
     ]
    }
   ],
   "source": [
    "mensaje = \"Esto es un mensaje de prueba para el curso de Python.\" \n",
    "match = re.match('Esto', mensaje) \n",
    "print(\"Comienzo:\", match.start(), \"Final:\", match.end()) # Devolverá Comienzo: 0 Final:4 "
   ]
  },
  {
   "cell_type": "markdown",
   "id": "c3bf7fa7",
   "metadata": {},
   "source": [
    "* ``split()``: este método nos permite dividir una cadena de caracteres siguiendo un \n",
    "patrón. Como resultado nos devuelve una lista con cada una de las divisiones. "
   ]
  },
  {
   "cell_type": "code",
   "execution_count": 3,
   "id": "4e28c662",
   "metadata": {},
   "outputs": [
    {
     "data": {
      "text/plain": [
       "['Esto',\n",
       " 'es',\n",
       " 'un',\n",
       " 'mensaje',\n",
       " 'de',\n",
       " 'prueba',\n",
       " 'para',\n",
       " 'el',\n",
       " 'curso',\n",
       " 'de',\n",
       " 'Python.']"
      ]
     },
     "execution_count": 3,
     "metadata": {},
     "output_type": "execute_result"
    }
   ],
   "source": [
    "mensaje = \"Esto es un mensaje de prueba para el curso de Python.\" \n",
    "re.split(' ', mensaje) # Devolverá una lista donde cada elemento es una palabra del mensaje. "
   ]
  },
  {
   "cell_type": "code",
   "execution_count": 53,
   "id": "16247384",
   "metadata": {
    "scrolled": true
   },
   "outputs": [
    {
     "data": {
      "text/plain": [
       "['', 'C', 'o', 'm', 'p', 'u', 't', 'a', 'd', 'o', 'r', 'a', '']"
      ]
     },
     "execution_count": 53,
     "metadata": {},
     "output_type": "execute_result"
    }
   ],
   "source": [
    "prueba = 'Computadora'\n",
    "re.split('', prueba)"
   ]
  },
  {
   "cell_type": "markdown",
   "id": "f94baa06",
   "metadata": {},
   "source": [
    "* ``sub()``: permite sustituir los patrones encontrados por otra subcadena que pasamos por parámetro. "
   ]
  },
  {
   "cell_type": "code",
   "execution_count": 13,
   "id": "093d1ba1",
   "metadata": {},
   "outputs": [
    {
     "data": {
      "text/plain": [
       "'Esto es un mensaje de prueba para el curso de Java.'"
      ]
     },
     "execution_count": 13,
     "metadata": {},
     "output_type": "execute_result"
    }
   ],
   "source": [
    "mensaje = \"Esto es un mensaje de prueba para el curso de Python.\" \n",
    "re.sub('Python', 'Java', mensaje) # Devolverá 'Esto es un mensaje de prueba para el curso de Java.' "
   ]
  },
  {
   "cell_type": "markdown",
   "id": "60a1fc60",
   "metadata": {},
   "source": [
    "* ``findall()``: busca todas las apariciones de un patrón dentro de una cadena de caracteres. Como resultado nos devolverá una lista con todas las subcadenas que cumplen con el patrón. "
   ]
  },
  {
   "cell_type": "code",
   "execution_count": 14,
   "id": "81296572",
   "metadata": {},
   "outputs": [
    {
     "data": {
      "text/plain": [
       "['de', 'de']"
      ]
     },
     "execution_count": 14,
     "metadata": {},
     "output_type": "execute_result"
    }
   ],
   "source": [
    "mensaje = \"Esto es un mensaje de prueba para el curso de Python.\" \n",
    "re.findall('de', mensaje) # Devolverá ['de', 'de'] "
   ]
  },
  {
   "cell_type": "markdown",
   "id": "2faa56f2",
   "metadata": {},
   "source": [
    "Estas son las funciones más importantes. \n",
    "\n",
    "Sin embargo, ahora es necesario conocer cómo construir patrones más complejos que nos permitan buscar subcadenas con diferente contenido, pero con quien tengan un patrón en común, por ejemplo, fechas de nacimiento, apellidos,localidades, etc. \n",
    "\n",
    "Para los siguientes ejemplos usaremos un texto más amplio extraído de Wikipedia: "
   ]
  },
  {
   "cell_type": "code",
   "execution_count": 15,
   "id": "aa2dac4a",
   "metadata": {},
   "outputs": [],
   "source": [
    "texto = \"\"\"Un texto es una composición de signos codificados en un sistema de escritura que forma una unidad de sentido. \n",
    "\n",
    "También es una composición de caracteres imprimibles (con grafema) generados por un algoritmo de cifrado que, aunque \n",
    "no tiene sentido para cualquier persona, sí puede ser descifrado por su destinatario original. En otras palabras, un \n",
    "texto es un entramado de signos con una intención comunicativa que adquiere sentido en determinado contexto.\"\"\""
   ]
  },
  {
   "cell_type": "code",
   "execution_count": 16,
   "id": "fa0b3cf9",
   "metadata": {},
   "outputs": [
    {
     "data": {
      "text/plain": [
       "'Un texto es una composición de signos codificados en un sistema de escritura que forma una unidad de sentido. \\n\\nTambién es una composición de caracteres imprimibles (con grafema) generados por un algoritmo de cifrado que, aunque \\nno tiene sentido para cualquier persona, sí puede ser descifrado por su destinatario original. En otras palabras, un \\ntexto es un entramado de signos con una intención comunicativa que adquiere sentido en determinado contexto.'"
      ]
     },
     "execution_count": 16,
     "metadata": {},
     "output_type": "execute_result"
    }
   ],
   "source": [
    "texto"
   ]
  },
  {
   "cell_type": "markdown",
   "id": "32b24fb0",
   "metadata": {},
   "source": [
    "Para comprender las expresiones regulares, es necesario conocer los distintos \n",
    "componentes que tenemos dentro de una de ellas: \n",
    "\n",
    "* *Literales*: estos son los elementos que contienen únicamente caracteres básicos. Son los que hemos visto en los ejemplos anteriores para explicar las funciones del módulo ``re``. \n",
    "\n",
    "* *Caracteres de escape*: se utilizan para definir caracteres especiales dentro de una cadena de texto como, por ejemplo, son los saltos de línea. También es necesario utilizarlos para buscar caracteres que dentro de una expresión regular tienen un significado propio, por ejemplo, el asterisco **(*)**. \n",
    "\n",
    "    Los caracteres de escape comienzan con una barra invertida (``\\``). Algunos de los caracteres de escape más importantes son los siguientes: \n",
    "    \n",
    "\n",
    "- ``\\n``: salto de línea.\n",
    "- ``\\t``: tabulador. \n",
    "- ``\\\\``: barra diagonal inversa. \n",
    "- ``\\d``: un dígito. \n",
    "- ``\\w``: un carácter alfanumérico. \n",
    "- ``\\s``: un espacio en blanco. \n",
    "- ``\\D``: carácter que no sea un dígito. \n",
    "- ``\\W``: carácter que no sea alfanumérico. \n",
    "\n",
    " \n",
    "\n",
    "Para usarlos, solo debemos incluirlos dentro de una cadena de texto que usaremos en la función correspondiente del módulo ``re``. \n",
    "\n",
    "Por ejemplo, si queremos sustituir todos los saltos de línea por el texto “\\*\\*AQUÍ\\*\\*” en el texto, aplicaremos el \n",
    "carácter de escape correspondiente para usarlo en la función ``sub``: "
   ]
  },
  {
   "cell_type": "code",
   "execution_count": 17,
   "id": "b600c55b",
   "metadata": {},
   "outputs": [
    {
     "data": {
      "text/plain": [
       "'Un texto es una composición de signos codificados en un sistema de escritura que forma una unidad de sentido. **AQUI****AQUI**También es una composición de caracteres imprimibles (con grafema) generados por un algoritmo de cifrado que, aunque **AQUI**no tiene sentido para cualquier persona, sí puede ser descifrado por su destinatario original. En otras palabras, un **AQUI**texto es un entramado de signos con una intención comunicativa que adquiere sentido en determinado contexto.'"
      ]
     },
     "execution_count": 17,
     "metadata": {},
     "output_type": "execute_result"
    }
   ],
   "source": [
    "re.sub('\\n', '**AQUI**', texto) "
   ]
  },
  {
   "cell_type": "markdown",
   "id": "7b8b4a65",
   "metadata": {},
   "source": [
    "* *Grupos de caracteres*: El uso de grupos de caracteres nos permiten, no solo encontrar un patrón en el texto, sino también capturar el resultado del patrón para procesarlo más adelante. \n",
    "\n",
    "Vamos a ver esto a través de un ejemplo. Imaginemos que queremos capturar las palabras que empiecen por se- y que tengan otra palabra a continuación. Para ello podemos usar el siguiente patrón: "
   ]
  },
  {
   "cell_type": "code",
   "execution_count": 21,
   "id": "f36c240e",
   "metadata": {
    "scrolled": true
   },
   "outputs": [
    {
     "data": {
      "text/plain": [
       "['sentido para', 'ser descifrado', 'sentido en']"
      ]
     },
     "execution_count": 21,
     "metadata": {},
     "output_type": "execute_result"
    }
   ],
   "source": [
    "pattern = 'se\\w+\\s\\w+' \n",
    "re.findall(pattern, texto) # Devolverá ['sentido para', 'ser descifrado', 'sentido en'] "
   ]
  },
  {
   "cell_type": "markdown",
   "id": "bf0a5f15",
   "metadata": {},
   "source": [
    "Sin embargo, nosotros solo queremos conocer cuál es la palabra que empieza por se- y no el resto de los elementos, es decir, la palabra que viene a continuación. \n",
    "\n",
    "Para ello, agrupamos el patrón que define las palabras que empiezan por se- usando los paréntesis: "
   ]
  },
  {
   "cell_type": "code",
   "execution_count": 25,
   "id": "f505d310",
   "metadata": {},
   "outputs": [
    {
     "data": {
      "text/plain": [
       "['sentido', 'ser', 'sentido']"
      ]
     },
     "execution_count": 25,
     "metadata": {},
     "output_type": "execute_result"
    }
   ],
   "source": [
    "pattern = '(se\\w+)\\s\\w+' \n",
    "re.findall(pattern, texto) # Devolverá ['sentido', 'ser', 'sentido'] "
   ]
  },
  {
   "cell_type": "markdown",
   "id": "b622572b",
   "metadata": {},
   "source": [
    "Como se puede apreciar, esto nos permite capturar únicamente la parte que nos \n",
    "interesa del patrón, es decir, las palabras que empiezan por se- pero que, además, \n",
    "tienen otra palabra a continuación. \n",
    "\n",
    "* *Metacaracteres*: los metacaracteres son caracteres que tienen un significado especial dentro de las expresiones regulares. Estos metacaracteres permiten buscar repeticiones de patrones, tipos de caracteres, etc. \n",
    "\n",
    "    A continuación, describiremos algunos de los metacaracteres más comunes: \n",
    "\n",
    "    * ``|``: nos permite separar distintas alternativas que estamos buscando dentro de un texto. Por ejemplo, si queremos sustituir cualquier aparición de las palabras es o ser por \"\\*\\*AQUÍ\\*\\*\", usaremos el siguiente patrón: "
   ]
  },
  {
   "cell_type": "code",
   "execution_count": 26,
   "id": "e052564b",
   "metadata": {},
   "outputs": [
    {
     "data": {
      "text/plain": [
       "'Un texto **AQUI** una composición de signos codificados en un sistema de **AQUI**critura que forma una unidad de sentido. \\n\\nTambién **AQUI** una composición de caracter**AQUI** imprimibl**AQUI** (con grafema) generados por un algoritmo de cifrado que, aunque \\nno tiene sentido para cualquier persona, sí puede **AQUI** d**AQUI**cifrado por su d**AQUI**tinatario original. En otras palabras, un \\ntexto **AQUI** un entramado de signos con una intención comunicativa que adquiere sentido en determinado contexto.'"
      ]
     },
     "execution_count": 26,
     "metadata": {},
     "output_type": "execute_result"
    }
   ],
   "source": [
    "pattern = 'es|ser' \n",
    "re.sub(pattern, '**AQUI**', texto) "
   ]
  },
  {
   "cell_type": "markdown",
   "id": "4bd9df49",
   "metadata": {},
   "source": [
    "* *Metacaracteres*:\n",
    "    * ``?``: el elemento que le precede aparece una vez o ninguna. Imaginemos, en el siguiente ejemplo, que buscamos cualquier número que tenga un dígito o ninguno seguido de un espacio: "
   ]
  },
  {
   "cell_type": "code",
   "execution_count": 32,
   "id": "cff3274e",
   "metadata": {},
   "outputs": [
    {
     "data": {
      "text/plain": [
       "['1 ', '2 ', '3 ']"
      ]
     },
     "execution_count": 32,
     "metadata": {},
     "output_type": "execute_result"
    }
   ],
   "source": [
    "ejemplo = '1 22 333 4444' \n",
    "pattern = '\\d?\\s' \n",
    "re.findall(pattern, ejemplo) # Devolverá ['1 ', '2 ', '3 '] "
   ]
  },
  {
   "cell_type": "markdown",
   "id": "fcf6a080",
   "metadata": {},
   "source": [
    "* *Metacaracteres*:\n",
    "    * ``+``: el elemento que le precede aparece una o más veces. Por ejemplo, en el siguiente ejemplo, vamos a buscar el número donde aparezca el dígito 3 una o más veces: \n"
   ]
  },
  {
   "cell_type": "code",
   "execution_count": 34,
   "id": "459ae987",
   "metadata": {},
   "outputs": [
    {
     "data": {
      "text/plain": [
       "['333']"
      ]
     },
     "execution_count": 34,
     "metadata": {},
     "output_type": "execute_result"
    }
   ],
   "source": [
    "ejemplo = '1 22 333 4444' \n",
    "pattern = '3+' \n",
    "re.findall(pattern, ejemplo) # Devolverá ['333'] "
   ]
  },
  {
   "cell_type": "markdown",
   "id": "3265fef9",
   "metadata": {},
   "source": [
    "* *Metacaracteres*:\n",
    "    * ``*``: el elemento que le precede aparece ninguna o más veces. Por ejemplo, en el siguiente ejemplo buscaremos qué parte contiene el dígito 1 ninguna o más veces seguido del número 2: "
   ]
  },
  {
   "cell_type": "code",
   "execution_count": 36,
   "id": "f840a563",
   "metadata": {},
   "outputs": [
    {
     "data": {
      "text/plain": [
       "['112', '2']"
      ]
     },
     "execution_count": 36,
     "metadata": {},
     "output_type": "execute_result"
    }
   ],
   "source": [
    "ejemplo = '1122333114444' \n",
    "pattern = '(1*2)' \n",
    "re.findall(pattern, ejemplo) # Devolverá ['12', '2'] "
   ]
  },
  {
   "cell_type": "markdown",
   "id": "51afd8fd",
   "metadata": {},
   "source": [
    "* *Metacaracteres*:\n",
    "\n",
    "    * ``{n}``: el elemento que le precede aparece n veces. En el siguiente ejemplo buscaremos qué parte de la cadena de caracteres tiene exactamente 3 dígitos: "
   ]
  },
  {
   "cell_type": "code",
   "execution_count": 40,
   "id": "9a8b075d",
   "metadata": {},
   "outputs": [
    {
     "data": {
      "text/plain": [
       "['333', '444']"
      ]
     },
     "execution_count": 40,
     "metadata": {},
     "output_type": "execute_result"
    }
   ],
   "source": [
    "ejemplo = '1 22 333 4444'\n",
    "pattern = '\\d{3}' \n",
    "re.findall(pattern, ejemplo) # Devolverá ['333', '444'] "
   ]
  },
  {
   "cell_type": "markdown",
   "id": "2e7af620",
   "metadata": {},
   "source": [
    "* *Metacaracteres*:\n",
    "    \n",
    "    * ``{n,m}``: el elemento anterior aparece entre n y m. Si n está vacío significará que el elemento aparece de 0 a m veces. Si, por el contrario, m es vacío significará que el elemento aparece n o más veces. A continuación, buscaremos qué parte de la cadena de texto tiene 2 o 3 dígitos seguidos: "
   ]
  },
  {
   "cell_type": "code",
   "execution_count": 46,
   "id": "8a1d3fda",
   "metadata": {},
   "outputs": [
    {
     "data": {
      "text/plain": [
       "['22', '333', '444']"
      ]
     },
     "execution_count": 46,
     "metadata": {},
     "output_type": "execute_result"
    }
   ],
   "source": [
    "ejemplo = '1 22 333 4444' \n",
    "pattern = '\\d{2,3}' \n",
    "re.findall(pattern, ejemplo) # Devolverá ['22', '333', '444'] "
   ]
  },
  {
   "cell_type": "markdown",
   "id": "53fc275c",
   "metadata": {},
   "source": [
    "* *Metacaracteres*:\n",
    "\n",
    "    * ``[]``: nos permite representar clases de caracteres, es decir, buscará cadenas que tengan algunos de los caracteres definidos dentro de los corchetes. Por ejemplo, a continuación, buscaremos qué parte de la cadena tiene los dígitos 2 o 3 repetidos entre 2 y 3 veces: "
   ]
  },
  {
   "cell_type": "code",
   "execution_count": 50,
   "id": "e59fa654",
   "metadata": {},
   "outputs": [
    {
     "data": {
      "text/plain": [
       "['22', '333']"
      ]
     },
     "execution_count": 50,
     "metadata": {},
     "output_type": "execute_result"
    }
   ],
   "source": [
    "ejemplo = '1 22 333 4444' \n",
    "pattern = '[2,3]{2,3}' \n",
    "re.findall(pattern, ejemplo) # Devolverá ['22', '333'] "
   ]
  },
  {
   "cell_type": "code",
   "execution_count": 51,
   "id": "bf0cc453",
   "metadata": {},
   "outputs": [
    {
     "data": {
      "text/plain": [
       "['232', '22', '33', '233']"
      ]
     },
     "execution_count": 51,
     "metadata": {},
     "output_type": "execute_result"
    }
   ],
   "source": [
    "ejemplo = '1 23222 3345648233 4444' \n",
    "pattern = '[2,3]{2,3}' \n",
    "re.findall(pattern, ejemplo) "
   ]
  },
  {
   "cell_type": "markdown",
   "id": "ae569bcf",
   "metadata": {},
   "source": [
    "* *Metacaracteres*:\n",
    "    * ``-``: nos permite definir un rango de caracteres. En el ejemplo siguiente, buscaremos qué parte de la cadena tiene los valores entre 1 y 3 repetidos 2 o más veces. "
   ]
  },
  {
   "cell_type": "code",
   "execution_count": 52,
   "id": "88a2cfc0",
   "metadata": {},
   "outputs": [
    {
     "data": {
      "text/plain": [
       "['12113', '2123', '22', '3322', '23']"
      ]
     },
     "execution_count": 52,
     "metadata": {},
     "output_type": "execute_result"
    }
   ],
   "source": [
    "ejemplo = '1211348182 2123422 3322423463 4487944' \n",
    "pattern = '[1-3]{2,}' \n",
    "re.findall(pattern, ejemplo) # Devolverá ['22', '333']"
   ]
  },
  {
   "cell_type": "markdown",
   "id": "db266b78",
   "metadata": {},
   "source": [
    "Estos son los métodos y elementos más importantes en las expresiones regulares. "
   ]
  },
  {
   "cell_type": "markdown",
   "id": "ae5f0e92",
   "metadata": {},
   "source": [
    "# 3. Errores y excepciones \n",
    "\n",
    "En este apartado vamos a explicar qué son los errores y las excepciones de un programa y qué herramientas nos proporciona Python para gestionarlos. \n",
    "\n",
    "## Errores \n",
    "\n",
    "En ocasiones, cuando estamos ejecutando un programa, pueden ocurrir errores de ejecución. Normalmente, estos errores detienen la ejecución del programa y muestran un mensaje en la consola, donde se nos indica el tipo de error ocurrido y en qué parte del código. Este mensaje se muestra de la siguiente forma en Jupyter Notebook. \n"
   ]
  },
  {
   "cell_type": "code",
   "execution_count": 57,
   "id": "2b2314ff",
   "metadata": {},
   "outputs": [
    {
     "ename": "TypeError",
     "evalue": "can only concatenate str (not \"int\") to str",
     "output_type": "error",
     "traceback": [
      "\u001b[1;31m---------------------------------------------------------------------------\u001b[0m",
      "\u001b[1;31mTypeError\u001b[0m                                 Traceback (most recent call last)",
      "\u001b[1;32m<ipython-input-57-638a2efaa7ce>\u001b[0m in \u001b[0;36m<module>\u001b[1;34m\u001b[0m\n\u001b[0;32m      1\u001b[0m \u001b[0mtexto\u001b[0m \u001b[1;33m=\u001b[0m \u001b[1;34m'Hola'\u001b[0m\u001b[1;33m\u001b[0m\u001b[1;33m\u001b[0m\u001b[0m\n\u001b[0;32m      2\u001b[0m \u001b[0mnumero\u001b[0m \u001b[1;33m=\u001b[0m \u001b[1;36m3\u001b[0m\u001b[1;33m\u001b[0m\u001b[1;33m\u001b[0m\u001b[0m\n\u001b[1;32m----> 3\u001b[1;33m \u001b[0mtexto\u001b[0m \u001b[1;33m+\u001b[0m\u001b[0mnumero\u001b[0m\u001b[1;33m\u001b[0m\u001b[1;33m\u001b[0m\u001b[0m\n\u001b[0m",
      "\u001b[1;31mTypeError\u001b[0m: can only concatenate str (not \"int\") to str"
     ]
    }
   ],
   "source": [
    "texto = 'Hola'\n",
    "numero = 3\n",
    "texto +numero"
   ]
  },
  {
   "cell_type": "markdown",
   "id": "609fa28f",
   "metadata": {},
   "source": [
    "En este caso, Python nos devuelve un error de tipo ``TypeError``, es decir, un error asociado a los tipos de datos. \n",
    "\n",
    "El error se ha producido exactamente en la tercera línea y, además, nos muestra un mensaje que explica por qué se ha producido ese error. \n",
    "\n",
    "En este caso, Python nos indica que solo se pueden concatenar tipos string, no enteros, que es lo que estamos intentando hacer en este caso. \n",
    "\n",
    "Los errores más comunes que nos podemos encontrar en nuestros programas son los siguientes: \n",
    "\n",
    "* ``Errores de tipo``: son como los que acabamos de ver. Se producen cuando no podemos realizar una operación porque el tipo de datos de alguno de los elementos no es válido. \n",
    "\n",
    "* ``Errores de sintaxis``: estos errores se producen cuando una sentencia o instrucción no está bien escrita y Python nos indica que tenemos un error en la sintaxis de la sentencia. \n",
    "\n",
    "    Por ejemplo, no cerrar un paréntesis: "
   ]
  },
  {
   "cell_type": "code",
   "execution_count": 58,
   "id": "0d7be382",
   "metadata": {
    "scrolled": true
   },
   "outputs": [
    {
     "ename": "SyntaxError",
     "evalue": "unexpected EOF while parsing (<ipython-input-58-84df3280101f>, line 1)",
     "output_type": "error",
     "traceback": [
      "\u001b[1;36m  File \u001b[1;32m\"<ipython-input-58-84df3280101f>\"\u001b[1;36m, line \u001b[1;32m1\u001b[0m\n\u001b[1;33m    print('Hola'\u001b[0m\n\u001b[1;37m                ^\u001b[0m\n\u001b[1;31mSyntaxError\u001b[0m\u001b[1;31m:\u001b[0m unexpected EOF while parsing\n"
     ]
    }
   ],
   "source": [
    "print('Hola'"
   ]
  },
  {
   "cell_type": "markdown",
   "id": "11e930b6",
   "metadata": {},
   "source": [
    "* ``Errores de nombre``: se producen cuando llamamos a un identificador que Python no sabe cuál es. Por ejemplo, si escribimos mal un identificador o introducimos una función que no hemos declarado anteriormente: "
   ]
  },
  {
   "cell_type": "code",
   "execution_count": 61,
   "id": "5e879bcc",
   "metadata": {
    "scrolled": true
   },
   "outputs": [
    {
     "ename": "NameError",
     "evalue": "name 'mi_funcion' is not defined",
     "output_type": "error",
     "traceback": [
      "\u001b[1;31m---------------------------------------------------------------------------\u001b[0m",
      "\u001b[1;31mNameError\u001b[0m                                 Traceback (most recent call last)",
      "\u001b[1;32m<ipython-input-61-5234c0b35829>\u001b[0m in \u001b[0;36m<module>\u001b[1;34m\u001b[0m\n\u001b[1;32m----> 1\u001b[1;33m \u001b[0mmi_funcion\u001b[0m\u001b[1;33m(\u001b[0m\u001b[1;36m5\u001b[0m\u001b[1;33m)\u001b[0m\u001b[1;33m\u001b[0m\u001b[1;33m\u001b[0m\u001b[0m\n\u001b[0m",
      "\u001b[1;31mNameError\u001b[0m: name 'mi_funcion' is not defined"
     ]
    }
   ],
   "source": [
    "mi_funcion(5)"
   ]
  },
  {
   "cell_type": "markdown",
   "id": "1be998a7",
   "metadata": {},
   "source": [
    "* ``Errores de índice``: estos errores aparecen cuando trabajamos con secuencias, como listas, e intentamos acceder a una posición que no existe. \n",
    "    Por ejemplo, si intentamos acceder a la primera posición de una lista vacía: "
   ]
  },
  {
   "cell_type": "code",
   "execution_count": 70,
   "id": "b51c171b",
   "metadata": {},
   "outputs": [
    {
     "ename": "IndexError",
     "evalue": "list index out of range",
     "output_type": "error",
     "traceback": [
      "\u001b[1;31m---------------------------------------------------------------------------\u001b[0m",
      "\u001b[1;31mIndexError\u001b[0m                                Traceback (most recent call last)",
      "\u001b[1;32m<ipython-input-70-5f1a892f4a86>\u001b[0m in \u001b[0;36m<module>\u001b[1;34m\u001b[0m\n\u001b[0;32m      1\u001b[0m \u001b[0mlista\u001b[0m \u001b[1;33m=\u001b[0m \u001b[1;33m[\u001b[0m\u001b[1;36m15\u001b[0m\u001b[1;33m]\u001b[0m\u001b[1;33m\u001b[0m\u001b[1;33m\u001b[0m\u001b[0m\n\u001b[1;32m----> 2\u001b[1;33m \u001b[0mlista\u001b[0m\u001b[1;33m[\u001b[0m\u001b[1;36m2\u001b[0m\u001b[1;33m]\u001b[0m\u001b[1;33m\u001b[0m\u001b[1;33m\u001b[0m\u001b[0m\n\u001b[0m",
      "\u001b[1;31mIndexError\u001b[0m: list index out of range"
     ]
    }
   ],
   "source": [
    "lista = [15]\n",
    "lista[2]"
   ]
  },
  {
   "cell_type": "markdown",
   "id": "9c69e3c3",
   "metadata": {},
   "source": [
    "Existen otros muchos errores que podemos tener al ejecutar nuestros programas. Sin embargo, estos son los que encontraremos con más frecuencia. \n",
    "\n",
    "## Excepciones \n",
    "\n",
    "Para alguno de estos errores es interesante que termine la ejecución, ya que son errores críticos que imposibilitan que continuemos con nuestro programa. \n",
    "\n",
    "Pero, en otras ocasiones, podemos asumir que un error de cierto tipo puede ocurrir en algún momento y no queremos que se termine la ejecución del programa. \n",
    "\n",
    "Para poder hacer esto utilizaremos las excepciones. Una excepción es un bloque de código que se ejecutará cuando se detecte un error de algún tipo y, después, podremos seguir ejecutando nuestro programa. \n",
    "\n",
    "Para poder hacer esto, es necesario utilizar los bloques ``try`` junto con los bloques de código ``except``. El esquema de nuestro código quedaría de la siguiente manera: \n",
    "\n",
    "~~~python\n",
    "try: \n",
    "    bloque_con_posibles_errores \n",
    "except: \n",
    "    bloque_de_excepcion \n",
    "~~~\n",
    " \n",
    "En primer lugar, usamos la sentencia ``try`` y, a continuación, escribimos el bloque de instrucciones en el que sabemos que puede ocurrir un error. A continuación, y con la misma sangría que la sentencia ``try``, escribimos la sentencia ``except`` seguido del bloque de instrucciones que se ejecutará cuando ocurra un error en el bloque ``try``.\n",
    "\n",
    "Vamos a ver su funcionamiento a través de un ejemplo: "
   ]
  },
  {
   "cell_type": "code",
   "execution_count": 71,
   "id": "41e35b37",
   "metadata": {},
   "outputs": [
    {
     "name": "stdout",
     "output_type": "stream",
     "text": [
      "No existe esa posición\n",
      "Sigo con la ejecución\n"
     ]
    }
   ],
   "source": [
    "lista = [2, 3, 4] \n",
    " \n",
    "try: \n",
    "    print(lista[5]) \n",
    "except: \n",
    "    print(\"No existe esa posición\") \n",
    "     \n",
    "print(\"Sigo con la ejecución\") \n",
    "# Más lineas de codigo "
   ]
  },
  {
   "cell_type": "markdown",
   "id": "43c5ad25",
   "metadata": {},
   "source": [
    "En este código accederemos a la posición de una lista, pero queremos ejecutar una excepción si esa posición no existe. \n",
    "\n",
    "En esa excepción se nos mostrará un mensaje, pero luego seguirá con la ejecución del programa. El sistema nos mostrará los siguientes mensajes al ejecutarse: \n",
    "\n",
    ">No existe esa posición \n",
    "\n",
    ">Sigo con la ejecución\n",
    "\n",
    "\n",
    "Vemos cómo se ha detectado un error, en este caso, un error de índice, y se ha ejecutado la instrucción que aparece en el bloque ``except``. A continuación, ha seguido con la ejecución del programa.  \n",
    "\n",
    "Es posible crear más de un bloque ``except`` para que nos permitan ejecutar diferentes bloques de código para diferentes tipos de errores. Para ello incluiremos el tipo de error. \n",
    "\n",
    "En el siguiente ejemplo, vamos a preparar diferentes bloques para diferentes tipos de errores: "
   ]
  },
  {
   "cell_type": "code",
   "execution_count": 97,
   "id": "09516642",
   "metadata": {},
   "outputs": [
    {
     "name": "stdout",
     "output_type": "stream",
     "text": [
      "<class 'NameError'>\n",
      "Ha ocurrido otro error\n",
      "Sigo con la ejecución\n"
     ]
    }
   ],
   "source": [
    "lista = [2, 3, 4]\n",
    "\n",
    "try: \n",
    "    print(listaasd)\n",
    "except IndexError: \n",
    "    print(\"No existe esa posición\") \n",
    "except TypeError: \n",
    "    print(\"El tipo de la operación es erróneo\") \n",
    "except Exception as e:\n",
    "    #  print(e.__class__)\n",
    "    print(type(e))\n",
    "    print(\"Ha ocurrido otro error\")\n",
    "\n",
    "     \n",
    "print(\"Sigo con la ejecución\")"
   ]
  },
  {
   "cell_type": "markdown",
   "id": "3b2955a5",
   "metadata": {},
   "source": [
    "Como se puede observar, hemos incluido una sentencia final, sin definir el tipo de error.\n",
    "\n",
    "Este bloque se ejecutará si ha ocurrido un error, pero no se ha ejecutado ninguno de los otros bloques ``except``. \n",
    "\n",
    "A la estructura ``try-except`` se le pueden incluir más tipos de bloques, como veremos a continuación. \n",
    "\n",
    "* Bloque ``else`` \n",
    "    \n",
    "    Igual que podemos ejecutar bloques cuando se ha detectado un error, también podemos ejecutar otro bloque de código cuando no ha habido ningún error. Para ello usamos el bloque ``else``: \n",
    "\n",
    "~~~python\n",
    "try: \n",
    "    bloque_con_posibles_errores \n",
    "except: \n",
    "    bloque_de_excepcion \n",
    "else: \n",
    "    bloque_else \n",
    "~~~\n",
    " \n",
    "Vamos a ampliar el ejemplo anterior para que, en el caso de que no se haya detectado ningún error, se muestre otro mensaje. Para ello también cambiaremos la posición a la que accedemos. "
   ]
  },
  {
   "cell_type": "code",
   "execution_count": 87,
   "id": "95f43e42",
   "metadata": {},
   "outputs": [
    {
     "name": "stdout",
     "output_type": "stream",
     "text": [
      "4\n",
      "Está perfecto\n",
      "Sigo con la ejecución\n"
     ]
    }
   ],
   "source": [
    "lista = [2, 3, 4] \n",
    " \n",
    "try: \n",
    "    print(lista[2]) \n",
    "except: \n",
    "    print(\"No existe esa posición\") \n",
    "else: \n",
    "    print(\"Está perfecto\") \n",
    " \n",
    "print(\"Sigo con la ejecución\")"
   ]
  },
  {
   "cell_type": "code",
   "execution_count": 91,
   "id": "25fa0edd",
   "metadata": {},
   "outputs": [
    {
     "name": "stdout",
     "output_type": "stream",
     "text": [
      "Ingrese un numerito entero: a\n",
      "No ingresaste un numero correcto\n",
      "Ingrese un numerito entero: 5.1\n",
      "No ingresaste un numero correcto\n",
      "Ingrese un numerito entero: asrasr\n",
      "No ingresaste un numero correcto\n",
      "Ingrese un numerito entero: fiis\n",
      "No ingresaste un numero correcto\n",
      "Ingrese un numerito entero: uni\n",
      "No ingresaste un numero correcto\n",
      "Ingrese un numerito entero: carroña\n",
      "No ingresaste un numero correcto\n",
      "Ingrese un numerito entero: 5\n",
      "El numero que ingresaste es correcto y es: 5\n"
     ]
    }
   ],
   "source": [
    "while True:\n",
    "    try:\n",
    "        x = int(input(\"Ingrese un numerito entero: \"))\n",
    "    except:\n",
    "        print(\"No ingresaste un numero correcto\")\n",
    "    else:\n",
    "        print(\"El numero que ingresaste es correcto y es:\",x)\n",
    "        break"
   ]
  },
  {
   "cell_type": "markdown",
   "id": "6e31ffbe",
   "metadata": {},
   "source": [
    "En este ejemplo, la consola de Python nos devolverá el siguiente resultado: \n",
    "\n",
    "> 4 \n",
    "\n",
    "> Está perfecto \n",
    "\n",
    "> Sigo con la ejecución \n",
    "\n",
    "En primer lugar, nos devuelve el valor que hay en la lista en la posición 2. \n",
    "\n",
    "A continuación, como no ha habido ningún error, ejecuta el bloque de la sentencia ``else``, que en este caso es un mensaje diciendo que está perfecto. Por último, continua con la ejecución del sistema. \n",
    "\n",
    " \n",
    "\n",
    "* Bloque ``finally`` \n",
    "\n",
    "    Otro tipo de bloque que se puede incluir en la estructura ``try-except`` es el bloque ``finally``. Este bloque se ejecuta siempre, haya habido o no un error en el bloque ``try``. La estructura completa ``try-except`` con todos los bloques sería como se muestra a continuación: \n",
    "\n",
    "~~~python\n",
    "try: \n",
    "    bloque_con_posibles_errores \n",
    "except: \n",
    "    bloque_de_excepcion \n",
    "else: \n",
    "    bloque_else \n",
    "finally: \n",
    "    bloque_finally \n",
    "~~~\n",
    "\n",
    "Ampliaremos el ejemplo anterior añadiendo un bloque ``finally`` que imprima un mensaje donde se nos indique que hemos terminado de ejecutar el bloque ``try-except``: \n"
   ]
  },
  {
   "cell_type": "code",
   "execution_count": 30,
   "id": "28945805",
   "metadata": {},
   "outputs": [
    {
     "name": "stdout",
     "output_type": "stream",
     "text": [
      "4\n",
      "Está perfecto\n",
      "Hemos terminado el bloque try-except\n",
      "Sigo con la ejecución\n"
     ]
    }
   ],
   "source": [
    "lista = [2, 3, 4] \n",
    " \n",
    "try: \n",
    "    print(lista[2]) \n",
    "except: \n",
    "    print(\"No existe esa posición\") \n",
    "else: \n",
    "    print(\"Está perfecto\") \n",
    "finally: \n",
    "    print(\"Hemos terminado el bloque try-except\") \n",
    " \n",
    "print(\"Sigo con la ejecución\") "
   ]
  },
  {
   "cell_type": "markdown",
   "id": "f858f017",
   "metadata": {},
   "source": [
    "El resultado de ejecutar este ejemplo será el siguiente: \n",
    "\n",
    "> 4 \n",
    "\n",
    "> Está perfecto \n",
    "\n",
    "> Hemos terminado el bloque try-except \n",
    "\n",
    "> Sigo con la ejecución \n",
    "\n",
    "\n",
    "El bloque ``finally`` se utiliza mucho para cerrar ficheros o conexiones a bases de datos, se haya producido o no un error, para asegurarnos que cerramos dicha conexión.  \n",
    "\n",
    " \n",
    "\n",
    "- ``Lanzar errores`` \n",
    "\n",
    "    En ocasiones, es útil para nosotros ``lanzar un error`` para que se gestione en otro lado de nuestro programa. Para ello, usaremos la sentencia ``raise``, seguida del tipo de error y el mensaje que queremos mostrar. Vamos a ver el uso de esta sentencia en el siguiente ejemplo: \n"
   ]
  },
  {
   "cell_type": "code",
   "execution_count": 31,
   "id": "3afcfd84",
   "metadata": {},
   "outputs": [
    {
     "name": "stdout",
     "output_type": "stream",
     "text": [
      "He detectado un error\n"
     ]
    }
   ],
   "source": [
    "try: \n",
    "    raise TypeError(\"Este es un ejemplo de error personalizado\") \n",
    "except: \n",
    "    print(\"He detectado un error\")"
   ]
  },
  {
   "cell_type": "markdown",
   "id": "82edcf08",
   "metadata": {},
   "source": [
    "Esto es útil para las funciones que desarrollemos, ya que podemos lanzar errores si los argumentos que nos han introducido no son válidos o la ejecución de la función no se puede realizar por cualquier motivo. "
   ]
  },
  {
   "cell_type": "markdown",
   "id": "0de7ae79",
   "metadata": {},
   "source": [
    "# 4. Compresión de listas \n",
    "\n",
    "La compresión de listas es una forma que nos proporciona Python que nos permite crear listas donde cada uno de los miembros de la lista es el resultado de una operación. \n",
    "\n",
    "Por ejemplo, imaginemos que queremos crear una lista que almacene el resultado de aplicar el cuadrado a los números de 1 a 10. \n",
    "\n",
    "Usando un bucle for, lo haríamos de la siguiente manera: \n"
   ]
  },
  {
   "cell_type": "code",
   "execution_count": 104,
   "id": "2ea8edd2",
   "metadata": {},
   "outputs": [
    {
     "data": {
      "text/plain": [
       "[1, 4, 9, 16, 25, 36, 49, 64, 81, 100]"
      ]
     },
     "execution_count": 104,
     "metadata": {},
     "output_type": "execute_result"
    }
   ],
   "source": [
    "result = [] \n",
    "for i in range(1, 11): # [1, 11> \n",
    "    result.append(i ** 2) \n",
    "result"
   ]
  },
  {
   "cell_type": "markdown",
   "id": "f432b0ab",
   "metadata": {},
   "source": [
    "Sin embargo, esta operación se puede realizar de una forma más sencilla gracias a la compresión de listas. La estructura de una compresión de listas es como: \n",
    "\n",
    "~~~python\n",
    "[operación for ítem in secuencia] \n",
    "~~~\n",
    "\n",
    "Como vemos en este esquema tenemos tres elementos. \n",
    "\n",
    "El primero de ellos es operación, que será una expresión que devuelve un resultado y cuyo resultado se almacenará en la lista resultante. \n",
    "\n",
    "A continuación, tenemos un ítem de la secuencia de elementos que se van a recorrer. Normalmente, los ítems son utilizados en las operaciones. \n",
    "\n",
    "Por último, tenemos una secuencia iterable que tendrá todos los valores de entrada que queremos recorrer para generar la lista. \n",
    "\n",
    "En el ejemplo anterior, cada uno de los elementos serían: ``i**2`` (operación), ``i`` (ítem), ``range(1,11)`` (secuencia). Es decir, podemos aplicar compresión de listas en el ejemplo anterior de la siguiente manera: "
   ]
  },
  {
   "cell_type": "code",
   "execution_count": 103,
   "id": "b423469c",
   "metadata": {},
   "outputs": [
    {
     "data": {
      "text/plain": [
       "[1, 4, 9, 16, 25, 36, 49, 64, 81, 100]"
      ]
     },
     "execution_count": 103,
     "metadata": {},
     "output_type": "execute_result"
    }
   ],
   "source": [
    "result = [i**2 for i in range(1,11)] \n",
    "result"
   ]
  },
  {
   "cell_type": "markdown",
   "id": "b4111634",
   "metadata": {},
   "source": [
    "Como se puede observar, hemos hecho la misma acción, pero en este caso lo hemos implementado en una única línea. \n",
    "\n",
    "El uso de compresión de listas hace que el código sea más compacto y, sobre todo, que la ejecución sea mucho más rápida. \n",
    "\n",
    "\n",
    "A esta estructura se le pueden incluir expresiones condicionales que se deben cumplir para que un elemento pueda ser incluido en la lista resultante. \n",
    "\n",
    "El esquema de la compresión de listas con expresiones condicionales sería la siguiente: \n",
    "\n",
    "~~~python\n",
    "[operación for item in secuencia if condicion] \n",
    "~~~\n",
    " \n",
    "Por ejemplo, podemos hacer que una lista almacene el resultado de aplicar el cuadrado únicamente a los números múltiplos de 3 que existan desde 1 a 10: "
   ]
  },
  {
   "cell_type": "code",
   "execution_count": 106,
   "id": "e8ea874c",
   "metadata": {},
   "outputs": [
    {
     "data": {
      "text/plain": [
       "[9, 36, 81]"
      ]
     },
     "execution_count": 106,
     "metadata": {},
     "output_type": "execute_result"
    }
   ],
   "source": [
    "result = [i**2 for i in range(1,11) if i % 3 == 0] \n",
    "result"
   ]
  },
  {
   "cell_type": "code",
   "execution_count": 112,
   "id": "267ab329",
   "metadata": {},
   "outputs": [
    {
     "data": {
      "text/plain": [
       "[(1, 3), (1, 4), (1, 5), (2, 3), (2, 4), (2, 5), (3, 4), (3, 5)]"
      ]
     },
     "execution_count": 112,
     "metadata": {},
     "output_type": "execute_result"
    }
   ],
   "source": [
    "result = []\n",
    "for i in [1,2,3]:\n",
    "    for j in [3,4,5]:\n",
    "        if(i < j):\n",
    "            result.append((i,j))\n",
    "result"
   ]
  },
  {
   "cell_type": "code",
   "execution_count": 110,
   "id": "fadbe263",
   "metadata": {},
   "outputs": [
    {
     "data": {
      "text/plain": [
       "[(1, 3), (1, 4), (1, 5), (2, 3), (2, 4), (2, 5), (3, 4), (3, 5)]"
      ]
     },
     "execution_count": 110,
     "metadata": {},
     "output_type": "execute_result"
    }
   ],
   "source": [
    "result = [(i,j) for i in [1,2,3] for j in [3,4,5] if i<j]\n",
    "result"
   ]
  },
  {
   "cell_type": "code",
   "execution_count": 113,
   "id": "5c9669a1",
   "metadata": {},
   "outputs": [],
   "source": [
    "def esprimo(n):\n",
    "    if n==1:\n",
    "        return False\n",
    "    if n==2:\n",
    "        return True\n",
    "    for i in range(2,n):\n",
    "        if n%i ==0:\n",
    "            return False\n",
    "    return True"
   ]
  },
  {
   "cell_type": "code",
   "execution_count": 122,
   "id": "7b4f14d7",
   "metadata": {},
   "outputs": [
    {
     "data": {
      "text/plain": [
       "[4, 9, 25, 49]"
      ]
     },
     "execution_count": 122,
     "metadata": {},
     "output_type": "execute_result"
    }
   ],
   "source": [
    "result = [i**2 for i in range(1,11) if esprimo(i)] \n",
    "result"
   ]
  },
  {
   "cell_type": "markdown",
   "id": "2cd90885",
   "metadata": {},
   "source": [
    "Estas sentencias nos permiten crear nuevas listas de una forma muy sencilla. Sin \n",
    "embargo, la compresión puede ser aplicada a otros tipos de colecciones. A \n",
    "continuación, explicaremos cómo aplicar a otras colecciones compatibles. \n",
    "\n",
    "\n",
    "## Diccionarios \n",
    "\n",
    "Para los diccionarios, es necesario que definamos la ``clave`` y el ``valor`` de cada elemento que insertemos en ellos. \n",
    "\n",
    "Por este motivo, la expresión de compresión para diccionarios debe incluir ambos conceptos, el resto de la expresión es igual que la anterior: \n",
    "\n",
    " \n",
    "~~~python\n",
    "{clave: valor for item in secuencia if condicion} \n",
    "~~~\n",
    " \n",
    "\n",
    "Por ejemplo, vamos a crear un diccionario que almacena el resultado de aplicar el cuadrado a los números pares que hay de 1 a 10, pero donde la clave de dichos resultados sea el número con el que se calculó el cuadrado: "
   ]
  },
  {
   "cell_type": "code",
   "execution_count": 101,
   "id": "c555fe0a",
   "metadata": {},
   "outputs": [],
   "source": [
    "result = {i: i**2 for i in range(1,11) if i % 2 == 0} "
   ]
  },
  {
   "cell_type": "code",
   "execution_count": 102,
   "id": "317a4dd0",
   "metadata": {},
   "outputs": [
    {
     "data": {
      "text/plain": [
       "{2: 4, 4: 16, 6: 36, 8: 64, 10: 100}"
      ]
     },
     "execution_count": 102,
     "metadata": {},
     "output_type": "execute_result"
    }
   ],
   "source": [
    "result"
   ]
  },
  {
   "cell_type": "markdown",
   "id": "749a8fdc",
   "metadata": {},
   "source": [
    "## Conjuntos \n",
    "\n",
    "Al igual que pasa con los diccionarios, tenemos que adaptar la expresión de compresión para que se creen conjuntos. \n",
    "\n",
    "En este caso, usaremos los símbolos de creación de conjuntos, seguidos de la misma estructura de compresión que usábamos con las listas: \n",
    "\n",
    "~~~python\n",
    "{item for item in secuencia if condicion} \n",
    "~~~\n",
    " \n",
    "\n",
    "Por ejemplo, si queremos crear una secuencia que almacena el resultado de aplicar el cuadrado a los números pares que hay de 1 a 10, aplicaríamos la siguiente sentencia: "
   ]
  },
  {
   "cell_type": "code",
   "execution_count": 104,
   "id": "7e6a538c",
   "metadata": {},
   "outputs": [],
   "source": [
    "result = {i**2 for i in range (1,11) if i % 2 == 0} "
   ]
  },
  {
   "cell_type": "code",
   "execution_count": 105,
   "id": "cfc7a326",
   "metadata": {},
   "outputs": [
    {
     "data": {
      "text/plain": [
       "{4, 16, 36, 64, 100}"
      ]
     },
     "execution_count": 105,
     "metadata": {},
     "output_type": "execute_result"
    }
   ],
   "source": [
    "result"
   ]
  }
 ],
 "metadata": {
  "kernelspec": {
   "display_name": "Python 3",
   "language": "python",
   "name": "python3"
  },
  "language_info": {
   "codemirror_mode": {
    "name": "ipython",
    "version": 3
   },
   "file_extension": ".py",
   "mimetype": "text/x-python",
   "name": "python",
   "nbconvert_exporter": "python",
   "pygments_lexer": "ipython3",
   "version": "3.8.8"
  }
 },
 "nbformat": 4,
 "nbformat_minor": 5
}
