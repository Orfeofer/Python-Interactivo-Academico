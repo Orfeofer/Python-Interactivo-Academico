{
 "cells": [
  {
   "cell_type": "markdown",
   "id": "1eae59ba",
   "metadata": {},
   "source": [
    "# Anagramas\n",
    "\n",
    "Si son anagramas entonces ambas cadenas ordenadas serían iguales,caso contrario no son anagramas.\n"
   ]
  },
  {
   "cell_type": "code",
   "execution_count": 1,
   "id": "1170cb2c",
   "metadata": {},
   "outputs": [
    {
     "name": "stdout",
     "output_type": "stream",
     "text": [
      "mora\n",
      "roma\n",
      "True\n"
     ]
    }
   ],
   "source": [
    "s = input()\n",
    "r = input()\n",
    "\n",
    "r = ''.join(sorted(r))\n",
    "s = ''.join(sorted(s))\n",
    "\n",
    "\n",
    "if r == s:\n",
    "    print(True)\n",
    "else:\n",
    "    print(False)"
   ]
  },
  {
   "cell_type": "markdown",
   "id": "3a5a12fd",
   "metadata": {},
   "source": [
    "# Cuarto Disponible\n",
    "Iterar en toda la lista de manera lineal hasta encontrar un elemento que sea mayor a x, imprimirlo y terminar el programa,\n",
    "en caso no exista simplemente imprimir -1, se puede utilizar un boolean para determinar si se encontro o no."
   ]
  },
  {
   "cell_type": "code",
   "execution_count": 2,
   "id": "9948eea2",
   "metadata": {},
   "outputs": [
    {
     "name": "stdout",
     "output_type": "stream",
     "text": [
      "10 15 20 35 45\n",
      "25\n",
      "35\n"
     ]
    }
   ],
   "source": [
    "l = input().split()\n",
    "x = int(input())\n",
    "for i in range(len(l)):\n",
    "    l[i] = int(l[i])\n",
    "\n",
    "encontrado = False\n",
    "for elem in l:\n",
    "    if elem > x:\n",
    "        print(elem)\n",
    "        encontrado = True\n",
    "        break\n",
    "        \n",
    "if not encontrado:\n",
    "    print(-1)\n",
    "    "
   ]
  },
  {
   "cell_type": "markdown",
   "id": "5edff1f9",
   "metadata": {},
   "source": [
    "# Impares\n",
    "Iterar en el rango $[a,b]$, si el número es divisible entre 3 $( 0 \\mod 3)$ e impar $( 1 \\mod 2)$ cumple la solución,\n",
    "usaremos una cadena $s$ para guardar la solución y agregar los números que cumplan la condición mencionada con una ','.\n",
    "Al final imprimimos la cadena sin el último carácter.\n"
   ]
  },
  {
   "cell_type": "code",
   "execution_count": 3,
   "id": "1dc434a7",
   "metadata": {},
   "outputs": [
    {
     "name": "stdout",
     "output_type": "stream",
     "text": [
      "0\n",
      "15\n",
      "3,9,15\n"
     ]
    }
   ],
   "source": [
    "a = int(input())\n",
    "b = int(input())\n",
    "\n",
    "s = \"\"\n",
    "for i in range(a,b+1):\n",
    "    if ((i %2 == 1) and (i%3 == 0)):\n",
    "        s = s + str(i)\n",
    "        s = s + \",\"\n",
    "        \n",
    "print(s[:-1])"
   ]
  },
  {
   "cell_type": "markdown",
   "id": "9e523954",
   "metadata": {},
   "source": [
    "# Generosidad\n",
    "La cantidad de monedas totales NO cambia, al inicio cada uno apuesta b monedas lo que da un total de 5b monedas, simplemente se suma el número de monedas finales y si este es múltiplo de 5 entonces se divide entre 5 lo que daría el valor de b, caso contrario se retorna -1 debido a que b debe ser entero.\n"
   ]
  },
  {
   "cell_type": "code",
   "execution_count": 4,
   "id": "20c0f1b4",
   "metadata": {},
   "outputs": [
    {
     "name": "stdout",
     "output_type": "stream",
     "text": [
      "0 5 3 4 2\n",
      "-1\n"
     ]
    }
   ],
   "source": [
    "list = input().split(\" \")\n",
    "\n",
    "sum = 0\n",
    "for x in list:\n",
    "    sum = sum + int(x)\n",
    "\n",
    "if sum%5 == 0:\n",
    "    print(int(sum/5))\n",
    "else:\n",
    "    print(-1)\n"
   ]
  },
  {
   "cell_type": "markdown",
   "id": "b91cc254",
   "metadata": {},
   "source": [
    "# Teclado Atascado\n",
    "Considerar los el primer carácter de la cadena objetivo y la cadena tipeado, si no son iguales, entonces la solución es falsa. \n",
    "\n",
    "Caso contrario se cuenta cuántas veces aparece de forma consecutiva ese carácter en ambas cadenas, si este aparece más veces en objetivo que tipeado, entonces es falsa. \n",
    "\n",
    "Caso contrario se va al siguiente carácter diferente removiendo todas las repeticiones del carácter\n",
    "ya procesado y se repite este proceso hasta que una de las cadenas quede vacía.\n",
    "\n",
    "La respuesta es verdadera si ambas cadenas quedan vacías al mismo tiempo."
   ]
  },
  {
   "cell_type": "code",
   "execution_count": 6,
   "id": "ab5ff9c7",
   "metadata": {},
   "outputs": [
    {
     "name": "stdout",
     "output_type": "stream",
     "text": [
      "hhaawwwaiiiii\n",
      "hawaii\n"
     ]
    },
    {
     "data": {
      "text/plain": [
       "True"
      ]
     },
     "execution_count": 6,
     "metadata": {},
     "output_type": "execute_result"
    }
   ],
   "source": [
    "def solve(t, o):\n",
    "    actual = 0\n",
    "    i = 0\n",
    "    #o[i] será el carácter que se procesa\n",
    "    while(i < len(o)):\n",
    "        j = i +1\n",
    "        #se cuentan las repeticiones utilizando un auxiliar j\n",
    "        while(j < len(o) and o[j] == o[i]):\n",
    "            j +=1\n",
    "            \n",
    "        # si tipeado quedo vacío entonces retornar false, deben quedar al mismo tiempo\n",
    "        if actual == len(t):\n",
    "            return False\n",
    "            \n",
    "        #t[actual] será el carácter que se procesa en la cadena tipeado\n",
    "        if t[actual] != o[i]:\n",
    "                return False\n",
    "\n",
    "        #se cuentan las repeticiones utilizando un auxiliar k\n",
    "        k = actual\n",
    "        while( k < len(t) and t[k] == t[actual]):\n",
    "            k +=1\n",
    "\n",
    "        # si el número de repeticiones de tipeado(k-actual) es menor\n",
    "        # al numero de repeticiones de objetivo(j-i) entonces retornar False\n",
    "        if k - actual < j -i :\n",
    "            return False\n",
    "        # se \"elimina\" el carácter ya procesado y sus repeticiones y se va al siguiente\n",
    "        actual = k\n",
    "        i = j\n",
    "        \n",
    "    # si salio del bucle while entonces i == len(o), entonces la cadena o esta vacía\n",
    "    # faltaria comprobar que la cadena actual tambien quedo vacía\n",
    "    return actual == len(t)\n",
    "\n",
    "t = input()\n",
    "o = input()\n",
    "solve(t,o)"
   ]
  },
  {
   "cell_type": "markdown",
   "id": "e1881eb0",
   "metadata": {},
   "source": [
    "# Concatenando lista\n",
    "El problema es bastante simple ya que en Python se puede utilizar el operador '+' para concatenar dos listas"
   ]
  },
  {
   "cell_type": "code",
   "execution_count": 3,
   "id": "ae6d0d79",
   "metadata": {},
   "outputs": [
    {
     "name": "stdout",
     "output_type": "stream",
     "text": [
      "3\n",
      "1 2 3\n",
      "3\n",
      "3 4 5\n",
      "1 2 3 3 4 5 "
     ]
    }
   ],
   "source": [
    "n = int(input())\n",
    "l1 = input()\n",
    "l1 = l1.split(' ')\n",
    "\n",
    "m = int(input())\n",
    "l2 = input()\n",
    "l2 = l2.split(' ')\n",
    "\n",
    "l3 = l1 + l2\n",
    "\n",
    "for elm in l3:\n",
    "    print(elm, end=' ')"
   ]
  },
  {
   "cell_type": "markdown",
   "id": "fa784602",
   "metadata": {},
   "source": [
    "# Anterior-siguiente primo\n",
    "Creamos la función $es\\_primo(n)$ para determinar si un número es primo o no. Una vez realizado esto, basta con iterar ascendetentemente para encontrar el primo mayor más cercano, y de manera similar, de manera descendente para encontrar el primo menor más cercano."
   ]
  },
  {
   "cell_type": "code",
   "execution_count": 4,
   "id": "3135968e",
   "metadata": {},
   "outputs": [
    {
     "name": "stdout",
     "output_type": "stream",
     "text": [
      "10\n",
      "7 11\n"
     ]
    }
   ],
   "source": [
    "def es_primo(numero):\n",
    "    if numero < 2:\n",
    "        return False\n",
    "    if numero == 2:\n",
    "        return True\n",
    "    for i in range(2, numero):\n",
    "        if numero % i == 0:\n",
    "            return False\n",
    "    return True\n",
    "\n",
    "n = int(input())\n",
    "\n",
    "primo_anterior = 0\n",
    "primo_posterior = 0\n",
    "\n",
    "n_copia = n-1\n",
    "\n",
    "while True:\n",
    "    if es_primo(n_copia):\n",
    "        primo_anterior = n_copia\n",
    "        break\n",
    "    else:\n",
    "        n_copia = n_copia - 1\n",
    "\n",
    "n_copia = n+1\n",
    "\n",
    "while True:\n",
    "    if es_primo(n_copia):\n",
    "        primo_posterior = n_copia\n",
    "        break\n",
    "    else:\n",
    "        n_copia = n_copia + 1\n",
    "\n",
    "print(f'{primo_anterior} {primo_posterior}')"
   ]
  },
  {
   "cell_type": "markdown",
   "id": "f4db2486",
   "metadata": {},
   "source": [
    "# Sumando primos\n",
    "De manera similar al problema anterior, si ya podemos determinar si un número es primo o no, podemos iterar desde $n/2$ hasta $n$ e ir sumando los números primos"
   ]
  },
  {
   "cell_type": "code",
   "execution_count": 5,
   "id": "dbaa9ea4",
   "metadata": {},
   "outputs": [
    {
     "name": "stdout",
     "output_type": "stream",
     "text": [
      "10\n",
      "5+7=12\n"
     ]
    }
   ],
   "source": [
    "def es_primo(numero):\n",
    "    if numero < 2:\n",
    "        return False\n",
    "    if numero == 2:\n",
    "        return True\n",
    "    for i in range(2, numero):\n",
    "        if numero % i == 0:\n",
    "            return False\n",
    "    return True\n",
    "\n",
    "n = int(input())\n",
    "suma = 0\n",
    "primos = []\n",
    "\n",
    "for i in range(n//2, n+1):\n",
    "    if es_primo(i):\n",
    "        primos.append(i)\n",
    "        suma += i\n",
    "\n",
    "for i in range(len(primos)):\n",
    "    print(primos[i],end='')\n",
    "    if i != len(primos)-1:\n",
    "        print(\"+\",end='')\n",
    "        \n",
    "print(f'={suma}')"
   ]
  },
  {
   "cell_type": "markdown",
   "id": "780bec16",
   "metadata": {},
   "source": [
    "# Patrón restando\n",
    "El ejercicio puede ser resuelto utilizando dos bucles, uno que descuenta de 5 en 5, y el segundo que aumenta de 5 en 5."
   ]
  },
  {
   "cell_type": "code",
   "execution_count": 1,
   "id": "e68a0874",
   "metadata": {},
   "outputs": [
    {
     "name": "stdout",
     "output_type": "stream",
     "text": [
      "16\n",
      "16 11 6 1 -4 1 6 11 16 "
     ]
    }
   ],
   "source": [
    "n = int(input())\n",
    "n_copy = n\n",
    "while n_copy > 0:\n",
    "    print(n_copy, end = \" \")\n",
    "    n_copy -= 5\n",
    "    \n",
    "while n_copy <= n:\n",
    "    print(n_copy, end = \" \")\n",
    "    n_copy += 5"
   ]
  },
  {
   "cell_type": "markdown",
   "id": "6475ed79",
   "metadata": {},
   "source": [
    "# Factores Primos 1\n",
    "Implementamos la funcion $factoresPrimos(n)$, una vez implementada dicha función basta con iterar desde $a$ hasta $b$, inclusive."
   ]
  },
  {
   "cell_type": "code",
   "execution_count": 3,
   "id": "92b513df",
   "metadata": {},
   "outputs": [
    {
     "name": "stdout",
     "output_type": "stream",
     "text": [
      "4\n",
      "9\n",
      "2 2 \n",
      "5 \n",
      "2 3 \n",
      "7 \n",
      "2 2 2 \n",
      "3 3 \n"
     ]
    }
   ],
   "source": [
    "import math\n",
    "def factoresPrimos(n):     \n",
    "    while n % 2 == 0:\n",
    "        print(2, end=\" \")\n",
    "        n = n // 2\n",
    "    for i in range(3,int(math.sqrt(n))+1,2):\n",
    "        while n % i== 0:\n",
    "            print(i, end=\" \")\n",
    "            n = n // i\n",
    "    if n > 2:\n",
    "        print(n, end=\" \")\n",
    "\n",
    "a = int(input())\n",
    "b = int(input())\n",
    "for num in range(a, b+1):\n",
    "    factoresPrimos(num)\n",
    "    print()"
   ]
  }
 ],
 "metadata": {
  "kernelspec": {
   "display_name": "Python 3",
   "language": "python",
   "name": "python3"
  },
  "language_info": {
   "codemirror_mode": {
    "name": "ipython",
    "version": 3
   },
   "file_extension": ".py",
   "mimetype": "text/x-python",
   "name": "python",
   "nbconvert_exporter": "python",
   "pygments_lexer": "ipython3",
   "version": "3.8.8"
  }
 },
 "nbformat": 4,
 "nbformat_minor": 5
}
