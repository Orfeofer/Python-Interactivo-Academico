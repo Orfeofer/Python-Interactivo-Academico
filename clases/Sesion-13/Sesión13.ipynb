{
 "cells": [
  {
   "cell_type": "markdown",
   "id": "c411a238",
   "metadata": {},
   "source": [
    "# Bokeh\n",
    "\n",
    "Bokeh es una libería de python creada para realizar gráficos interactivos para web browsers, este funciona construyento bloques para poder crear la visualización y luego customizandolos dependiendo de lo que se necesite.\n",
    "\n",
    "Está constituido por 2 elementos, el primero es una libería en python para definir el contenido y las funcionalidades interactivas de la visualización y luego una librería en JavaScript (BokehJS) que se encarga de mostrar este gráfica en el web browser.\n",
    "\n",
    "Solo se necesita interactuar con el código en Python para generar los gráficos ya que Bokeh se encarga de generar el código de JavaScript y el HTML necesario para la visualización."
   ]
  },
  {
   "cell_type": "markdown",
   "id": "bdc5f49f",
   "metadata": {},
   "source": [
    "## Line Chart Plot"
   ]
  },
  {
   "cell_type": "code",
   "execution_count": 30,
   "id": "5c26751f",
   "metadata": {},
   "outputs": [],
   "source": [
    "from bokeh.plotting import figure, output_file, show, save\n",
    "import pandas as pd\n",
    "from bokeh.io import output_notebook\n",
    "import numpy as np"
   ]
  },
  {
   "cell_type": "code",
   "execution_count": null,
   "id": "0d185ba3",
   "metadata": {},
   "outputs": [],
   "source": [
    "# definir data\n",
    "x = [i for i in range(5)]\n",
    "y = [2 , 8, 7, 13 ,4]"
   ]
  },
  {
   "cell_type": "code",
   "execution_count": null,
   "id": "a1cff51b",
   "metadata": {},
   "outputs": [],
   "source": [
    "print(x)\n",
    "print(y)"
   ]
  },
  {
   "cell_type": "code",
   "execution_count": null,
   "id": "d5c23e48",
   "metadata": {},
   "outputs": [],
   "source": [
    "# utilizar la función figure para definir el plot\n",
    "p = figure(\n",
    "    title = \"Ejemplo\", # titulo del grafico\n",
    "    x_axis_label = \"X\", # nombre del eje x\n",
    "    y_axis_label = \"Y\", # nombre del eje y\n",
    ")"
   ]
  },
  {
   "cell_type": "code",
   "execution_count": null,
   "id": "7a22dcf4",
   "metadata": {},
   "outputs": [],
   "source": [
    "# define una gráfico lineal\n",
    "# x,y contiene la data\n",
    "\n",
    "p.line(x,y, legend_label = \"Test\", line_width = 2) "
   ]
  },
  {
   "cell_type": "code",
   "execution_count": null,
   "id": "eb2682dc",
   "metadata": {},
   "outputs": [],
   "source": [
    "show(p)"
   ]
  },
  {
   "cell_type": "markdown",
   "id": "ad513f35",
   "metadata": {},
   "source": [
    "### Múltiples gráficos\n"
   ]
  },
  {
   "cell_type": "code",
   "execution_count": null,
   "id": "1aefce66",
   "metadata": {},
   "outputs": [],
   "source": [
    "x = [i for i in range(5)]\n",
    "y1 = [2, 8, 7, 13, 4]\n",
    "y2 = [5, 6, 1, 12, 3]\n",
    "y3 = [6, 1, 13, 15, 24]"
   ]
  },
  {
   "cell_type": "code",
   "execution_count": null,
   "id": "7df5cc2a",
   "metadata": {},
   "outputs": [],
   "source": [
    "print(x)\n",
    "print(y1)\n",
    "print(y2)\n",
    "print(y3)"
   ]
  },
  {
   "cell_type": "code",
   "execution_count": null,
   "id": "2ef8b82a",
   "metadata": {},
   "outputs": [],
   "source": [
    "p1 = figure(\n",
    "    title = \"Ejemplo Multigrafico\", \n",
    "    x_axis_label = \"X\", \n",
    "    y_axis_label = \"Y\", \n",
    ")"
   ]
  },
  {
   "cell_type": "code",
   "execution_count": null,
   "id": "37441a03",
   "metadata": {},
   "outputs": [],
   "source": [
    "p1.line(x, y1, legend_label = \"Grafico 1\", line_width = 1, color= \"blue\") \n",
    "p1.line(x, y2, legend_label = \"Grafico 2\", line_width = 2, color= \"green\") \n",
    "p1.line(x, y3, legend_label = \"Grafico 3\", line_width = 3, color= \"red\")  "
   ]
  },
  {
   "cell_type": "code",
   "execution_count": null,
   "id": "0f379cf3",
   "metadata": {},
   "outputs": [],
   "source": [
    "show(p1)"
   ]
  },
  {
   "cell_type": "markdown",
   "id": "cdc11c3d",
   "metadata": {},
   "source": [
    "# Hbar"
   ]
  },
  {
   "cell_type": "code",
   "execution_count": null,
   "id": "1cc6a2cd",
   "metadata": {},
   "outputs": [],
   "source": [
    "df = pd.read_csv(\"car.csv\")"
   ]
  },
  {
   "cell_type": "code",
   "execution_count": null,
   "id": "a5633ded",
   "metadata": {},
   "outputs": [],
   "source": [
    "df"
   ]
  },
  {
   "cell_type": "code",
   "execution_count": null,
   "id": "b4badeee",
   "metadata": {},
   "outputs": [],
   "source": [
    "df.columns"
   ]
  },
  {
   "cell_type": "code",
   "execution_count": null,
   "id": "5b67d44b",
   "metadata": {},
   "outputs": [],
   "source": [
    "df = df.rename(columns = {'Unnamed: 0' : \"car\"})\n",
    "df"
   ]
  },
  {
   "cell_type": "code",
   "execution_count": null,
   "id": "1d174e44",
   "metadata": {},
   "outputs": [],
   "source": [
    "car = df[\"car\"]\n",
    "hp = df[\"hp\"]"
   ]
  },
  {
   "cell_type": "code",
   "execution_count": null,
   "id": "47cf75f8",
   "metadata": {},
   "outputs": [],
   "source": [
    "hp"
   ]
  },
  {
   "cell_type": "code",
   "execution_count": null,
   "id": "9eefe3e2",
   "metadata": {},
   "outputs": [],
   "source": [
    "p2 = figure(\n",
    "    title = \"Carros con mayores Caballos de fuerza\", \n",
    "    y_range = car,\n",
    "    plot_width = 800,\n",
    "    plot_height = 800,\n",
    "    toolbar_location=\"below\",\n",
    "    tools=\"pan,box_select,zoom_in,zoom_out,save\"\n",
    "    #tools=\"\"\n",
    ")"
   ]
  },
  {
   "cell_type": "code",
   "execution_count": null,
   "id": "38574460",
   "metadata": {},
   "outputs": [],
   "source": [
    "p2.hbar(\n",
    "    y = car,\n",
    "    right = hp,\n",
    "    left = 0,\n",
    "    height = 0.8,\n",
    "    color = \"orange\",\n",
    "    fill_alpha = 0.9\n",
    ")\n"
   ]
  },
  {
   "cell_type": "code",
   "execution_count": null,
   "id": "14632202",
   "metadata": {},
   "outputs": [],
   "source": [
    "show(p2)"
   ]
  },
  {
   "cell_type": "markdown",
   "id": "3a698d75",
   "metadata": {},
   "source": [
    "# Save"
   ]
  },
  {
   "cell_type": "code",
   "execution_count": null,
   "id": "35badfb9",
   "metadata": {},
   "outputs": [],
   "source": [
    "output_file(\"file_prueba.html\")\n",
    "save(p2)"
   ]
  },
  {
   "cell_type": "markdown",
   "id": "7cb5f6df",
   "metadata": {
    "scrolled": true
   },
   "source": [
    "# Circulos\n"
   ]
  },
  {
   "cell_type": "code",
   "execution_count": null,
   "id": "e740d826",
   "metadata": {},
   "outputs": [],
   "source": [
    "x = [i for i in range(5)]\n",
    "y1 = [2, 8, 7, 13, 4]\n",
    "y2 = [5, 6, 1, 12, 3]\n",
    "y3 = [6, 1, 13, 15, 24]"
   ]
  },
  {
   "cell_type": "code",
   "execution_count": null,
   "id": "b86d7826",
   "metadata": {},
   "outputs": [],
   "source": [
    "p3 = figure(\n",
    "    title = \"Multiples glifos\",\n",
    ")"
   ]
  },
  {
   "cell_type": "code",
   "execution_count": null,
   "id": "25d35b74",
   "metadata": {},
   "outputs": [],
   "source": [
    "p3.line(x,y1,legend_label = \"exm1\",color = \"blue\", line_width = 2)\n",
    "p3.line(x, y2, legend_label = \"exm2\",color = \"red\", line_width = 2)\n",
    "\n",
    "p3.circle(x,y3, legend_label = \"circulos\", color = \"yellow\", size = 23)"
   ]
  },
  {
   "cell_type": "code",
   "execution_count": null,
   "id": "3a348072",
   "metadata": {},
   "outputs": [],
   "source": [
    "show(p3)"
   ]
  },
  {
   "cell_type": "markdown",
   "id": "d0c24dfc",
   "metadata": {},
   "source": [
    "# vBar"
   ]
  },
  {
   "cell_type": "code",
   "execution_count": null,
   "id": "07893cb3",
   "metadata": {},
   "outputs": [],
   "source": [
    "p3 = figure(\n",
    "    title = \"Multiples glifos\",\n",
    ")\n",
    "p3.line(x,y1,legend_label = \"exm1\",color = \"blue\", line_width = 2)\n",
    "p3.vbar(x = x, top = y2, legend_label = \"exm2\",color = \"red\", width = 0.5, bottom = 0)\n",
    "p3.circle(x,y3, legend_label = \"circulos\", color = \"yellow\", size = 13)"
   ]
  },
  {
   "cell_type": "code",
   "execution_count": null,
   "id": "487b7242",
   "metadata": {},
   "outputs": [],
   "source": [
    "show(p3)"
   ]
  },
  {
   "cell_type": "markdown",
   "id": "4028bf6a",
   "metadata": {},
   "source": [
    "# Vpython\n",
    "\n",
    "Vpython es una libería que permite realizar de manera muy sencilla gráficos en 3D, animaciones, es muy fácil de utilizar comparado a otras librerías gráficas y tiene bastante contenido para ofrecer ya sea para programadores experimentados o novatos.\n",
    "\n",
    "También puedes utilizar Vpython en https://www.glowscript.org/ y escribir o probar diferentes programas en 3D."
   ]
  },
  {
   "cell_type": "code",
   "execution_count": 29,
   "id": "5d506a88",
   "metadata": {
    "scrolled": true
   },
   "outputs": [],
   "source": [
    "#instalar antes\n",
    "#pip install vpython\n",
    "from vpython import *"
   ]
  },
  {
   "cell_type": "code",
   "execution_count": 3,
   "id": "105755f8",
   "metadata": {},
   "outputs": [],
   "source": [
    "# definir posiciones\n",
    "esfera_pos = vector(0,0,0)\n",
    "box_pos = vector(2,0,0)"
   ]
  },
  {
   "cell_type": "code",
   "execution_count": 4,
   "id": "7c4ad8b4",
   "metadata": {},
   "outputs": [
    {
     "data": {
      "application/javascript": [
       "if (typeof Jupyter !== \"undefined\") {require.undef(\"nbextensions/vpython_libraries/glow.min\");}else{element.textContent = ' ';}"
      ],
      "text/plain": [
       "<IPython.core.display.Javascript object>"
      ]
     },
     "metadata": {},
     "output_type": "display_data"
    },
    {
     "data": {
      "application/javascript": [
       "if (typeof Jupyter !== \"undefined\") {require.undef(\"nbextensions/vpython_libraries/glowcomm\");}else{element.textContent = ' ';}"
      ],
      "text/plain": [
       "<IPython.core.display.Javascript object>"
      ]
     },
     "metadata": {},
     "output_type": "display_data"
    },
    {
     "data": {
      "application/javascript": [
       "if (typeof Jupyter !== \"undefined\") {require.undef(\"nbextensions/vpython_libraries/jquery-ui.custom.min\");}else{element.textContent = ' ';}"
      ],
      "text/plain": [
       "<IPython.core.display.Javascript object>"
      ]
     },
     "metadata": {},
     "output_type": "display_data"
    },
    {
     "data": {
      "application/javascript": [
       "if (typeof Jupyter !== \"undefined\") {require([\"nbextensions/vpython_libraries/glow.min\"], function(){console.log(\"GLOW LOADED\");});}else{element.textContent = ' ';}"
      ],
      "text/plain": [
       "<IPython.core.display.Javascript object>"
      ]
     },
     "metadata": {},
     "output_type": "display_data"
    },
    {
     "data": {
      "application/javascript": [
       "if (typeof Jupyter !== \"undefined\") {require([\"nbextensions/vpython_libraries/glowcomm\"], function(){console.log(\"GLOWCOMM LOADED\");});}else{element.textContent = ' ';}"
      ],
      "text/plain": [
       "<IPython.core.display.Javascript object>"
      ]
     },
     "metadata": {},
     "output_type": "display_data"
    },
    {
     "data": {
      "application/javascript": [
       "if (typeof Jupyter !== \"undefined\") {require([\"nbextensions/vpython_libraries/jquery-ui.custom.min\"], function(){console.log(\"JQUERY LOADED\");});}else{element.textContent = ' ';}"
      ],
      "text/plain": [
       "<IPython.core.display.Javascript object>"
      ]
     },
     "metadata": {},
     "output_type": "display_data"
    }
   ],
   "source": [
    "# crear objetos\n",
    "esfera = sphere(pos = esfera_pos, color = color.red)\n",
    "caja = box(pos= box_pos , color = color.yellow)"
   ]
  },
  {
   "cell_type": "code",
   "execution_count": 5,
   "id": "2021b796",
   "metadata": {},
   "outputs": [],
   "source": [
    "# modificar colores\n",
    "esfera.color = color.blue\n"
   ]
  },
  {
   "cell_type": "code",
   "execution_count": 7,
   "id": "1ed49157",
   "metadata": {},
   "outputs": [],
   "source": [
    "caja.color = color.red"
   ]
  },
  {
   "cell_type": "code",
   "execution_count": 9,
   "id": "f684f69c",
   "metadata": {},
   "outputs": [],
   "source": [
    "# modicar radio\n",
    "esfera.radius = 0.25"
   ]
  },
  {
   "cell_type": "code",
   "execution_count": 22,
   "id": "1bb4ea53",
   "metadata": {
    "scrolled": false
   },
   "outputs": [
    {
     "data": {
      "text/html": [
       "<div id=\"glowscript\" class=\"glowscript\"></div>"
      ],
      "text/plain": [
       "<IPython.core.display.HTML object>"
      ]
     },
     "metadata": {},
     "output_type": "display_data"
    },
    {
     "data": {
      "application/javascript": [
       "if (typeof Jupyter !== \"undefined\") { window.__context = { glowscript_container: $(\"#glowscript\").removeAttr(\"id\")};}else{ element.textContent = ' ';}"
      ],
      "text/plain": [
       "<IPython.core.display.Javascript object>"
      ]
     },
     "metadata": {},
     "output_type": "display_data"
    }
   ],
   "source": [
    "scene = canvas(title = \"my Escena\")\n",
    "esfera_pos = vector(0,0,0)\n",
    "box_pos = vector(2,0,0)\n",
    "esfera = sphere(pos = esfera_pos,radius = 0.5, color = color.red)\n",
    "caja = box(pos= box_pos ,size=vector(1.5,0.5,1.0), axis = vector(0.25,0.4,0.7) , color = color.yellow) # size = ancho, altura, profundidad"
   ]
  },
  {
   "cell_type": "code",
   "execution_count": 28,
   "id": "db357e84",
   "metadata": {},
   "outputs": [
    {
     "data": {
      "text/html": [
       "<div id=\"glowscript\" class=\"glowscript\"></div>"
      ],
      "text/plain": [
       "<IPython.core.display.HTML object>"
      ]
     },
     "metadata": {},
     "output_type": "display_data"
    },
    {
     "data": {
      "application/javascript": [
       "if (typeof Jupyter !== \"undefined\") { window.__context = { glowscript_container: $(\"#glowscript\").removeAttr(\"id\")};}else{ element.textContent = ' ';}"
      ],
      "text/plain": [
       "<IPython.core.display.Javascript object>"
      ]
     },
     "metadata": {},
     "output_type": "display_data"
    },
    {
     "ename": "KeyboardInterrupt",
     "evalue": "",
     "output_type": "error",
     "traceback": [
      "\u001b[1;31m---------------------------------------------------------------------------\u001b[0m",
      "\u001b[1;31mKeyboardInterrupt\u001b[0m                         Traceback (most recent call last)",
      "\u001b[1;32m<ipython-input-28-44ec6b1fbe1d>\u001b[0m in \u001b[0;36m<module>\u001b[1;34m\u001b[0m\n\u001b[0;32m     23\u001b[0m \u001b[1;32mwhile\u001b[0m \u001b[1;32mTrue\u001b[0m\u001b[1;33m:\u001b[0m\u001b[1;33m\u001b[0m\u001b[1;33m\u001b[0m\u001b[0m\n\u001b[0;32m     24\u001b[0m     \u001b[1;31m#solo 200 iteraciones por segundo\u001b[0m\u001b[1;33m\u001b[0m\u001b[1;33m\u001b[0m\u001b[1;33m\u001b[0m\u001b[0m\n\u001b[1;32m---> 25\u001b[1;33m     \u001b[0mrate\u001b[0m\u001b[1;33m(\u001b[0m\u001b[1;36m200\u001b[0m\u001b[1;33m)\u001b[0m\u001b[1;33m\u001b[0m\u001b[1;33m\u001b[0m\u001b[0m\n\u001b[0m\u001b[0;32m     26\u001b[0m     \u001b[0mr\u001b[0m \u001b[1;33m=\u001b[0m  \u001b[0mesfera_pequeña\u001b[0m\u001b[1;33m.\u001b[0m\u001b[0mpos\u001b[0m \u001b[1;33m-\u001b[0m \u001b[0mesfera_grande\u001b[0m\u001b[1;33m.\u001b[0m\u001b[0mpos\u001b[0m\u001b[1;33m\u001b[0m\u001b[1;33m\u001b[0m\u001b[0m\n\u001b[0;32m     27\u001b[0m     \u001b[1;31m# ley de grativación universal\u001b[0m\u001b[1;33m\u001b[0m\u001b[1;33m\u001b[0m\u001b[1;33m\u001b[0m\u001b[0m\n",
      "\u001b[1;32mD:\\anaconda3\\lib\\site-packages\\vpython\\rate_control.py\u001b[0m in \u001b[0;36m__call__\u001b[1;34m(self, N)\u001b[0m\n\u001b[0;32m    264\u001b[0m         \u001b[0mself\u001b[0m\u001b[1;33m.\u001b[0m\u001b[0mrval\u001b[0m \u001b[1;33m=\u001b[0m \u001b[0mN\u001b[0m\u001b[1;33m\u001b[0m\u001b[1;33m\u001b[0m\u001b[0m\n\u001b[0;32m    265\u001b[0m         \u001b[1;32mif\u001b[0m \u001b[0mself\u001b[0m\u001b[1;33m.\u001b[0m\u001b[0mrval\u001b[0m \u001b[1;33m<\u001b[0m \u001b[1;36m1\u001b[0m\u001b[1;33m:\u001b[0m \u001b[1;32mraise\u001b[0m \u001b[0mValueError\u001b[0m\u001b[1;33m(\u001b[0m\u001b[1;34m\"rate value must be greater than or equal to 1\"\u001b[0m\u001b[1;33m)\u001b[0m\u001b[1;33m\u001b[0m\u001b[1;33m\u001b[0m\u001b[0m\n\u001b[1;32m--> 266\u001b[1;33m         \u001b[0msuper\u001b[0m\u001b[1;33m(\u001b[0m\u001b[0m_RateKeeper2\u001b[0m\u001b[1;33m,\u001b[0m \u001b[0mself\u001b[0m\u001b[1;33m)\u001b[0m\u001b[1;33m.\u001b[0m\u001b[0m__call__\u001b[0m\u001b[1;33m(\u001b[0m\u001b[0mself\u001b[0m\u001b[1;33m.\u001b[0m\u001b[0mrval\u001b[0m\u001b[1;33m)\u001b[0m \u001b[1;31m## calls __call__ in rate_control.py\u001b[0m\u001b[1;33m\u001b[0m\u001b[1;33m\u001b[0m\u001b[0m\n\u001b[0m\u001b[0;32m    267\u001b[0m \u001b[1;33m\u001b[0m\u001b[0m\n\u001b[0;32m    268\u001b[0m \u001b[1;33m\u001b[0m\u001b[0m\n",
      "\u001b[1;32mD:\\anaconda3\\lib\\site-packages\\vpython\\rate_control.py\u001b[0m in \u001b[0;36m__call__\u001b[1;34m(self, maxRate)\u001b[0m\n\u001b[0;32m    218\u001b[0m             \u001b[0mdt\u001b[0m \u001b[1;33m=\u001b[0m \u001b[0mself\u001b[0m\u001b[1;33m.\u001b[0m\u001b[0mlastSleep\u001b[0m \u001b[1;33m+\u001b[0m \u001b[0mself\u001b[0m\u001b[1;33m.\u001b[0m\u001b[0mcalls\u001b[0m\u001b[1;33m*\u001b[0m\u001b[1;33m(\u001b[0m\u001b[0mself\u001b[0m\u001b[1;33m.\u001b[0m\u001b[0muserTime\u001b[0m \u001b[1;33m+\u001b[0m \u001b[0mself\u001b[0m\u001b[1;33m.\u001b[0m\u001b[0mcallTime\u001b[0m \u001b[1;33m+\u001b[0m \u001b[0mself\u001b[0m\u001b[1;33m.\u001b[0m\u001b[0mdelay\u001b[0m\u001b[1;33m)\u001b[0m \u001b[1;33m+\u001b[0m\u001b[0;31m \u001b[0m\u001b[0;31m\\\u001b[0m\u001b[1;33m\u001b[0m\u001b[1;33m\u001b[0m\u001b[0m\n\u001b[0;32m    219\u001b[0m                  \u001b[0mrenders\u001b[0m\u001b[1;33m*\u001b[0m\u001b[0mself\u001b[0m\u001b[1;33m.\u001b[0m\u001b[0mrenderTime\u001b[0m \u001b[1;33m+\u001b[0m \u001b[0msleeps\u001b[0m\u001b[1;33m*\u001b[0m\u001b[0mself\u001b[0m\u001b[1;33m.\u001b[0m\u001b[0minteractionPeriod\u001b[0m \u001b[1;33m-\u001b[0m \u001b[0m_clock\u001b[0m\u001b[1;33m(\u001b[0m\u001b[1;33m)\u001b[0m\u001b[1;33m\u001b[0m\u001b[1;33m\u001b[0m\u001b[0m\n\u001b[1;32m--> 220\u001b[1;33m             \u001b[0m_sleep\u001b[0m\u001b[1;33m(\u001b[0m\u001b[0mdt\u001b[0m\u001b[1;33m)\u001b[0m\u001b[1;33m\u001b[0m\u001b[1;33m\u001b[0m\u001b[0m\n\u001b[0m\u001b[0;32m    221\u001b[0m             \u001b[0mself\u001b[0m\u001b[1;33m.\u001b[0m\u001b[0mlastSleep\u001b[0m \u001b[1;33m=\u001b[0m \u001b[0m_clock\u001b[0m\u001b[1;33m(\u001b[0m\u001b[1;33m)\u001b[0m\u001b[1;33m\u001b[0m\u001b[1;33m\u001b[0m\u001b[0m\n\u001b[0;32m    222\u001b[0m             \u001b[0mself\u001b[0m\u001b[1;33m.\u001b[0m\u001b[0mcalls\u001b[0m \u001b[1;33m=\u001b[0m \u001b[1;36m0\u001b[0m\u001b[1;33m\u001b[0m\u001b[1;33m\u001b[0m\u001b[0m\n",
      "\u001b[1;32mD:\\anaconda3\\lib\\site-packages\\vpython\\rate_control.py\u001b[0m in \u001b[0;36m_sleep\u001b[1;34m(dt)\u001b[0m\n\u001b[0;32m     67\u001b[0m     \u001b[0mtend\u001b[0m \u001b[1;33m=\u001b[0m \u001b[0m_clock\u001b[0m\u001b[1;33m(\u001b[0m\u001b[1;33m)\u001b[0m\u001b[1;33m+\u001b[0m\u001b[0mdt\u001b[0m\u001b[1;33m\u001b[0m\u001b[1;33m\u001b[0m\u001b[0m\n\u001b[0;32m     68\u001b[0m     \u001b[1;32mwhile\u001b[0m \u001b[0m_clock\u001b[0m\u001b[1;33m(\u001b[0m\u001b[1;33m)\u001b[0m \u001b[1;33m<\u001b[0m \u001b[0mtend\u001b[0m\u001b[1;33m:\u001b[0m\u001b[1;33m\u001b[0m\u001b[1;33m\u001b[0m\u001b[0m\n\u001b[1;32m---> 69\u001b[1;33m         \u001b[1;32mpass\u001b[0m\u001b[1;33m\u001b[0m\u001b[1;33m\u001b[0m\u001b[0m\n\u001b[0m\u001b[0;32m     70\u001b[0m \u001b[1;33m\u001b[0m\u001b[0m\n\u001b[0;32m     71\u001b[0m \u001b[1;32mclass\u001b[0m \u001b[0msimulateDelay\u001b[0m\u001b[1;33m:\u001b[0m\u001b[1;33m\u001b[0m\u001b[1;33m\u001b[0m\u001b[0m\n",
      "\u001b[1;31mKeyboardInterrupt\u001b[0m: "
     ]
    }
   ],
   "source": [
    "scene = canvas(title = \"Estrella binaria\")\n",
    "G = 6.7e-11\n",
    "#define la cámara\n",
    "scene.forward = vec(0,-.3,-1)\n",
    "\n",
    "# primera estrella\n",
    "esfera_grande = sphere(pos=vector(-1e11,0,0), radius=2e10, color=color.red, \n",
    "                make_trail=True, trail_type='points', interval=10, retain=20)\n",
    "                #deja una cola, el tipo de cola que deja, la cola es dejada cada 10 movimientos, solo\n",
    "                #los 20 primeros puntos son retenidos\n",
    "esfera_grande.mass = 2e30\n",
    "esfera_grande.p = vector(0, 0, -1e4) * esfera_grande.mass\n",
    "        \n",
    "#s\n",
    "esfera_pequeña = sphere(pos=vector(1.5e11,0,0), radius=1e10, color=color.yellow,\n",
    "                make_trail=True, retain=40)\n",
    "\n",
    "esfera_pequeña.mass = 1e30\n",
    "esfera_pequeña.p = -esfera_grande.p\n",
    "\n",
    "dt = 1e5\n",
    "\n",
    "while True:\n",
    "    #solo 200 iteraciones por segundo\n",
    "    rate(200)\n",
    "    r =  esfera_pequeña.pos - esfera_grande.pos \n",
    "    # ley de grativación universal\n",
    "    F = G * esfera_grande.mass * esfera_pequeña.mass * norm(r) / mag2(r)\n",
    "        \n",
    "    # calculo cantidad de movimiento\n",
    "    esfera_grande.p = esfera_grande.p  + F*dt \n",
    "    esfera_pequeña.p = esfera_pequeña.p  - F*dt \n",
    "   \n",
    "    esfera_grande.pos = esfera_grande.pos +  (esfera_grande.p/ esfera_grande.mass ) *dt\n",
    "    esfera_pequeña.pos = esfera_pequeña.pos  + (esfera_pequeña.p/esfera_pequeña.mass )*dt"
   ]
  },
  {
   "cell_type": "markdown",
   "id": "bf8bca60",
   "metadata": {},
   "source": [
    "\n",
    "# Numba\n",
    "\n",
    "Numba es un compilador jit(just-in-time) en el pasado el compilador transformaba un lenguaje de alto nivel en instrucciones de máquina las cuales se vinculaban con un ejecutable, posteriormente a este enfoque los compiladores transformaban el lenguaje de alto nivel en pseudo-código el cual era interpretador por un interpreter para poder correr el programa. JIT es una carácteristica que permite que en vez de interpreter cada bytecode cuando se invoca un método este sea compilado a código máquina y luego poder invocar el código máquina obtenido."
   ]
  },
  {
   "cell_type": "code",
   "execution_count": 31,
   "id": "87f5e16a",
   "metadata": {},
   "outputs": [],
   "source": [
    "# main.cpp -compilan-> main.exe\n",
    "from numba import jit\n",
    "import random"
   ]
  },
  {
   "cell_type": "code",
   "execution_count": 32,
   "id": "e9afad52",
   "metadata": {},
   "outputs": [
    {
     "data": {
      "text/plain": [
       "array([[1, 3],\n",
       "       [4, 5]])"
      ]
     },
     "execution_count": 32,
     "metadata": {},
     "output_type": "execute_result"
    }
   ],
   "source": [
    "arr = np.array([\n",
    "    [1,3],\n",
    "    [4,5]\n",
    "])\n",
    "arr"
   ]
  },
  {
   "cell_type": "code",
   "execution_count": 33,
   "id": "6de8f50e",
   "metadata": {},
   "outputs": [],
   "source": [
    "def suma_numpy(arr):\n",
    "    return np.sum(arr)"
   ]
  },
  {
   "cell_type": "code",
   "execution_count": 34,
   "id": "3feaf9fd",
   "metadata": {},
   "outputs": [],
   "source": [
    "def suma_normal(arr):\n",
    "    sum = 0\n",
    "    n , m = arr.shape\n",
    "    #filas\n",
    "    for i in range(n):\n",
    "        #col\n",
    "        for j in range(m):\n",
    "            sum += arr[i][j]\n",
    "    return sum"
   ]
  },
  {
   "cell_type": "code",
   "execution_count": 35,
   "id": "2dedefbc",
   "metadata": {},
   "outputs": [
    {
     "data": {
      "text/plain": [
       "13"
      ]
     },
     "execution_count": 35,
     "metadata": {},
     "output_type": "execute_result"
    }
   ],
   "source": [
    "suma_normal(arr)"
   ]
  },
  {
   "cell_type": "code",
   "execution_count": 40,
   "id": "6fb9bcd2",
   "metadata": {},
   "outputs": [
    {
     "name": "stdout",
     "output_type": "stream",
     "text": [
      "18.3 ms ± 1.39 ms per loop (mean ± std. dev. of 7 runs, 100 loops each)\n"
     ]
    }
   ],
   "source": [
    "%timeit suma_numpy(np.random.rand(1000,1000))"
   ]
  },
  {
   "cell_type": "code",
   "execution_count": 41,
   "id": "e619c163",
   "metadata": {},
   "outputs": [
    {
     "name": "stdout",
     "output_type": "stream",
     "text": [
      "567 ms ± 66.4 ms per loop (mean ± std. dev. of 7 runs, 1 loop each)\n"
     ]
    }
   ],
   "source": [
    "%timeit suma_normal(np.random.rand(1000,1000))"
   ]
  },
  {
   "cell_type": "code",
   "execution_count": 67,
   "id": "fa13579b",
   "metadata": {},
   "outputs": [],
   "source": [
    "# Usando decorator\n",
    "@jit(nopython = True) #nopython True para mejor rendimiento, también existe object mode\n",
    "def suma_normal(arr):\n",
    "    sum = 0\n",
    "    n , m = arr.shape\n",
    "    for i in range(n):\n",
    "        for j in range(m):\n",
    "            sum += arr[i][j]\n",
    "    return sum"
   ]
  },
  {
   "cell_type": "code",
   "execution_count": 68,
   "id": "dc9a1593",
   "metadata": {},
   "outputs": [
    {
     "name": "stdout",
     "output_type": "stream",
     "text": [
      "Wall time: 163 ms\n"
     ]
    },
    {
     "data": {
      "text/plain": [
       "500302.25154871866"
      ]
     },
     "execution_count": 68,
     "metadata": {},
     "output_type": "execute_result"
    }
   ],
   "source": [
    "# primera compilación\n",
    "%time suma_normal(np.random.rand(1000,1000))"
   ]
  },
  {
   "cell_type": "code",
   "execution_count": 69,
   "id": "5a1aa010",
   "metadata": {},
   "outputs": [
    {
     "name": "stdout",
     "output_type": "stream",
     "text": [
      "Wall time: 14 ms\n"
     ]
    },
    {
     "data": {
      "text/plain": [
       "500117.1188218299"
      ]
     },
     "execution_count": 69,
     "metadata": {},
     "output_type": "execute_result"
    }
   ],
   "source": [
    "#2da para adelante\n",
    "%time suma_normal(np.random.rand(1000,1000))"
   ]
  },
  {
   "cell_type": "code",
   "execution_count": 70,
   "id": "18fbcb41",
   "metadata": {},
   "outputs": [
    {
     "name": "stdout",
     "output_type": "stream",
     "text": [
      "18.4 ms ± 809 µs per loop (mean ± std. dev. of 7 runs, 100 loops each)\n"
     ]
    }
   ],
   "source": [
    "%timeit suma_normal(np.random.rand(1000,1000))"
   ]
  },
  {
   "cell_type": "markdown",
   "id": "2494478d",
   "metadata": {},
   "source": [
    "Numba es utilizado para código que está enfocado en operaciones matemáticas, que utiliza Numpy o que tiene una gran cantidad de bucles."
   ]
  },
  {
   "cell_type": "code",
   "execution_count": 75,
   "id": "a83c42d2",
   "metadata": {},
   "outputs": [],
   "source": [
    "\n",
    "def montecarlo(N):\n",
    "    counter = 0\n",
    "    for i in range(N):\n",
    "        # [0,1]\n",
    "        x = random.random()\n",
    "        y = random.random()\n",
    "        if( x*x + y*y) < 1.0:\n",
    "            counter += 1\n",
    "    return 4.0*counter / N\n",
    "    "
   ]
  },
  {
   "cell_type": "code",
   "execution_count": 78,
   "id": "3b10c858",
   "metadata": {},
   "outputs": [
    {
     "name": "stdout",
     "output_type": "stream",
     "text": [
      "Wall time: 47 ms\n"
     ]
    },
    {
     "data": {
      "text/plain": [
       "3.13928"
      ]
     },
     "execution_count": 78,
     "metadata": {},
     "output_type": "execute_result"
    }
   ],
   "source": [
    "%time montecarlo(100000)"
   ]
  },
  {
   "cell_type": "code",
   "execution_count": 99,
   "id": "6c42b2a3",
   "metadata": {},
   "outputs": [],
   "source": [
    "@jit(nopython = True)\n",
    "def montecarlo(N):\n",
    "    counter = 0\n",
    "    for i in range(N):\n",
    "        x = random.random()\n",
    "        y = random.random()\n",
    "        if( x*x + y*y) < 1.0:\n",
    "            counter += 1\n",
    "    return 4.0*counter / N\n",
    "    "
   ]
  },
  {
   "cell_type": "code",
   "execution_count": 100,
   "id": "c874c529",
   "metadata": {},
   "outputs": [
    {
     "name": "stdout",
     "output_type": "stream",
     "text": [
      "Wall time: 178 ms\n"
     ]
    },
    {
     "data": {
      "text/plain": [
       "3.13364"
      ]
     },
     "execution_count": 100,
     "metadata": {},
     "output_type": "execute_result"
    }
   ],
   "source": [
    "%time montecarlo(100000)"
   ]
  },
  {
   "cell_type": "code",
   "execution_count": 101,
   "id": "9310cfc5",
   "metadata": {},
   "outputs": [
    {
     "name": "stdout",
     "output_type": "stream",
     "text": [
      "Wall time: 988 µs\n"
     ]
    },
    {
     "data": {
      "text/plain": [
       "3.13936"
      ]
     },
     "execution_count": 101,
     "metadata": {},
     "output_type": "execute_result"
    }
   ],
   "source": [
    "%time montecarlo(100000)"
   ]
  },
  {
   "cell_type": "markdown",
   "id": "9b5e6693",
   "metadata": {},
   "source": [
    "# Opciones de compilación\n",
    "\n"
   ]
  },
  {
   "cell_type": "markdown",
   "id": "5a43ec97",
   "metadata": {},
   "source": [
    "## Nogil\n",
    "Cuando Numba require optimizar código nativo en python que solo funciona con variables nativos, ya no es necesario el Global Interpreter Lock de python https://docs.python.org/3/glossary.html#term-global-interpreter-lock"
   ]
  },
  {
   "cell_type": "code",
   "execution_count": null,
   "id": "b22e5415",
   "metadata": {},
   "outputs": [],
   "source": [
    "@jit(nogil=True)\n",
    "def f(x, y):\n",
    "    return x + y"
   ]
  },
  {
   "cell_type": "markdown",
   "id": "47af7b4b",
   "metadata": {},
   "source": [
    "# Cache\n",
    "Para evitar compilar cada vez que se invoca el programa se le puede indicar a Numba escribir el resultado de la función compilada en un archivo cache"
   ]
  },
  {
   "cell_type": "code",
   "execution_count": null,
   "id": "4dfa9680",
   "metadata": {},
   "outputs": [],
   "source": [
    "@jit(cache=True)\n",
    "def f(x, y):\n",
    "    return x + y"
   ]
  },
  {
   "cell_type": "markdown",
   "id": "c1eab0d9",
   "metadata": {},
   "source": [
    "# Parallel\n",
    "permite la paralelización automática para operaciones conocidas que pueden ser \n",
    "paralelizables, para revisar la lista se puede ver en el siguiente link\n",
    "https://numba.readthedocs.io/en/stable/user/parallel.html#numba-parallel\n"
   ]
  },
  {
   "cell_type": "code",
   "execution_count": null,
   "id": "00d353a6",
   "metadata": {},
   "outputs": [],
   "source": [
    "@jit(nopython=True, parallel=True)\n",
    "def f(x, y):\n",
    "    return x + y"
   ]
  }
 ],
 "metadata": {
  "kernelspec": {
   "display_name": "Python 3",
   "language": "python",
   "name": "python3"
  },
  "language_info": {
   "codemirror_mode": {
    "name": "ipython",
    "version": 3
   },
   "file_extension": ".py",
   "mimetype": "text/x-python",
   "name": "python",
   "nbconvert_exporter": "python",
   "pygments_lexer": "ipython3",
   "version": "3.8.8"
  }
 },
 "nbformat": 4,
 "nbformat_minor": 5
}
