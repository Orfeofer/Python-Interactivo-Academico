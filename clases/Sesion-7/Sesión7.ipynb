{
 "cells": [
  {
   "cell_type": "markdown",
   "id": "c4f90224",
   "metadata": {},
   "source": [
    "# 1. Programación orientada a objetos \n",
    "\n",
    "La **<font color='blue'> Programación Orientada a objetos </font>** (POO) **es un paradigma de programación en el que se encapsulan los datos** en forma de **<font color='blue'>objeto</font>** y, *a cada uno de ellos, se les define un conjunto de funcionalidades para trabajar con los datos que están almacenados en los objetos*. \n",
    "\n",
    "Vamos a ver la mayoria de los conceptos relacionados con POO. \n",
    "\n",
    "## Objetos y clases \n",
    "\n",
    "- **En POO, los elementos más importantes son los objetos**. \n",
    "- Un **objeto** es una abstracción de los datos con tres características: \n",
    "    \n",
    "    1. <font color='red'>*Tienen un estado*</font>. Es decir, el objeto tiene un valor concreto en un momento determinado. \n",
    "    \n",
    "    2. <font color='red'>*Tienen un comportamiento*</font>. A partir de un conjunto de métodos podemos modificar el estado de un objeto. \n",
    "    \n",
    "    3. <font color='red'>*Tienen una identidad*</font>. Los objetos tienen un identificador que permite diferenciarlos entre ellos. \n",
    "\n",
    "* Los objetos pueden ser cualquier cosa que podamos definir con las características que hemos visto antes. \n",
    "\n",
    "Por ejemplo, un objeto puede ser un empleado, un animal, un libro, etc. Todos estos elementos podemos definirlos con un conjunto de características, un comportamiento y una identidad. \n",
    "\n",
    "Por ejemplo, podemos definir un **libro**, el cual puede tener las siguientes *características*: \n",
    "\n",
    "* Título. \n",
    "* Autor. \n",
    "* ISBN. \n",
    "* Editorial. \n",
    "* Páginas. \n",
    "* Edición. \n",
    "\n",
    "Y podemos definir diferentes **<font color='blue'>métodos</font>** que permitan modificar esos **<font color='blue'>atributos</font>**, como modificar la edición o la editorial. \n",
    "\n",
    "\n",
    "Todo esto lo podemos definir en Python. Para ello, lo que implementaremos es la ``clase Libro``. \n",
    "\n",
    "* Una **<font color='green'>clase</font>** es, digamos, una estructura que tienen que seguir los objetos de dicha clase. \n",
    "* **<font color='green'> En una clase se les define qué operaciones pueden hacer y qué características tienen</font>**. \n",
    "* Para crear una clase en Python utilizaremos la palabra reservada ``class``, seguida del ``nombre de la clase`` y de dos puntos (``:``) al final de la sentencia: \n",
    "\n",
    "~~~python\n",
    "class Libro:\n",
    "~~~\n",
    "\n",
    "**Observación:** Aunque no es obligatorio, los nombres de las clases deben comenzar por una mayúscula. Una vez que hemos comenzado por definir la clase, podemos incluir diferentes elementos según los necesitemos. \n",
    "\n",
    " \n",
    "### Atributos\n",
    "\n",
    "Los atributos <font color='blue'>son un conjunto de valores que almacenan las características de un \n",
    "objeto en un estado concreto</font>. \n",
    "\n",
    "En el ejemplo del libro, los atributos serán las características que hemos definido antes para un libro. Estos atributos se incluyen en la clase y pueden almacenar cualquier tipo de dato o estructura: "
   ]
  },
  {
   "cell_type": "code",
   "execution_count": 9,
   "id": "2275b9b9",
   "metadata": {},
   "outputs": [],
   "source": [
    "class Libro: \n",
    "    titulo = 'Don Quijote de la Mancha' \n",
    "    autor = 'Miguel de Cervantes' \n",
    "    isbn = '0987-7489' \n",
    "    editorial = 'Mi Editorial' \n",
    "    paginas = 934 \n",
    "    edicion = 34 "
   ]
  },
  {
   "cell_type": "markdown",
   "id": "32bf1d57",
   "metadata": {},
   "source": [
    "Como se puede observar, los <font color='blue'>atributos</font> **comienzan por una letra minúscula**. Aunque no es obligatorio, se trata de un estándar en el estilo de programación. \n",
    "\n",
    "En este ejemplo, la clase incluye un valor inicial a cada uno de los atributos; sin embargo, esto \n",
    "no siempre es necesario, como veremos más adelante. \n",
    "\n",
    "**Una vez que hemos creado la clase, podemos crear objetos de dicha clase**. Para ello, asignaremos a un identificador \n",
    "una clase seguida de los paréntesis: \n",
    "\n",
    "~~~python\n",
    "variable = Clase() \n",
    "~~~\n",
    " \n",
    "Por ejemplo, si queremos **<font color='red'>crear una instancia (es decir, un nuevo objeto)</font>** de la clase Libro, usaríamos la siguiente instrucción: \n",
    "\n"
   ]
  },
  {
   "cell_type": "code",
   "execution_count": 11,
   "id": "029a4813",
   "metadata": {},
   "outputs": [
    {
     "data": {
      "text/plain": [
       "<__main__.Libro at 0x1902993a880>"
      ]
     },
     "execution_count": 11,
     "metadata": {},
     "output_type": "execute_result"
    }
   ],
   "source": [
    "mi_libro = Libro()\n",
    "mi_libro"
   ]
  },
  {
   "cell_type": "markdown",
   "id": "cd44c3e3",
   "metadata": {},
   "source": [
    "Esto hará que tengamos un nuevo objeto Libro asignado a la variable **mi_libro**. \n",
    "\n",
    "Una vez que tenemos creado el objeto, podemos acceder a sus atributos para conocer su valor. \n",
    "\n",
    "<font color='blue'>Para ello, escribiremos el nombre de la variable seguido de un punto (``.``) y del nombre del atributo que queremos leer</font>. \n",
    "\n",
    "Por ejemplo, si queremos acceder al título \n",
    "del libro, ejecutaríamos la siguiente sentencia: "
   ]
  },
  {
   "cell_type": "code",
   "execution_count": 13,
   "id": "4dc3cf16",
   "metadata": {},
   "outputs": [
    {
     "data": {
      "text/plain": [
       "'0987-7489'"
      ]
     },
     "execution_count": 13,
     "metadata": {},
     "output_type": "execute_result"
    }
   ],
   "source": [
    "mi_libro.titulo # Devolverá 'Don Quijote de la Mancha'\n",
    "#mi_libro.isbn"
   ]
  },
  {
   "cell_type": "markdown",
   "id": "96bb21bf",
   "metadata": {},
   "source": [
    "**<font color='blue'>Los atributos de un objeto solo deben ser modificados a partir de las operaciones válidas que se hayan definido en la clase</font>**.\n",
    "\n",
    "Esto se hace con la definición de los métodos. \n",
    "\n",
    " \n",
    "\n",
    "### Métodos \n",
    "\n",
    "Los métodos <font color='blue'>son las funciones que incluiremos en las clases y que definirán qué operaciones podemos realizar sobre los objetos</font>. \n",
    "\n",
    "Algunos <font color='blue'>métodos pueden modificar el estado de un objeto</font>, es decir, modificar el valor de los atributos. \n",
    "\n",
    " \n",
    "\n",
    "* **Los métodos deben estar dentro del bloque de código de la clase**, lo que significa que deben estar alineados correctamente con la sangría de 4 espacios dentro de la clase.\n",
    "\n",
    "* Se definen igual que las funciones normales; sin embargo, deben incluir como primer parámetro la instancia del objeto que le llama, así Python sabe identificar que dicho método pertenece a una clase concreta. Para ello, **<font color='blue'>el primer parámetro de los métodos de una clase será la palabra reservada ``self``</font>**: \n",
    "\n",
    "~~~python\n",
    "class MiClase: \n",
    "\n",
    "    def metodo(self, param1, param2): \n",
    "        return resultado \n",
    " ~~~\n",
    " \n",
    " \n",
    "En el mismo ejemplo del libro vamos a definir un método que nos imprima un mensaje estándar con su título y autor. Nuestra clase quedará de la siguiente manera: "
   ]
  },
  {
   "cell_type": "code",
   "execution_count": 14,
   "id": "224c8ea8",
   "metadata": {},
   "outputs": [],
   "source": [
    "class Libro: \n",
    "    titulo = 'Don Quijote de la Mancha' \n",
    "    autor = 'Miguel de Cervantes' \n",
    "    isbn = '0987-7489' \n",
    "    editorial = 'Mi Editorial' \n",
    "    paginas = 934 \n",
    "    edicion = 34 \n",
    " \n",
    "    def imprime(self): \n",
    "        print(self.titulo + \" - \" + self.autor)\n",
    "        \n",
    "mi_libro = Libro() \n"
   ]
  },
  {
   "cell_type": "markdown",
   "id": "ec8ef576",
   "metadata": {},
   "source": [
    "Dentro del <font color='blue'>método</font>, para obtener o modificar el valor de los atributos en el momento de ejecutar el método, usaremos el parámetro **<font color='blue'>self</font>**, ya que es el objeto desde el cual se está ejecutando el método. \n",
    "\n",
    "Este método lo podremos ejecutar desde la variable que almacena el objeto de la siguiente manera: "
   ]
  },
  {
   "cell_type": "code",
   "execution_count": 15,
   "id": "33864b2b",
   "metadata": {},
   "outputs": [
    {
     "name": "stdout",
     "output_type": "stream",
     "text": [
      "Don Quijote de la Mancha - Miguel de Cervantes\n"
     ]
    }
   ],
   "source": [
    "mi_libro.imprime() # Devolverá Don Quijote de la Mancha - Miguel de Cervantes "
   ]
  },
  {
   "cell_type": "markdown",
   "id": "a049f60b",
   "metadata": {},
   "source": [
    "Como se puede observar, no es necesario pasarle por parámetro nada a la función, ya que el parámetro **<font color='blue'>self</font>** **<font color='red'>hace referencia a la instancia del propio objeto</font>**, en este \n",
    "caso, ``mi_libro``. \n",
    "\n",
    "Un método especial en las clases es el método ``__init__()``. *<font color='blue'>Este método se ejecuta en el momento en que creamos un nuevo objeto</font>*. \n",
    "\n",
    "**<font color='blue'>El comportamiento de esta función es muy similar al de los constructores en otros lenguajes de programación</font>**. \n",
    "\n",
    "*Los parámetros que se incluyan en este método deberán hacerlo como argumentos a la hora de crear una instancia de dicha clase.* \n",
    "\n",
    "Por ejemplo, imaginemos que, al construir un objeto de la clase Libro, queremos pedir al usuario el valor de cada uno de los atributos. Para ello, crearíamos el siguiente método ``init``:    "
   ]
  },
  {
   "cell_type": "code",
   "execution_count": 19,
   "id": "3808dd8e",
   "metadata": {},
   "outputs": [],
   "source": [
    "class Libro: \n",
    " \n",
    "    def __init__(self, titulo, autor, isbn, editorial, paginas, edicion): \n",
    "        self.titulo = titulo \n",
    "        self.autor = autor \n",
    "        self.isbn = isbn \n",
    "        self.editorial = editorial \n",
    "        self.paginas = paginas \n",
    "        self.edicion = edicion \n",
    " \n",
    "    def imprime(self): \n",
    "        print(self.titulo + \" - \" + self.autor) \n",
    "        "
   ]
  },
  {
   "cell_type": "markdown",
   "id": "1199da46",
   "metadata": {},
   "source": [
    "Al haber definido el método ``__init__()``, en el momento en que queramos crear la **instancia** de un Libro, tendremos que introducir todos esos argumentos: "
   ]
  },
  {
   "cell_type": "code",
   "execution_count": 26,
   "id": "54fe6f66",
   "metadata": {},
   "outputs": [
    {
     "name": "stdout",
     "output_type": "stream",
     "text": [
      "Don Quijote de la Mancha - Miguel de Cervantes\n"
     ]
    },
    {
     "data": {
      "text/plain": [
       "'0987-7489'"
      ]
     },
     "execution_count": 26,
     "metadata": {},
     "output_type": "execute_result"
    }
   ],
   "source": [
    "mi_libro = Libro('Don Quijote de la Mancha', 'Miguel de Cervantes', '0987-7489', 'Mi Editorial', 934, 34) \n",
    "mi_libro.imprime()\n",
    "\n"
   ]
  },
  {
   "cell_type": "code",
   "execution_count": 27,
   "id": "4004061a",
   "metadata": {
    "scrolled": true
   },
   "outputs": [
    {
     "name": "stdout",
     "output_type": "stream",
     "text": [
      "Harry Potter - JK Rowling\n"
     ]
    },
    {
     "data": {
      "text/plain": [
       "'Harry Potter'"
      ]
     },
     "execution_count": 27,
     "metadata": {},
     "output_type": "execute_result"
    }
   ],
   "source": [
    "otro_libro = Libro('Harry Potter', \"JK Rowling\",'0452-123','Editorial',500,2)\n",
    "#Libro(param1,param2 )\n",
    "otro_libro.imprime()\n",
    "\n"
   ]
  },
  {
   "cell_type": "markdown",
   "id": "1e961232",
   "metadata": {},
   "source": [
    "**<font color='blue'>Esto nos permite crear diferentes objetos que pertenecen a una misma clase.</font>** \n",
    "\n",
    "En nuestro ejemplo podemos crear una colección de libros donde cada uno de estos sea \n",
    "un objeto diferente. \n",
    "\n",
    "### Herencia \n",
    "\n",
    "* **La herencia es una de las características más importantes que hay en la programación orientada a objetos**. \n",
    "\n",
    "* **<font color='blue'>La herencia es un mecanismo que nos permite que las clases puedan heredar métodos y atributos de otras clases</font>**. \n",
    "\n",
    "    Esto nos permite definir nuevas clases a partir de otras que ya existen y a las que queremos ampliar su funcionalidad o hacer que una funcionalidad concreta sea más específica. \n",
    "\n",
    "* Para explicar el funcionamiento de la herencia vamos a suponer que queremos modelar los siguientes datos para crear una aplicación para la universidad: \n",
    "\n",
    "<center><img src=\"1.png\" alt=\"drawing\" width=\"350\"/></center> \n",
    "\n",
    "En este caso, tenemos dos clases (Alumno y Profesor) que almacenarán la información concreta de cada uno de ellos y, además, tendrán diferentes funcionalidades. \n",
    "\n",
    "- Sin embargo, **<font color='red'>existe cierta información que es común a ambas</font>**, como puede ser el nombre, la fecha de nacimiento o el domicilio. \n",
    "- En este caso, **<font color='red'>para no duplicar la información, crearemos una ``clase Persona``, la cual tendrá los atributos y métodos comunes de ``Profesor`` y ``Alumno``</font>**. \n",
    "\n",
    "Esta clase tendrá la siguiente implementación: "
   ]
  },
  {
   "cell_type": "code",
   "execution_count": null,
   "id": "f605a01d",
   "metadata": {},
   "outputs": [],
   "source": []
  },
  {
   "cell_type": "code",
   "execution_count": 33,
   "id": "c51cc3be",
   "metadata": {},
   "outputs": [],
   "source": [
    "class Persona: \n",
    "    \n",
    "    def __init__(self, nombre, fecha_nacimiento, domicilio): \n",
    "        self.nombre = nombre; \n",
    "        self.fecha_nacimiento = fecha_nacimiento \n",
    "        self.domicilio = domicilio \n",
    "\n",
    "    def cambiar_domicilio(self, nuevo_domicilio): \n",
    "        self.domicilio = nuevo_domicilio "
   ]
  },
  {
   "cell_type": "markdown",
   "id": "c925274d",
   "metadata": {},
   "source": [
    "- En este ejemplo los atributos comunes serán **el nombre**, **la fecha de nacimiento** y **el domicilio**.\n",
    "- Además, **incluiremos el método cambiar_domicilio para que ambos roles (alumnos y profesores) puedan cambiar de domicilio**. \n",
    "\n",
    "A continuación, <font color='blue'>implementamos las clases que heredarán los atributos y métodos de Personas</font>. Para \n",
    "ello debemos hacer lo siguiente: \n",
    "\n",
    "\n",
    "1. En la primera línea escribimos la palabra reservada ``class``, seguida ``del nombre de la nueva clase`` y, a continuación, ``la clase de la que se van a heredar los atributos y métodos entre paréntesis``: \n",
    "    \n",
    "~~~python\n",
    "class NuevaClase(ClasePadre): \n",
    "~~~\n",
    "\n",
    "2. Definir el método ``__init__()``. Este método ``debe incluir los parámetros que se han definido en la clase padre y se incluirán los nuevos parámetros``. <font color='blue'> Dentro de este método se llamará al método ``__init()__`` de la clase padre para crear el objeto</font>: \n",
    "\n",
    "~~~python\n",
    "def __init__(self, param_padre1, …, param_padreN, nuevo_param1, … nuevo_paramM): \n",
    "    ClasePadre.__init__(self, param_padre1, …, param_padreN) \n",
    "    self.nuevo_attr1 = nuevo_param1 \n",
    "    … \n",
    "    self.nuevo_attrN = nuevo_paramM\n",
    "~~~\n",
    "\n",
    "3. A continuación, implementamos los métodos específicos de la nueva clase. \n",
    "\n",
    "Veamos esto con el ejemplo de profesores y alumnos. Vamos a implementar la ``clase Alumno`` a la que, además de los ``atributos`` y ``métodos`` de la ``clase Persona``, **incluiremos en qué asignatura está matriculada y su calificación**. \n",
    "\n",
    "También **añadiremos un método para incluir la calificación de un alumno**. Esta clase quedaría de la siguiente manera:"
   ]
  },
  {
   "cell_type": "code",
   "execution_count": 28,
   "id": "e299e672",
   "metadata": {},
   "outputs": [],
   "source": [
    "class Persona: \n",
    "    \n",
    "    def __init__(self, nombre, fecha_nacimiento, domicilio): \n",
    "        self.nombre = nombre; \n",
    "        self.fecha_nacimiento = fecha_nacimiento \n",
    "        self.domicilio = domicilio \n",
    "\n",
    "    def cambiar_domicilio(self, nuevo_domicilio): \n",
    "        self.domicilio = nuevo_domicilio \n",
    "\n",
    "\n",
    "class Alumno(Persona): \n",
    "\n",
    "    def __init__(self, nombre, fecha_nacimiento, domicilio,  asignatura_matriculada): \n",
    "\n",
    "        Persona.__init__(self, nombre, fecha_nacimiento, domicilio) \n",
    "        '''\n",
    "        self.nombre = nombre\n",
    "        self.fecha_nacimiento = fecha_nacimiento\n",
    "        self.domiciolio = domicilio\n",
    "        '''\n",
    "    # Nuevos atributos \n",
    "        self.asignatura_matriculada = asignatura_matriculada \n",
    "        self.calificacion = None\n",
    "\n",
    "    def calificar(self, calificacion): \n",
    "        self.calificacion = calificacion "
   ]
  },
  {
   "cell_type": "markdown",
   "id": "75169d05",
   "metadata": {},
   "source": [
    "Por otra parte, tendremos la ``clase Profesor`` que **incluye su especialidad** y **una lista donde se incluirán las asignaturas que imparte**. \n",
    "\n",
    "Además, **incluimos un método para ir sumando nuevas asignaturas en su lista de asignaturas impartidas**. La clase Profesor quedaría de la siguiente manera: "
   ]
  },
  {
   "cell_type": "code",
   "execution_count": 29,
   "id": "a517f4e7",
   "metadata": {},
   "outputs": [],
   "source": [
    "class Persona: \n",
    "    \n",
    "    def __init__(self, nombre, fecha_nacimiento, domicilio): \n",
    "        self.nombre = nombre; \n",
    "        self.fecha_nacimiento = fecha_nacimiento \n",
    "        self.domicilio = domicilio \n",
    "\n",
    "    def cambiar_domicilio(self, nuevo_domicilio): \n",
    "        self.domicilio = nuevo_domicilio \n",
    "\n",
    "\n",
    "class Alumno(Persona): \n",
    "\n",
    "    def __init__(self, nombre, fecha_nacimiento, domicilio,  asignatura_matriculada): \n",
    "\n",
    "        Persona.__init__(self, nombre, fecha_nacimiento, domicilio) \n",
    "    # Nuevos atributos \n",
    "        self.asignatura_matriculada = asignatura_matriculada \n",
    "        self.calificacion = None \n",
    "\n",
    "    def calificar(self, calificacion): \n",
    "        self.calificacion = calificacion \n",
    "\n",
    "\n",
    "class Profesor(Persona): \n",
    "\n",
    "    def __init__(self, nombre, fecha_nacimiento, domicilio, especialidad): \n",
    "\n",
    "        Persona.__init__(self, nombre, fecha_nacimiento, domicilio) \n",
    "\n",
    "        # Nuevos atributos \n",
    "        self.especialidad = especialidad \n",
    "        self.asignaturas_impartidas = [] \n",
    "\n",
    "    def anyadir_asignatura(self, asignatura): \n",
    "        self.asignaturas_impartidas.append(asignatura) "
   ]
  },
  {
   "cell_type": "markdown",
   "id": "5a2b21f4",
   "metadata": {},
   "source": [
    "**Ahora vamos a ver las propiedades de la herencia creando un objeto de la clase Alumno y un objeto de la clase Profesor**. \n",
    "\n",
    "Para ello usaremos sus correspondientes constructores: "
   ]
  },
  {
   "cell_type": "code",
   "execution_count": 30,
   "id": "aaf134fd",
   "metadata": {},
   "outputs": [],
   "source": [
    "alumno = Alumno('Juan', '27/09/1992', 'Habich 250', 'Inteligencia Artificial') \n",
    "profesor = Profesor('Roberto', '12/03/1976', 'Maranguita 666', 'Sistemas Inteligentes')"
   ]
  },
  {
   "cell_type": "markdown",
   "id": "637df3df",
   "metadata": {},
   "source": [
    "Ahora ambos métodos, como heredan las propiedades de la clase Persona, nos permiten acceder a los atributos y el método definido en la clase padre (en este caso Persona): "
   ]
  },
  {
   "cell_type": "code",
   "execution_count": 31,
   "id": "83018b9a",
   "metadata": {},
   "outputs": [
    {
     "data": {
      "text/plain": [
       "'Juan'"
      ]
     },
     "execution_count": 31,
     "metadata": {},
     "output_type": "execute_result"
    }
   ],
   "source": [
    "alumno.nombre # Devolverá el nombre del alumno "
   ]
  },
  {
   "cell_type": "code",
   "execution_count": 32,
   "id": "a1f19b47",
   "metadata": {},
   "outputs": [
    {
     "data": {
      "text/plain": [
       "'12/03/1976'"
      ]
     },
     "execution_count": 32,
     "metadata": {},
     "output_type": "execute_result"
    }
   ],
   "source": [
    "profesor.fecha_nacimiento # Devolverá la fecha de nacimiento del profesor "
   ]
  },
  {
   "cell_type": "code",
   "execution_count": 33,
   "id": "c24cc72e",
   "metadata": {},
   "outputs": [
    {
     "data": {
      "text/plain": [
       "'Habich 250'"
      ]
     },
     "execution_count": 33,
     "metadata": {},
     "output_type": "execute_result"
    }
   ],
   "source": [
    "alumno.domicilio # Devolverá el nuevo domicilio del alumno"
   ]
  },
  {
   "cell_type": "code",
   "execution_count": 34,
   "id": "b1273d47",
   "metadata": {},
   "outputs": [
    {
     "data": {
      "text/plain": [
       "'Mz A Block 20 S/N '"
      ]
     },
     "execution_count": 34,
     "metadata": {},
     "output_type": "execute_result"
    }
   ],
   "source": [
    "alumno.cambiar_domicilio('Mz A Block 20 S/N ') \n",
    "alumno.domicilio"
   ]
  },
  {
   "cell_type": "markdown",
   "id": "63c27637",
   "metadata": {},
   "source": [
    "Pero, además, las clases Alumno y Profesor tienen sus propios atributos y métodos que no pueden ser accesibles desde otra clase: "
   ]
  },
  {
   "cell_type": "code",
   "execution_count": 40,
   "id": "bd0a5e00",
   "metadata": {},
   "outputs": [
    {
     "data": {
      "text/plain": [
       "'Inteligencia Artificial'"
      ]
     },
     "execution_count": 40,
     "metadata": {},
     "output_type": "execute_result"
    }
   ],
   "source": [
    "alumno.asignatura_matriculada # Devolverá la asignatura matriculada del "
   ]
  },
  {
   "cell_type": "code",
   "execution_count": 41,
   "id": "98fc20ba",
   "metadata": {},
   "outputs": [
    {
     "ename": "AttributeError",
     "evalue": "'Profesor' object has no attribute 'asignatura_matriculada'",
     "output_type": "error",
     "traceback": [
      "\u001b[1;31m---------------------------------------------------------------------------\u001b[0m",
      "\u001b[1;31mAttributeError\u001b[0m                            Traceback (most recent call last)",
      "\u001b[1;32m<ipython-input-41-285771377a61>\u001b[0m in \u001b[0;36m<module>\u001b[1;34m\u001b[0m\n\u001b[1;32m----> 1\u001b[1;33m \u001b[0mprofesor\u001b[0m\u001b[1;33m.\u001b[0m\u001b[0masignatura_matriculada\u001b[0m \u001b[1;31m# Devolverá un error de atributo\u001b[0m\u001b[1;33m\u001b[0m\u001b[1;33m\u001b[0m\u001b[0m\n\u001b[0m",
      "\u001b[1;31mAttributeError\u001b[0m: 'Profesor' object has no attribute 'asignatura_matriculada'"
     ]
    }
   ],
   "source": [
    "profesor.asignatura_matriculada # Devolverá un error de atributo "
   ]
  },
  {
   "cell_type": "code",
   "execution_count": 48,
   "id": "095781f8",
   "metadata": {},
   "outputs": [
    {
     "name": "stdout",
     "output_type": "stream",
     "text": [
      "18\n"
     ]
    }
   ],
   "source": [
    "print(alumno.calificacion)\n",
    "alumno.calificar(14)\n"
   ]
  },
  {
   "cell_type": "code",
   "execution_count": 49,
   "id": "699d5645",
   "metadata": {},
   "outputs": [
    {
     "data": {
      "text/plain": [
       "14"
      ]
     },
     "execution_count": 49,
     "metadata": {},
     "output_type": "execute_result"
    }
   ],
   "source": [
    "alumno.calificacion"
   ]
  },
  {
   "cell_type": "markdown",
   "id": "4b04585d",
   "metadata": {},
   "source": [
    "## Documentar clases \n",
    "\n",
    "Python también nos permite documentar las clases y sus métodos para que esta documentación pueda ser accesible desde la función ``help()``. \n",
    "\n",
    "Para documentar las clases, pondremos un comentario de bloque usando tres comillas dobles (``\"``) para abrirlo y para cerrarlo, justo debajo de la sentencia donde definimos la clase y su nombre. \n",
    "\n",
    "Los métodos se documentan de la misma forma que vimos en el tema de las funciones. \n",
    "\n",
    "A continuación, se muestra un ejemplo sobre cómo documentar la ``clase Persona`` que hemos visto hoy: "
   ]
  },
  {
   "cell_type": "code",
   "execution_count": 51,
   "id": "1966fe1c",
   "metadata": {},
   "outputs": [],
   "source": [
    "class Persona: \n",
    "    \"\"\"Clase que encapsula la información básica de una persona\"\"\" \n",
    "\n",
    " \n",
    "\n",
    "    def __init__(self, nombre, fecha_nacimiento, domicilio): \n",
    "        \"\"\" Constructora de la clase Persona. \n",
    "        Argumentos: \n",
    "        nombre -- nombre de la persona \n",
    "        fecha_nacimiento -- fecha de nacimiento de la persona \n",
    "        domicilio -- domicilio de la persona \n",
    "        \"\"\" \n",
    "        self.nombre = nombre; \n",
    "        self.fecha_nacimiento = fecha_nacimiento \n",
    "        self.domicilio = domicilio \n",
    "\n",
    " \n",
    "\n",
    "    def cambiar_domicilio(self, nuevo_domicilio): \n",
    "        \"\"\" \n",
    "        Función que permite modificar el domicilio de una persona. \n",
    "\n",
    " \n",
    "\n",
    "        Argumentos: \n",
    "        nuevo_domicilio -- nuevo domicilio de la persona. \n",
    "        \"\"\" \n",
    "        self.domicilio = nuevo_domicilio "
   ]
  },
  {
   "cell_type": "markdown",
   "id": "10b60a22",
   "metadata": {},
   "source": [
    "Al estar nuestra ``clase Persona`` documentada, podemos aplicar la función ``help()`` para que nos muestre información de la clase y de los métodos: "
   ]
  },
  {
   "cell_type": "code",
   "execution_count": 52,
   "id": "7a321a5d",
   "metadata": {},
   "outputs": [
    {
     "name": "stdout",
     "output_type": "stream",
     "text": [
      "Help on class Persona in module __main__:\n",
      "\n",
      "class Persona(builtins.object)\n",
      " |  Persona(nombre, fecha_nacimiento, domicilio)\n",
      " |  \n",
      " |  Clase que encapsula la información básica de una persona\n",
      " |  \n",
      " |  Methods defined here:\n",
      " |  \n",
      " |  __init__(self, nombre, fecha_nacimiento, domicilio)\n",
      " |      Constructora de la clase Persona. \n",
      " |      Argumentos: \n",
      " |      nombre -- nombre de la persona \n",
      " |      fecha_nacimiento -- fecha de nacimiento de la persona \n",
      " |      domicilio -- domicilio de la persona\n",
      " |  \n",
      " |  cambiar_domicilio(self, nuevo_domicilio)\n",
      " |      Función que permite modificar el domicilio de una persona. \n",
      " |      \n",
      " |      \n",
      " |      \n",
      " |      Argumentos: \n",
      " |      nuevo_domicilio -- nuevo domicilio de la persona.\n",
      " |  \n",
      " |  ----------------------------------------------------------------------\n",
      " |  Data descriptors defined here:\n",
      " |  \n",
      " |  __dict__\n",
      " |      dictionary for instance variables (if defined)\n",
      " |  \n",
      " |  __weakref__\n",
      " |      list of weak references to the object (if defined)\n",
      "\n"
     ]
    }
   ],
   "source": [
    "help(Persona)"
   ]
  },
  {
   "cell_type": "code",
   "execution_count": 53,
   "id": "0e5ac9be",
   "metadata": {},
   "outputs": [
    {
     "data": {
      "text/plain": [
       "{'nombre': 'Juan',\n",
       " 'fecha_nacimiento': '27/09/1992',\n",
       " 'domicilio': 'Mz A Block 20 S/N ',\n",
       " 'asignatura_matriculada': 'Inteligencia Artificial',\n",
       " 'calificacion': 14}"
      ]
     },
     "execution_count": 53,
     "metadata": {},
     "output_type": "execute_result"
    }
   ],
   "source": [
    "alumno.__dict__"
   ]
  },
  {
   "cell_type": "code",
   "execution_count": 54,
   "id": "f270163a",
   "metadata": {},
   "outputs": [
    {
     "data": {
      "text/plain": [
       "{'nombre': 'Roberto',\n",
       " 'fecha_nacimiento': '12/03/1976',\n",
       " 'domicilio': 'Maranguita 666',\n",
       " 'especialidad': 'Sistemas Inteligentes',\n",
       " 'asignaturas_impartidas': []}"
      ]
     },
     "execution_count": 54,
     "metadata": {},
     "output_type": "execute_result"
    }
   ],
   "source": [
    "profesor.__dict__"
   ]
  },
  {
   "cell_type": "markdown",
   "id": "25dc8de4",
   "metadata": {},
   "source": [
    "# Polimorfismo\n",
    "\n",
    "El polimorfismo en un concepto fundamental de POO y está estrechamente ligado con la herencia, el polimorfismo se logra con la jerarquías de clasificación dadas a través de la herencia.\n",
    "\n",
    "Esta viene de la palabra griega Poly(muchas) y morphism(formas). \n",
    "\n",
    "En palabras simples, el polimorfimos es la capacidad de un objeto para realizar la misma acción en diferentes formas, un método puede procesar de maneras diferentes un objeto dependiendo el tipo de clase o de dato\n",
    "\n"
   ]
  },
  {
   "cell_type": "code",
   "execution_count": 55,
   "id": "3f2db02f",
   "metadata": {},
   "outputs": [
    {
     "name": "stdout",
     "output_type": "stream",
     "text": [
      "3\n",
      "13\n"
     ]
    }
   ],
   "source": [
    "# polimorfimos en la función len()\n",
    "alumnos = [\"Juan\", \"Jorge\", \"David\"] # clase lista\n",
    "escuela = \"Saco Oliveros\" # clase string\n",
    "print(len(alumnos)) # si es lista cuando el número de elementos\n",
    "print(len(escuela)) # si es cadena cuentta el número de carácteres "
   ]
  },
  {
   "cell_type": "markdown",
   "id": "ead9bafc",
   "metadata": {},
   "source": [
    "## Polimorfismo con herencia\n",
    "\n",
    "Como ya se ha visto en la herencia, la clases hijo hereda los atributos y métodos de la clase padre, usando el **overriding de métodos** el polimorfismo nos permite definir métodos en la clase hijo con el mismo nombre de los métodos de la clase padre, esta proceso de volver a implementar el método es llamado como **overriding de métodos**\n",
    "\n",
    "Nos permite:\n",
    " - Extender la funcionalidad alterando el método heredado o poder reimplementarlo en caso se necesite utilizar de una manera diferente\n",
    " \n",
    "Ejemplo:"
   ]
  },
  {
   "cell_type": "code",
   "execution_count": 61,
   "id": "66e6d046",
   "metadata": {},
   "outputs": [],
   "source": [
    "class Vehiculo:\n",
    "\n",
    "    def __init__(self, nombre, color, precio):\n",
    "        self.nombre = nombre\n",
    "        self.color = color\n",
    "        self.precio = precio\n",
    "        \n",
    "    def mostrar(self):\n",
    "        print(f'info: {self.nombre}; {self.color}; {self.precio}')\n",
    "    \n",
    "    def max_speed(self):\n",
    "        print(f'Maxima velocidad del vehiculo es 150')\n",
    "\n",
    "class Carro(Vehiculo):\n",
    "    def max_speed(self):\n",
    "        print(\"Maxima velocidad del carro es 200\")"
   ]
  },
  {
   "cell_type": "code",
   "execution_count": 63,
   "id": "84f5148e",
   "metadata": {},
   "outputs": [
    {
     "name": "stdout",
     "output_type": "stream",
     "text": [
      "info: Car1; Rojo; 30000\n",
      "Maxima velocidad del carro es 200\n"
     ]
    }
   ],
   "source": [
    "car = Carro(\"Car1\",\"Rojo\",30000)\n",
    "car.mostrar()\n",
    "car.max_speed()"
   ]
  },
  {
   "cell_type": "code",
   "execution_count": 64,
   "id": "a22e949c",
   "metadata": {
    "scrolled": true
   },
   "outputs": [
    {
     "name": "stdout",
     "output_type": "stream",
     "text": [
      "info: tractor1; Verde; 80000\n",
      "Maxima velocidad del vehiculo es 150\n"
     ]
    }
   ],
   "source": [
    "vehiculo = Vehiculo(\"tractor1\",\"Verde\",80000)\n",
    "vehiculo.mostrar()\n",
    "vehiculo.max_speed()\n",
    "\n"
   ]
  },
  {
   "cell_type": "code",
   "execution_count": 67,
   "id": "0c90a85a",
   "metadata": {},
   "outputs": [
    {
     "ename": "TypeError",
     "evalue": "object of type 'Carro' has no len()",
     "output_type": "error",
     "traceback": [
      "\u001b[1;31m---------------------------------------------------------------------------\u001b[0m",
      "\u001b[1;31mTypeError\u001b[0m                                 Traceback (most recent call last)",
      "\u001b[1;32m<ipython-input-67-916d85e584f5>\u001b[0m in \u001b[0;36m<module>\u001b[1;34m\u001b[0m\n\u001b[1;32m----> 1\u001b[1;33m \u001b[0mlen\u001b[0m\u001b[1;33m(\u001b[0m\u001b[0mcar\u001b[0m\u001b[1;33m)\u001b[0m\u001b[1;33m\u001b[0m\u001b[1;33m\u001b[0m\u001b[0m\n\u001b[0m",
      "\u001b[1;31mTypeError\u001b[0m: object of type 'Carro' has no len()"
     ]
    }
   ],
   "source": [
    "len(car)"
   ]
  },
  {
   "cell_type": "markdown",
   "id": "edc6ea3e",
   "metadata": {},
   "source": [
    "## Overriding de las funciones nativas en Python\n",
    "Existen ciertas funciones internas de python como len(), abs(), divmod(), add(), las cuales también podemos override para nuestro objetos"
   ]
  },
  {
   "cell_type": "code",
   "execution_count": 70,
   "id": "80c545d1",
   "metadata": {},
   "outputs": [
    {
     "name": "stdout",
     "output_type": "stream",
     "text": [
      "len override\n",
      "4\n"
     ]
    }
   ],
   "source": [
    "class canasta:\n",
    "    def __init__(self, canasta, comprador):\n",
    "        self.canasta = list(canasta)\n",
    "        self.comprador = comprador\n",
    "    def __len__(self):\n",
    "        print(\"len override\")\n",
    "        n = len(self.canasta)\n",
    "        return n*2\n",
    "\n",
    "canasta1 = canasta([\"zapatillas\",\"aretes\"], \"Juana\")\n",
    "\n",
    "print(len(canasta1))"
   ]
  },
  {
   "cell_type": "code",
   "execution_count": 76,
   "id": "3a0b9b48",
   "metadata": {},
   "outputs": [],
   "source": [
    "class Vehiculo:\n",
    "    def __init__(self, nombre, color, precio):\n",
    "        self.nombre = nombre\n",
    "        self.color = color\n",
    "        self.precio = precio\n",
    "        \n",
    "    def mostrar(self):\n",
    "        print(f'info: {self.nombre},{self.color},{self.precio}')\n",
    "    \n",
    "    def max_speed(self):\n",
    "        print(f'Maxima velocidad del vehiculo es 150')\n",
    "    \n",
    "    # +    \n",
    "    # objeto1 + objeto2\n",
    "    # self = objeto1, obj = objeto2\n",
    "    # suma de precios\n",
    "    def __add__(self, obj):\n",
    "        return self.precio + obj.precio\n",
    "        \n",
    "\n",
    "class Carro(Vehiculo):\n",
    "    def max_speed(self):\n",
    "        print(\"Maxima velocidad del carro es 200\")"
   ]
  },
  {
   "cell_type": "code",
   "execution_count": 77,
   "id": "4bb7561c",
   "metadata": {},
   "outputs": [
    {
     "data": {
      "text/plain": [
       "110000"
      ]
     },
     "execution_count": 77,
     "metadata": {},
     "output_type": "execute_result"
    }
   ],
   "source": [
    "car = Carro(\"Car1\",\"Rojo\",30000)\n",
    "vehiculo = Vehiculo(\"tractor1\",\"Verde\",80000)\n",
    "vehiculo + car"
   ]
  },
  {
   "cell_type": "markdown",
   "id": "f701103e",
   "metadata": {},
   "source": [
    "## Polimorfimos con métodos de clases\n",
    "Podemos agrupar objetos que tengan los mismos métodos y no es necesario verificar el tipo del objeto para poder utilizar estos métodos, simplemente los llamamos, python se encargará de verificar y llamar los métodos respectivos.\n"
   ]
  },
  {
   "cell_type": "code",
   "execution_count": 79,
   "id": "18388657",
   "metadata": {},
   "outputs": [],
   "source": [
    "\"\"\"\n",
    "#debilmente tipado python, js\n",
    "nombre = \"Pepe\"\n",
    "es facil pero lento\n",
    "\n",
    "#fuertemente tipado  c++,java\n",
    "\n",
    "# indicas cuantos bits de memoria asignar\n",
    "# indicas tipo de dato\n",
    "string nombre\n",
    "int edad\n",
    "\n",
    "\n",
    "def inversa_raiz(x):\n",
    "    \"\"\"1/raiz(x)\"\"\"\n",
    "    return 1/math.sqrt(x)\n",
    "\n",
    "\n",
    "\"\"\"\n",
    "\n",
    "# Costo computacional\n",
    "\n",
    "# 500, 1500\n",
    "\n"
   ]
  },
  {
   "cell_type": "code",
   "execution_count": 81,
   "id": "596c5b91",
   "metadata": {},
   "outputs": [
    {
     "name": "stdout",
     "output_type": "stream",
     "text": [
      "Petroleo\n",
      "Velocidad máxima 350\n",
      "Diesel\n",
      "Velocidad máxima 240\n"
     ]
    }
   ],
   "source": [
    "\"\"\"\n",
    "conjunto {ob1, ob2, ob3}\n",
    "iterar y llamar a un metodo en comun de los 3 objetos\n",
    "\"\"\"\n",
    "\n",
    "class Toyota:\n",
    "    def tipo_combustible(self):\n",
    "        print(\"Petroleo\")\n",
    "    def velocidad_maxima(self):\n",
    "        print(\"Velocidad máxima 350\")\n",
    "\n",
    "class BMW:\n",
    "    def tipo_combustible(self):\n",
    "        print(\"Diesel\") \n",
    "    def velocidad_maxima(self):\n",
    "        print(\"Velocidad máxima 240\")\n",
    "\n",
    "\n",
    "toyota1 = Toyota()\n",
    "bmw1 = BMW()\n",
    "\n",
    "\n",
    "for carro in (toyota1, bmw1):\n",
    "    carro.tipo_combustible()\n",
    "    carro.velocidad_maxima()"
   ]
  },
  {
   "cell_type": "markdown",
   "id": "99e9c075",
   "metadata": {},
   "source": [
    "## Polimorfismo con funciones y objetos\n",
    "\n",
    "Python es muy flexible con el tipo de objeto de las variables, podemos definir funciones que reciban un objeto e manipular los atributos de dichos objetos sin necesidad de especificar a que clase pertenece."
   ]
  },
  {
   "cell_type": "code",
   "execution_count": 82,
   "id": "acee6931",
   "metadata": {},
   "outputs": [
    {
     "name": "stdout",
     "output_type": "stream",
     "text": [
      "Petroleo\n",
      "Velocidad máxima 350\n",
      "Diesel\n",
      "Velocidad máxima 240\n"
     ]
    }
   ],
   "source": [
    "def detalles_carro(car):\n",
    "    car.tipo_combustible()\n",
    "    car.velocidad_maxima()\n",
    "\n",
    "    \n",
    "detalles_carro(toyota1)\n",
    "detalles_carro(bmw1)"
   ]
  },
  {
   "cell_type": "markdown",
   "id": "3889b2bb",
   "metadata": {},
   "source": [
    "## Polimorfismo con métodos nativos\n",
    "\n",
    "Como se vio en el ejemplo del len, el método procesa el objeto de diferente manera dependiendo el tipo o clase del dato."
   ]
  },
  {
   "cell_type": "code",
   "execution_count": 84,
   "id": "eb1b2047",
   "metadata": {},
   "outputs": [
    {
     "name": "stdout",
     "output_type": "stream",
     "text": [
      "sorevilO ocaS\n",
      "David Jorge Juan "
     ]
    }
   ],
   "source": [
    "# función reversed(), esta regresa un iterable invirtiendo el objeto dado\n",
    "\n",
    "alumnos = [\"Juan\", \"Jorge\", \"David\"]\n",
    "escuela = \"Saco Oliveros\"\n",
    "\n",
    "#invierte los caracteres\n",
    "for i in reversed(escuela):\n",
    "    print(i, end = '')\n",
    "\n",
    "print()\n",
    "#invierte los elementos de la lista\n",
    "for i in reversed(alumnos):\n",
    "    print(i, end = ' ')\n"
   ]
  },
  {
   "cell_type": "markdown",
   "id": "c5469904",
   "metadata": {},
   "source": [
    "## Overloading de métodos\n",
    "  \n",
    "Simplemente es llamar el mismo método pero con parámetros distintos, el problema es que python no soporta esto, si lo intentamos simplemente llamará a la última instancia del método definido"
   ]
  },
  {
   "cell_type": "code",
   "execution_count": 85,
   "id": "6fbfe084",
   "metadata": {},
   "outputs": [],
   "source": [
    "# 2 variables\n",
    "def sum(a,b):\n",
    "    print( a + b)\n",
    "# 3 variables\n",
    "def sum(a,b,c):\n",
    "    print(a +b +c)\n"
   ]
  },
  {
   "cell_type": "code",
   "execution_count": 86,
   "id": "19913785",
   "metadata": {},
   "outputs": [
    {
     "ename": "TypeError",
     "evalue": "sum() missing 1 required positional argument: 'c'",
     "output_type": "error",
     "traceback": [
      "\u001b[1;31m---------------------------------------------------------------------------\u001b[0m",
      "\u001b[1;31mTypeError\u001b[0m                                 Traceback (most recent call last)",
      "\u001b[1;32m<ipython-input-86-d3f28be01b70>\u001b[0m in \u001b[0;36m<module>\u001b[1;34m\u001b[0m\n\u001b[1;32m----> 1\u001b[1;33m \u001b[0msum\u001b[0m\u001b[1;33m(\u001b[0m\u001b[1;36m2\u001b[0m\u001b[1;33m,\u001b[0m\u001b[1;36m3\u001b[0m\u001b[1;33m)\u001b[0m\u001b[1;33m\u001b[0m\u001b[1;33m\u001b[0m\u001b[0m\n\u001b[0m",
      "\u001b[1;31mTypeError\u001b[0m: sum() missing 1 required positional argument: 'c'"
     ]
    }
   ],
   "source": [
    "sum(2,3)"
   ]
  },
  {
   "cell_type": "code",
   "execution_count": 87,
   "id": "45580e11",
   "metadata": {},
   "outputs": [
    {
     "name": "stdout",
     "output_type": "stream",
     "text": [
      "9\n"
     ]
    }
   ],
   "source": [
    "sum(2,3,4)"
   ]
  },
  {
   "cell_type": "markdown",
   "id": "183b2d67",
   "metadata": {},
   "source": [
    "Para resolver este problema se debe definir el método de tal manera que actue diferente dependiendo a los parámetros que se le pase"
   ]
  },
  {
   "cell_type": "code",
   "execution_count": 90,
   "id": "47de2935",
   "metadata": {},
   "outputs": [
    {
     "name": "stdout",
     "output_type": "stream",
     "text": [
      "El area del cuadrado es: 25\n",
      "El area del rectangulo es:  15\n"
     ]
    }
   ],
   "source": [
    "class Figura:\n",
    "    def area(self, a ,b = 0):\n",
    "        \"\"\"\n",
    "        1 argumento = area de un cuadrado\n",
    "        2 argumento = area de un rectangulo\n",
    "        \n",
    "        a = 3\n",
    "        b = 0\n",
    "        \"\"\"\n",
    "        # para el rectangulo\n",
    "        if b > 0:\n",
    "            print(\"El area del rectangulo es: \", a*b )\n",
    "            # para el cuadrado\n",
    "        else:\n",
    "            print(\"El area del cuadrado es:\", a**2)\n",
    "\n",
    "cuadrado = Figura()\n",
    "cuadrado.area(5)\n",
    "\n",
    "rectangulo = Figura()\n",
    "rectangulo.area(5,3)"
   ]
  },
  {
   "cell_type": "code",
   "execution_count": null,
   "id": "5721b7a2",
   "metadata": {},
   "outputs": [],
   "source": []
  }
 ],
 "metadata": {
  "kernelspec": {
   "display_name": "Python 3",
   "language": "python",
   "name": "python3"
  },
  "language_info": {
   "codemirror_mode": {
    "name": "ipython",
    "version": 3
   },
   "file_extension": ".py",
   "mimetype": "text/x-python",
   "name": "python",
   "nbconvert_exporter": "python",
   "pygments_lexer": "ipython3",
   "version": "3.8.8"
  }
 },
 "nbformat": 4,
 "nbformat_minor": 5
}
