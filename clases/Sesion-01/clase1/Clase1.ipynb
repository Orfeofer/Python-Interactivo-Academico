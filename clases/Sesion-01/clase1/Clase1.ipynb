{
 "cells": [
  {
   "cell_type": "markdown",
   "id": "c47a2455",
   "metadata": {
    "slideshow": {
     "slide_type": "slide"
    }
   },
   "source": [
    " # Python Interactivo y Académico\n",
    " \n",
    " ## Clase 1"
   ]
  },
  {
   "cell_type": "markdown",
   "id": "4850aaf2",
   "metadata": {
    "slideshow": {
     "slide_type": "slide"
    }
   },
   "source": [
    "## Contenido\n",
    "\n",
    "    1.1. Introducción y objetivos\n",
    "    \n",
    "    1.2. ¿Qué es Python?\n",
    "    \n",
    "    1.3. Instalación \n",
    "    \n",
    "    1.4. Herramientas \n"
   ]
  },
  {
   "cell_type": "markdown",
   "id": "7920af84",
   "metadata": {
    "slideshow": {
     "slide_type": "slide"
    }
   },
   "source": [
    "#### 1.1. Introducción y objetivos \n",
    "* Python se ha convertido en uno de los lenguajes de programación más populares debido a su potencia y su facilidad para aprenderlo. \n",
    "* Pondremos en contexto qué es ``Python`` y qué características han hecho que este lenguaje sea uno de los más utilizados.\n",
    "* Prepararemos nuestros equipos para poder desarrollar en ``Python``.\n",
    "* Nos centraremos en ``Jupyter Notebook``, que será el entorno de desarrollo que usaremos a lo largo del curso."
   ]
  },
  {
   "cell_type": "markdown",
   "id": "1adb6e1f",
   "metadata": {
    "slideshow": {
     "slide_type": "subslide"
    }
   },
   "source": [
    "Los objetivos que trataremos son:\n",
    "\n",
    "* Contextualizar ``Python`` desde su historia y sus características.\n",
    "* Comprender el problema de las versiones que ha existido hasta este año.\n",
    "* Conocer los pasos para instalar ``Python`` en nuestro equipo.\n",
    "* Conocer las distintas herramientas existentes para programar en ``Python``.\n",
    "* Comprender el entorno de desarrollo de ``Jupyter Notebook``.\n"
   ]
  },
  {
   "cell_type": "markdown",
   "id": "ea74aaf8",
   "metadata": {
    "slideshow": {
     "slide_type": "slide"
    }
   },
   "source": [
    "#### 1.2. ¿Qué es Python?  \n",
    "``Python`` es un lenguaje de propósito general que en los últimos años se ha ido \n",
    "haciendo cada vez más popular en áreas como ``data science`` o la ``inteligencia artificial``. \n",
    "##### Contexto de Python\n",
    "Para entender un poco de dónde viene y por qué se ha vuelto tan popular, vamos a repasar su historia y las características más importantes.\n",
    "###### Historia \n",
    "* ``Guido van Rossum``, creador del lenguaje de programación ``Python``. (https://gvanrossum.github.io/)\n",
    "<center><img src=\"clase1_1.png\"  alt=\"drawing\" width=\"100\"/></center>\n",
    "* Le dio el nombre de ``Python`` en homenaje al grupo Monty Python del que era fan (https://en.wikipedia.org/wiki/Monty_Python)"
   ]
  },
  {
   "cell_type": "markdown",
   "id": "10953eb6",
   "metadata": {
    "slideshow": {
     "slide_type": "subslide"
    }
   },
   "source": [
    "* Aunque su desarrollo empezó en 1989, la primera versión no se  publicaría hasta principios de 1991.\n",
    "* El objetivo principal de este lenguaje era que fuese fácil de entender, es decir, que el código que se escribiese con  ``Python`` fuese más legible que con otros lenguajes de la época como ``C++`` o ``Java``.\n",
    "* Para lograr este objetivo, el desarrollador ``Tim Peters`` creó el ``Zen de Python``, que  define un conjunto de reglas que representan la filosofía de Python\n",
    "~~~python\n",
    "import this\n",
    "~~~"
   ]
  },
  {
   "cell_type": "code",
   "execution_count": 2,
   "id": "feaf54e6",
   "metadata": {
    "slideshow": {
     "slide_type": "subslide"
    }
   },
   "outputs": [],
   "source": [
    "import this"
   ]
  },
  {
   "cell_type": "markdown",
   "id": "27e94ec3",
   "metadata": {
    "slideshow": {
     "slide_type": "subslide"
    }
   },
   "source": [
    "* Siguiendo la filosofía propuesta en el ``Zen de Python``, se creó una **guía de estilo** que se encuentra descrita en el ``Python Enhancement Proposal``, abreviado como ``PEP``, versión 8. (https://www.python.org/dev/peps/pep-0008/) \n",
    "* Esta guía contiene las ``reglas de estilo`` que se aplicaron a la hora de ``desarrollar Python`` para que se sigan en el desarrollo de nuevas aplicaciones. \n",
    "* Toda esta filosofía está muy bien, pero ``Python`` no es tan popular solo por sus reglas de estilo y su filosofía.\n",
    "\n",
    "###### Ventajas de Python\n",
    "\n",
    "``Tipado dinámico``: Python no necesita que definamos el tipo de las variables cuando las inicializamos como pasa, por ejemplo, en ``Java`` o ``C``. Cuando inicializamos una variable ``Python`` le asigna el tipo del valor que le estamos asignando. \n",
    "    \n",
    "    Incluso, durante la ejecución, una misma variable podría contener valores con distintos tipos. Esta propiedad hace que sea más sencillo aprender a usarlo, aunque hace que sea más difícil detectar errores asociados con los tipos de datos."
   ]
  },
  {
   "cell_type": "code",
   "execution_count": 32,
   "id": "6211d223",
   "metadata": {
    "slideshow": {
     "slide_type": "subslide"
    }
   },
   "outputs": [
    {
     "name": "stdout",
     "output_type": "stream",
     "text": [
      "5\n",
      "5\n",
      "5.0\n",
      "[5, '5', 5.0]\n"
     ]
    }
   ],
   "source": [
    "x = 5\n",
    "print(x)\n",
    "x = '5'\n",
    "print(x)\n",
    "x = 5.0\n",
    "print(x)\n",
    "x = [5,'5',5.0]\n",
    "print(x)"
   ]
  },
  {
   "cell_type": "markdown",
   "id": "9bb9a215",
   "metadata": {
    "slideshow": {
     "slide_type": "subslide"
    }
   },
   "source": [
    "``Lenguaje multiparadigma``: Python permite aplicar diferentes paradigmas de programación como son \n",
    "\n",
    "- la programación orientada a objetos, como ``Java`` o ``C++``, \n",
    "- la programación imperativa, como ``C``, \n",
    "- o programación funcional, como ``Haskell``.\n",
    "\n",
    "``Interpretado/scripts``: Otra ventaja es que podemos ejecutar Python de forma interpretada o usando scripts. Es decir, puedo abrir una consola de Python y escribir y ejecutar las instrucciones una a una o, por otro lado, puedo crear un \n",
    "fichero que almacene todo el programa. "
   ]
  },
  {
   "cell_type": "code",
   "execution_count": 43,
   "id": "50630ada",
   "metadata": {
    "scrolled": true
   },
   "outputs": [
    {
     "name": "stdout",
     "output_type": "stream",
     "text": [
      "Hola UNI\n"
     ]
    }
   ],
   "source": [
    "print('Hola UNI')"
   ]
  },
  {
   "cell_type": "code",
   "execution_count": 44,
   "id": "1cc1e2c3",
   "metadata": {},
   "outputs": [
    {
     "name": "stdout",
     "output_type": "stream",
     "text": [
      "Bienvenidos docentes y estudiantes de la FIIS al curso de Python.\n"
     ]
    }
   ],
   "source": [
    "print('Bienvenidos {0} y {1} de la {2} al curso de Python.'.format('docentes','estudiantes','FIIS'))"
   ]
  },
  {
   "cell_type": "markdown",
   "id": "512e9eff",
   "metadata": {
    "slideshow": {
     "slide_type": "subslide"
    }
   },
   "source": [
    "``Extensible``: Por último, ``Python`` cuenta con una gran cantidad de módulos y librerías que podemos instalar para incluir nuevas funcionalidades. \n",
    "\n",
    "Sin embargo, como Python esta implementado usando ``C++``, podemos crear nuevos módulos en ``C++`` e incluirlo en ``Python`` haciendo que el lenguaje sea extensible a nuevos módulos. \n",
    "<center><img src=\"clase1_2.png\" alt=\"drawing\" width=\"350\"/></center> \n",
    "\n",
    "###### Versiones en Python\n",
    "\n",
    "<center><img src=\"clase1_3.png\" alt=\"drawing\" width=\"350\"/></center> \n",
    "\n",
    "En este curso trabajaremos con la versión 3.x de Python, "
   ]
  },
  {
   "cell_type": "markdown",
   "id": "18466ebb",
   "metadata": {
    "slideshow": {
     "slide_type": "slide"
    }
   },
   "source": [
    "#### 1.3. Instalación \n",
    "``Distribución básica Python ``\n",
    "- Esta distribución solo incluye los módulos principales que hay en Python.\n",
    "\n",
    "1. Descargar ``Python``: \n",
    "    * Ir a https://www.python.org/downloads/ \n",
    "2. Instalación ``Python``:  \n",
    "    * Ejecutar el fichero ``python-3.X.exe`` descargado\n",
    "<center><img src=\"clase1_4.png\" alt=\"drawing\" width=\"350\"/></center> \n",
    "    La primera ventana del asistente nos muestra dos formas para instalar Python.\n"
   ]
  },
  {
   "cell_type": "markdown",
   "id": "1fc46ac3",
   "metadata": {
    "slideshow": {
     "slide_type": "subslide"
    }
   },
   "source": [
    "2. Instalación ``Python``:\n",
    "    * La primera de ellas, **install now**, nos permite instalar Python con la configuración por defecto. \n",
    "    * En cambio, **customize installation** permite cambiar algunos parámetros como, por ejemplo, dónde vamos a instalar Python. \n",
    "<center><img src=\"clase1_5.png\" alt=\"drawing\" width=\"280\"/></center> \n",
    "\n",
    "    * Pasados unos minutos, el asistente nos informará de que la instalación ha terminado con éxito y podremos cerrar el asistente con el botón close.\n",
    "\n",
    "<center><img src=\"clase1_6.png\" alt=\"drawing\" width=\"280\"/></center> "
   ]
  },
  {
   "cell_type": "markdown",
   "id": "d43c367c",
   "metadata": {
    "slideshow": {
     "slide_type": "subslide"
    }
   },
   "source": [
    "3. Comprobar la instalación de ``Python``:\n",
    "\n",
    "    * Windows+R\n",
    "    * Escribir ``python --version`` \n",
    "\n",
    "<center><img src=\"clase1_7.png\" alt=\"drawing\" width=\"450\"/></center> \n",
    "\n",
    "4. Instalación de nuevos módulos \n",
    "    * La versión que hemos instalado solo contiene los módulos básicos de Python. \n",
    "    * Por este motivo suele ser necesario instalar los nuevos módulos que queremos incluir en nuestros programas. \n",
    "    * Para instalar nuevos módulos, ``Python`` incluye el paquete de instalación para ``Python (pip)``.\n",
    "    * Si queremos **instalar un nuevo módulo en Python**, tenemos que ejecutar la instrucción ``pip install nombre_modulo``."
   ]
  },
  {
   "cell_type": "markdown",
   "id": "1770b163",
   "metadata": {
    "slideshow": {
     "slide_type": "subslide"
    }
   },
   "source": [
    "<center><img src=\"clase1_8.png\" alt=\"drawing\" width=\"600\"/></center> \n",
    "\n",
    "* De esta forma podremos instalar todos los módulos que se puedan necesitar en el futuro.   \n",
    "* Sin embargo, hay otra distribución que tiene algunos módulos preinstalados, sobre todo aquellos asociados a la ciencia de datos. A continuación, veremos cómo instalar esta distribución.\n",
    "      \n",
    "``Distribución Anaconda``\n",
    "- Otra distribución con la que podemos instalar Python es Anaconda. \n",
    "- Esta distribución aparte de instalar la versión básica de Python, incluye otros módulos importantes dentro del análisis de datos, como son **numpy** o **pandas**. \n",
    "- Esta es la distribución que usaremos en el curso. "
   ]
  },
  {
   "cell_type": "markdown",
   "id": "f06aa109",
   "metadata": {
    "slideshow": {
     "slide_type": "subslide"
    }
   },
   "source": [
    "\n",
    "\n",
    "1. Descargar Anaconda: \n",
    "    * Ir a https://www.anaconda.com/products/individual#download-section\n",
    "2. Instalación Anaconda: \n",
    "    * Ejecutar el fichero ``Anaconda3-XXX.exe`` descargado\n",
    "\n",
    "    <center><img src=\"clase1_9.png\" alt=\"drawing\" width=\"350\"/></center> \n",
    "    "
   ]
  },
  {
   "cell_type": "markdown",
   "id": "0f406c1a",
   "metadata": {
    "slideshow": {
     "slide_type": "subslide"
    }
   },
   "source": [
    "2. Instalación Anaconda:\n",
    "    * Seleccionamos el botón **Next >** y nos mostrará el acuerdo de licencia del software.\n",
    "\n",
    "    * Para continuar con la instalación, es necesario aceptar los términos de la licencia con el botón **I Agree**.\n",
    "\n",
    "        <center><img src=\"clase1_10.png\" alt=\"drawing\" width=\"300\"/></center>\n",
    "\n",
    "        <center><img src=\"clase1_11.png\" alt=\"drawing\" width=\"300\"/></center>"
   ]
  },
  {
   "cell_type": "markdown",
   "id": "fe16b683",
   "metadata": {
    "slideshow": {
     "slide_type": "subslide"
    }
   },
   "source": [
    "<center><img src=\"clase1_12.png\" alt=\"drawing\" width=\"300\"/></center>\n",
    "\n",
    "* En este paso hay que prestar atención al espacio libre que  tenemos en el sistema, ya que ``Anaconda ocupa 2,9 GB``. Si hay espacio suficiente y hemos elegido la carpeta, continuamos la instalación pulsando **Next >**\n",
    "    \n",
    "* El siguiente paso es muy importante. Tenemos que asegurarnos de que las dos opciones avanzadas que se nos muestran están seleccionadas. \n",
    "\n",
    "    - La primera de ellas incluye Anaconda en el ``PATH`` del sistema.\n",
    "    -  La segunda opción hace que la versión de Python instalada en Anaconda sea la versión por defecto del sistema, en nuestro caso la versión 3.x.\n",
    "    - Una vez seleccionadas ambas opciones, continuamos la instalación con el botón ``Install``. \n"
   ]
  },
  {
   "cell_type": "markdown",
   "id": "6ad8cc3e",
   "metadata": {
    "slideshow": {
     "slide_type": "subslide"
    }
   },
   "source": [
    "<center><img src=\"clase1_13.png\" alt=\"drawing\" width=\"300\"/></center>\n",
    "\n",
    "3. Comprobar la instalación de ``Anaconda``:\n",
    "    * Nos dirigiremos al  botón de inicio de Windows y entre los programas tendremos una carpeta con el  nombre ``Anaconda3``\n",
    "    <center><img src=\"clase1_14.png\" alt=\"drawing\" width=\"300\"/></center>"
   ]
  },
  {
   "cell_type": "markdown",
   "id": "8d73c3b0",
   "metadata": {
    "slideshow": {
     "slide_type": "subslide"
    }
   },
   "source": [
    "4. Instalación de nuevos módulos \n",
    "    * Aunque la distribución de Anaconda incluye nuevas funcionalidades a los módulos básicos de Python, no están incluidos todos los posibles.\n",
    "    * Por este motivo también puede  ser necesario instalar nuevos módulos en nuestra distribución. \n",
    "    * Para instalar estos nuevos módulos, podemos utilizar la opción de instalación que tenemos desde el símbolo del sistema: ``conda install nombre_modulo``. \n",
    "    <center><img src=\"clase1_15.png\" alt=\"drawing\" width=\"500\"/></center>"
   ]
  },
  {
   "cell_type": "markdown",
   "id": "3382d56d",
   "metadata": {
    "slideshow": {
     "slide_type": "slide"
    }
   },
   "source": [
    "#### 1.4. Herramientas  \n",
    "\n",
    "##### Entornos de desarrollo \n",
    "\n",
    "Como ya hemos explicado, Python es un lenguaje que podemos ejecutarlo de dos formas principalmente: usando el intérprete o usando scripts. En este apartado veremos los diferentes entornos de desarrollo que encontramos para programar en Python. \n",
    "\n",
    "``Modo interactivo``\n",
    "\n",
    "* Python es un lenguaje interpretado, es decir, Python es capaz de ir ejecutando las instrucciones según las vamos introduciendo. \n",
    "* Por este motivo, la instalación de Python incluye el intérprete en el que podemos ejecutar instrucciones. \n",
    "* Para iniciar este intérprete, solo tenemos que ejecutar la instrucción python en nuestra consola  de comandos. \n",
    "\n"
   ]
  },
  {
   "cell_type": "markdown",
   "id": "e42a4831",
   "metadata": {
    "slideshow": {
     "slide_type": "subslide"
    }
   },
   "source": [
    " <center><img src=\"clase1_16.png\" alt=\"drawing\" width=\"600\"/></center>\n",
    " \n",
    "* Usando este modo podemos conocer algunos elementos del lenguaje Python como sus clases o funciones\n",
    "* Además, podemos consultar la documentación del lenguaje desde el propio intérprete. \n",
    "* Los animamos a que usen el intérprete de Python para probar los conceptos básicos que vemos durante el curso. \n",
    "* Para salir del intérprete solo debemos ejecutar el comando ``exit()``. "
   ]
  },
  {
   "cell_type": "markdown",
   "id": "f752fc4a",
   "metadata": {
    "slideshow": {
     "slide_type": "subslide"
    }
   },
   "source": [
    "``IPython ``\n",
    "\n",
    "* Para mejorar el intérprete de Python, se puede instalar el paquete IPython (las instrucciones se encuentran en https://ipython.org/install.html). \n",
    "* IPython añade más funcionalidades al intérprete de Python, como son el resaltado de errores, completado automático de variables o módulos a través del tabulador, etc. \n",
    "* Una vez instalado, para iniciar este intérprete solo debemos ejecutar la instrucción ipython. \n",
    "\n",
    " <center><img src=\"clase1_17.png\" alt=\"drawing\" width=\"600\"/></center>"
   ]
  },
  {
   "cell_type": "markdown",
   "id": "157c4903",
   "metadata": {
    "slideshow": {
     "slide_type": "subslide"
    }
   },
   "source": [
    "``Editores de texto plano``\n",
    "\n",
    "- Las dos opciones anteriores nos permiten ejecutar pequeñas instrucciones en Python y poder consultar la documentación de objetos y módulos. Sin embargo, para crear programas más complejos es necesario escribir scripts que contienen más instrucciones o diferentes bloques de código.\n",
    "\n",
    "Una de las primeras opciones que se pueden utilizar para implementar estos scripts es la utilización de editores de texto plano, tales como\n",
    "\n",
    "* Nano o vim (https://tecnoloco.istocks.club/nano-vs-vim-los-mejores-editores-de-texto-para-terminales-en-comparacion/2020-05-26/)\n",
    "* Bloc de notas (https://www.formacionprofesional.info/el-bloc-de-notas-de-windows-10/)\n",
    "* Sublime Text 3 (https://www.emezeta.com/articulos/guia-sublime-text)\n",
    "* Atom (https://flight-manual.atom.io/getting-started/sections/why-atom/)\n",
    "* Notepad++ (https://www.fdi.ucm.es/profesor/luis/fp/devtools/NotepadUse.html)\n",
    "* Visual Code (https://www.tutorialesprogramacionya.com/herramientas/vscodeya/index.php?inicio=0)"
   ]
  },
  {
   "cell_type": "markdown",
   "id": "00cbbb64",
   "metadata": {
    "slideshow": {
     "slide_type": "subslide"
    }
   },
   "source": [
    "``Entornos de desarrollo avanzados``\n",
    "- Por último, existen diferentes entornos de desarrollo avanzados orientados a Python. \n",
    "- Estos entornos están orientados a grandes proyectos en Python y se incluyen muchas más funcionalidades como son la gestión de repositorios. \n",
    "- Algunos de estos entornos de desarrollo pueden ejecutar en un mismo proyecto scripts y notebooks, como es el caso de ``PyCharm``. \n",
    "- Los entornos de desarrollo más utilizados son: \n",
    "    * PyCharm. \n",
    "    * Eclipse PyDev. \n",
    "    * Spyder. "
   ]
  },
  {
   "cell_type": "markdown",
   "id": "e79beb4b",
   "metadata": {
    "slideshow": {
     "slide_type": "subslide"
    }
   },
   "source": [
    "``Jupyter Notebook``\n",
    "- Jupyter Notebook es una aplicación web incluida en la distribución ``Anaconda``. \n",
    "- Esta aplicación web es una **extensión de ``IPython``**, donde se añaden funcionalidades y se mejora la interfaz gráfica. \n",
    "- La principal característica que tiene ``Jupyter Notebook`` es la creación de celdas con objetivos específicos. Estos objetivos específicos de cada celda pueden ser: \n",
    "    * ejecutar código de ``Python``, incluir texto en ``markdown`` o ``visualizar gráficos``. \n",
    "    * Es la aplicación más utilizada en el campo de la ``ciencia de datos``. \n",
    "    \n"
   ]
  },
  {
   "cell_type": "markdown",
   "id": "cfc8a698",
   "metadata": {
    "slideshow": {
     "slide_type": "subslide"
    }
   },
   "source": [
    " <center><img src=\"clase1_18.png\" alt=\"drawing\" /></center>"
   ]
  },
  {
   "cell_type": "markdown",
   "id": "bdf87ca7",
   "metadata": {
    "slideshow": {
     "slide_type": "subslide"
    }
   },
   "source": [
    "``Ejecutar Jupyter Notebook``\n",
    "- En nuestro equipo, ejecutaremos la aplicación ``Anaconda Navigator``. \n",
    "- Esta aplicación nos mostrará distintas herramientas que podemos ejecutar. \n",
    "- Desde ahí pulsamos en el botón ``Launch de Jupyter Notebook``.\n",
    "- Esto hará que nuestro navegador web predeterminado abra ``Jupyter Notebook`` como una aplicación web. \n",
    "- La primera ventana que veremos será el **navegador de archivos de ``Jupyter``** que explicaremos a continuación.\n",
    "\n",
    "``Navegador de archivos`` \n",
    "- La primera ventana que nos muestra Jupyter Notebook es el navegador de archivos. \n",
    "- A través de esta ventana podemos movernos en nuestro sistema de ficheros, crear nuevas carpetas o archivos y renombrar ficheros. "
   ]
  },
  {
   "cell_type": "markdown",
   "id": "6ddc706d",
   "metadata": {
    "slideshow": {
     "slide_type": "subslide"
    }
   },
   "source": [
    " <center><img src=\"clase1_19.png\" alt=\"drawing\" width=\"800\"/></center> \n",
    " \n",
    "- En primer lugar, para navegar entre las carpetas, solo tendremos que hacer clic en el nombre de la carpeta a la que queremos acceder. \n",
    "- Si lo que queremos es volver a la carpeta superior, solo debemos hacer clic en la carpeta que tiene como nombre dos puntos ``(..)``. \n",
    "- Para crear un nuevo fichero, pulsamos sobre el botón ``New``. Una vez hecho esto, se nos desplegarán varias opciones para crear un fichero: \n",
    "    * notebook (con la versión correspondiente de Python) u \n",
    "    * otro tipo de fichero como, por ejemplo, un fichero de texto o una carpeta. \n",
    "<center><img src=\"clase1_20.png\" alt=\"drawing\" width=\"200\"/></center>"
   ]
  },
  {
   "cell_type": "markdown",
   "id": "cab2c3d5",
   "metadata": {
    "slideshow": {
     "slide_type": "subslide"
    }
   },
   "source": [
    "``Vista del notebook``\n",
    "\n",
    "- Cuando creamos un notebook o abrimos uno que ya existe veremos una pantalla similar a la que se muestra en la siguiente Figura. \n",
    "- En la parte inferior veremos todas las celdas de nuestro ``notebook``. \n",
    "- Cada una de estas celdas pueden ser de los siguientes tipos: \n",
    "\n",
    "    * Código en Python. \n",
    "    * Texto con markdown. \n",
    "    * Formato raw en la que se muestra el texto con el formato de consola. \n",
    "    * Formato heading que crea una celda con formato título. \n",
    "- Además, existe otro tipo de celda que se da cuando una celda de código en ``Python`` devuelve un resultado como, por ejemplo, si utilizamos la instrucción ``print``. Estas celdas se crearán de forma automática.\n"
   ]
  },
  {
   "cell_type": "markdown",
   "id": "2c28ae02",
   "metadata": {
    "slideshow": {
     "slide_type": "subslide"
    }
   },
   "source": [
    "<center><img src=\"clase1_21.png\" alt=\"drawing\" width= 1000/></center>\n",
    "\n",
    "Justo encima de las celdas, tenemos un conjunto de botones que nos permiten interactuar con las celdas. A continuación, explicaremos cada uno de estos botones siguiendo el orden de izquierda a la derecha: "
   ]
  },
  {
   "cell_type": "markdown",
   "id": "64bfaaf1",
   "metadata": {
    "slideshow": {
     "slide_type": "subslide"
    }
   },
   "source": [
    "\n",
    "\n",
    "- Guardar: almacena en el fichero todas las celdas y guarda el estado de ejecución en el que se quedó el notebook. \n",
    "- Nueva celda: crea una nueva celda inmediatamente después de la celda que tenemos seleccionada. \n",
    "- Cortar: permite cortar una celda para pegarla en otro punto del notebook. \n",
    "- Copiar: permite copiar una celda para poder pegarla en otro punto del notebook. \n",
    "- Pegar: pegamos la celda que hemos copiado o cortado previamente inmediatamente después de la celda que tenemos seleccionada. \n",
    "- Bajar una celda: desplaza la celda seleccionada una posición hacia abajo. \n",
    "- Subir una celda: desplaza la celda seleccionada una posición hacia arriba.\n",
    "- Ejecutar celda: ejecuta el contenido que hay en la celda seleccionada. Si esa celda es de tipo código, ejecutará las instrucciones y devolverá la salida en una celda de salida. Por otro lado, si la celda es de tipo texto, le asignará un formato HTML. "
   ]
  },
  {
   "cell_type": "markdown",
   "id": "40f9cde8",
   "metadata": {
    "slideshow": {
     "slide_type": "subslide"
    }
   },
   "source": [
    "- Stop: para la ejecución del kernel de Python. Para poder seguir ejecutando nuevas celdas, es necesario reiniciar el kernel de Python. \n",
    "- Reiniciar kernel: reinicia la ejecución del kernel, eliminando de la memoria toda la información del notebook que tuviese almacenada. \n",
    "- Reiniciar el kernel y ejecutar todas las celdas: reinicia el kernel de Python como el botón anterior y, después, ejecuta todas las celdas del notebook. \n",
    "- Selección del tipo de celda: permite seleccionar el tipo de celda que tenemos seleccionado. Los tipos son los que hemos descrito anteriormente. "
   ]
  },
  {
   "cell_type": "markdown",
   "id": "3afacba3",
   "metadata": {
    "slideshow": {
     "slide_type": "subslide"
    }
   },
   "source": [
    "En la parte superior se encuentra el menú que incluye muchas más funciones. A continuación, explicamos algunas de las funciones más útiles y dónde se encuentran: \n",
    "\n",
    "- Crear un nuevo notebook [File >> New Notebook]. \n",
    "- Descargar notebook en otro formato (HTML, PDF…) [File >> Downloads]. \n",
    "- Cerrar el notebook y apagar el kernel [File >> Close and Halt]. \n",
    "- Insertar celdas encima o debajo de la celda seleccionada [Insert]. \n",
    "- Referencia de Python y librerías utilizadas en Jupyter [Help]."
   ]
  }
 ],
 "metadata": {
  "celltoolbar": "Slideshow",
  "kernelspec": {
   "display_name": "Python 3 (ipykernel)",
   "language": "python",
   "name": "python3"
  },
  "language_info": {
   "codemirror_mode": {
    "name": "ipython",
    "version": 3
   },
   "file_extension": ".py",
   "mimetype": "text/x-python",
   "name": "python",
   "nbconvert_exporter": "python",
   "pygments_lexer": "ipython3",
   "version": "3.8.11"
  }
 },
 "nbformat": 4,
 "nbformat_minor": 5
}
