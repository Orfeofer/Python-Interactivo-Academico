{
 "cells": [
  {
   "cell_type": "markdown",
   "id": "6737d489",
   "metadata": {},
   "source": [
    "# A. Sintaxis de Python\n",
    "\n",
    "## Identificadores \n",
    "\n",
    "Los identificadores son nombres que asignaremos a elementos, como funciones, \n",
    "variables, etc., para hacerles referencia más adelante en el código. Estos \n",
    "identificadores tienen que seguir las siguientes reglas: \n",
    "\n",
    " \n",
    "* Pueden ser una combinación de números (0-9), letras mayúsculas (A-Z), letras minúsculas (a-z) y el símbolo de guion bajo (_). \n",
    "\n",
    "* No pueden comenzar por un dígito. \n",
    "\n",
    "* No pueden utilizarse símbolos especiales: @, !, #, etc. \n",
    "\n",
    "* Pueden tener cualquier longitud. \n",
    "\n",
    "Hay que decir que Python distingue las mayúsculas de las minúsculas. Esto significa \n",
    "que, si tuviéramos los identificadores identificador e IDENTIFICADOR, Python los \n",
    "consideraría identificadores diferentes. En el siguiente bloque veremos algunos \n",
    "ejemplos: "
   ]
  },
  {
   "cell_type": "code",
   "execution_count": 1,
   "id": "52224344",
   "metadata": {},
   "outputs": [],
   "source": [
    "# Identificadores correctos. \n",
    "variable = 1 \n",
    "otra_variable = 'Otra' \n",
    "_mas_variables = [1, 3, 4] \n",
    "Variable_4 = True "
   ]
  },
  {
   "cell_type": "code",
   "execution_count": 2,
   "id": "408d39a6",
   "metadata": {},
   "outputs": [
    {
     "ename": "SyntaxError",
     "evalue": "invalid syntax (Temp/ipykernel_9924/1693935313.py, line 2)",
     "output_type": "error",
     "traceback": [
      "\u001b[1;36m  File \u001b[1;32m\"C:\\Users\\hdd\\AppData\\Local\\Temp/ipykernel_9924/1693935313.py\"\u001b[1;36m, line \u001b[1;32m2\u001b[0m\n\u001b[1;33m    @variable = 3\u001b[0m\n\u001b[1;37m              ^\u001b[0m\n\u001b[1;31mSyntaxError\u001b[0m\u001b[1;31m:\u001b[0m invalid syntax\n"
     ]
    }
   ],
   "source": [
    "# Identificadores incorrectos. \n",
    "@variable = 3 \n",
    "2_variable ='Está mal.’ "
   ]
  },
  {
   "cell_type": "markdown",
   "id": "7632968f",
   "metadata": {},
   "source": [
    "## Palabras reservadas \n",
    "Python, como todos los lenguajes de programación, tiene un conjunto de palabras \n",
    "reservadas que no se pueden utilizar como identificadores. Esta lista de palabras \n",
    "reservadas es la siguiente: \n",
    "~~~python \n",
    "and, assert, break, class, continue, def, del, elif, \n",
    "else, except, exec, finally, for, from, global, if, import, in, is, lambda, \n",
    "not, or, pass, print, raise, return, try, while, with, yield. \n",
    "~~~"
   ]
  },
  {
   "cell_type": "markdown",
   "id": "ef8756f3",
   "metadata": {},
   "source": [
    "## Comentarios \n",
    "\n",
    "Los comentarios son partes del código que el intérprete de Python no ejecuta. Estos \n",
    "comentarios nos permiten escribir aclaraciones en el código para mejorar su \n",
    "interpretabilidad por parte de otros desarrolladores o para nosotros mismos en un \n",
    "futuro. En Python hay dos sintaxis diferentes para escribir los comentarios: \n",
    "\n",
    "* Comentarios de línea: para aquellos comentarios que solo ocupen una línea se \n",
    "utiliza el símbolo # al principio de la misma. \n",
    "\n",
    "* Comentarios de bloque: para los comentarios que ocupen más de una línea se \n",
    "utilizan triples comillas (simples o dobles) al principio y al final del comentario. "
   ]
  },
  {
   "cell_type": "code",
   "execution_count": null,
   "id": "ff7d60e1",
   "metadata": {},
   "outputs": [],
   "source": [
    "# Ejemplo de comentario de línea. "
   ]
  },
  {
   "cell_type": "code",
   "execution_count": null,
   "id": "5ab85e4e",
   "metadata": {},
   "outputs": [],
   "source": [
    "\"\"\" \n",
    "Ejemplo de comentario de bloque. \n",
    "Todas las líneas pertenecen al comentario. \n",
    "\"\"\" "
   ]
  },
  {
   "cell_type": "code",
   "execution_count": null,
   "id": "f523464a",
   "metadata": {},
   "outputs": [],
   "source": [
    "''' \n",
    " Otro ejemplo de \n",
    " comentario de bloque. \n",
    "''' "
   ]
  },
  {
   "cell_type": "markdown",
   "id": "f11ed096",
   "metadata": {},
   "source": [
    "## Sangría \n",
    "\n",
    "Una de las diferencias que tiene Python con respecto a otros lenguajes, como C o \n",
    "Java, es que no utiliza llaves ({,}) para diferenciar bloques de código. En Python se \n",
    "utiliza la sangría de bloques, es decir, hacer una separación hacia la derecha del \n",
    "código que pertenece a un bloque. Esta sangría está determinada por 4 espacios \n",
    "según la guía de estilos PEP 8. \n",
    "\n",
    "Esta forma de definir los bloques de código hace que el código sea más legible. Sin \n",
    "embargo, al ser obligatorio, puede llevar a errores de ejecución si no se ha hecho la \n",
    "sangría correctamente. A continuación, vemos un ejemplo de cómo funciona la \n",
    "sangría dentro de un bloque if. "
   ]
  },
  {
   "cell_type": "code",
   "execution_count": null,
   "id": "1f4630c3",
   "metadata": {},
   "outputs": [],
   "source": [
    "# Ejemplo de una sangría: \n",
    "variable = 1 \n",
    " \n",
    "if (variable == 1): \n",
    "    print(\"Aquí pongo el código a ejecutar.\") \n",
    "    print(\"Tiene una sangría de 4 espacios.\")"
   ]
  },
  {
   "cell_type": "markdown",
   "id": "153d0e2d",
   "metadata": {},
   "source": [
    "Estas son las normas más importantes de sintaxis que debemos tener en cuenta para \n",
    "comenzar a programar en Python. Durante el curso, incluiremos algunas otras reglas \n",
    "en la sintaxis o en el estilo según vayamos incluyendo nuevos conceptos. "
   ]
  },
  {
   "cell_type": "markdown",
   "id": "05544f79",
   "metadata": {},
   "source": [
    "# B. Almacenar valores \n",
    "\n",
    "## Variables \n",
    "\n",
    " A la hora de implementar nuestros programas será necesario almacenar algunos \n",
    "valores para consultarlos o modificarlos durante la ejecución. Para poder hacerlo \n",
    "utilizaremos las variables. Una variable es un identificador al que le asignaremos un \n",
    "valor y, más adelante, llamando a ese identificador podremos consultar el valor. \n",
    "\n",
    "En Python la creación de una variable se hace a través de una asignación. Haremos \n",
    "una asignación escribiendo el nombre de un identificador, seguido del símbolo = y el \n",
    "valor que deseamos almacenar en la variable: \n",
    " \n",
    "~~~python\n",
    "identificador = [valor] \n",
    "~~~\n",
    "\n",
    "A diferencia de otros lenguajes, no es necesario definir el tipo de dato que \n",
    "almacenará la variable. El motivo es que Python infiere este tipo en el momento de \n",
    "ejecutar la asignación y le asignará el tipo de dato que mejor se adapte al valor que \n",
    "hayamos asignado. Por ejemplo, si asignamos a una variable el valor ‘Hola mundo!’, \n",
    "esta variable será de tipo cadena de texto. Además, una misma variable puede \n",
    "almacenar diferentes tipos de datos durante la ejecución. \n"
   ]
  },
  {
   "cell_type": "code",
   "execution_count": null,
   "id": "1efbef28",
   "metadata": {},
   "outputs": [],
   "source": [
    "# Ejemplo de variable: \n",
    "n = 23 \n",
    "saludo = 'Hola! Qué tal?' \n",
    "type(n) # Devuelve int \n",
    "type(saludo) # Devuelve str "
   ]
  },
  {
   "cell_type": "markdown",
   "id": "0e62e1b1",
   "metadata": {},
   "source": [
    "## Constantes \n",
    "\n",
    "Otro elemento muy utilizado en el desarrollo de programas es el uso de constantes. \n",
    "Una constante es un tipo de variable cuyo valor no puede ser modificado durante toda la ejecución del programa. Se suele utilizar para almacenar valores que \n",
    "necesitaremos tener disponibles a lo largo de la ejecución. \n",
    "\n",
    "En Python no existe ninguna palabra reservada que nos permita definir una \n",
    "constante.\n",
    "\n",
    "Se recomienda utilizar una variable, escribiendo el identificador en mayúsculas para \n",
    "que sepamos que esa variable no puede ser modificada. Esta solución se refiere a los \n",
    "estilos y tendremos que estar pendientes de que esa constante nunca cambia de \n",
    "valor. "
   ]
  },
  {
   "cell_type": "code",
   "execution_count": 4,
   "id": "1581f115",
   "metadata": {},
   "outputs": [
    {
     "name": "stdout",
     "output_type": "stream",
     "text": [
      "El precio final es: 30.25\n"
     ]
    }
   ],
   "source": [
    "# Ejemplo de constantes: \n",
    "IVA = 0.21 \n",
    " \n",
    "precio = 25 \n",
    "precio_final = precio + (precio * IVA) \n",
    " \n",
    "print(\"El precio final es:\", precio_final)"
   ]
  },
  {
   "cell_type": "markdown",
   "id": "e726766a",
   "metadata": {},
   "source": [
    "# C. Tipos de datos y operadores\n",
    "\n",
    "## Datos numéricos \n",
    "\n",
    "Los primeros tipos de datos que nos encontramos son los tipos numéricos. Dentro de \n",
    "los tipos numéricos encontramos los siguientes tipos más específicos: \n",
    "\n",
    "* Enteros (int): 26, 0b1101 (base binaria), 0x3f4a (base hexadecimal). \n",
    "* Flotante (float): 3.14, 5., -67.763 \n",
    "* Complejos (complex): 0.117j \n",
    "\n",
    "Usando estos tipos de datos, podemos aplicar los siguientes tipos de operadores: \n",
    "operadores aritméticos, operadores de asignación y operadores de bits. A \n",
    "continuación, revisaremos estas operaciones y su sintaxis en Python. \n",
    "\n",
    "## Operadores aritméticos \n",
    "\n",
    "Estos operadores incluyen las operaciones matemáticas básicas: \n",
    "* Suma (+): devuelve como resultado la suma de dos números. \n",
    "\n",
    "~~~python\n",
    "3.13 + 6 # Devuelve 9.13 \n",
    "~~~\n",
    "\n",
    "* Resta (-): devuelve como resultado la resta de dos números. \n",
    "\n",
    "~~~python    \n",
    "3.13 - 6 # Devuelve -2.87 \n",
    "~~~\n",
    "\n",
    "* Multiplicación (*): devuelve como resultado la multiplicación de dos números. \n",
    "\n",
    "~~~python\n",
    "3.13 * 10 # Devuelve 31.3 \n",
    "~~~\n",
    "\n",
    "* División (/): devuelve como resultado la división de dos números. \n",
    "\n",
    "~~~python\n",
    "3.13 / 10 # Devuelve 0.313 \n",
    "~~~\n",
    "\n",
    "* División entera (//): devuelve como resultado la división entera de dos números. Es decir, el resultado será la únicamente la parte entera de la división. \n",
    "\n",
    "~~~python\n",
    "3 // 10 # Devuelve 0 \n",
    "~~~\n",
    "\n",
    "* Módulo (%): devuelve como resultado el valor del resto obtenido de la división entera entre dos números. \n",
    "\n",
    "~~~python\n",
    "3 % 10 # Devuelve 3 \n",
    "~~~\n",
    "\n",
    "* Exponente (\\**): devuelve como resultado el valor exponencial de una base con respecto al exponente:\n",
    "\n",
    "~~~python\n",
    "3 ** 2 # Devuelve 9 \n",
    "~~~"
   ]
  },
  {
   "cell_type": "code",
   "execution_count": null,
   "id": "1c517493",
   "metadata": {},
   "outputs": [],
   "source": [
    "#suma"
   ]
  },
  {
   "cell_type": "code",
   "execution_count": null,
   "id": "f2df3a5c",
   "metadata": {},
   "outputs": [],
   "source": [
    "#resta"
   ]
  },
  {
   "cell_type": "code",
   "execution_count": null,
   "id": "b539c7c6",
   "metadata": {},
   "outputs": [],
   "source": [
    "#multiplicacion"
   ]
  },
  {
   "cell_type": "code",
   "execution_count": null,
   "id": "0dec4521",
   "metadata": {},
   "outputs": [],
   "source": [
    "#division"
   ]
  },
  {
   "cell_type": "code",
   "execution_count": null,
   "id": "50f4810c",
   "metadata": {},
   "outputs": [],
   "source": [
    "# modulo"
   ]
  },
  {
   "cell_type": "code",
   "execution_count": null,
   "id": "8ec5bb11",
   "metadata": {},
   "outputs": [],
   "source": [
    "#exponente"
   ]
  },
  {
   "cell_type": "markdown",
   "id": "0018ef3d",
   "metadata": {},
   "source": [
    "## Operadores de asignación \n",
    "\n",
    "Los operadores de asignación permiten asignar el resultado de la operación a una \n",
    "variable incluyendo el símbolo = en el operador. Estos nos permiten modificar el valor \n",
    "de una variable sin tener que definirla en la parte derecha de la asignación. La lista \n",
    "de operadores de asignación es la siguiente. \n",
    "\n",
    "* Asignación simple (=): asigna a la variable del lado izquierdo el valor definido en la parte derecha. \n",
    "\n",
    "~~~python\n",
    "resultado = 10 # resultado vale 10 \n",
    "~~~\n",
    "\n",
    "* Suma y asignación (+=): el operador suma, al valor de la variable, el valor definido en el lado derecho: \n",
    "\n",
    "~~~python\n",
    "resultado = 10 # resultado vale 10 \n",
    "resultado += 10 # resultado vale 20 \n",
    "~~~\n",
    "\n",
    "* Resta y asignación (-=): el operador resta, al valor de la variable, el valor definido en el lado derecho: \n",
    "\n",
    "~~~python\n",
    "resultado = 10 # resultado vale 10 \n",
    "resultado -= 10 # resultado vale 0 \n",
    "~~~\n",
    "\n",
    "* Multiplicación y asignación (*=): el operador multiplica, al valor de la variable, el valor definido en el lado derecho: \n",
    "\n",
    "~~~python\n",
    "resultado = 10 # resultado vale 10 \n",
    "resultado *= 10 # resultado vale 100 \n",
    "~~~\n",
    "\n",
    "* División y asignación (/=): el operador divide, al valor de la variable, el valor definido en el lado derecho: \n",
    "\n",
    "~~~python\n",
    "resultado = 10 # resultado vale 10 \n",
    "resultado /= 10 # resultado vale 1 \n",
    "~~~\n",
    "\n",
    "* División entera y asignación (//=): el operador realiza la división entera al valor de la variable con respecto al valor definido en el lado derecho: \n",
    "\n",
    "~~~python    \n",
    "resultado = 14 # resultado vale 14 \n",
    "resultado //= 10 # resultado vale 1 \n",
    "~~~\n",
    "\n",
    "* Módulo y asignación (%=): el operador asigna a la variable el resto de la división entera entre el valor de la variable y el valor definido en el lado derecho de la operación: \n",
    "\n",
    "~~~python\n",
    "resultado = 14 # resultado vale 14 \n",
    "resultado %= 10 # resultado vale 4 \n",
    "~~~\n",
    "\n",
    "* Exponente y asignación (**=): el operador asigna a la variable el resultado del exponente entre el valor de la variable y el valor de la derecha de la operación: \n",
    "\n",
    "~~~python\n",
    "resultado = 3 # El resultado vale 3 \n",
    "resultado **= 2 # El resultado vale 9\n",
    "~~~"
   ]
  },
  {
   "cell_type": "code",
   "execution_count": null,
   "id": "8f2fa913",
   "metadata": {},
   "outputs": [],
   "source": []
  },
  {
   "cell_type": "markdown",
   "id": "3b7335db",
   "metadata": {},
   "source": [
    "Operaciones de bits \n",
    "\n",
    "Otra de las operaciones básicas que podemos realizar en Python con valores \n",
    "numéricos son las operaciones de bits. Estas operaciones solo se pueden aplicar a \n",
    "valores enteros. A continuación, repasaremos estas operaciones: \n",
    "\n",
    "* AND (&): operador lógico and a nivel de bits.\n",
    "\n",
    "~~~python\n",
    "4 & 5 # El resultado será 4 \n",
    "~~~\n",
    "\n",
    "* OR (|): operador lógico or a nivel de bits. \n",
    "    \n",
    "~~~python\n",
    "4 | 5 # El resultado será 5 \n",
    "~~~\n",
    "\n",
    "* XOR (^): operador lógico xor a nivel de bits. \n",
    "\n",
    "~~~python\n",
    "4 ^ 5 # El resultado será 1 \n",
    "~~~\n",
    "\n",
    "* Mover bits a la izquierda (<<): operador que mueve todos los bits a la izquierda tantas posiciones como se indique en el lado derecho del operador.  \n",
    "\n",
    "~~~python\n",
    "4 << 1 # El resultado será 8 \n",
    "~~~\n",
    "\n",
    "* Mover bits a la derecha (>>): operador que mueve todos los bits a la derecha tantas posiciones como se indique en el lado derecho del operador.  \n",
    "\n",
    "~~~python\n",
    "4 >> 1 # El resultado será 2 \n",
    "~~~"
   ]
  },
  {
   "cell_type": "code",
   "execution_count": null,
   "id": "57c59a58",
   "metadata": {},
   "outputs": [],
   "source": []
  },
  {
   "cell_type": "markdown",
   "id": "e8edea61",
   "metadata": {},
   "source": [
    "# Datos booleanos \n",
    "\n",
    " \n",
    "\n",
    "El tipo de datos booleano es un tipo binario cuyos valores solo pueden ser True o \n",
    "False. Este tipo de datos es muy utilizado en expresiones de control para diferentes \n",
    "sentencias como son el if o el while. A este tipo de datos se les pueden aplicar los \n",
    "operadores lógicos: \n",
    "\n",
    " \n",
    "\n",
    "* AND (and): operador lógico and. \n",
    "~~~python\n",
    "True and False # Devolverá False \n",
    "~~~\n",
    "\n",
    "* OR (or): operador lógico or. \n",
    "\n",
    "    ~~~python\n",
    "True or False # Devolverá True \n",
    "~~~\n",
    "\n",
    "* NOT (not): operador de negación lógica. \n",
    "\n",
    "    ~~~python\n",
    "not True # Devolverá False \n",
    "~~~"
   ]
  },
  {
   "cell_type": "code",
   "execution_count": null,
   "id": "c2309199",
   "metadata": {},
   "outputs": [],
   "source": []
  },
  {
   "cell_type": "markdown",
   "id": "cd322bd9",
   "metadata": {},
   "source": [
    "Además de los operadores lógicos, podemos utilizar los operadores de comparación \n",
    "y de identidad: \n",
    "\n",
    "* Menor (<): operador que devuelve True si el valor de la izquierda es menor que el valor de la derecha. En caso contrario devolverá False. \n",
    "\n",
    "~~~python\n",
    "5 < 7 # Devolverá True \n",
    "~~~\n",
    "\n",
    "* Menor o igual (<=): operador que devuelve True si el valor de la izquierda es menor o igual que el valor de la derecha. En caso contrario devolverá False. \n",
    "~~~python\n",
    "7 <= 7 # Devolverá True \n",
    "~~~\n",
    "\n",
    "* Mayor (>): operador que devuelve True si el valor de la izquierda es mayor que el valor de la derecha. En caso contrario devolverá False. \n",
    "\n",
    "~~~python\n",
    "5 > 7 # Devolverá False \n",
    "~~~\n",
    "\n",
    "* Mayor o igual (>=): operador que devuelve True si el valor de la izquierda es mayor o igual que el valor de la derecha. En caso contrario devolverá False. \n",
    "\n",
    "~~~python\n",
    "7 >= 7 # Devolverá True \n",
    "~~~\n",
    "\n",
    "* Igual (==): operador que devuelve True si el valor de la izquierda es igual que el valor de la derecha. En caso contrario devolverá False. \n",
    "\n",
    "~~~python\n",
    "5 == 7 # Devolverá False \n",
    "~~~\n",
    "\n",
    "* Distinto (!=): operador que devuelve True si el valor de la izquierda es distinto que el valor de la derecha. En caso contrario devolverá False. \n",
    "\n",
    "~~~python\n",
    "7 != 7 # Devolverá False \n",
    "~~~"
   ]
  },
  {
   "cell_type": "code",
   "execution_count": null,
   "id": "13e0c16e",
   "metadata": {},
   "outputs": [],
   "source": []
  },
  {
   "cell_type": "markdown",
   "id": "22771bf9",
   "metadata": {},
   "source": [
    "# Cadenas de caracteres \n",
    "\n",
    "\n",
    "Las cadenas de texto son secuencias de caracteres encapsuladas con comillas simples \n",
    "('') o comillas dobles (\"\"). A las cadenas de texto almacenadas en variables podemos \n",
    "aplicarle diferentes operadores. Para este apartado crearemos una variable llamada \n",
    "mensaje e iremos viendo las diferentes operaciones que podemos aplicar:"
   ]
  },
  {
   "cell_type": "code",
   "execution_count": null,
   "id": "e7f7c9b2",
   "metadata": {},
   "outputs": [],
   "source": [
    "mensaje = \"Esto es un mensaje de prueba para el curso de Python.\""
   ]
  },
  {
   "cell_type": "markdown",
   "id": "54a8181c",
   "metadata": {},
   "source": [
    "Las cadenas de texto funcionan como una lista de caracteres. Por lo tanto, podemos \n",
    "obtener el carácter que existen en una posición concreta de la cadena. Para ello, \n",
    "aplicamos el operador [] indicando la posición a la que queremos acceder dentro de \n",
    "él. "
   ]
  },
  {
   "cell_type": "code",
   "execution_count": null,
   "id": "f554e299",
   "metadata": {},
   "outputs": [],
   "source": [
    "mensaje[34] # Devuelve 'e' "
   ]
  },
  {
   "cell_type": "markdown",
   "id": "3a0a1422",
   "metadata": {},
   "source": [
    "Este operador no solo nos permite acceder a una única posición, sino que también \n",
    "podemos introducir un rango de caracteres. Para ello usamos este operador \n",
    "separando la posición inicial y la posición final a las que queremos acceder de la \n",
    "siguiente forma:\n",
    "\n",
    "~~~python\n",
    "CADENA[POSICION_INICIAL:POSICION_FINAL]\n",
    "~~~\n",
    "\n",
    "Hay que tener en cuenta que esto nos devolverá todos los caracteres desde la \n",
    "POSICION_INICIAL hasta la posición anterior a la POSICION_FINAL. "
   ]
  },
  {
   "cell_type": "code",
   "execution_count": null,
   "id": "b105f9c2",
   "metadata": {},
   "outputs": [],
   "source": [
    "mensaje[4:15] # Devuelve ' es un mens' "
   ]
  },
  {
   "cell_type": "markdown",
   "id": "5371981c",
   "metadata": {},
   "source": [
    "Si dejamos la POSICION_INICIAL vacía, Python nos devolverá los caracteres desde el \n",
    "comienzo de la cadena hasta la POSICION_FINAL. Si, por otro lado, dejamos vacía la \n",
    "POSICION_FINAL, nos devolverá los caracteres desde la POSICION_INICIAL hasta el \n",
    "final de la cadena de caracteres. "
   ]
  },
  {
   "cell_type": "code",
   "execution_count": null,
   "id": "9cde20d9",
   "metadata": {},
   "outputs": [],
   "source": [
    "mensaje[:20] # Nos devolverá 'Esto es un mensaje d' \n",
    "mensaje[40:] # Nos devolverá 'so de Python.' "
   ]
  },
  {
   "cell_type": "markdown",
   "id": "92d30e72",
   "metadata": {},
   "source": [
    "En ambas posiciones se pueden incluir números negativos. En estos casos, Python \n",
    "empezará a contar las posiciones desde el lado derecho. "
   ]
  },
  {
   "cell_type": "code",
   "execution_count": null,
   "id": "54a7fe96",
   "metadata": {},
   "outputs": [],
   "source": [
    "mensaje[-10:] # Desde la posición -10 (es decir, 10 desde la derecha)  hasta el final. Nos devolverá 'de Python.' \n",
    "mensaje[:-10] # Desde la posición inicial, hasta la posición -10 (es  decir, 10 desde la derecha). Nos devolverá 'Esto es un mensaje de prueba  para el curso '"
   ]
  },
  {
   "cell_type": "markdown",
   "id": "0f035237",
   "metadata": {},
   "source": [
    "## Operadores de cadenas de texto \n",
    "\n",
    "Las cadenas de texto cuentan con los operadores que hemos visto en los otros tipos \n",
    "de datos, aunque el resultado está aplicado al dominio de las cadenas de texto. Estos \n",
    "operadores son: \n",
    "\n",
    "\n",
    "* Concatenar (+): este operador devuelve una cadena de caracteres uniendo los caracteres de dos cadenas.\n",
    "~~~python\n",
    "\"Hola, \" + \"estoy bien\" # Devolverá 'Hola, estoy bien' \n",
    "~~~\n",
    "\n",
    "* Multiplicar (*): este operador nos permite repetir una cadena de caracteres tantas veces como indiquemos en la parte derecha del operador. \n",
    "\n",
    "~~~python\n",
    "\"Hoy hace sol! \" * 3 # Devolverá 'Hoy hace sol! Hoy hace sol! Hoy hace sol! ' \n",
    "~~~"
   ]
  },
  {
   "cell_type": "markdown",
   "id": "938f504e",
   "metadata": {},
   "source": [
    "Además de poder acceder a posiciones concretas de una cadena de texto y los \n",
    "operadores que hemos visto, Python nos proporciona diferentes funciones para \n",
    "obtener información y manipular cadenas de caracteres. A continuación, veremos las \n",
    "más importantes:"
   ]
  },
  {
   "cell_type": "markdown",
   "id": "ff55ace2",
   "metadata": {},
   "source": [
    "* len(): esta función nos permite obtener la longitud de la cadena de caracteres, es \n",
    "decir, nos devuelve cuantos caracteres están contenidos en la cadena. \n",
    "~~~python\n",
    "len(mensaje) # Devuelve 53 \n",
    "~~~\n",
    "\n",
    "* find(): permite obtener la primera posición donde se encuentra la subcadena que \n",
    "pasamos por parámetro dentro de la cadena de texto original. En caso de que la \n",
    "subcadena no exista dentro de la cadena original, nos devolverá -1. \n",
    "\n",
    "~~~python\n",
    "mensaje.find('Python') # Devolverá 46 \n",
    "mensaje.find('Java') # Devolverá -1 \n",
    "~~~\n",
    "\n",
    "* upper(): convierte todos los caracteres de la cadena de texto en mayúsculas. \n",
    "\n",
    "~~~python\n",
    "mensaje.upper() # Devolverá 'ESTO ES UN MENSAJE DE PRUEBA PARA EL CURSO DE PYTHON.' \n",
    "~~~\n",
    "\n",
    "* lower(): este operador convierte todos los caracteres de la cadena de texto en minúsculas. \n",
    "\n",
    "~~~python\n",
    "mensaje.lower() # Devolverá 'esto es un mensaje de prueba para el curso de python.' \n",
    "~~~\n",
    "\n",
    "* replace(): nos permite modificar el contenido de la cadena de caracteres. Para ello, introducimos dos parámetros. Elprimero de ellos contiene la subcadena que queremos sustituir. El segundo contiene la cadena de texto que sustituirá a la primera subcadena. Si la primera subcadena no existe en la cadena de texto original, no habrá ningún cambio. \n",
    "\n",
    "~~~python\n",
    "mensaje.replace(\"curso\", \"seminario\") # Devolverá 'Esto es un mensaje de prueba para el seminario de Python.' \n",
    "mensaje.replace(\"Java\", \"C++\") # Devolverá 'Esto es un mensaje de prueba para el curso de Python.'\n",
    "~~~"
   ]
  },
  {
   "cell_type": "markdown",
   "id": "276db467",
   "metadata": {},
   "source": []
  },
  {
   "cell_type": "markdown",
   "id": "7e151958",
   "metadata": {},
   "source": [
    "## Tipo None \n",
    "\n",
    "El tipo None se utiliza para definir que el valor de una variable es nada o ninguna cosa. \n",
    "Hay que tener cuidado con este tipo de datos, ya que es común utilizarlo cuando \n",
    "queremos declarar una variable, pero no le queremos asignar ningún valor: \n",
    "\n",
    "~~~python\n",
    "variable = None \n",
    "type(variable) # Devolverá que es de tipo NoneType \n",
    "~~~\n",
    " \n",
    "Es importante saber que None es un tipo de dato propio con su significado y que lo \n",
    "debemos diferenciar de valores por defecto de otros tipos como el booleano (False) \n",
    "o numérico (0). En estos casos None es un tipo y valor diferente. \n",
    "\n",
    "~~~python\n",
    "None == False # Devolverá False\n",
    "~~~"
   ]
  },
  {
   "cell_type": "code",
   "execution_count": null,
   "id": "e04930cc",
   "metadata": {},
   "outputs": [],
   "source": []
  },
  {
   "cell_type": "markdown",
   "id": "4e5f3315",
   "metadata": {},
   "source": [
    "## Transformación de tipos de datos \n",
    "\n",
    "\n",
    "Por último, una utilidad muy importante en todos los lenguajes de programación es \n",
    "hacer transformaciones entre tipos de datos. A continuación, vamos a hacer un \n",
    "repaso de las transformaciones de tipos de datos permitidas en Python. \n",
    "\n",
    "\n",
    "* Convertir a cadena de caracteres (str): convierte un objeto que se pasa por  parámetro a cadena de caracteres. \n",
    "\n",
    "~~~python\n",
    "valor = 10 \n",
    "str(valor) # Devolverá ‘10’ \n",
    "~~~\n",
    " \n",
    "\n",
    "* Convertir a valor entero (int): convierte un objeto que se pasa por parámetro al tipo entero. En caso de ser un número decimal, nos devolverá únicamente la parte entera. Si el objeto que se pasa no se puede convertir a entero, \n",
    "devolverá un error. \n",
    "    \n",
    "~~~python\n",
    "valor1 = 10.78 \n",
    "valor2 = ‘Hola’ \n",
    "int(valor1) # Devolverá 10 \n",
    "int(valor2) # Devolverá un error de tipo ValueError \n",
    "~~~\n",
    " \n",
    "* Convertir a valor flotante (float): convierte un objeto que se pasa por parámetro al tipo flotante. Si el objeto que se pasa no se puede convertir a entero, devolverá un error. \n",
    "\n",
    "~~~python\n",
    "valor1 = 30 \n",
    "valor2 = ‘Hola’ \n",
    "float(valor1) # Devolverá 30.0 \n",
    "float(valor2) # Devolverá un error de tipo ValueError \n",
    "~~~\n",
    " \n",
    "\n",
    "* Convertir a valor complejo (complex): convierte un objeto que se pasa por parámetro al tipo complejo. Si el objeto que se pasa no se puede convertir a  entero, devolverá un error. \n",
    "\n",
    "~~~python\n",
    "valor1 = 10.78 \n",
    "valor2 = ‘Hola’ \n",
    "complex(valor1) # Devolverá 10.78 + 0j \n",
    "complex(valor2) # Devolverá un error de tipo ValueError \n",
    "~~~\n",
    " \n",
    "\n",
    "* Convertir a valor booleano (bool): convierte un objeto que se pasa por parámetro  al tipo booleano. Su funcionamiento es el siguiente: \n",
    "        \n",
    "    • Si no se pasa ningún parámetro, devolverá False. \n",
    "    \n",
    "    • En el resto de los casos devolverá True excepto si: el valor del parámetro es 0, si es una secuencia vacía de alguna estructura de datos, si se pasa el tipo None, si se pasa el valor False. \n",
    "\n",
    "~~~python\n",
    "valor1 = 10.78 \n",
    "valor2 = False \n",
    "valor3 = 0 \n",
    "bool(valor1) # Devolverá True \n",
    "bool(valor2) # Devolverá False \n",
    "bool(valor3) # Devolverá False \n",
    "~~~"
   ]
  },
  {
   "cell_type": "markdown",
   "id": "58090354",
   "metadata": {},
   "source": [
    "# D. Estructuras de datos \n",
    "\n",
    "En lo anterior anterior vimos los tipos de datos básicos que podemos utilizar en Python \n",
    "para almacenar valores. Sin embargo, este tipo de datos no son suficientes para \n",
    "almacenar valores complejos como, por ejemplo, una lista de usuarios de una página \n",
    "web. En este tema, veremos las estructuras de datos que nos proporciona Python \n",
    "para almacenar valores más complejos. \n",
    "\n",
    "## Listas \n",
    "\n",
    "Las listas son las estructuras de datos más utilizadas en Python. Una lista es una \n",
    "estructura que nos permite tener un conjunto de objetos separados por comas. \n",
    "\n",
    "Esta estructura de datos es mutable, es decir, podemos cambiar el valor de una lista que \n",
    "hemos creado como, por ejemplo, cambiar el orden de los elementos, eliminar \n",
    "elementos, etc. \n",
    "\n",
    "En una lista pueden existir elementos de diferentes tipos, es decir, elementos con \n",
    "diferentes tipos de datos o, incluso, diferentes estructuras de datos. Sin embargo, lo \n",
    "normal es que todos los elementos de una lista sean del mismo tipo. Para declarar \n",
    "una lista, escribimos entre corchetes ([]) un conjunto de elementos separados por \n",
    "comas: "
   ]
  },
  {
   "cell_type": "code",
   "execution_count": null,
   "id": "3ff941b8",
   "metadata": {},
   "outputs": [],
   "source": [
    "lista = [3, 'Hola', True] \n",
    "lista"
   ]
  },
  {
   "cell_type": "markdown",
   "id": "b6ba9ca4",
   "metadata": {},
   "source": [
    "También podemos crear una lista vacía usando únicamente los corchetes sin ningún \n",
    "valor dentro o utilizando la función ``list()``:"
   ]
  },
  {
   "cell_type": "code",
   "execution_count": null,
   "id": "4f66d8ca",
   "metadata": {},
   "outputs": [],
   "source": [
    "lista_vacia = []"
   ]
  },
  {
   "cell_type": "markdown",
   "id": "255e0266",
   "metadata": {},
   "source": [
    "A partir de una lista que hayamos creado, podemos acceder a los distintos elementos \n",
    "de dicha lista. Para ello, solo tenemos que indicar la posición que ocupa el elemento\n",
    "dentro de la lista, es decir, indicar el índice del elemento. Debemos tener en cuenta \n",
    "que el primer elemento de la lista ocupa la posición 0. "
   ]
  },
  {
   "cell_type": "code",
   "execution_count": null,
   "id": "5390f2d3",
   "metadata": {},
   "outputs": [],
   "source": [
    "lista = [3, 'Hola', True] \n",
    "lista[2] # Devolverá el valor True "
   ]
  },
  {
   "cell_type": "markdown",
   "id": "4a5c48a6",
   "metadata": {},
   "source": [
    "También podemos acceder a un conjunto de elementos de una lista usando el \n",
    "símbolo de dos puntos (:) dentro de los corchetes. A esto se le llama un rango de \n",
    "índices. Por ejemplo, para acceder a las 2 primeras posiciones de una lista podríamos \n",
    "hacer lo siguiente: "
   ]
  },
  {
   "cell_type": "code",
   "execution_count": null,
   "id": "49547523",
   "metadata": {},
   "outputs": [],
   "source": [
    "lista = [3, 'Hola', True] \n",
    "lista[:2] # Devolverá [3, 'Hola']"
   ]
  },
  {
   "cell_type": "markdown",
   "id": "4ede691b",
   "metadata": {},
   "source": [
    "Cuando usamos los rangos de índices, como el visto anteriormente, existen unos \n",
    "valores por defecto cuando no indicamos su valor. El valor por defecto del primer \n",
    "índice es 0 y el valor por defecto del último índice es la longitud de la lista. "
   ]
  },
  {
   "cell_type": "code",
   "execution_count": null,
   "id": "2d1e828c",
   "metadata": {},
   "outputs": [],
   "source": [
    "lista = [3, 'Hola', True] \n",
    "lista[:2] # Devolverá [3, 'Hola'] \n",
    "lista[1:] # Devolverá ['Hola', True]"
   ]
  },
  {
   "cell_type": "markdown",
   "id": "8864e269",
   "metadata": {},
   "source": [
    "Además, dentro de los índices de las listas, ya sea un solo índice o un rango, podemos \n",
    "usar valores negativos. En esos casos Python devuelve los elementos contando su \n",
    "posición desde la derecha"
   ]
  },
  {
   "cell_type": "code",
   "execution_count": null,
   "id": "1d380aa8",
   "metadata": {},
   "outputs": [],
   "source": [
    "lista = [3, 'Hola', True] \n",
    "lista[-1] # Devolverá True \n",
    "lista[-2:] # Devolverá ['Hola', True] "
   ]
  },
  {
   "cell_type": "markdown",
   "id": "df782060",
   "metadata": {},
   "source": [
    "## Funciones aplicables a listas \n",
    "\n",
    "Cuando usamos listas podemos usar un conjunto de funciones que nos permiten \n",
    "obtener propiedades de las listas o modificarlas. A continuación, vamos a enumerar \n",
    "algunas de las funciones más utilizadas en listas: \n",
    "\n",
    " \n",
    "\n",
    "* len: devuelve la longitud de una lista, es decir, el número de elementos incluidos en una lista. \n",
    "\n",
    "~~~python\n",
    "lista = [3, 'Hola', True] \n",
    "len(lista) # Devolverá 3 \n",
    "~~~\n",
    " \n",
    "\n",
    "* index: devuelve la posición que ocupa un elemento dentro de una lista. \n",
    "    \n",
    "    ~~~python\n",
    "lista = [3, 'Hola', True] \n",
    "lista.index('Hola') # Devolverá 1 \n",
    "~~~\n",
    " \n",
    "\n",
    "* insert: inserta un elemento dentro de una lista en la posición que le indicamos. \n",
    "    \n",
    "    ~~~python\n",
    "lista = [3, 'Hola', True] \n",
    "lista.insert(1, 'Adiós') \n",
    "lista # Nos mostrará [3, 'Adiós', 'Hola', True] \n",
    "~~~\n",
    " \n",
    "\n",
    "* append: inserta un elemento al final de la lista. En el caso de que pongamos una \n",
    "lista de elementos, la función lo insertará como un elemento único.  \n",
    "lista = [3, 'Hola', True] \n",
    "lista.append([3, 4]) \n",
    "lista # Nos mostrará [3, 'Adiós', 'Hola', True, [3, 4]] \n",
    "\n",
    " \n",
    "\n",
    "* extend: permite agregar un conjunto de elementos en una lista. A diferencia del método anterior, si incluimos una lista de elementos, se agregarán cada uno de los elementos a la lista. \n",
    "\n",
    "~~~python\n",
    "lista = [3, 'Hola', True] \n",
    "lista.extend([3, 4]) \n",
    "lista # Nos mostrará [3, 'Adiós', 'Hola', True, 3, 4] \n",
    "~~~\n",
    "\n",
    "* remove: elimina el elemento que pasamos por parámetro de la lista. En caso de que este elemento estuviese repetido, solo se eliminará la primera copia. \n",
    "\n",
    "~~~python\n",
    "lista = [3, 'Hola', True, 'Hola'] \n",
    "lista.remove('Hola') \n",
    "lista # Nos mostrará [3, True, 'Hola'] \n",
    "~~~\n",
    " \n",
    "\n",
    "* count: devuelve el número de veces que se encuentra un elemento en una lista. \n",
    "    \n",
    "~~~python\n",
    "lista = [3, 'Hola', True, 'Hola'] \n",
    "lista.count('Hola')  # Nos devolverá 2 \n",
    "~~~\n",
    " \n",
    "\n",
    "* reverse: este método nos permite invertir la posición de todos los elementos de  la lista. \n",
    "\n",
    "~~~python\n",
    "lista = [3, 'Hola', True] \n",
    "lista.reverse() \n",
    "lista # Nos mostrará [True, 'Hola', 3] \n",
    "~~~\n",
    " \n",
    "\n",
    "* sort: ordena los elementos de una lista. Por defecto, este método los ordena en orden creciente. Para ordenarlo de forma decreciente, hay que incluir el parámetro (reverse=True). ¡Ojo! La lista debe contener elementos del mismo tipo. \n",
    "\n",
    "~~~python\n",
    "lista = [6, 4, 1, 9, 7, 0, 5] \n",
    "lista.sort() \n",
    "lista # Nos mostrará [0, 1, 4, 5, 6, 7, 9] \n",
    "lista.sort(reverse=True) \n",
    "lista # Nos mostrará [9, 7, 6, 5, 4, 1, 0] \n",
    "~~~\n",
    " \n",
    "\n",
    "* pop: elimina y devuelve el elemento que se encuentra en la posición que se pasa por parámetro. En caso de que no se pase ningún valor por parámetro, eliminará y devolverá el último elemento de la lista. \n",
    "\n",
    "~~~python\n",
    "lista = [6, 4, 1, 9, 7, 0, 5] \n",
    "lista.pop(1) # Devolverá 4 \n",
    "lista # Nos mostrará [6, 1, 9, 7, 0, 5] \n",
    "~~~"
   ]
  },
  {
   "cell_type": "code",
   "execution_count": null,
   "id": "3d26af85",
   "metadata": {},
   "outputs": [],
   "source": []
  },
  {
   "cell_type": "code",
   "execution_count": null,
   "id": "606ceb34",
   "metadata": {},
   "outputs": [],
   "source": []
  },
  {
   "cell_type": "code",
   "execution_count": null,
   "id": "e661ba27",
   "metadata": {},
   "outputs": [],
   "source": []
  }
 ],
 "metadata": {
  "kernelspec": {
   "display_name": "Python 3 (ipykernel)",
   "language": "python",
   "name": "python3"
  },
  "language_info": {
   "codemirror_mode": {
    "name": "ipython",
    "version": 3
   },
   "file_extension": ".py",
   "mimetype": "text/x-python",
   "name": "python",
   "nbconvert_exporter": "python",
   "pygments_lexer": "ipython3",
   "version": "3.8.11"
  }
 },
 "nbformat": 4,
 "nbformat_minor": 5
}
