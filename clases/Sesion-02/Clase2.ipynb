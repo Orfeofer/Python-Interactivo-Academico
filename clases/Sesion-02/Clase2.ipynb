{
 "cells": [
  {
   "cell_type": "markdown",
   "id": "a3eb3d25",
   "metadata": {
    "slideshow": {
     "slide_type": "slide"
    }
   },
   "source": [
    "# Python Interactivo y Académico\n",
    " \n",
    "## Clase 2\n",
    " \n",
    "### 3 de noviembre de 2021"
   ]
  },
  {
   "cell_type": "markdown",
   "id": "26d084b6",
   "metadata": {
    "slideshow": {
     "slide_type": "slide"
    }
   },
   "source": [
    "## Contenido\n",
    "\n",
    "    1.1. Compilación vs. Interpretación\n",
    "    1.2. Programación de alto nivel a un lenguaje de máquina\n",
    "    1.3. ¿Qué hace realmente el intérprete? \n",
    "    1.4. Compilación vs. Interpretación - Ventajas y Desventajas \n",
    "    1.5. Rivales de Python\n",
    "    1.6  Detalles a saber"
   ]
  },
  {
   "cell_type": "markdown",
   "id": "3588f89f",
   "metadata": {
    "slideshow": {
     "slide_type": "slide"
    }
   },
   "source": [
    "### Compilación vs. Interpretación\n",
    "\n",
    "La programación de computadora es el acto de establecer una secuencia de instrucciones con la cual se causará el efecto deseado. \n",
    "\n",
    "El efecto podría ser diferente en cada caso específico: \n",
    "\n",
    "* depende de la imaginación, \n",
    "\n",
    "* el conocimiento y \n",
    "\n",
    "* la experiencia del programador.\n",
    "\n"
   ]
  },
  {
   "cell_type": "markdown",
   "id": "8804bb94",
   "metadata": {
    "slideshow": {
     "slide_type": "subslide"
    }
   },
   "source": [
    "Por supuesto, tal composición tiene que ser correcta en muchos sentidos, tales como:\n",
    "\n",
    "* Alfabéticamente: Un programa debe escribirse en una secuencia de comandos reconocible, por ejemplo, el Romano, Cirílico, etc.\n",
    "\n",
    "* Léxicamente: Cada lenguaje de programación tiene su diccionario y necesitas dominarlo; afortunadamente, es mucho más simple y más pequeño que el diccionario de cualquier lenguaje natural.\n",
    "\n",
    "* Sintácticamente: Cada idioma tiene sus reglas y deben ser obedecidas.\n",
    "\n",
    "* Semánticamente: El programa tiene que tener sentido.\n",
    "\n",
    "Desafortunadamente, un programador también puede cometer errores en cada uno de los cuatro sentidos anteriores. Cada uno de ellos puede hacer que el programa se vuelva completamente inútil."
   ]
  },
  {
   "cell_type": "markdown",
   "id": "ab9bbcc8",
   "metadata": {
    "slideshow": {
     "slide_type": "slide"
    }
   },
   "source": [
    "### Programación de alto nivel a un lenguaje de máquina\n",
    "\n",
    "Hay dos formas diferentes de transformar un programa de un lenguaje de programación de alto nivel a un lenguaje de máquina:\n",
    "\n",
    "- COMPILACIÓN - El programa fuente se traduce una vez (sin embargo, esta ley debe repetirse cada vez que se modifique el código fuente) obteniendo un archivo (por ejemplo, un archivo .exe si el código está diseñado para ejecutarse en MS Windows) que contiene el código de la máquina; ahora puedes distribuir el archivo en todo el mundo; el programa que realiza esta traducción se llama compilador o traductor.\n",
    "\n",
    "- INTERPRETACIÓN - Tú (o cualquier usuario del código) puedes traducir el programa fuente cada vez que se ejecute; el programa que realiza este tipo de transformación se denomina intérprete, ya que interpreta el código cada vez que está destinado a ejecutarse; también significa que no puede distribuir el código fuente tal como está, porque el usuario final también necesita que el intérprete lo ejecute.\n",
    "\n"
   ]
  },
  {
   "cell_type": "markdown",
   "id": "24d07798",
   "metadata": {
    "slideshow": {
     "slide_type": "subslide"
    }
   },
   "source": [
    "Debido a algunas razones muy fundamentales, un lenguaje de programación de alto nivel particular está diseñado para caer en una de estas dos categorías.\n",
    "\n",
    "Hay muy pocos idiomas que se pueden compilar e interpretar. Por lo general, un lenguaje de programación se proyecta con este factor en la mente de sus constructores: ¿Se compilará o interpretará?"
   ]
  },
  {
   "cell_type": "markdown",
   "id": "5855826e",
   "metadata": {
    "slideshow": {
     "slide_type": "slide"
    }
   },
   "source": [
    "### ¿Qué hace realmente el intérprete?\n",
    "\n",
    "Supongamos una vez más que has escrito un programa. Ahora, existe como un archivo de computadora: un programa de computadora es en realidad una pieza de texto, por lo que el código fuente generalmente se coloca en archivos de texto. \n",
    "\n",
    "*Nota: debe ser texto puro, sin ninguna decoración, como diferentes fuentes, colores, imágenes incrustadas u otros medios. Ahora tienes que invocar al intérprete y dejar que lea el archivo fuente.*\n",
    "\n",
    "\n",
    "**El intérprete lee el código fuente de una manera que es común en la cultura occidental: de arriba hacía abajo y de izquierda a derecha.**"
   ]
  },
  {
   "cell_type": "markdown",
   "id": "fe52e144",
   "metadata": {
    "slideshow": {
     "slide_type": "subslide"
    }
   },
   "source": [
    "En primer lugar, el intérprete verifica si todas las líneas subsiguientes son correctas (utilizando los cuatro aspectos tratados anteriormente).\n",
    "\n",
    "Si el compilador encuentra un error, termina su trabajo inmediatamente. El único resultado en este caso es un mensaje de error. El intérprete le informará dónde se encuentra el error y qué lo causó. Sin embargo, estos mensajes pueden ser engañosos, ya que el intérprete no puede seguir tus intenciones exactas y puede detectar errores a cierta distancia de tus causas reales.\n",
    "\n",
    "También es posible que una parte significativa del código se ejecute con éxito antes de que el intérprete encuentre un error. Este es el comportamiento normal en este modelo de ejecución.\n",
    "\n",
    "#### Puedes preguntar ahora: ¿Cuál es mejor? ¿El modelo de \"compilación\" o el modelo de \"interpretación\"? \n",
    "\n",
    "No hay una respuesta obvia. Si hubiera habido, uno de estos modelos habría dejado de existir hace mucho tiempo. Ambos tienen sus ventajas y sus desventajas."
   ]
  },
  {
   "cell_type": "markdown",
   "id": "c009be99",
   "metadata": {
    "slideshow": {
     "slide_type": "slide"
    }
   },
   "source": [
    "### Compilación vs. Interpretación - Ventajas y Desventajas\n",
    "\n",
    "##### COMPILACIÓN - VENTAJAS\n",
    "\n",
    "* La ejecución del código traducido suele ser más rápida.\n",
    "\n",
    "* Solo el usuario debe tener el compilador; el usuario final puede usar el código sin él.\n",
    "\n",
    "* El código traducido se almacena en lenguaje máquina, ya que es muy difícil de entender, es probable que tus propios inventos y trucos de programación sigan siendo secreto.\n",
    "\n",
    "##### COMPILACIÓN - VENTAJAS\n",
    "\n",
    "* La compilación en sí misma puede llevar mucho tiempo; es posible que no puedas ejecutar tu código inmediatamente después de cualquier modificación.\n",
    "* Tienes que tener tantos compiladores como plataformas de hardware en los que deseas que se ejecute su código.\n"
   ]
  },
  {
   "cell_type": "markdown",
   "id": "e1b6f95b",
   "metadata": {
    "slideshow": {
     "slide_type": "subslide"
    }
   },
   "source": [
    "##### INTERPRETACIÓN - VENTAJAS\n",
    "\n",
    "* Puede ejecutar el código en cuanto lo complete; no hay fases adicionales de traducción.\n",
    "\n",
    "* El código se almacena utilizando el lenguaje de programación, no el de la máquina; esto significa que puede ejecutarse en computadoras que utilizan diferentes lenguajes máquina; no compila el código por separado para cada arquitectura diferente.\n",
    "\n",
    "##### INTERPRETACIÓN - VENTAJAS\n",
    "\n",
    "* No esperes que la interpretación incremente tu código a alta velocidad: tu código compartirá la potencia de la computadora con el intérprete, por lo que no puede ser realmente rápido.\n",
    "\n",
    "* Tanto tú como el usuario final deben tener el intérprete para ejecutar su código.\n"
   ]
  },
  {
   "cell_type": "markdown",
   "id": "8afe3e89",
   "metadata": {
    "slideshow": {
     "slide_type": "subslide"
    }
   },
   "source": [
    "#### ¿Qué significa todo esto para ti?\n",
    "\n",
    "* Python es un lenguaje interpretado. Esto significa que hereda todas las ventajas y desventajas descritas. Por supuesto, agrega algunas de sus características únicas a ambos conjuntos.\n",
    "\n",
    "* Si deseas programar en Python, necesitarás el intérprete de Python. No podrás ejecutar tu código sin él. Afortunadamente, Python es gratis. Esta es una de sus ventajas más importantes.\n",
    "\n",
    "Debido a razones históricas, los lenguajes diseñados para ser utilizados en la manera de interpretación a menudo se llaman lenguajes de programación, mientras que los programas fuente codificados que los usan se llaman scripts."
   ]
  },
  {
   "cell_type": "markdown",
   "id": "690a854f",
   "metadata": {
    "slideshow": {
     "slide_type": "slide"
    }
   },
   "source": [
    "### Rivales de Python\n",
    "\n",
    "Python tiene dos competidores directos, con propiedades y predisposiciones comparables. Estos son:\n",
    "\n",
    "- Perl - un lenguaje de scripting originalmente escrito por Larry Wall. \n",
    "- Ruby - un lenguaje de scripting originalmente escrito por Yukihiro Matsumoto.\n",
    "\n",
    "El primero es más tradicional, más conservador que Python, y se parece a algunos de los buenos lenguajes antiguos derivados del lenguaje de programación C clásico.\n",
    "\n",
    "En contraste, este último es más innovador y está más lleno de ideas nuevas. Python se encuentra en algún lugar entre estas dos creaciones.\n",
    "\n",
    "*Nota: Internet está leno de foros con discusiones infinitas sobre la superioridad de uno de estos tres sobre los otros*"
   ]
  },
  {
   "cell_type": "markdown",
   "id": "4309f621",
   "metadata": {
    "slideshow": {
     "slide_type": "subslide"
    }
   },
   "source": [
    "### ¿Dónde podemos ver a Python en acción?\n",
    "\n",
    "* Lo vemos todos los días y en casi todas partes. \n",
    "* Se utiliza ampliamente para implementar complejos servicios de Internet como motores de búsqueda, almacenamiento en la nube y herramientas, redes sociales, etc. \n",
    "* Cuando utilizas cualquiera de estos servicios, en realidad estás muy cerca de Python.\n",
    "* Muchas herramientas de desarrollo se implementan en Python. Cada vez se escriben mas aplicaciones de uso diario en Python. \n",
    "* Muchos científicos han abandonado las costosas herramientas patentadas y se han cambiado a Python. \n",
    "* Muchos evaluadores de proyectos de TI han comenzado a usar Python para llevar a cabo procedimientos de prueba repetibles. \n",
    "* La lista es larga.\n",
    "\n"
   ]
  },
  {
   "cell_type": "markdown",
   "id": "bb133053",
   "metadata": {
    "slideshow": {
     "slide_type": "subslide"
    }
   },
   "source": [
    "### ¿Por qué no Python?\n",
    "\n",
    "A pesar de la creciente popularidad de Python, todavía hay algunos nichos en los que Python está ausente o rara vez se ve:\n",
    "\n",
    "* Programación de bajo nivel (a veces llamada programación \"cercana al metal\"): si deseas implementar un controlador o motor gráfico extremadamente efectivo, no se usaría Python\n",
    "\n",
    "* Aplicaciones para dispositivos móviles: este territorio aún está a la espera de ser conquistado por Python, lo más probable es que suceda algún día."
   ]
  },
  {
   "cell_type": "markdown",
   "id": "a2e22c36",
   "metadata": {
    "slideshow": {
     "slide_type": "slide"
    }
   },
   "source": [
    "#### Detalles a saber\n",
    "\n",
    "\n",
    "\n",
    "Además de Python 2 y Python 3, hay más de una versión de cada uno.\n",
    "\n",
    "* En primer lugar, están los Pythons que mantienen las personas reunidas en torno a PSF (Python Software Foundation), una comunidad que tiene como objetivo desarrollar, mejorar, expandir y popularizar Python y su entorno. \n",
    "* El presidente del PSF es el propio Guido van Rossum, y por esta razón, estos Pythons se llaman canónicos. También se consideran Pythons de referencia, ya que cualquier otra implementación del lenguaje debe seguir todos los estándares establecidos por el PSF.\n",
    "\n"
   ]
  },
  {
   "cell_type": "markdown",
   "id": "2326751b",
   "metadata": {
    "slideshow": {
     "slide_type": "subslide"
    }
   },
   "source": [
    "####  Python alias CPython (https://github.com/python/cpython)\n",
    "\n",
    "Guido van Rossum utilizó el lenguaje de programación \"C\" para implementar la primera versión de su lenguaje y esta decisión aún está vigente. Todos los Pythons que vienen del PSF están escritos en el lenguaje \"C\". Hay muchas razones para este enfoque y tiene muchas consecuencias. Una de ellos (probablemente la más importante) es que gracias a él, Python puede ser portado y migrado fácilmente a todas las plataformas con la capacidad de compilar y ejecutar programas en lenguaje \"C\" (virtualmente todas las plataformas tienen esta característica, lo que abre muchas expansiones y oportunidades para Python).\n",
    "\n",
    "**Esta es la razón por la que la implementación de PSF a menudo se denomina CPython. Este es el Python más influyente entre todos los Pythons del mundo.**"
   ]
  },
  {
   "cell_type": "markdown",
   "id": "cc073ed0",
   "metadata": {
    "slideshow": {
     "slide_type": "subslide"
    }
   },
   "source": [
    "####  Cython (https://cython.org/)\n",
    "\n",
    "Otro miembro de la familia Python es Cython.\n",
    "\n",
    "* Cython es una de las posibles soluciones al rasgo de Python más doloroso: la falta de eficiencia. Los cálculos matemáticos grandes y complejos pueden ser fácilmente codificados en Python (mucho más fácil que en \"C\" o en cualquier otro lenguaje tradicional), pero la ejecución del código resultante puede requerir mucho tiempo.\n",
    "\n",
    "##### ¿Cómo se reconcilian estas dos contradicciones? \n",
    "\n",
    "Una solución es escribir tus ideas matemáticas usando Python, y cuando estés absolutamente seguro de que tu código es correcto y produce resultados válidos, puedes traducirlo a \"C\". Ciertamente, \"C\" se ejecutará mucho más rápido que Python puro.\n",
    "\n",
    "Esto es lo que pretende hacer Cython: traducir automáticamente el código de Python (limpio y claro, pero no demasiado rápido) al código \"C\" (complicado y hablador, pero ágil).\n",
    "\n"
   ]
  },
  {
   "cell_type": "markdown",
   "id": "b1dc263a",
   "metadata": {
    "slideshow": {
     "slide_type": "subslide"
    }
   },
   "source": [
    "#### Jython (https://www.jython.org/)\n",
    "\n",
    "Otra versión de Python se llama Jython.\n",
    "\n",
    "* \"J\" es para \"Java\". Imagina un Python escrito en Java en lugar de C. Esto es útil, por ejemplo, si desarrollas sistemas grandes y complejos escritos completamente en Java y deseas agregarles cierta flexibilidad de Python. \n",
    "\n",
    "* El tradicional CPython puede ser difícil de integrar en un entorno de este tipo, ya que C y Java viven en mundos completamente diferentes y no comparten muchas ideas comunes.\n",
    "\n",
    "Jython puede comunicarse con la infraestructura Java existente de manera más efectiva. Es por esto que algunos proyectos lo encuentran útil y necesario.\n",
    "\n",
    "Nota: la implementación actual de Jython sigue los estándares de Python 2. Hasta ahora, no hay Jython conforme a Python 3.\n",
    "\n",
    "\n"
   ]
  },
  {
   "cell_type": "markdown",
   "id": "96d24ac0",
   "metadata": {
    "slideshow": {
     "slide_type": "subslide"
    }
   },
   "source": [
    "####  PyPy y RPython (https://www.pypy.org/)\n",
    "\n",
    "\n",
    "\n",
    "Un Python dentro de un Python. En otras palabras, representa un entorno de Python escrito en un lenguaje similar a Python llamado RPython (Restricted Python). \n",
    "\n",
    "En realidad es un subconjunto de Python. El código fuente de PyPy no se ejecuta de manera interpretativa, sino que se traduce al lenguaje de programación C y luego se ejecuta por separado.\n",
    "\n",
    "Esto es útil porque si deseas probar cualquier característica nueva que pueda ser o no introducida en la implementación de Python, es más fácil verificarla con PyPy que con CPython. Esta es la razón por la que PyPy es más una herramienta para las personas que desarrollan Python que para el resto de los usuarios.\n",
    "\n",
    "**Esto no hace que PyPy sea menos importante o menos serio que CPython.**\n",
    "\n",
    "Además, PyPy es compatible con el lenguaje Python 3.\n",
    "\n",
    "Hay muchos más Pythons diferentes en el mundo. Los encontrarás sí los buscas, pero este curso se centrará en CPython.\n"
   ]
  }
 ],
 "metadata": {
  "celltoolbar": "Slideshow",
  "kernelspec": {
   "display_name": "Python 3 (ipykernel)",
   "language": "python",
   "name": "python3"
  },
  "language_info": {
   "codemirror_mode": {
    "name": "ipython",
    "version": 3
   },
   "file_extension": ".py",
   "mimetype": "text/x-python",
   "name": "python",
   "nbconvert_exporter": "python",
   "pygments_lexer": "ipython3",
   "version": "3.8.11"
  }
 },
 "nbformat": 4,
 "nbformat_minor": 5
}
